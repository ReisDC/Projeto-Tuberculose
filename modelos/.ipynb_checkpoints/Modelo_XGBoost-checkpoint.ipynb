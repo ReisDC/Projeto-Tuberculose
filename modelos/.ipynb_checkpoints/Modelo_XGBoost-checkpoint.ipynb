{
 "cells": [
  {
   "cell_type": "code",
   "execution_count": null,
   "id": "d3624ede-d024-43a0-b21e-8b684d501129",
   "metadata": {},
   "outputs": [],
   "source": [
    "import pandas as pd\n",
    "from sklearn.model_selection import train_test_split\n",
    "from sklearn.pipeline import Pipeline\n",
    "from sklearn.compose import ColumnTransformer\n",
    "from sklearn.impute import SimpleImputer\n",
    "from sklearn.preprocessing import StandardScaler, OneHotEncoder\n",
    "from sklearn.feature_selection import SelectFromModel\n",
    "from sklearn.metrics import classification_report, confusion_matrix\n",
    "from imblearn.pipeline import Pipeline as ImbPipeline\n",
    "from imblearn.over_sampling import SMOTE\n",
    "from xgboost import XGBClassifier"
   ]
  },
  {
   "cell_type": "code",
   "execution_count": null,
   "id": "3e81bfa8-c2f8-4107-845c-43df8b6d4c9e",
   "metadata": {},
   "outputs": [],
   "source": [
    "df = pd.read_csv('/mnt/c/Users/AcerGamer/Downloads/Tuberculose/Projeto-Tuberculose/dados/arquivos_csv/dados_tuberculose_transformados.csv', low_memory=False)"
   ]
  },
  {
   "cell_type": "code",
   "execution_count": null,
   "id": "50b0b608-2aac-4646-bd03-a3cfd0338fa7",
   "metadata": {},
   "outputs": [],
   "source": [
    "porcentagem_nulos = df.isnull().mean() * 100\n",
    "colunas_para_remover = porcentagem_nulos[porcentagem_nulos > 30].index\n",
    "df = df.drop(columns=colunas_para_remover)\n",
    "print(f\"Restaram {df.shape[1]} colunas após remoção de ausentes.\")\n"
   ]
  },
  {
   "cell_type": "code",
   "execution_count": null,
   "id": "6fcb6223-1557-43f5-ab31-a953fcb4213c",
   "metadata": {},
   "outputs": [],
   "source": [
    "# --- Seleção de Colunas para o Modelo ---\n",
    "colunas_modelo = [\n",
    "    'FORMA',            # variável alvo\n",
    "    'CS_SEXO',\n",
    "    'CS_RACA',\n",
    "    'NU_IDADE_N',\n",
    "    'HIV',\n",
    "    'AGRAVAIDS',\n",
    "    'AGRAVALCOO',\n",
    "    'RAIOX_TORA',\n",
    "    'BACILOSC_E',\n",
    "    'CULTURA_ES',\n",
    "    'NU_ANO'            # ano da notificação\n",
    "]\n",
    "df_modelo = df[colunas_modelo].copy()\n"
   ]
  },
  {
   "cell_type": "code",
   "execution_count": null,
   "id": "2b4876d8-6871-4897-9153-f17f254e3c8c",
   "metadata": {},
   "outputs": [],
   "source": [
    "df_modelo['NU_IDADE_N'] = df_modelo['NU_IDADE_N'].fillna(0)"
   ]
  },
  {
   "cell_type": "code",
   "execution_count": null,
   "id": "f7bc6226-17ba-493b-9d42-988bfdb77955",
   "metadata": {},
   "outputs": [],
   "source": [
    "def converter_idade_para_modelo(nu_idade_n):\n",
    "    if pd.isna(nu_idade_n) or int(nu_idade_n) == 0: # Trata NaNs ou 0000 como idade ignorada\n",
    "        return np.nan # Retorna np.nan para ser imputado posteriormente\n",
    "\n",
    "    nu_idade_n = int(nu_idade_n) # Garante que é inteiro para as operações\n",
    "    unidade = nu_idade_n // 1000\n",
    "    valor = nu_idade_n % 1000\n",
    "\n",
    "    if unidade == 1:  # Horas\n",
    "        return valor / (24 * 365)\n",
    "    elif unidade == 2:  # Dias\n",
    "        return valor / 365\n",
    "    elif unidade == 3:  # Meses\n",
    "        return valor / 12\n",
    "    elif unidade == 4:  # Anos\n",
    "        return valor\n",
    "    else: # Idade ignorada ou inválida (ex: '0000')\n",
    "        return np.nan"
   ]
  },
  {
   "cell_type": "code",
   "execution_count": null,
   "id": "902f9ebd-b61f-487f-809a-23bb7a8e8c5e",
   "metadata": {},
   "outputs": [],
   "source": [
    "# Aplica a função para criar a coluna de idade em anos correta\n",
    "df_modelo['NU_IDADE_ANOS_CORRETA'] = df_modelo['NU_IDADE_N'].apply(converter_idade_para_modelo)\n"
   ]
  },
  {
   "cell_type": "code",
   "execution_count": null,
   "id": "02b4f06a-4020-4f9b-baa0-d22df31f9960",
   "metadata": {},
   "outputs": [],
   "source": [
    "# Preencher NaNs na nova coluna de idade (se houver, após a conversão) com a mediana\n",
    "mediana_idade_correta = df_modelo['NU_IDADE_ANOS_CORRETA'].median()\n",
    "df_modelo['NU_IDADE_ANOS_CORRETA'] = df_modelo['NU_IDADE_ANOS_CORRETA'].fillna(mediana_idade_correta)\n"
   ]
  },
  {
   "cell_type": "code",
   "execution_count": null,
   "id": "68048917-a49f-4103-a796-7dfdfab14210",
   "metadata": {},
   "outputs": [],
   "source": [
    "# Criar Faixa Etária a partir da idade correta\n",
    "bins = [0, 18, 35, 50, 65, 120]\n",
    "labels = ['Jovem', 'Adulto Jovem', 'Adulto', 'Idoso', 'Muito Idoso']\n",
    "df_modelo['faixa_etaria'] = pd.cut(df_modelo['NU_IDADE_ANOS_CORRETA'], bins=bins, labels=labels, right=False, include_lowest=True)\n"
   ]
  },
  {
   "cell_type": "code",
   "execution_count": null,
   "id": "b60d87e0-22cf-47db-a740-12aefa3555c3",
   "metadata": {},
   "outputs": [],
   "source": [
    "# 2. Criar um contador de comorbidades/fatores de risco\n",
    "# Garantir que AGRAVAIDS e AGRAVALCOO sejam numéricos antes de operar\n",
    "df_modelo['AGRAVAIDS'] = pd.to_numeric(df_modelo['AGRAVAIDS'], errors='coerce').fillna(0.0)\n",
    "df_modelo['AGRAVALCOO'] = pd.to_numeric(df_modelo['AGRAVALCOO'], errors='coerce').fillna(0.0)\n",
    "\n",
    "df_modelo['total_comorbidades'] = (df_modelo['AGRAVAIDS'] == 1.0).astype(int) + \\\n",
    "                                  (df_modelo['AGRAVALCOO'] == 1.0).astype(int)\n"
   ]
  },
  {
   "cell_type": "code",
   "execution_count": null,
   "id": "bbc19809-7de4-48ba-8eec-32f098def474",
   "metadata": {},
   "outputs": [],
   "source": [
    "# 3. Criar feature de interação para HIV com AIDS\n",
    "# Preencher NaNs antes da comparação para 'HIV'\n",
    "df_modelo['HIV'] = df_modelo['HIV'].fillna('Não Informado')\n",
    "\n",
    "df_modelo['hiv_positivo_com_aids'] = ((df_modelo['HIV'] == 'Reagente') & (df_modelo['AGRAVAIDS'] == 1.0))\n",
    "\n",
    "# Remover colunas originais que foram transformadas/substituídas\n",
    "df_modelo = df_modelo.drop(columns=['NU_IDADE_N', 'AGRAVAIDS', 'AGRAVALCOO'])\n"
   ]
  },
  {
   "cell_type": "code",
   "execution_count": null,
   "id": "659f7cab-cfd4-45fc-87c4-b8f27200fe7f",
   "metadata": {},
   "outputs": [],
   "source": []
  },
  {
   "cell_type": "code",
   "execution_count": null,
   "id": "700ff15a-b76c-4c58-babb-5501d0d81f31",
   "metadata": {},
   "outputs": [],
   "source": []
  },
  {
   "cell_type": "code",
   "execution_count": null,
   "id": "b606e636-c39a-402f-bcf0-2e482c6b8f06",
   "metadata": {},
   "outputs": [],
   "source": []
  },
  {
   "cell_type": "code",
   "execution_count": null,
   "id": "c864e48e-6271-4df3-8bb6-fd5d9413fa8f",
   "metadata": {},
   "outputs": [],
   "source": [
    "# --- Engenharia de Features ---\n",
    "# 1. Criar Faixa Etária a partir da Idade\n",
    "# Vamos depurar o problema da faixa etaria aqui\n",
    "mediana_idade = df_modelo['NU_IDADE_N'].median()\n",
    "df_modelo['NU_IDADE_N'] = df_modelo['NU_IDADE_N'].fillna(mediana_idade)\n"
   ]
  },
  {
   "cell_type": "code",
   "execution_count": null,
   "id": "260a3a97-5d3b-4707-8fa0-4aec0665ac8b",
   "metadata": {},
   "outputs": [],
   "source": [
    "# Verificar os valores mínimos e máximos de NU_IDADE_N para ajustar os bins, se necessário\n",
    "print(f\"Min NU_IDADE_N: {df_modelo['NU_IDADE_N'].min()}\")\n",
    "print(f\"Max NU_IDADE_N: {df_modelo['NU_IDADE_N'].max()}\")\n"
   ]
  },
  {
   "cell_type": "code",
   "execution_count": null,
   "id": "75ab80f8-5dc7-4500-a60b-f10f4dd58486",
   "metadata": {},
   "outputs": [],
   "source": []
  },
  {
   "cell_type": "code",
   "execution_count": null,
   "id": "7cf01a2e-1798-4ee2-8bb5-838a6085f8b1",
   "metadata": {},
   "outputs": [],
   "source": []
  },
  {
   "cell_type": "code",
   "execution_count": null,
   "id": "27d02ab4-bead-474e-974e-0cc46c5c3bd2",
   "metadata": {},
   "outputs": [],
   "source": []
  },
  {
   "cell_type": "code",
   "execution_count": null,
   "id": "175009f9-fdb7-4700-a85e-3ac8ce89f128",
   "metadata": {},
   "outputs": [],
   "source": []
  },
  {
   "cell_type": "code",
   "execution_count": null,
   "id": "99b8bf47-99e5-4e40-b301-53e4b518141a",
   "metadata": {},
   "outputs": [],
   "source": []
  },
  {
   "cell_type": "code",
   "execution_count": null,
   "id": "58e2f3e6-c64f-4c47-8dca-8e49ba4d43be",
   "metadata": {},
   "outputs": [],
   "source": []
  },
  {
   "cell_type": "code",
   "execution_count": null,
   "id": "e6a4becf-4f2e-4cf7-b029-7f5d98cc3b1d",
   "metadata": {},
   "outputs": [],
   "source": []
  },
  {
   "cell_type": "code",
   "execution_count": null,
   "id": "d3df0590-0620-49a9-a205-943c5b468f5d",
   "metadata": {},
   "outputs": [],
   "source": []
  },
  {
   "cell_type": "code",
   "execution_count": null,
   "id": "177216d2-8c58-4f26-918e-901fed444769",
   "metadata": {},
   "outputs": [],
   "source": []
  },
  {
   "cell_type": "code",
   "execution_count": null,
   "id": "f077aafd-acda-469f-b186-69cd30c3f036",
   "metadata": {},
   "outputs": [],
   "source": []
  },
  {
   "cell_type": "code",
   "execution_count": null,
   "id": "9b6b6a8a-c98f-481d-8658-a004635f3011",
   "metadata": {},
   "outputs": [],
   "source": []
  },
  {
   "cell_type": "code",
   "execution_count": null,
   "id": "b9a0577b-2496-4613-bdd8-596b9f2abe62",
   "metadata": {},
   "outputs": [],
   "source": []
  },
  {
   "cell_type": "code",
   "execution_count": null,
   "id": "deb293f8-e453-4102-b91d-76a49e98e485",
   "metadata": {},
   "outputs": [],
   "source": []
  }
 ],
 "metadata": {
  "kernelspec": {
   "display_name": "Python 3 (ipykernel)",
   "language": "python",
   "name": "python3"
  },
  "language_info": {
   "codemirror_mode": {
    "name": "ipython",
    "version": 3
   },
   "file_extension": ".py",
   "mimetype": "text/x-python",
   "name": "python",
   "nbconvert_exporter": "python",
   "pygments_lexer": "ipython3",
   "version": "3.12.3"
  }
 },
 "nbformat": 4,
 "nbformat_minor": 5
}
