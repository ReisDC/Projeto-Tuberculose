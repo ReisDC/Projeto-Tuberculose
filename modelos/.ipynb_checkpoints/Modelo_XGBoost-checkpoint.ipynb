{
 "cells": [
  {
   "cell_type": "code",
   "execution_count": 1,
   "id": "d3624ede-d024-43a0-b21e-8b684d501129",
   "metadata": {},
   "outputs": [],
   "source": [
    "import pandas as pd\n",
    "import numpy as np\n",
    "from sklearn.model_selection import train_test_split\n",
    "from sklearn.pipeline import Pipeline\n",
    "from sklearn.compose import ColumnTransformer\n",
    "from sklearn.impute import SimpleImputer\n",
    "from sklearn.preprocessing import StandardScaler, OneHotEncoder, LabelEncoder\n",
    "from sklearn.feature_selection import SelectFromModel\n",
    "from sklearn.metrics import classification_report, confusion_matrix, ConfusionMatrixDisplay\n",
    "from sklearn.model_selection import GridSearchCV\n",
    "from sklearn.utils.class_weight import compute_class_weight # <-- Importar para calcular pesos\n",
    "from imblearn.pipeline import Pipeline as ImbPipeline\n",
    "from imblearn.over_sampling import SMOTE\n",
    "from xgboost import XGBClassifier\n",
    "import matplotlib.pyplot as plt\n",
    "\n"
   ]
  },
  {
   "cell_type": "code",
   "execution_count": 2,
   "id": "3e81bfa8-c2f8-4107-845c-43df8b6d4c9e",
   "metadata": {},
   "outputs": [],
   "source": [
    "df = pd.read_csv('/mnt/c/Users/AcerGamer/Downloads/Tuberculose/Projeto-Tuberculose/dados/arquivos_csv/dados_tuberculose_transformados.csv', low_memory=False)"
   ]
  },
  {
   "cell_type": "code",
   "execution_count": 3,
   "id": "50b0b608-2aac-4646-bd03-a3cfd0338fa7",
   "metadata": {},
   "outputs": [
    {
     "name": "stdout",
     "output_type": "stream",
     "text": [
      "Restaram 48 colunas após remoção de ausentes.\n"
     ]
    }
   ],
   "source": [
    "porcentagem_nulos = df.isnull().mean() * 100\n",
    "colunas_para_remover = porcentagem_nulos[porcentagem_nulos > 30].index\n",
    "df = df.drop(columns=colunas_para_remover)\n",
    "print(f\"Restaram {df.shape[1]} colunas após remoção de ausentes.\")\n"
   ]
  },
  {
   "cell_type": "code",
   "execution_count": 4,
   "id": "6fcb6223-1557-43f5-ab31-a953fcb4213c",
   "metadata": {},
   "outputs": [],
   "source": [
    "# --- Seleção de Colunas para o Modelo ---\n",
    "colunas_modelo = [\n",
    "    'FORMA',            # variável alvo\n",
    "    'CS_SEXO',\n",
    "    'CS_RACA',\n",
    "    'NU_IDADE_N',\n",
    "    'HIV',\n",
    "    'AGRAVAIDS',\n",
    "    'AGRAVALCOO',\n",
    "    'RAIOX_TORA',\n",
    "    'BACILOSC_E',\n",
    "    'CULTURA_ES',\n",
    "    'NU_ANO'            # ano da notificação\n",
    "]\n",
    "df_modelo = df[colunas_modelo].copy()\n"
   ]
  },
  {
   "cell_type": "markdown",
   "id": "3a028811-5604-4963-8f11-2fcc2310cbdd",
   "metadata": {},
   "source": [
    "# --- Conversão da coluna NU_IDADE_N ---"
   ]
  },
  {
   "cell_type": "code",
   "execution_count": 5,
   "id": "2b4876d8-6871-4897-9153-f17f254e3c8c",
   "metadata": {},
   "outputs": [],
   "source": [
    "df_modelo['NU_IDADE_N'] = df_modelo['NU_IDADE_N'].fillna(0)"
   ]
  },
  {
   "cell_type": "code",
   "execution_count": 6,
   "id": "f7bc6226-17ba-493b-9d42-988bfdb77955",
   "metadata": {},
   "outputs": [],
   "source": [
    "def converter_idade_para_modelo(nu_idade_n):\n",
    "    if pd.isna(nu_idade_n) or int(nu_idade_n) == 0: # Trata NaNs ou 0000 como idade ignorada\n",
    "        return np.nan # Retorna np.nan para ser imputado posteriormente\n",
    "\n",
    "    nu_idade_n = int(nu_idade_n) # Garante que é inteiro para as operações\n",
    "    unidade = nu_idade_n // 1000\n",
    "    valor = nu_idade_n % 1000\n",
    "\n",
    "    if unidade == 1:  # Horas\n",
    "        return valor / (24 * 365)\n",
    "    elif unidade == 2:  # Dias\n",
    "        return valor / 365\n",
    "    elif unidade == 3:  # Meses\n",
    "        return valor / 12\n",
    "    elif unidade == 4:  # Anos\n",
    "        return valor\n",
    "    else: # Idade ignorada ou inválida (ex: '0000')\n",
    "        return np.nan"
   ]
  },
  {
   "cell_type": "code",
   "execution_count": 7,
   "id": "902f9ebd-b61f-487f-809a-23bb7a8e8c5e",
   "metadata": {},
   "outputs": [],
   "source": [
    "# Aplica a função para criar a coluna de idade em anos correta\n",
    "df_modelo['NU_IDADE_ANOS_CORRETA'] = df_modelo['NU_IDADE_N'].apply(converter_idade_para_modelo)\n"
   ]
  },
  {
   "cell_type": "code",
   "execution_count": 8,
   "id": "02b4f06a-4020-4f9b-baa0-d22df31f9960",
   "metadata": {},
   "outputs": [],
   "source": [
    "# Preencher NaNs na nova coluna de idade (se houver, após a conversão) com a mediana\n",
    "mediana_idade_correta = df_modelo['NU_IDADE_ANOS_CORRETA'].median()\n",
    "df_modelo['NU_IDADE_ANOS_CORRETA'] = df_modelo['NU_IDADE_ANOS_CORRETA'].fillna(mediana_idade_correta)\n"
   ]
  },
  {
   "cell_type": "code",
   "execution_count": 9,
   "id": "68048917-a49f-4103-a796-7dfdfab14210",
   "metadata": {},
   "outputs": [],
   "source": [
    "# Criar Faixa Etária a partir da idade correta\n",
    "bins = [0, 18, 35, 50, 65, 120]\n",
    "labels = ['Jovem', 'Adulto Jovem', 'Adulto', 'Idoso', 'Muito Idoso']\n",
    "df_modelo['faixa_etaria'] = pd.cut(df_modelo['NU_IDADE_ANOS_CORRETA'], bins=bins, labels=labels, right=False, include_lowest=True)\n"
   ]
  },
  {
   "cell_type": "code",
   "execution_count": 10,
   "id": "b60d87e0-22cf-47db-a740-12aefa3555c3",
   "metadata": {},
   "outputs": [],
   "source": [
    "# 2. Criar um contador de comorbidades/fatores de risco\n",
    "# Garantir que AGRAVAIDS e AGRAVALCOO sejam numéricos antes de operar\n",
    "df_modelo['AGRAVAIDS'] = pd.to_numeric(df_modelo['AGRAVAIDS'], errors='coerce').fillna(0.0)\n",
    "df_modelo['AGRAVALCOO'] = pd.to_numeric(df_modelo['AGRAVALCOO'], errors='coerce').fillna(0.0)\n",
    "\n",
    "df_modelo['total_comorbidades'] = (df_modelo['AGRAVAIDS'] == 1.0).astype(int) + \\\n",
    "                                  (df_modelo['AGRAVALCOO'] == 1.0).astype(int)\n"
   ]
  },
  {
   "cell_type": "code",
   "execution_count": 11,
   "id": "bbc19809-7de4-48ba-8eec-32f098def474",
   "metadata": {},
   "outputs": [],
   "source": [
    "# 3. Criar feature de interação para HIV com AIDS\n",
    "# Preencher NaNs antes da comparação para 'HIV'\n",
    "df_modelo['HIV'] = df_modelo['HIV'].fillna('Não Informado')\n",
    "\n",
    "df_modelo['hiv_positivo_com_aids'] = ((df_modelo['HIV'] == 'Reagente') & (df_modelo['AGRAVAIDS'] == 1.0))\n",
    "\n",
    "# Remover colunas originais que foram transformadas/substituídas\n",
    "df_modelo = df_modelo.drop(columns=['NU_IDADE_N', 'AGRAVAIDS', 'AGRAVALCOO'])\n"
   ]
  },
  {
   "cell_type": "code",
   "execution_count": 12,
   "id": "8dff720b-6c1d-461e-8a4e-4cbdfa117a71",
   "metadata": {},
   "outputs": [],
   "source": [
    "# Garantir que a coluna FORMA é float para poder adicionar 4.0\n",
    "df_modelo['FORMA'] = df_modelo['FORMA'].fillna(0).astype(float) # Preenche NaNs com 0 e converte para float\n"
   ]
  },
  {
   "cell_type": "code",
   "execution_count": 13,
   "id": "c941f3da-3d10-4f64-bd3b-cdb3543d3a19",
   "metadata": {},
   "outputs": [
    {
     "name": "stdout",
     "output_type": "stream",
     "text": [
      "Número de linhas em df_modelo antes da filtragem de FORMA=0.0: 502271\n",
      "Número de linhas em df_modelo após a filtragem de FORMA=0.0: 502083\n"
     ]
    }
   ],
   "source": [
    "print(f\"Número de linhas em df_modelo antes da filtragem de FORMA=0.0: {len(df_modelo)}\")\n",
    "df_modelo = df_modelo[df_modelo['FORMA'] != 0.0].copy() # Filtra as linhas onde FORMA é 0.0\n",
    "print(f\"Número de linhas em df_modelo após a filtragem de FORMA=0.0: {len(df_modelo)}\")\n"
   ]
  },
  {
   "cell_type": "markdown",
   "id": "f1a67baa-947a-479d-881e-0dec85512cf3",
   "metadata": {},
   "source": [
    "## --- Criação do df de pessoas saudaveis ---"
   ]
  },
  {
   "cell_type": "code",
   "execution_count": 14,
   "id": "249b243e-1bf7-4a1c-b961-36b3c5593d54",
   "metadata": {},
   "outputs": [
    {
     "name": "stdout",
     "output_type": "stream",
     "text": [
      "--- Debug da Coluna 'FORMA' no df_modelo_atualizado ---\n",
      "Valores únicos em 'FORMA' ANTES do mapeamento: [1. 2. 3.]\n",
      "Contagem de nulos em 'FORMA' ANTES do mapeamento: 0\n"
     ]
    }
   ],
   "source": [
    "# Converter colunas categóricas para string NO DATAFRAME ORIGINAL\n",
    "# Isso é crucial para garantir que os tipos sejam consistentes ANTES da concatenação\n",
    "categorical_cols_original = [\n",
    "    'CS_SEXO', 'CS_RACA', 'HIV', 'RAIOX_TORA', 'BACILOSC_E', 'CULTURA_ES'\n",
    "]\n",
    "for col in categorical_cols_original:\n",
    "    if col in df_modelo.columns:\n",
    "        df_modelo[col] = df_modelo[col].astype(str)\n",
    "\n",
    "print(\"--- Debug da Coluna 'FORMA' no df_modelo_atualizado ---\")\n",
    "print(f\"Valores únicos em 'FORMA' ANTES do mapeamento: {df_modelo['FORMA'].unique()}\")\n",
    "print(f\"Contagem de nulos em 'FORMA' ANTES do mapeamento: {df_modelo['FORMA'].isnull().sum()}\")\n"
   ]
  },
  {
   "cell_type": "code",
   "execution_count": 15,
   "id": "8d240ffe-f165-4e65-a7bd-2c6b22bf9782",
   "metadata": {},
   "outputs": [],
   "source": [
    "num_saudaveis = df_modelo['FORMA'].value_counts().max() # Pega o tamanho da maior classe (1.0)\n",
    "# Criar um DataFrame para pessoas saudáveis\n",
    "data_saudaveis = {\n",
    "    'CS_SEXO': np.random.choice(['M', 'F'], size=num_saudaveis), # Exemplo: sexo aleatório\n",
    "    'CS_RACA': np.random.choice([1.0, 2.0, 3.0, 4.0, 5.0], size=num_saudaveis).astype(str), # Exemplo: raça predominante\n",
    "    'HIV': np.random.choice(['Negativo', 'Não Informado'], size=num_saudaveis, p=[0.9, 0.1]),\n",
    "    'RAIOX_TORA': np.random.choice(['Normal', 'Não Realizado'], size=num_saudaveis, p=[0.8, 0.2]),\n",
    "    'BACILOSC_E': ['Negativo'] * num_saudaveis,\n",
    "    'CULTURA_ES': ['Negativo'] * num_saudaveis,\n",
    "    'NU_ANO': np.random.randint(2010, 2024, size=num_saudaveis), # Ano de notificação razoável\n",
    "    'NU_IDADE_ANOS_CORRETA': np.random.randint(18, 60, size=num_saudaveis), # Idade típica de adultos\n",
    "    'faixa_etaria': np.random.choice(['Jovem', 'Adulto Jovem', 'Adulto'], size=num_saudaveis, p=[0.2, 0.5, 0.3]).astype(str), # Faixa etária mais comum\n",
    "    'total_comorbidades': [0] * num_saudaveis, # Sem comorbidades\n",
    "    'hiv_positivo_com_aids': [False] * num_saudaveis, # Não HIV+ e sem AIDS\n",
    "    'FORMA': [4.0] * num_saudaveis # Nova label para \"Saudável\"\n",
    "}\n",
    "df_saudaveis = pd.DataFrame(data_saudaveis)"
   ]
  },
  {
   "cell_type": "code",
   "execution_count": 16,
   "id": "4f2da44d-c0e7-4e9e-8349-ecd9351cd48c",
   "metadata": {},
   "outputs": [],
   "source": [
    "# === IMPORTANTE: Garantir tipos consistentes para todas as categóricas em AMBOS os DataFrames ===\n",
    "\n",
    "# Defina a lista COMPLETA de colunas categóricas usadas no pipeline\n",
    "all_categorical_features_for_model = [\n",
    "    'CS_SEXO', 'CS_RACA', 'HIV', 'faixa_etaria', 'hiv_positivo_com_aids',\n",
    "    'RAIOX_TORA', 'BACILOSC_E', 'CULTURA_ES'\n",
    "]\n",
    "\n",
    "# Converter colunas categóricas para string em df_modelo\n",
    "for col in all_categorical_features_for_model:\n",
    "    if col in df_modelo.columns:\n",
    "        df_modelo[col] = df_modelo[col].astype(str)\n",
    "\n",
    "# Converter colunas categóricas para string em df_saudaveis\n",
    "for col in all_categorical_features_for_model:\n",
    "    if col in df_saudaveis.columns:\n",
    "        df_saudaveis[col] = df_saudaveis[col].astype(str)\n",
    "\n",
    "# Certifique-se de que a coluna 'hiv_positivo_com_aids' no df_modelo também é string\n",
    "# (Apesar da criação como bool, o OneHotEncoder precisa dela como string/object)\n",
    "df_modelo['hiv_positivo_com_aids'] = df_modelo['hiv_positivo_com_aids'].astype(str)\n",
    "\n",
    "# df_saudaveis['FORMA'] = [4.0] * num_saudaveis # Esta linha pode ser mantida ou removida se já estiver no dicionário data_saudaveis"
   ]
  },
  {
   "cell_type": "markdown",
   "id": "dbfebf61-5f3d-477b-9b87-21c69c40500e",
   "metadata": {},
   "source": [
    "# --- Preparação dos Dados para o Modelo ---"
   ]
  },
  {
   "cell_type": "code",
   "execution_count": 17,
   "id": "700ff15a-b76c-4c58-babb-5501d0d81f31",
   "metadata": {},
   "outputs": [],
   "source": [
    "# Preencher NaNs da FORMA com a moda antes de converter para int (se houver)\n",
    "#df_modelo['FORMA'] = df_modelo['FORMA'].fillna(df_modelo['FORMA'].mode()[0])\n",
    "y = df_modelo['FORMA'].astype(int)\n",
    "X = df_modelo.drop('FORMA', axis=1)\n"
   ]
  },
  {
   "cell_type": "code",
   "execution_count": 18,
   "id": "a629ecfe-f50f-4e91-a013-8b3b49b692ea",
   "metadata": {},
   "outputs": [],
   "source": [
    "# ---- Codificar a variável alvo 'FORMA' para 0, 1, 2 ----\n",
    "le = LabelEncoder()\n",
    "y = le.fit_transform(df_modelo['FORMA'].astype(int)) # y agora será 0, 1, 2\n",
    "#X = df_modelo.drop('FORMA', axis=1)"
   ]
  },
  {
   "cell_type": "code",
   "execution_count": 19,
   "id": "b606e636-c39a-402f-bcf0-2e482c6b8f06",
   "metadata": {},
   "outputs": [
    {
     "name": "stdout",
     "output_type": "stream",
     "text": [
      "Colunas numéricas selecionadas: ['NU_ANO', 'NU_IDADE_ANOS_CORRETA', 'total_comorbidades']\n",
      "Colunas categóricas selecionadas: ['CS_SEXO', 'CS_RACA', 'HIV', 'faixa_etaria', 'hiv_positivo_com_aids', 'RAIOX_TORA', 'BACILOSC_E', 'CULTURA_ES']\n"
     ]
    }
   ],
   "source": [
    "# Identificar colunas numéricas e categóricas (APÓS a engenharia de features)\n",
    "\n",
    "numeric_features = ['NU_ANO', 'NU_IDADE_ANOS_CORRETA', 'total_comorbidades']\n",
    "\n",
    "# Adicione as colunas que você identificou como categóricas/ordinais\n",
    "categorical_features = [\n",
    "    'CS_SEXO', 'CS_RACA', 'HIV', 'faixa_etaria', 'hiv_positivo_com_aids',\n",
    "    'RAIOX_TORA', 'BACILOSC_E', 'CULTURA_ES' \n",
    "]\n",
    "\n",
    "# Certifique-se de que não há sobreposição ou colunas faltando\n",
    "# (pode ser útil um print(X.columns) para verificar todas as colunas em X)\n",
    "print(\"Colunas numéricas selecionadas:\", numeric_features)\n",
    "print(\"Colunas categóricas selecionadas:\", categorical_features)"
   ]
  },
  {
   "cell_type": "code",
   "execution_count": 20,
   "id": "75ab80f8-5dc7-4500-a60b-f10f4dd58486",
   "metadata": {},
   "outputs": [],
   "source": [
    "# --- Construção do Pipeline Avançado (com XGBoost e Imputação Melhorada) ---\n",
    "numeric_transformer = Pipeline(steps=[\n",
    "    ('imputer', SimpleImputer(strategy='median')), # Imputa NaNs resultantes da conversão de idade\n",
    "    ('scaler', StandardScaler())\n",
    "])\n",
    "\n",
    "categorical_transformer = Pipeline(steps=[\n",
    "    ('imputer', SimpleImputer(strategy='most_frequent')), # Imputa NaNs nas categóricas\n",
    "    ('onehot', OneHotEncoder(handle_unknown='ignore'))\n",
    "])\n",
    "\n",
    "preprocessor = ColumnTransformer(\n",
    "    transformers=[\n",
    "        ('num', numeric_transformer, numeric_features),\n",
    "        ('cat', categorical_transformer, categorical_features)\n",
    "    ],\n",
    "    remainder='passthrough' # Manter colunas não especificadas (se houver)\n",
    ")"
   ]
  },
  {
   "cell_type": "markdown",
   "id": "88e31a97-352b-4b37-a34a-4c86e8a080b0",
   "metadata": {},
   "source": [
    "## --- Definição da Estratégia de Superamostragem para SMOTE ---"
   ]
  },
  {
   "cell_type": "code",
   "execution_count": null,
   "id": "cb67021e-56d6-49ed-a4ad-d17e209022d2",
   "metadata": {},
   "outputs": [],
   "source": []
  },
  {
   "cell_type": "code",
   "execution_count": 21,
   "id": "d8334b62-b11f-47f7-af6b-69ca338178c4",
   "metadata": {},
   "outputs": [],
   "source": [
    "# Criar o pipeline final usando o ImbPipeline\n",
    "pipeline_final = ImbPipeline(steps=[\n",
    "    ('preprocessor', preprocessor),\n",
    "    # SelectFromModel: mantido para possível redução de dimensionalidade, mas com um estimador XGBoost\n",
    "    #('selector', SelectFromModel(XGBClassifier(n_estimators=50, random_state=42, use_label_encoder=False, eval_metric='mlogloss'))),\n",
    "    ('smote', SMOTE(random_state=42, sampling_strategy='auto')), \n",
    "    ('classifier', XGBClassifier(random_state=42, use_label_encoder=False, eval_metric='mlogloss', tree_method='hist'))\n",
    "])"
   ]
  },
  {
   "cell_type": "code",
   "execution_count": 23,
   "id": "4fcf2681-e834-4e00-ad7e-107b9ec1d3d0",
   "metadata": {},
   "outputs": [],
   "source": [
    "# 3. Definir a grade de parâmetros para o GridSearchCV\n",
    "# Comece com uma grade menor para testar se tudo funciona, depois expanda.\n",
    "param_grid = {\n",
    "    'classifier__n_estimators': [100, 200], # Número de árvores\n",
    "    'classifier__learning_rate': [0.05, 0.1], # Taxa de aprendizado\n",
    "    'classifier__max_depth': [3, 5], # Profundidade máxima da árvore\n",
    "}"
   ]
  },
  {
   "cell_type": "code",
   "execution_count": 24,
   "id": "42bbd798-6dd6-48e2-83ea-d1da8108dc9a",
   "metadata": {},
   "outputs": [],
   "source": [
    "# 4. Escolher a métrica de avaliação para o GridSearchCV\n",
    "# 'f1_weighted' é geralmente uma boa escolha para problemas multiclasse desbalanceados.\n",
    "# 'f1_macro' trata todas as classes com peso igual, bom para focar nas minorias.\n",
    "# 'recall_macro' se encontrar todos os positivos for mais crítico para todas as classes.\n",
    "scoring_metric = 'f1_macro'"
   ]
  },
  {
   "cell_type": "code",
   "execution_count": 26,
   "id": "4f940fcf-d96e-47d1-9fe1-a91436a07eb3",
   "metadata": {},
   "outputs": [],
   "source": [
    "# 5. Criar e executar o GridSearchCV\n",
    "grid_search = GridSearchCV(\n",
    "    estimator=pipeline_final, # O pipeline com SMOTE\n",
    "    param_grid=param_grid,\n",
    "    cv=3, # Comece com cv=3 ou 5 para agilizar. Pode aumentar depois.\n",
    "    scoring=scoring_metric,\n",
    "    n_jobs=-1, # Usa todos os núcleos da CPU disponíveis para acelerar\n",
    "    verbose=3 # Mostra o progresso\n",
    ")"
   ]
  },
  {
   "cell_type": "code",
   "execution_count": 27,
   "id": "fa549d45-33a4-4db7-8df5-ec1978134e7c",
   "metadata": {},
   "outputs": [
    {
     "name": "stdout",
     "output_type": "stream",
     "text": [
      "\n",
      "Iniciando GridSearchCV...\n"
     ]
    },
    {
     "ename": "NameError",
     "evalue": "name 'X_train' is not defined",
     "output_type": "error",
     "traceback": [
      "\u001b[31m---------------------------------------------------------------------------\u001b[39m",
      "\u001b[31mNameError\u001b[39m                                 Traceback (most recent call last)",
      "\u001b[36mCell\u001b[39m\u001b[36m \u001b[39m\u001b[32mIn[27]\u001b[39m\u001b[32m, line 4\u001b[39m\n\u001b[32m      1\u001b[39m \u001b[38;5;66;03m# Certifique-se que X_train e y_train são seus conjuntos de treino originais (sem SMOTE aplicado previamente)\u001b[39;00m\n\u001b[32m      2\u001b[39m \u001b[38;5;66;03m# O pipeline irá cuidar do SMOTE internamente durante o treinamento\u001b[39;00m\n\u001b[32m      3\u001b[39m \u001b[38;5;28mprint\u001b[39m(\u001b[33m\"\u001b[39m\u001b[38;5;130;01m\\n\u001b[39;00m\u001b[33mIniciando GridSearchCV...\u001b[39m\u001b[33m\"\u001b[39m)\n\u001b[32m----> \u001b[39m\u001b[32m4\u001b[39m grid_search.fit(\u001b[43mX_train\u001b[49m, y_train)\n",
      "\u001b[31mNameError\u001b[39m: name 'X_train' is not defined"
     ]
    }
   ],
   "source": [
    "# Certifique-se que X_train e y_train são seus conjuntos de treino originais (sem SMOTE aplicado previamente)\n",
    "# O pipeline irá cuidar do SMOTE internamente durante o treinamento\n",
    "print(\"\\nIniciando GridSearchCV...\")\n",
    "grid_search.fit(X_train, y_train)"
   ]
  },
  {
   "cell_type": "code",
   "execution_count": null,
   "id": "80c3dc99-8a4f-4f64-92b3-d25c5357d4b6",
   "metadata": {},
   "outputs": [],
   "source": [
    "# 6. Obter os melhores resultados\n",
    "print(f\"\\nMelhores parâmetros encontrados: {grid_search.best_params_}\")\n",
    "print(f\"Melhor {scoring_metric} na validação cruzada: {grid_search.best_score_:.4f}\")\n"
   ]
  },
  {
   "cell_type": "code",
   "execution_count": null,
   "id": "0e7ab75d-e421-4246-9210-20443d522ff2",
   "metadata": {},
   "outputs": [],
   "source": [
    "# 7. Avaliar o melhor modelo no conjunto de teste\n",
    "best_model = grid_search.best_estimator_\n",
    "\n",
    "# Prever no conjunto de teste usando o melhor modelo\n",
    "y_pred_best = best_model.predict(X_test)\n"
   ]
  },
  {
   "cell_type": "code",
   "execution_count": null,
   "id": "240a0dae-44d1-4fdb-9b4a-1f7a58fbd838",
   "metadata": {},
   "outputs": [],
   "source": [
    "y_pred_best_nomes = [encoded_to_descriptive_name_map[p] for p in y_pred_best]\n"
   ]
  },
  {
   "cell_type": "markdown",
   "id": "48ecc29c-d57b-4e9e-8760-2692d62e528b",
   "metadata": {},
   "source": [
    "# --- Treinamento e Avaliação ---"
   ]
  },
  {
   "cell_type": "code",
   "execution_count": null,
   "id": "175009f9-fdb7-4700-a85e-3ac8ce89f128",
   "metadata": {},
   "outputs": [],
   "source": [
    "X_train, X_test, y_train, y_test = train_test_split(X, y, test_size=0.3, random_state=42, stratify=y)\n",
    "\n",
    "print(\"Iniciando o treinamento do pipeline completo com XGBoost...\")\n",
    "pipeline_final.fit(X_train, y_train)\n",
    "print(\"Treinamento concluído.\")\n"
   ]
  },
  {
   "cell_type": "code",
   "execution_count": null,
   "id": "99b8bf47-99e5-4e40-b301-53e4b518141a",
   "metadata": {},
   "outputs": [],
   "source": [
    "# Fazer predições no conjunto de teste\n",
    "y_pred = pipeline_final.predict(X_test)\n"
   ]
  },
  {
   "cell_type": "code",
   "execution_count": null,
   "id": "92ccd314-8fd4-45e3-9cf7-f024c2b7e195",
   "metadata": {},
   "outputs": [],
   "source": [
    "# 1. Reverter as predições e o y_test para os rótulos numéricos originais (1, 2, 3)\n",
    "# O `le` é o LabelEncoder que você usou para transformar 'FORMA' para 0, 1, 2\n",
    "#y_pred_original_ids = le.inverse_transform(y_pred)\n",
    "#y_test_original_ids = le.inverse_transform(y_test)\n",
    "y_pred_original_ids = le.inverse_transform(y_pred)\n",
    "y_original_ids = le.inverse_transform(y)"
   ]
  },
  {
   "cell_type": "code",
   "execution_count": null,
   "id": "a4ef5443-36f3-4ede-9154-e39287e12b24",
   "metadata": {},
   "outputs": [],
   "source": [
    "mapeamento_nomes_descritivos = {\n",
    "    1.0: \"Pulmonar\",\n",
    "    2.0: \"Extrapulmonar\",\n",
    "    3.0: \"Mista\",\n",
    "    4.0: \"Saudável\"\n",
    "}\n",
    "encoded_to_descriptive_name_map = {}\n",
    "# le.classes_ agora conterá apenas ['1.0', '2.0', '3.0', '4.0']\n",
    "for i, original_label_str in enumerate(le.classes_):\n",
    "    original_id_float = float(original_label_str)\n",
    "    encoded_to_descriptive_name_map[i] = mapeamento_nomes_descritivos[original_id_float]\n",
    "\n",
    "# Agora, aplicar o mapeamento para as predições e o y_test em formato de nomes\n",
    "y_pred_nomes = [encoded_to_descriptive_name_map[p] for p in y_pred]\n",
    "y_test_nomes = [encoded_to_descriptive_name_map[t] for t in y_test]\n",
    "\n",
    "class_names_order = [\"Extrapulmonar\", \"Mista\", \"Pulmonar\"]"
   ]
  },
  {
   "cell_type": "code",
   "execution_count": null,
   "id": "d6cde1d6-1ee0-4666-9ff2-0ca3c589aa3f",
   "metadata": {},
   "outputs": [],
   "source": [
    "print(\"\\n--- Diagnóstico de Classes ---\")\n",
    "print(f\"Valores únicos em y_encoded (após LabelEncoder e antes do split): {np.unique(y)}\")\n",
    "print(f\"Classes que o LabelEncoder aprendeu (le.classes_): {le.classes_}\")\n",
    "print(f\"Classes únicas presentes em y_test_nomes: {np.unique(y_test_nomes)}\")\n",
    "print(f\"Classes únicas presentes em y_pred_nomes: {np.unique(y_pred_nomes)}\")\n",
    "print(\"--- Fim do Diagnóstico ---\\n\")"
   ]
  },
  {
   "cell_type": "code",
   "execution_count": null,
   "id": "ac18efa2-158f-4a9e-b7db-fdb7d1b5ed3c",
   "metadata": {},
   "outputs": [],
   "source": [
    "# Relatório de Classificação com Nomes Descritivos\n",
    "# Ao invés de usar os números, o target_names exibe os nomes no relatório\n",
    "print(\"\\nRelatório de Classificação com Nomes Descritivos:\")\n",
    "print(classification_report(y_test_nomes, y_pred_nomes, target_names=class_names_order))\n",
    "\n",
    "cm_nomes = confusion_matrix(y_test_nomes, y_pred_nomes, labels=class_names_order) # <--- AQUI A CORREÇÃO FINAL\n",
    "\n",
    "print(\"\\nMatriz de Confusão com Nomes Descritivos:\")\n",
    "print(cm_nomes)\n"
   ]
  },
  {
   "cell_type": "code",
   "execution_count": null,
   "id": "fe9de298-11ca-491e-8c22-bb43645637dc",
   "metadata": {},
   "outputs": [],
   "source": [
    "disp = ConfusionMatrixDisplay(confusion_matrix=cm_nomes, display_labels=class_names_order)\n",
    "disp.plot(cmap=plt.cm.Blues)\n",
    "plt.title('Matriz de Confusão com Nomes Descritivos')\n",
    "plt.show()"
   ]
  },
  {
   "cell_type": "code",
   "execution_count": null,
   "id": "58e2f3e6-c64f-4c47-8dca-8e49ba4d43be",
   "metadata": {},
   "outputs": [],
   "source": [
    "# Exemplo de Predições (opcional, para visualização rápida)\n",
    "print(\"\\nExemplo de Predições com Nomes:\")\n",
    "for i in range(10): # Mostra os primeiros 10 exemplos do teste\n",
    "    print(f\"Amostra {i+1}: Real: {y_test_nomes[i]}, Predito: {y_pred_nomes[i]}\")\n"
   ]
  },
  {
   "cell_type": "code",
   "execution_count": null,
   "id": "e6a4becf-4f2e-4cf7-b029-7f5d98cc3b1d",
   "metadata": {},
   "outputs": [],
   "source": []
  },
  {
   "cell_type": "code",
   "execution_count": null,
   "id": "ca1bc7f9-c7b4-4fa1-b4ad-21bca79eb181",
   "metadata": {},
   "outputs": [],
   "source": [
    "# Carregue seu DataFrame original novamente (ou use o 'df' que já está carregado)\n",
    "df_original = pd.read_csv('/mnt/c/Users/AcerGamer/Downloads/Tuberculose/Projeto-Tuberculose/dados/arquivos_csv/dados_tuberculose_completos.csv', encoding='latin1')\n",
    "\n",
    "print(\"Colunas do DataFrame original e seus tipos de dados:\")\n",
    "print(df_original.info())\n",
    "\n",
    "print(\"\\nPrimeiras 5 linhas do DataFrame original (para ver os valores):\")\n",
    "print(df_original.head())"
   ]
  },
  {
   "cell_type": "code",
   "execution_count": null,
   "id": "a3db7d91-9a1d-4fbe-a655-b8f23dd73704",
   "metadata": {},
   "outputs": [],
   "source": []
  }
 ],
 "metadata": {
  "kernelspec": {
   "display_name": "Python 3 (ipykernel)",
   "language": "python",
   "name": "python3"
  },
  "language_info": {
   "codemirror_mode": {
    "name": "ipython",
    "version": 3
   },
   "file_extension": ".py",
   "mimetype": "text/x-python",
   "name": "python",
   "nbconvert_exporter": "python",
   "pygments_lexer": "ipython3",
   "version": "3.12.3"
  }
 },
 "nbformat": 4,
 "nbformat_minor": 5
}
