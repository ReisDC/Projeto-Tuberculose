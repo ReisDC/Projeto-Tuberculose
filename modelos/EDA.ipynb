{
 "cells": [
  {
   "cell_type": "markdown",
   "id": "dd47fc7c-d445-4e8e-a88b-f84afef5ef1a",
   "metadata": {},
   "source": [
    "# 1. Importação de Bibliotecas"
   ]
  },
  {
   "cell_type": "code",
   "execution_count": 1,
   "id": "721cc90d-117c-4799-b650-0dfcb9475a87",
   "metadata": {},
   "outputs": [],
   "source": [
    "import pandas as pd\n",
    "import numpy as np\n",
    "import matplotlib.pyplot as plt\n",
    "import seaborn as sns"
   ]
  },
  {
   "cell_type": "code",
   "execution_count": 2,
   "id": "c25851ed-8760-4237-aa98-2a2d9c5cdfe2",
   "metadata": {},
   "outputs": [],
   "source": [
    "plt.style.use('seaborn-v0_8-notebook') "
   ]
  },
  {
   "cell_type": "markdown",
   "id": "c079a6fb-14be-49f3-8844-6d0c2d720f63",
   "metadata": {},
   "source": [
    "# 2. Leitura do CSV"
   ]
  },
  {
   "cell_type": "code",
   "execution_count": 4,
   "id": "f4bd980b-3480-458c-8ad7-4747539789b4",
   "metadata": {},
   "outputs": [
    {
     "data": {
      "text/html": [
       "<div>\n",
       "<style scoped>\n",
       "    .dataframe tbody tr th:only-of-type {\n",
       "        vertical-align: middle;\n",
       "    }\n",
       "\n",
       "    .dataframe tbody tr th {\n",
       "        vertical-align: top;\n",
       "    }\n",
       "\n",
       "    .dataframe thead th {\n",
       "        text-align: right;\n",
       "    }\n",
       "</style>\n",
       "<table border=\"1\" class=\"dataframe\">\n",
       "  <thead>\n",
       "    <tr style=\"text-align: right;\">\n",
       "      <th></th>\n",
       "      <th>TP_NOT</th>\n",
       "      <th>ID_AGRAVO</th>\n",
       "      <th>DT_NOTIFIC</th>\n",
       "      <th>NU_ANO</th>\n",
       "      <th>SG_UF_NOT</th>\n",
       "      <th>ID_MUNICIP</th>\n",
       "      <th>ID_REGIONA</th>\n",
       "      <th>DT_DIAG</th>\n",
       "      <th>ANO_NASC</th>\n",
       "      <th>NU_IDADE_N</th>\n",
       "      <th>...</th>\n",
       "      <th>BENEF_GOV</th>\n",
       "      <th>AGRAVDROGA</th>\n",
       "      <th>AGRAVTABAC</th>\n",
       "      <th>TEST_MOLEC</th>\n",
       "      <th>TEST_SENSI</th>\n",
       "      <th>ANT_RETRO</th>\n",
       "      <th>BAC_APOS_6</th>\n",
       "      <th>TRANSF</th>\n",
       "      <th>UF_TRANSF</th>\n",
       "      <th>MUN_TRANSF</th>\n",
       "    </tr>\n",
       "  </thead>\n",
       "  <tbody>\n",
       "    <tr>\n",
       "      <th>0</th>\n",
       "      <td>2</td>\n",
       "      <td>A169</td>\n",
       "      <td>20200930</td>\n",
       "      <td>2020</td>\n",
       "      <td>15</td>\n",
       "      <td>150650</td>\n",
       "      <td>148.0</td>\n",
       "      <td>20200930</td>\n",
       "      <td>2009.0</td>\n",
       "      <td>4011.0</td>\n",
       "      <td>...</td>\n",
       "      <td>9.0</td>\n",
       "      <td>2.0</td>\n",
       "      <td>2.0</td>\n",
       "      <td>5.0</td>\n",
       "      <td>NaN</td>\n",
       "      <td>NaN</td>\n",
       "      <td>NaN</td>\n",
       "      <td>2.0</td>\n",
       "      <td>15</td>\n",
       "      <td>15.0</td>\n",
       "    </tr>\n",
       "    <tr>\n",
       "      <th>1</th>\n",
       "      <td>2</td>\n",
       "      <td>A169</td>\n",
       "      <td>20200710</td>\n",
       "      <td>2020</td>\n",
       "      <td>15</td>\n",
       "      <td>150530</td>\n",
       "      <td>149.0</td>\n",
       "      <td>20200707</td>\n",
       "      <td>1973.0</td>\n",
       "      <td>4046.0</td>\n",
       "      <td>...</td>\n",
       "      <td>2.0</td>\n",
       "      <td>2.0</td>\n",
       "      <td>2.0</td>\n",
       "      <td>5.0</td>\n",
       "      <td>NaN</td>\n",
       "      <td>NaN</td>\n",
       "      <td>3</td>\n",
       "      <td>NaN</td>\n",
       "      <td>NaN</td>\n",
       "      <td>NaN</td>\n",
       "    </tr>\n",
       "    <tr>\n",
       "      <th>2</th>\n",
       "      <td>2</td>\n",
       "      <td>A169</td>\n",
       "      <td>20201203</td>\n",
       "      <td>2020</td>\n",
       "      <td>22</td>\n",
       "      <td>220770</td>\n",
       "      <td>186.0</td>\n",
       "      <td>20201119</td>\n",
       "      <td>1955.0</td>\n",
       "      <td>4065.0</td>\n",
       "      <td>...</td>\n",
       "      <td>1.0</td>\n",
       "      <td>2.0</td>\n",
       "      <td>2.0</td>\n",
       "      <td>5.0</td>\n",
       "      <td>NaN</td>\n",
       "      <td>NaN</td>\n",
       "      <td>NaN</td>\n",
       "      <td>2.0</td>\n",
       "      <td>22</td>\n",
       "      <td>22.0</td>\n",
       "    </tr>\n",
       "    <tr>\n",
       "      <th>3</th>\n",
       "      <td>2</td>\n",
       "      <td>A169</td>\n",
       "      <td>20200210</td>\n",
       "      <td>2020</td>\n",
       "      <td>24</td>\n",
       "      <td>240920</td>\n",
       "      <td>141.0</td>\n",
       "      <td>20200208</td>\n",
       "      <td>1960.0</td>\n",
       "      <td>4059.0</td>\n",
       "      <td>...</td>\n",
       "      <td>2.0</td>\n",
       "      <td>2.0</td>\n",
       "      <td>1.0</td>\n",
       "      <td>3.0</td>\n",
       "      <td>NaN</td>\n",
       "      <td>NaN</td>\n",
       "      <td>NaN</td>\n",
       "      <td>NaN</td>\n",
       "      <td>NaN</td>\n",
       "      <td>NaN</td>\n",
       "    </tr>\n",
       "    <tr>\n",
       "      <th>4</th>\n",
       "      <td>2</td>\n",
       "      <td>A169</td>\n",
       "      <td>20210114</td>\n",
       "      <td>2021</td>\n",
       "      <td>43</td>\n",
       "      <td>430210</td>\n",
       "      <td>160.0</td>\n",
       "      <td>20201226</td>\n",
       "      <td>1984.0</td>\n",
       "      <td>4035.0</td>\n",
       "      <td>...</td>\n",
       "      <td>9.0</td>\n",
       "      <td>2.0</td>\n",
       "      <td>1.0</td>\n",
       "      <td>5.0</td>\n",
       "      <td>NaN</td>\n",
       "      <td>NaN</td>\n",
       "      <td>3</td>\n",
       "      <td>NaN</td>\n",
       "      <td>NaN</td>\n",
       "      <td>NaN</td>\n",
       "    </tr>\n",
       "  </tbody>\n",
       "</table>\n",
       "<p>5 rows × 97 columns</p>\n",
       "</div>"
      ],
      "text/plain": [
       "   TP_NOT ID_AGRAVO  DT_NOTIFIC  NU_ANO  SG_UF_NOT  ID_MUNICIP  ID_REGIONA  \\\n",
       "0       2      A169    20200930    2020         15      150650       148.0   \n",
       "1       2      A169    20200710    2020         15      150530       149.0   \n",
       "2       2      A169    20201203    2020         22      220770       186.0   \n",
       "3       2      A169    20200210    2020         24      240920       141.0   \n",
       "4       2      A169    20210114    2021         43      430210       160.0   \n",
       "\n",
       "    DT_DIAG  ANO_NASC  NU_IDADE_N  ... BENEF_GOV  AGRAVDROGA  AGRAVTABAC  \\\n",
       "0  20200930    2009.0      4011.0  ...       9.0         2.0         2.0   \n",
       "1  20200707    1973.0      4046.0  ...       2.0         2.0         2.0   \n",
       "2  20201119    1955.0      4065.0  ...       1.0         2.0         2.0   \n",
       "3  20200208    1960.0      4059.0  ...       2.0         2.0         1.0   \n",
       "4  20201226    1984.0      4035.0  ...       9.0         2.0         1.0   \n",
       "\n",
       "   TEST_MOLEC  TEST_SENSI  ANT_RETRO  BAC_APOS_6  TRANSF  UF_TRANSF  \\\n",
       "0         5.0         NaN        NaN         NaN     2.0         15   \n",
       "1         5.0         NaN        NaN           3     NaN        NaN   \n",
       "2         5.0         NaN        NaN         NaN     2.0         22   \n",
       "3         3.0         NaN        NaN         NaN     NaN        NaN   \n",
       "4         5.0         NaN        NaN           3     NaN        NaN   \n",
       "\n",
       "   MUN_TRANSF  \n",
       "0        15.0  \n",
       "1         NaN  \n",
       "2        22.0  \n",
       "3         NaN  \n",
       "4         NaN  \n",
       "\n",
       "[5 rows x 97 columns]"
      ]
     },
     "execution_count": 4,
     "metadata": {},
     "output_type": "execute_result"
    }
   ],
   "source": [
    "df = pd.read_csv(\"/mnt/c/Users/AcerGamer/Downloads/Tuberculose/Projeto-Tuberculose/dados/arquivos_csv/dados_tuberculose_completos.csv\", encoding=\"latin1\", low_memory=False)  # ou 'utf-8' se não tiver acentuação errada\n",
    "df.head()"
   ]
  },
  {
   "cell_type": "markdown",
   "id": "a8d7e72c-fc5f-4929-9d8a-b2880bba5bcb",
   "metadata": {},
   "source": [
    "# 3. Verificar Qualidade dos Dados"
   ]
  },
  {
   "cell_type": "markdown",
   "id": "ea98afe5-96ed-4e05-b730-49bc8aa2b6dc",
   "metadata": {},
   "source": [
    "### a. Ver estrutura básica"
   ]
  },
  {
   "cell_type": "code",
   "execution_count": 5,
   "id": "34ab2e63-026b-473b-a5a2-8615a5f5203f",
   "metadata": {},
   "outputs": [
    {
     "name": "stdout",
     "output_type": "stream",
     "text": [
      "<class 'pandas.core.frame.DataFrame'>\n",
      "RangeIndex: 502271 entries, 0 to 502270\n",
      "Data columns (total 97 columns):\n",
      " #   Column      Non-Null Count   Dtype  \n",
      "---  ------      --------------   -----  \n",
      " 0   TP_NOT      502271 non-null  int64  \n",
      " 1   ID_AGRAVO   502271 non-null  object \n",
      " 2   DT_NOTIFIC  502271 non-null  int64  \n",
      " 3   NU_ANO      502271 non-null  int64  \n",
      " 4   SG_UF_NOT   502271 non-null  int64  \n",
      " 5   ID_MUNICIP  502271 non-null  int64  \n",
      " 6   ID_REGIONA  297899 non-null  float64\n",
      " 7   DT_DIAG     502271 non-null  int64  \n",
      " 8   ANO_NASC    500066 non-null  float64\n",
      " 9   NU_IDADE_N  502068 non-null  float64\n",
      " 10  CS_SEXO     502271 non-null  object \n",
      " 11  CS_GESTANT  502222 non-null  float64\n",
      " 12  CS_RACA     492687 non-null  float64\n",
      " 13  CS_ESCOL_N  463257 non-null  float64\n",
      " 14  SG_UF       502271 non-null  int64  \n",
      " 15  ID_MN_RESI  502271 non-null  int64  \n",
      " 16  ID_RG_RESI  296327 non-null  float64\n",
      " 17  ID_PAIS     389768 non-null  float64\n",
      " 18  NDUPLIC_N   48911 non-null   float64\n",
      " 19  IN_VINCULA  45987 non-null   float64\n",
      " 20  DT_DIGITA   389768 non-null  float64\n",
      " 21  DT_TRANSUS  28183 non-null   float64\n",
      " 22  DT_TRANSDM  8600 non-null    float64\n",
      " 23  DT_TRANSSM  274346 non-null  float64\n",
      " 24  DT_TRANSRM  0 non-null       float64\n",
      " 25  DT_TRANSRS  9054 non-null    float64\n",
      " 26  DT_TRANSSE  179847 non-null  float64\n",
      " 27  CS_FLXRET   0 non-null       float64\n",
      " 28  FLXRECEBI   0 non-null       float64\n",
      " 29  MIGRADO_W   3 non-null       object \n",
      " 30  ID_OCUPA_N  9 non-null       object \n",
      " 31  TRATAMENTO  502271 non-null  int64  \n",
      " 32  INSTITUCIO  30 non-null      float64\n",
      " 33  RAIOX_TORA  492444 non-null  float64\n",
      " 34  TESTE_TUBE  36 non-null      object \n",
      " 35  FORMA       502083 non-null  float64\n",
      " 36  EXTRAPU1_N  73038 non-null   object \n",
      " 37  EXTRAPU2_N  675 non-null     object \n",
      " 38  EXTRAPUL_O  7210 non-null    object \n",
      " 39  AGRAVAIDS   493183 non-null  float64\n",
      " 40  AGRAVALCOO  493659 non-null  float64\n",
      " 41  AGRAVDIABE  492945 non-null  float64\n",
      " 42  AGRAVDOENC  491279 non-null  float64\n",
      " 43  AGRAVOUTRA  336314 non-null  object \n",
      " 44  AGRAVOUTDE  41390 non-null   object \n",
      " 45  BACILOSC_E  502105 non-null  float64\n",
      " 46  BACILOS_E2  47 non-null      float64\n",
      " 47  BACILOSC_O  112531 non-null  object \n",
      " 48  CULTURA_ES  502105 non-null  float64\n",
      " 49  CULTURA_OU  89723 non-null   object \n",
      " 50  HIV         500518 non-null  float64\n",
      " 51  HISTOPATOL  464627 non-null  float64\n",
      " 52  DT_INIC_TR  480291 non-null  float64\n",
      " 53  RIFAMPICIN  19 non-null      object \n",
      " 54  ISONIAZIDA  23 non-null      object \n",
      " 55  ETAMBUTOL   15 non-null      float64\n",
      " 56  ESTREPTOMI  15 non-null      object \n",
      " 57  PIRAZINAMI  16 non-null      object \n",
      " 58  ETIONAMIDA  16 non-null      object \n",
      " 59  OUTRAS      19 non-null      object \n",
      " 60  OUTRAS_DES  6 non-null       object \n",
      " 61  TRAT_SUPER  94 non-null      object \n",
      " 62  NU_CONTATO  482856 non-null  float64\n",
      " 63  DOENCA_TRA  38 non-null      object \n",
      " 64  SG_UF_AT    500269 non-null  object \n",
      " 65  ID_MUNIC_A  500265 non-null  float64\n",
      " 66  DT_NOTI_AT  303145 non-null  float64\n",
      " 67  SG_UF_2     386232 non-null  float64\n",
      " 68  ID_MUNIC_2  385106 non-null  float64\n",
      " 69  BACILOSC_1  366803 non-null  object \n",
      " 70  BACILOSC_2  342022 non-null  float64\n",
      " 71  BACILOSC_3  323099 non-null  float64\n",
      " 72  BACILOSC_4  305432 non-null  float64\n",
      " 73  BACILOSC_5  289311 non-null  float64\n",
      " 74  BACILOSC_6  273321 non-null  float64\n",
      " 75  TRATSUP_AT  379003 non-null  float64\n",
      " 76  DT_MUDANCA  3 non-null       float64\n",
      " 77  NU_COMU_EX  408157 non-null  float64\n",
      " 78  SITUA_9_M   46 non-null      float64\n",
      " 79  SITUA_12_M  5 non-null       float64\n",
      " 80  SITUA_ENCE  441885 non-null  float64\n",
      " 81  DT_ENCERRA  438959 non-null  float64\n",
      " 82  TPUNINOT    376650 non-null  float64\n",
      " 83  POP_LIBER   491904 non-null  float64\n",
      " 84  POP_RUA     490369 non-null  float64\n",
      " 85  POP_SAUDE   490154 non-null  float64\n",
      " 86  POP_IMIG    489399 non-null  float64\n",
      " 87  BENEF_GOV   369596 non-null  object \n",
      " 88  AGRAVDROGA  491593 non-null  float64\n",
      " 89  AGRAVTABAC  491333 non-null  float64\n",
      " 90  TEST_MOLEC  473377 non-null  float64\n",
      " 91  TEST_SENSI  266026 non-null  object \n",
      " 92  ANT_RETRO   116225 non-null  object \n",
      " 93  BAC_APOS_6  136398 non-null  object \n",
      " 94  TRANSF      39123 non-null   float64\n",
      " 95  UF_TRANSF   25636 non-null   object \n",
      " 96  MUN_TRANSF  23273 non-null   object \n",
      "dtypes: float64(59), int64(9), object(29)\n",
      "memory usage: 371.7+ MB\n"
     ]
    }
   ],
   "source": [
    "df.info()"
   ]
  },
  {
   "cell_type": "markdown",
   "id": "8a6a18c0-97ae-4ea5-99d8-107721482e88",
   "metadata": {
    "jp-MarkdownHeadingCollapsed": true
   },
   "source": [
    "### b. Verificar valores ausentes"
   ]
  },
  {
   "cell_type": "code",
   "execution_count": 15,
   "id": "c2e4e2a6-12e3-4731-b75f-138cc21cd4ce",
   "metadata": {},
   "outputs": [
    {
     "name": "stdout",
     "output_type": "stream",
     "text": [
      "Colunas com 100% de valores ausentes (3 colunas):\n"
     ]
    },
    {
     "data": {
      "text/plain": [
       "FLXRECEBI     100.0\n",
       "DT_TRANSRM    100.0\n",
       "CS_FLXRET     100.0\n",
       "dtype: float64"
      ]
     },
     "metadata": {},
     "output_type": "display_data"
    }
   ],
   "source": [
    "df = pd.read_csv('/mnt/c/Users/AcerGamer/Downloads/Tuberculose/Projeto-Tuberculose/dados/arquivos_csv/dados_tuberculose_completos.csv', low_memory=False)\n",
    "\n",
    "# Calcular a porcentagem de valores ausentes por coluna\n",
    "porcentagem_nulos = df.isnull().mean().sort_values(ascending=False) * 100\n",
    "\n",
    "# Exibir as colunas com 100% de valores ausentes\n",
    "colunas_muito_nulas = porcentagem_nulos[porcentagem_nulos == 100]\n",
    "print(f\"Colunas com 100% de valores ausentes ({len(colunas_muito_nulas)} colunas):\")\n",
    "display(colunas_muito_nulas)"
   ]
  },
  {
   "cell_type": "markdown",
   "id": "a763eb3d-48bf-4217-9d66-cf5dd4d02a5c",
   "metadata": {
    "jp-MarkdownHeadingCollapsed": true
   },
   "source": [
    "### b.1 Remover essas colunas do DataFrame"
   ]
  },
  {
   "cell_type": "code",
   "execution_count": 16,
   "id": "6963304a-0178-4351-bcaf-e727a0cb6645",
   "metadata": {},
   "outputs": [
    {
     "name": "stdout",
     "output_type": "stream",
     "text": [
      "Formato do DataFrame original: (502271, 97)\n",
      "Formato após remoção: (502271, 94)\n"
     ]
    }
   ],
   "source": [
    "# Remover as colunas com 100% de valores ausentes\n",
    "df_limpo = df.drop(columns=colunas_muito_nulas.index)\n",
    "\n",
    "print(f\"Formato do DataFrame original: {df.shape}\")\n",
    "print(f\"Formato após remoção: {df_limpo.shape}\")\n"
   ]
  },
  {
   "cell_type": "markdown",
   "id": "48a52361-7c33-4254-9093-bcece27e5de6",
   "metadata": {
    "jp-MarkdownHeadingCollapsed": true
   },
   "source": [
    "### c. Descrição estatística (numéricas)"
   ]
  },
  {
   "cell_type": "code",
   "execution_count": null,
   "id": "579671d9-7cb5-4d75-abfa-9135d6adacc2",
   "metadata": {},
   "outputs": [],
   "source": [
    "df.describe()"
   ]
  },
  {
   "cell_type": "markdown",
   "id": "2f56b5d6-4981-4ce3-8152-16a93eeeacf0",
   "metadata": {
    "jp-MarkdownHeadingCollapsed": true
   },
   "source": [
    "### d. Valores únicos por coluna"
   ]
  },
  {
   "cell_type": "code",
   "execution_count": null,
   "id": "9e3fb2bc-cc71-4129-8ec2-9f49c91df8c5",
   "metadata": {},
   "outputs": [],
   "source": [
    "df.nunique()"
   ]
  },
  {
   "cell_type": "markdown",
   "id": "e786746e-aaef-4b9b-95e9-7a2cbabb1b06",
   "metadata": {},
   "source": [
    "# 4. Entender o Significado das Variáveis"
   ]
  },
  {
   "cell_type": "markdown",
   "id": "aea0502c-8168-46fa-8840-644664547436",
   "metadata": {},
   "source": [
    "### Renomear variaveis para nomes mais amigáveis"
   ]
  },
  {
   "cell_type": "code",
   "execution_count": null,
   "id": "7b0a0d47-d89e-4523-b5e3-82fc7d5ee72a",
   "metadata": {},
   "outputs": [],
   "source": [
    "df.rename(columns={\n",
    "    'TP_NOT': 'Tipo_Notificacao',\n",
    "    'ID_AGRAVO': 'Codigo_Agravo',\n",
    "    'DT_NOTIFIC': 'Data_Notificacao',\n",
    "    'NU_ANO' : 'Ano_Notificcao',\n",
    "    'SG_UF_NOT' : 'Sigla_UF_Notificacao',   \n",
    "    'ID_MUNICIP' : 'Codigo_Municipio',\n",
    "    'ID_REGIONA' : 'Codigo_Regiao',\n",
    "    'DT_DIAG' : 'Data_Diagnostico',\n",
    "    'ANO_NASC' : 'Ano_Nascimento',    \n",
    "    'NU_IDADE_N' : 'Idade_Valor_Unidade', \n",
    "    'CS_SEXO' : 'Paciente_Sexo',\n",
    "    'CS_GESTANT' : 'Paciente_Gestante',\n",
    "    'CS_RACA' : 'Paciente_Raca',\n",
    "    'CS_ESCOL_N' : 'Paciente_Escolaridade',\n",
    "    'SG_UF' : 'UF_Residente',       \n",
    "    'ID_MN_RESI' : 'Codigo_Municipio',\n",
    "    'ID_RG_RESI' : 'Codigo_Regiao',\n",
    "    'ID_PAIS' : 'Codigo_Pais',\n",
    "    'NDUPLIC_N' : 'Duplicidade',\n",
    "    'IN_VINCULA' : 'Caso_Vinculado',  \n",
    "    'DT_DIGITA' : 'Data_Digitacao',\n",
    "    'DT_TRANSUS' : 'Data_Transferencia_Unidade_Saude',\n",
    "    'DT_TRANSDM' : 'Data_Tranferencia_Distrito_Municipal',\n",
    "    'DT_TRANSSM' : 'Data_Transferencia_Secretaria_Municipal',\n",
    "    'DT_TRANSRM' : 'Data_Transferencia_Regional_Municipal',  \n",
    "    'DT_TRANSRS' : 'Data_Transferencia_Regional_Saude',  \n",
    "    'DT_TRANSSE' : 'Data_Transferencia_Secretaria_Estadual_Saude',  \n",
    "    'CS_FLXRET' : 'Fluxo_Retorno',   \n",
    "    'FLXRECEBI' : 'Recebido_Fluxo_Retorno',   \n",
    "    'MIGRADO_W' : 'Origem_Migracao',   \n",
    "    'ID_OCUPA_N' : 'Ocupacao_Codificada',  \n",
    "    'TRATAMENTO' : 'Tipo_Tratamento', \n",
    "    'INSTITUCIO' : 'Institucionalizado',   \n",
    "    'RAIOX_TORA' : 'RaioX_Torax',  \n",
    "    'TESTE_TUBE' : 'Teste_Tuberculineo',  \n",
    "    'FORMA' : 'Forma_Clinica_Tuberculose',       \n",
    "    'AGRAVAIDS' : 'Comorbidade_AIDS',   \n",
    "    'AGRAVALCOO' : 'Comorbidade_Alcoolismo',  \n",
    "    'AGRAVDIABE' : 'Comorbidade_Diabetes',  \n",
    "    'AGRAVDOENC' : 'Comorbidade_Doenca',  \n",
    "    'AGRAVOUTRA' : 'Comorbidade_Outra',  \n",
    "    'AGRAVOUTDE' : 'Comorbidade_Especifique', \n",
    "    'BACILOSC_E' : 'Baciloscopia_Escarro1',\n",
    "    'BACILOS_E2' : 'Baciloscopia_Escarro2',\n",
    "    'BACILOSC_O' : 'Baciloscopia_OutroMaterial',\n",
    "    'CULTURA_ES' : 'Cultura_Escarro',\n",
    "    'CULTURA_OU' : 'Cultura_Outros',\n",
    "    'HISTOPATOL' : 'Histopatologia',\n",
    "    'DT_INIC_TR' : 'Data_Inicio_Tratamento', \n",
    "    'RIFAMPICIN' : 'Medicamentos_TB_Rifampicina',\n",
    "    'ISONIAZIDA' : 'Medicamentos_Isoniazida',  \n",
    "    'ETAMBUTOL' : 'Medicamentos_Etambutol',   \n",
    "    'ESTREPTOMI' : 'Medicamentos_Estreptomicina', \n",
    "    'PIRAZINAMI' : 'Medicamentos_Pirazinamida', \n",
    "    'ETIONAMIDA' : 'Medicamentos_Etionamida', \n",
    "    'OUTRAS' : 'Medicamentos_Outros',      \n",
    "    'OUTRAS_DES' : 'Medicamentos_Outros_Descricao',  \n",
    "    'TRAT_SUPER' : 'Tratamento_Supervisionado',  \n",
    "    'NU_CONTATO' : 'Numero_Contato',  \n",
    "    'DOENCA_TRA' : 'Doenca_Tratamento_Especial',  \n",
    "    'SG_UF_AT' : 'UF_Atendimento_Atual',    \n",
    "    'ID_MUNIC_A' : 'Municipio_Atendimento_Atual',  \n",
    "    'DT_NOTI_AT' : 'Data_Notificacao_Atual',  \n",
    "    'SG_UF_2' : 'UF_Residencia_Atual',     \n",
    "    'ID_MUNIC_2' : 'Municipio_Residencia_Atual',  \n",
    "    'BACILOSC_1' : 'Baciloscopia_1Mes', \n",
    "    'BACILOSC_2' : 'Baciloscopia_2Mes', \n",
    "    'BACILOSC_3' : 'Baciloscopia_3Mes', \n",
    "    'BACILOSC_4' : 'Baciloscopia_4Mes', \n",
    "    'BACILOSC_5' : 'Baciloscopia_5Mes', \n",
    "    'BACILOSC_6' : 'Baciloscopia_6Mes',  \n",
    "    'TRATSUP_AT' : 'Trat_Supervisionado_Atual',  \n",
    "    'DT_MUDANCA' : 'Data_Mudanca_Tratamento',\n",
    "    'NU_COMU_EX' : 'Contatos_Examinados', \n",
    "    'SITUA_9_M' : 'Situacao_9_Meses',   \n",
    "    'SITUA_12_M' : 'Situacao_12_Meses',  \n",
    "    'SITUA_ENCE' : 'Situacao_Encerramento',  \n",
    "    'DT_ENCERRA' : 'Data_Encerramento',  \n",
    "    'TPUNINOT' : 'Tipo_Unidade_Notificadora',    \n",
    "    'POP_LIBER' : 'Populacao_Prisioneira',   \n",
    "    'POP_RUA' : 'Populacao_Rua',     \n",
    "    'POP_SAUDE' : 'Populacao_Saude',   \n",
    "    'POP_IMIG' : 'Populacao_Imigrantes',\n",
    "    'BENEF_GOV' : 'Beneficiario_Programa',   \n",
    "    'AGRAVDROGA' : 'Comorbidade_Drogas',  \n",
    "    'AGRAVTABAC' : 'Comorbidade_Tabaco',  \n",
    "    'TEST_MOLEC' : 'Teste_Molecular',  \n",
    "    'TEST_SENSI' : 'Teste_Sensibilidade',  \n",
    "    'ANT_RETRO' : 'Terapia_Antirretroviral',   \n",
    "    'BAC_APOS_6' : 'Baciloscopia_Apos_6Meses',\n",
    "}, inplace=True)"
   ]
  },
  {
   "cell_type": "code",
   "execution_count": null,
   "id": "997262aa-5a37-4b65-9a4d-bda7fc45e3d5",
   "metadata": {
    "scrolled": true
   },
   "outputs": [],
   "source": [
    "df.info()"
   ]
  },
  {
   "cell_type": "markdown",
   "id": "2b392ad1-9a20-4cc7-a310-007d45b3d62a",
   "metadata": {},
   "source": [
    "# 5. Análises Iniciais"
   ]
  },
  {
   "cell_type": "markdown",
   "id": "56565aed-ccb1-46eb-8451-7d9e12ded158",
   "metadata": {},
   "source": [
    "### a. Casos por Ano"
   ]
  },
  {
   "cell_type": "code",
   "execution_count": null,
   "id": "e1f50c4a-abc3-46c9-8b9d-88cdb4208b43",
   "metadata": {},
   "outputs": [],
   "source": [
    "# converte a formatação da coluna de '12345678' para '1234-56-78'\n",
    "df['Data_Notificacao'] = pd.to_datetime(df['Data_Notificacao'].astype(str), format='%Y%m%d', errors='coerce')\n"
   ]
  },
  {
   "cell_type": "code",
   "execution_count": null,
   "id": "c329ea69-2b74-4071-956a-6723f2727bd2",
   "metadata": {},
   "outputs": [],
   "source": [
    "df['Data_Notificacao'].head(10)"
   ]
  },
  {
   "cell_type": "code",
   "execution_count": null,
   "id": "50b36cda-20b9-42b6-9d28-1597cf13944b",
   "metadata": {},
   "outputs": [],
   "source": [
    "df['Ano'] = pd.to_datetime(df['Data_Notificacao'], errors='coerce').dt.year\n",
    "df['Ano'].value_counts().sort_index().plot(kind='bar')\n",
    "plt.title('Casos de Tuberculose por Ano')\n",
    "plt.xlabel('Ano')\n",
    "plt.ylabel('Número de Casos')\n",
    "plt.tight_layout()\n",
    "plt.show()"
   ]
  },
  {
   "cell_type": "markdown",
   "id": "e8577ffc-1112-4ec2-9e39-4b5ccccdb957",
   "metadata": {},
   "source": [
    "### b. Casos por Estado"
   ]
  },
  {
   "cell_type": "code",
   "execution_count": null,
   "id": "281ec312-c36b-49c1-857f-929e0ce7fc60",
   "metadata": {},
   "outputs": [],
   "source": [
    "# Dicionário de códigos IBGE das UFs:\n",
    "cod_uf_para_sigla = {\n",
    "    11: 'RO', 12: 'AC', 13: 'AM', 14: 'RR', 15: 'PA', 16: 'AP', 17: 'TO',\n",
    "    21: 'MA', 22: 'PI', 23: 'CE', 24: 'RN', 25: 'PB', 26: 'PE', 27: 'AL',\n",
    "    28: 'SE', 29: 'BA', 31: 'MG', 32: 'ES', 33: 'RJ', 35: 'SP', 41: 'PR',\n",
    "    42: 'SC', 43: 'RS', 50: 'MS', 51: 'MT', 52: 'GO', 53: 'DF'\n",
    "}"
   ]
  },
  {
   "cell_type": "code",
   "execution_count": null,
   "id": "be9cd246-9c76-4fde-8c0c-dcdb50f558ff",
   "metadata": {},
   "outputs": [],
   "source": [
    "# Incorporação do dicionário ao Data Frame\n",
    "df['Sigla_UF_Notificacao'] = df['Sigla_UF_Notificacao'].replace(cod_uf_para_sigla)"
   ]
  },
  {
   "cell_type": "code",
   "execution_count": null,
   "id": "4910d677-ef5b-4e04-8a31-5ff122e48e86",
   "metadata": {},
   "outputs": [],
   "source": [
    "df['Sigla_UF_Notificacao'].value_counts().sort_values(ascending=True).plot(kind='barh')\n",
    "plt.title('Casos por Estado')\n",
    "plt.xlabel('Número de Casos')\n",
    "plt.ylabel('Estado')\n",
    "plt.tight_layout()\n",
    "plt.show()\n"
   ]
  },
  {
   "cell_type": "markdown",
   "id": "06d3b969-cbf9-4544-9b24-68e9ca9b38e9",
   "metadata": {},
   "source": [
    "### c. Distribuição por Sexo"
   ]
  },
  {
   "cell_type": "code",
   "execution_count": null,
   "id": "d7445717-9cd5-4e73-8309-12569cb538ac",
   "metadata": {},
   "outputs": [],
   "source": [
    "sns.countplot(data=df, x='Paciente_Sexo')\n",
    "plt.title('Distribuição por Sexo')\n",
    "plt.xlabel('Sexo')\n",
    "plt.ylabel('Número de Casos')\n",
    "plt.show()"
   ]
  },
  {
   "cell_type": "markdown",
   "id": "69c91f19-5785-4e13-9493-908a10da7225",
   "metadata": {},
   "source": [
    "### d. Faixa Etária"
   ]
  },
  {
   "cell_type": "markdown",
   "id": "5a7339ad-c601-443a-8e2f-c637e86b2a19",
   "metadata": {},
   "source": [
    "O código da idade segue o padrão:\n",
    "CÓDIGO = XYYY, onde:\n",
    "X = unidade de tempo\n",
    "YYY = valor da idade\n",
    "\n",
    "Significado de X (unidade):\n",
    "Código X\tUnidade\n",
    "0\tIdade ignorada\n",
    "1\tHoras\n",
    "2\tDias\n",
    "3\tMeses\n",
    "4\tAnos\n",
    "Exemplos:\n",
    "4005 = 5 anos\n",
    "3009 = 9 meses\n",
    "2015 = 15 dias\n",
    "4030 = 30 anos\n",
    "0000 = idade ignorada\n",
    "\n",
    "O código abaixo converte este \"padrão de idade\" para o padrão convencional\n"
   ]
  },
  {
   "cell_type": "code",
   "execution_count": null,
   "id": "b9512bcf-5a12-44f4-aa91-d1c5eccf8eec",
   "metadata": {},
   "outputs": [],
   "source": [
    "# Extrai unidade (1º dígito) e valor (últimos 3)\n",
    "df['unidade'] = df['Idade_Valor_Unidade'] // 1000\n",
    "df['valor'] = df['Idade_Valor_Unidade'] % 1000\n",
    "\n",
    "# Converte tudo para anos\n",
    "def converter_idade(row):\n",
    "    if row['unidade'] == 1:  # Horas\n",
    "        return row['valor'] / (24 * 365)\n",
    "    elif row['unidade'] == 2:  # Dias\n",
    "        return row['valor'] / 365\n",
    "    elif row['unidade'] == 3:  # Meses\n",
    "        return row['valor'] / 12\n",
    "    elif row['unidade'] == 4:  # Anos\n",
    "        return row['valor']\n",
    "    else:\n",
    "        return None  # Ignorado ou inválido\n",
    "\n",
    "df['Idade_Ano'] = df.apply(converter_idade, axis=1)"
   ]
  },
  {
   "cell_type": "code",
   "execution_count": null,
   "id": "60babc26-92bf-4f5e-a549-e0d4cb70397a",
   "metadata": {},
   "outputs": [],
   "source": [
    "sns.histplot(df['Idade_Ano'], bins=20, kde=True)\n",
    "plt.title('Distribuição de Idade')\n",
    "plt.xlabel('Idade')\n",
    "plt.ylabel('Frequência')\n",
    "plt.show()"
   ]
  },
  {
   "cell_type": "markdown",
   "id": "28d961d2-9ee3-49da-a400-2e80c6e51ca7",
   "metadata": {
    "jp-MarkdownHeadingCollapsed": true
   },
   "source": [
    "# 6. Cruzamento de Variáveis"
   ]
  },
  {
   "cell_type": "markdown",
   "id": "d931a8a0-3915-4e8b-807e-486238e55e28",
   "metadata": {},
   "source": [
    "### a. Casos por Sexo e UF"
   ]
  },
  {
   "cell_type": "code",
   "execution_count": null,
   "id": "eac8ae0f-59bb-41f4-820b-3648554a7bff",
   "metadata": {},
   "outputs": [],
   "source": [
    "#Se quiser ordenar por um sexo específico (ex.: só por número de mulheres 'F'),\n",
    "#basta trocar o .sum(axis=1) por tabela['F']."
   ]
  },
  {
   "cell_type": "code",
   "execution_count": null,
   "id": "904676ca-b046-401f-a0e3-1bbf76063dca",
   "metadata": {},
   "outputs": [],
   "source": [
    "tabela = pd.crosstab(df['Sigla_UF_Notificacao'], df['Paciente_Sexo'])\n",
    "# Ordena pela soma total das linhas\n",
    "tabela = tabela.loc[tabela.sum(axis=1).sort_values(ascending=True).index]\n",
    "# Plotar gráfico\n",
    "tabela.plot(kind='barh', stacked=True)\n",
    "plt.title('Casos por UF e Sexo')\n",
    "plt.xlabel('Número de Casos')\n",
    "plt.ylabel('Estado')\n",
    "plt.tight_layout()\n",
    "plt.show()\n"
   ]
  },
  {
   "cell_type": "markdown",
   "id": "cad00c96-8f55-4e68-a7cf-d64745921644",
   "metadata": {},
   "source": [
    "### b. Idade média por raça"
   ]
  },
  {
   "cell_type": "code",
   "execution_count": null,
   "id": "7beafddd-2757-4480-a4a1-28409973fb12",
   "metadata": {},
   "outputs": [],
   "source": [
    "raca_map = {\n",
    "    1: 'Branca',\n",
    "    2: 'Preta',\n",
    "    3: 'Amarela',\n",
    "    4: 'Parda',\n",
    "    5: 'Indígena',\n",
    "    6: 'Ignorado',\n",
    "    9: 'Não Informado'\n",
    "}\n",
    "\n",
    "df['Paciente_Raca'] = df['Paciente_Raca'].replace(raca_map)"
   ]
  },
  {
   "cell_type": "code",
   "execution_count": null,
   "id": "f3b5cdc3-4c55-492b-a497-51fd1382ae94",
   "metadata": {},
   "outputs": [],
   "source": [
    "df.groupby('Paciente_Raca')['Idade_Ano'].mean().sort_values().plot(kind='barh')\n",
    "plt.title('Idade Média por Raça')\n",
    "plt.xlabel('Idade Média (anos)')\n",
    "plt.ylabel('Raça')\n",
    "plt.tight_layout()\n",
    "plt.show()"
   ]
  },
  {
   "cell_type": "markdown",
   "id": "8eb2a57e-8e9e-4902-88a4-63519cf8f212",
   "metadata": {
    "jp-MarkdownHeadingCollapsed": true
   },
   "source": [
    "# 7. Correlações"
   ]
  },
  {
   "cell_type": "code",
   "execution_count": null,
   "id": "397684f2-87e9-456b-a03e-cab422cdd8e5",
   "metadata": {},
   "outputs": [],
   "source": [
    "plt.figure(figsize=(16, 12))\n",
    "sns.heatmap(df.corr(numeric_only=True), annot=True, cmap='coolwarm', fmt=\".2f\", linewidths=0.5)\n",
    "\n",
    "plt.title('Mapa de Correlação')\n",
    "plt.xticks(rotation=45, ha='right')\n",
    "plt.yticks(rotation=0)\n",
    "plt.tight_layout()\n",
    "plt.show()"
   ]
  },
  {
   "cell_type": "markdown",
   "id": "fc5537a4-4e6b-462c-8952-bcf3b5fc7f0c",
   "metadata": {
    "jp-MarkdownHeadingCollapsed": true
   },
   "source": [
    "# 8. Gráficos Complementares"
   ]
  },
  {
   "cell_type": "markdown",
   "id": "4eef4b88-8759-4f3f-a7ef-862ff696e6a2",
   "metadata": {},
   "source": [
    "### a. Distribuição da forma da tuberculose por sexo"
   ]
  },
  {
   "cell_type": "code",
   "execution_count": null,
   "id": "38ceacbf-bcd8-4a74-9321-7fbf13c92788",
   "metadata": {},
   "outputs": [],
   "source": [
    "sns.countplot(data=df, x='Forma_Clinica_Tuberculose', hue='Paciente_Sexo')\n",
    "plt.title('Distribuição da FORMA por Sexo')\n",
    "plt.show()"
   ]
  },
  {
   "cell_type": "markdown",
   "id": "111f82cb-be53-4888-8911-d08776bc7732",
   "metadata": {},
   "source": [
    "### b. Faixa etária categorizada"
   ]
  },
  {
   "cell_type": "code",
   "execution_count": null,
   "id": "d228b049-38fc-4589-a80b-6cfabe7102e6",
   "metadata": {},
   "outputs": [],
   "source": [
    "bins = [0, 12, 18, 30, 45, 60, 75, 120]\n",
    "labels = ['Criança', 'Adolescente', 'Jovem', 'Adulto', 'Meia-idade', 'Idoso', 'Muito Idoso']\n",
    "df['Faixa_Etaria'] = pd.cut(df['Idade_Ano'], bins=bins, labels=labels)\n",
    "\n",
    "sns.countplot(data=df, x='Faixa_Etaria', order=labels)\n",
    "plt.title('Casos por Faixa Etária')\n",
    "plt.xticks(rotation=45)\n",
    "plt.show()\n"
   ]
  },
  {
   "cell_type": "code",
   "execution_count": null,
   "id": "2536019a-0e6f-4856-b534-02886097d0fe",
   "metadata": {},
   "outputs": [],
   "source": []
  }
 ],
 "metadata": {
  "kernelspec": {
   "display_name": "Python 3 (ipykernel)",
   "language": "python",
   "name": "python3"
  },
  "language_info": {
   "codemirror_mode": {
    "name": "ipython",
    "version": 3
   },
   "file_extension": ".py",
   "mimetype": "text/x-python",
   "name": "python",
   "nbconvert_exporter": "python",
   "pygments_lexer": "ipython3",
   "version": "3.12.3"
  }
 },
 "nbformat": 4,
 "nbformat_minor": 5
}
