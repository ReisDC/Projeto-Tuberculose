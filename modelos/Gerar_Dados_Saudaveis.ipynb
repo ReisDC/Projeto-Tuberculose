{
 "cells": [
  {
   "cell_type": "code",
   "execution_count": 1,
   "id": "d32dc694-30fc-40d8-b723-df02b4693c2c",
   "metadata": {},
   "outputs": [],
   "source": [
    "import pandas as pd\n",
    "import numpy as np\n",
    "from sklearn.datasets import make_classification\n",
    "from sklearn.preprocessing import LabelEncoder"
   ]
  },
  {
   "cell_type": "markdown",
   "id": "6812dcb7-a161-4de4-91c4-064804f11e33",
   "metadata": {},
   "source": [
    "Carregar o DataFrame Original e Realizar a Limpeza Inicial"
   ]
  },
  {
   "cell_type": "code",
   "execution_count": 2,
   "id": "de8655b3-901b-408f-bf74-5aa41b88f8ee",
   "metadata": {},
   "outputs": [],
   "source": [
    "df_modelo = pd.read_csv('/mnt/c/Users/AcerGamer/Downloads/Tuberculose/Projeto-Tuberculose/dados/arquivos_csv/dados_tuberculose_transformados.csv', low_memory=False)"
   ]
  },
  {
   "cell_type": "code",
   "execution_count": 3,
   "id": "57405eeb-a8ae-4754-9479-dc27c59e1641",
   "metadata": {},
   "outputs": [
    {
     "name": "stdout",
     "output_type": "stream",
     "text": [
      "Shape original: (502271, 83)\n"
     ]
    }
   ],
   "source": [
    "print(f\"Shape original: {df_modelo.shape}\")"
   ]
  },
  {
   "cell_type": "code",
   "execution_count": 4,
   "id": "8c12500e-ccaa-4531-b652-493cfa13e810",
   "metadata": {},
   "outputs": [],
   "source": [
    "essential_columns_list = [\n",
    "    'FORMA',            # Variável alvo\n",
    "    'CS_SEXO',\n",
    "    'CS_RACA',\n",
    "    'NU_IDADE_N',       # Coluna de idade\n",
    "    'HIV',\n",
    "    'AGRAVAIDS',\n",
    "    'AGRAVALCOO',\n",
    "    'RAIOX_TORA',\n",
    "    'BACILOSC_E',\n",
    "    'CULTURA_ES',\n",
    "    'NU_ANO'\n",
    "]"
   ]
  },
  {
   "cell_type": "code",
   "execution_count": 5,
   "id": "9c0161ca-6fa2-44da-a1ee-d5c5cf4be35f",
   "metadata": {},
   "outputs": [],
   "source": [
    "# Verificar quais colunas essenciais NÃO estão no DataFrame original\n",
    "missing_cols_in_original = [col for col in essential_columns_list if col not in df_modelo.columns]\n",
    "\n",
    "# Selecionar APENAS as colunas essenciais do DataFrame original\n",
    "df_modelo_cleaned = df_modelo[essential_columns_list].copy()\n"
   ]
  },
  {
   "cell_type": "code",
   "execution_count": 6,
   "id": "c4e23eb8-fae5-48fa-8768-819108e34328",
   "metadata": {},
   "outputs": [
    {
     "name": "stdout",
     "output_type": "stream",
     "text": [
      "\n",
      "Shape do DataFrame original após seleção das colunas essenciais: (502271, 11)\n",
      "Colunas no df_modelo_cleaned: ['FORMA', 'CS_SEXO', 'CS_RACA', 'NU_IDADE_N', 'HIV', 'AGRAVAIDS', 'AGRAVALCOO', 'RAIOX_TORA', 'BACILOSC_E', 'CULTURA_ES', 'NU_ANO']\n"
     ]
    }
   ],
   "source": [
    "print(f\"\\nShape do DataFrame original após seleção das colunas essenciais: {df_modelo_cleaned.shape}\")\n",
    "print(f\"Colunas no df_modelo_cleaned: {df_modelo_cleaned.columns.tolist()}\")\n"
   ]
  },
  {
   "cell_type": "code",
   "execution_count": 7,
   "id": "290acd25-6858-4d7a-b0d2-01496b8744d9",
   "metadata": {},
   "outputs": [
    {
     "name": "stdout",
     "output_type": "stream",
     "text": [
      "\n",
      "Primeiras linhas do df_modelo_cleaned:\n",
      "   FORMA CS_SEXO   CS_RACA  NU_IDADE_N            HIV  AGRAVAIDS  AGRAVALCOO  \\\n",
      "0    1.0       F     Parda      4011.0  Não realizado        2.0         2.0   \n",
      "1    1.0       M  Indígena      4046.0   Não Reagente        2.0         2.0   \n",
      "2    1.0       F     Parda      4065.0  Não realizado        2.0         1.0   \n",
      "3    1.0       M    Branca      4059.0   Não Reagente        2.0         1.0   \n",
      "4    1.0       M     Parda      4035.0   Não Reagente        2.0         2.0   \n",
      "\n",
      "   RAIOX_TORA  BACILOSC_E  CULTURA_ES  NU_ANO  \n",
      "0         1.0         1.0         4.0    2020  \n",
      "1         4.0         1.0         4.0    2020  \n",
      "2         1.0         1.0         4.0    2020  \n",
      "3         1.0         3.0         2.0    2020  \n",
      "4         1.0         1.0         4.0    2021  \n",
      "\n",
      "Tipos de dados no df_modelo_cleaned:\n",
      "FORMA         float64\n",
      "CS_SEXO        object\n",
      "CS_RACA        object\n",
      "NU_IDADE_N    float64\n",
      "HIV            object\n",
      "AGRAVAIDS     float64\n",
      "AGRAVALCOO    float64\n",
      "RAIOX_TORA    float64\n",
      "BACILOSC_E    float64\n",
      "CULTURA_ES    float64\n",
      "NU_ANO          int64\n",
      "dtype: object\n"
     ]
    }
   ],
   "source": [
    "# Exibir os tipos de dados e as primeiras linhas do DataFrame limpo\n",
    "print(\"\\nPrimeiras linhas do df_modelo_cleaned:\")\n",
    "print(df_modelo_cleaned.head())\n",
    "print(\"\\nTipos de dados no df_modelo_cleaned:\")\n",
    "print(df_modelo_cleaned.dtypes)"
   ]
  },
  {
   "cell_type": "code",
   "execution_count": 8,
   "id": "4474b100-2843-47d5-973e-3200001c82d3",
   "metadata": {},
   "outputs": [
    {
     "name": "stdout",
     "output_type": "stream",
     "text": [
      "\n",
      "Contagem de NaNs nas colunas essenciais do df_modelo_cleaned:\n",
      "FORMA          188\n",
      "CS_SEXO          0\n",
      "CS_RACA       9585\n",
      "NU_IDADE_N     203\n",
      "HIV           1753\n",
      "AGRAVAIDS     9088\n",
      "AGRAVALCOO    8612\n",
      "RAIOX_TORA    9827\n",
      "BACILOSC_E     166\n",
      "CULTURA_ES     166\n",
      "NU_ANO           0\n",
      "dtype: int64\n"
     ]
    }
   ],
   "source": [
    "# Verificar NaNs nas colunas essenciais no df_modelo_cleaned (elas podem ter NaNs, mas não serão dropadas aqui)\n",
    "print(\"\\nContagem de NaNs nas colunas essenciais do df_modelo_cleaned:\")\n",
    "print(df_modelo_cleaned.isnull().sum())"
   ]
  },
  {
   "cell_type": "code",
   "execution_count": 9,
   "id": "d5f88a84-8a68-4d1f-84be-c0e6dc00e2ff",
   "metadata": {},
   "outputs": [
    {
     "name": "stdout",
     "output_type": "stream",
     "text": [
      "\n",
      "Volume de dados de pessoas saudáveis a ser gerado: 429028 registros.\n",
      "\n",
      "Número de features para make_classification: 10\n",
      "Features a serem geradas ou preenchidas pelo make_classification/lógica: ['CS_SEXO', 'CS_RACA', 'NU_IDADE_N', 'HIV', 'AGRAVAIDS', 'AGRAVALCOO', 'RAIOX_TORA', 'BACILOSC_E', 'CULTURA_ES', 'NU_ANO']\n"
     ]
    }
   ],
   "source": [
    "# Determinar o número de registros saudáveis a serem gerados\n",
    "df_modelo_cleaned['FORMA'] = df_modelo_cleaned['FORMA'].astype(str) # Garantir tipo string\n",
    "num_saudaveis = df_modelo_cleaned['FORMA'].value_counts().max()\n",
    "print(f\"\\nVolume de dados de pessoas saudáveis a ser gerado: {num_saudaveis} registros.\")\n",
    "\n",
    "# Definir as colunas para make_classification\n",
    "# Serão TODAS as colunas essenciais, EXCETO a coluna 'FORMA' (que é o target)\n",
    "cols_to_generate_synth = [col for col in essential_columns_list if col != 'FORMA']\n",
    "\n",
    "n_features = len(cols_to_generate_synth)\n",
    "print(f\"\\nNúmero de features para make_classification: {n_features}\")\n",
    "print(f\"Features a serem geradas ou preenchidas pelo make_classification/lógica: {cols_to_generate_synth}\")"
   ]
  },
  {
   "cell_type": "code",
   "execution_count": 10,
   "id": "13d22099-2a42-4615-8d06-0eb0e71b6364",
   "metadata": {},
   "outputs": [
    {
     "name": "stdout",
     "output_type": "stream",
     "text": [
      "\n",
      "DataFrame Sintético Bruto (make_classification) - Primeiras linhas:\n",
      "    CS_SEXO   CS_RACA  NU_IDADE_N       HIV  AGRAVAIDS  AGRAVALCOO  \\\n",
      "0  0.286060  0.265546    1.525834  0.402937   0.815303    0.180180   \n",
      "1  1.719133 -0.520265   -2.581182  1.073944  -1.308615    0.241425   \n",
      "2 -0.921168  0.990471   -1.203175  0.291239  -1.135232   -1.085481   \n",
      "3  0.174429  0.351887   -0.784545 -1.167986   0.859734   -0.288086   \n",
      "4 -0.423427 -1.160867    0.689477  1.697849  -0.195856   -0.178914   \n",
      "\n",
      "   RAIOX_TORA  BACILOSC_E  CULTURA_ES    NU_ANO  \n",
      "0    0.839867    0.564919    0.508709  1.149244  \n",
      "1    2.123474   -0.665958   -0.122114 -0.649517  \n",
      "2    1.478781    0.441345    2.667672  1.182332  \n",
      "3   -1.285834    1.531834    0.673118  0.737098  \n",
      "4    0.605965   -0.053301    0.475127  1.103795  \n",
      "\n",
      "Tipos de dados no df_saudaveis_raw:\n",
      "CS_SEXO       float64\n",
      "CS_RACA       float64\n",
      "NU_IDADE_N    float64\n",
      "HIV           float64\n",
      "AGRAVAIDS     float64\n",
      "AGRAVALCOO    float64\n",
      "RAIOX_TORA    float64\n",
      "BACILOSC_E    float64\n",
      "CULTURA_ES    float64\n",
      "NU_ANO        float64\n",
      "dtype: object\n"
     ]
    }
   ],
   "source": [
    "# Gerar dados sintéticos brutos\n",
    "X_synthetic, y_synthetic = make_classification(\n",
    "    n_samples=num_saudaveis,\n",
    "    n_features=n_features,\n",
    "    n_informative=min(n_features, 5), # Ajuste conforme a complexidade desejada\n",
    "    n_redundant=0,\n",
    "    n_repeated=0,\n",
    "    n_classes=2,\n",
    "    random_state=42\n",
    ")\n",
    "# Criar um DataFrame a partir dos dados gerados, usando os nomes de colunas definidos\n",
    "df_saudaveis_raw = pd.DataFrame(X_synthetic, columns=cols_to_generate_synth)\n",
    "\n",
    "print(\"\\nDataFrame Sintético Bruto (make_classification) - Primeiras linhas:\")\n",
    "print(df_saudaveis_raw.head())\n",
    "print(\"\\nTipos de dados no df_saudaveis_raw:\")\n",
    "print(df_saudaveis_raw.dtypes)"
   ]
  },
  {
   "cell_type": "code",
   "execution_count": 11,
   "id": "080b1406-e494-4a54-9d6d-c2183dfaa5e5",
   "metadata": {},
   "outputs": [],
   "source": [
    "# Crie uma cópia para trabalhar e evitar SettingWithCopyWarning\n",
    "df_saudaveis_mc = df_saudaveis_raw.copy()\n",
    "\n",
    "# --- Preencher/Gerar as colunas essenciais com a lógica de \"Saudável\" ---\n",
    "# Itere sobre todas as colunas que deveriam estar no df_saudaveis_mc (exceto 'FORMA')\n",
    "for col in cols_to_generate_synth:\n",
    "    # Se a coluna não foi gerada pelo make_classification (porque n_informative era baixo, etc.)\n",
    "    # adicione-a ao df_saudaveis_mc antes de tentar preencher.\n",
    "    if col not in df_saudaveis_mc.columns:\n",
    "        df_saudaveis_mc[col] = np.nan # Temporariamente NaN, será preenchida abaixo\n",
    "\n",
    "    if col == 'BACILOSC_E':\n",
    "        df_saudaveis_mc[col] = 'Negativo'\n",
    "    elif col == 'CULTURA_ES':\n",
    "        df_saudaveis_mc[col] = 'Negativo'\n",
    "    elif col == 'AGRAVAIDS':\n",
    "        df_saudaveis_mc[col] = '2' # Verifique o valor para \"não agravado\" no seu dataset\n",
    "    elif col == 'AGRAVALCOO':\n",
    "        df_saudaveis_mc[col] = '2' # Verifique o valor para \"não agravado\" no seu dataset\n",
    "    elif col == 'CS_SEXO':\n",
    "        df_saudaveis_mc[col] = np.random.choice(['M', 'F'], size=num_saudaveis, p=[0.5, 0.5]).astype(str)\n",
    "    elif col == 'HIV':\n",
    "        df_saudaveis_mc[col] = np.random.choice(['Negativo', 'Não Informado'], size=num_saudaveis, p=[0.9, 0.1]).astype(str)\n",
    "    elif col == 'RAIOX_TORA':\n",
    "        df_saudaveis_mc[col] = np.random.choice(['Normal', 'Não Realizado'], size=num_saudaveis, p=[0.8, 0.2]).astype(str)\n",
    "    elif col == 'CS_RACA':\n",
    "        df_saudaveis_mc[col] = np.random.choice(['1.0', '2.0', '3.0', '4.0', '5.0'],\n",
    "                                                size=num_saudaveis,\n",
    "                                                p=[0.4, 0.3, 0.15, 0.1, 0.05]).astype(str)\n",
    "    elif col == 'NU_IDADE_N': # Lógica para idade\n",
    "        min_age, max_age = 0, 100\n",
    "        # Normalizar os valores gerados para cair no range desejado\n",
    "        # Se make_classification gerou essa coluna, use os valores gerados e mapeie.\n",
    "        # Se não gerou (porque não estava em n_informative), apenas random_randint\n",
    "        if col in df_saudaveis_raw.columns and \\\n",
    "           (df_saudaveis_raw[col].max() - df_saudaveis_raw[col].min()) > 0:\n",
    "            df_saudaveis_mc[col] = ((df_saudaveis_raw[col] - df_saudaveis_raw[col].min()) /\n",
    "                                    (df_saudaveis_raw[col].max() - df_saudaveis_raw[col].min())) * (max_age - min_age) + min_age\n",
    "        else: # Se a coluna não foi gerada ou todos os valores são iguais, use random int\n",
    "            df_saudaveis_mc[col] = np.random.randint(min_age, max_age + 1, size=num_saudaveis)\n",
    "        df_saudaveis_mc[col] = df_saudaveis_mc[col].astype(int)\n",
    "\n",
    "    elif col == 'NU_ANO': # Lógica para ano\n",
    "        min_year, max_year = 2020, 2024\n",
    "        if col in df_saudaveis_raw.columns and \\\n",
    "           (df_saudaveis_raw[col].max() - df_saudaveis_raw[col].min()) > 0:\n",
    "            df_saudaveis_mc[col] = ((df_saudaveis_raw[col] - df_saudaveis_raw[col].min()) /\n",
    "                                    (df_saudaveis_raw[col].max() - df_saudaveis_raw[col].min())) * (max_year - min_year) + min_year\n",
    "        else: # Se a coluna não foi gerada ou todos os valores são iguais, use random int\n",
    "            df_saudaveis_mc[col] = np.random.randint(min_year, max_year + 1, size=num_saudaveis)\n",
    "        df_saudaveis_mc[col] = df_saudaveis_mc[col].astype(int)"
   ]
  },
  {
   "cell_type": "code",
   "execution_count": 12,
   "id": "453ada88-04be-40d0-a9c1-6d8ca78d6659",
   "metadata": {},
   "outputs": [
    {
     "name": "stdout",
     "output_type": "stream",
     "text": [
      "\n",
      "DataFrame de Pessoas Saudáveis (make_classification + ajustes) - Primeiras linhas:\n",
      "  CS_SEXO CS_RACA  NU_IDADE_N       HIV AGRAVAIDS AGRAVALCOO RAIOX_TORA  \\\n",
      "0       M     1.0          66  Negativo         2          2     Normal   \n",
      "1       F     1.0          36  Negativo         2          2     Normal   \n",
      "2       M     1.0          46  Negativo         2          2     Normal   \n",
      "3       F     1.0          49  Negativo         2          2     Normal   \n",
      "4       M     5.0          60  Negativo         2          2     Normal   \n",
      "\n",
      "  BACILOSC_E CULTURA_ES  NU_ANO FORMA  \n",
      "0   Negativo   Negativo    2022   4.0  \n",
      "1   Negativo   Negativo    2021   4.0  \n",
      "2   Negativo   Negativo    2022   4.0  \n",
      "3   Negativo   Negativo    2022   4.0  \n",
      "4   Negativo   Negativo    2022   4.0  \n",
      "\n",
      "Tipos de dados no df_saudaveis_mc:\n",
      "CS_SEXO       object\n",
      "CS_RACA       object\n",
      "NU_IDADE_N     int64\n",
      "HIV           object\n",
      "AGRAVAIDS     object\n",
      "AGRAVALCOO    object\n",
      "RAIOX_TORA    object\n",
      "BACILOSC_E    object\n",
      "CULTURA_ES    object\n",
      "NU_ANO         int64\n",
      "FORMA         object\n",
      "dtype: object\n",
      "\n",
      "Volume final de dados de pessoas saudáveis: 429028 registros.\n"
     ]
    }
   ],
   "source": [
    "# Adicionar a coluna 'FORMA' com o label para \"Saudável\"\n",
    "df_saudaveis_mc['FORMA'] = '4.0' # Use o mesmo tipo (string) que você usou para a coluna 'FORMA' no df_modelo_cleaned\n",
    "\n",
    "print(\"\\nDataFrame de Pessoas Saudáveis (make_classification + ajustes) - Primeiras linhas:\")\n",
    "print(df_saudaveis_mc.head())\n",
    "print(\"\\nTipos de dados no df_saudaveis_mc:\")\n",
    "print(df_saudaveis_mc.dtypes)\n",
    "print(f\"\\nVolume final de dados de pessoas saudáveis: {len(df_saudaveis_mc)} registros.\")\n"
   ]
  },
  {
   "cell_type": "code",
   "execution_count": 13,
   "id": "9b672e01-ae09-4ae2-a830-1344f24a0dfd",
   "metadata": {},
   "outputs": [
    {
     "name": "stdout",
     "output_type": "stream",
     "text": [
      "\n",
      "Todas as colunas essenciais estão presentes no df_saudaveis_mc.\n"
     ]
    }
   ],
   "source": [
    "# Verificar se todas as colunas essenciais estão no df_saudaveis_mc\n",
    "missing_in_synth = [col for col in essential_columns_list if col not in df_saudaveis_mc.columns]\n",
    "if missing_in_synth:\n",
    "    print(f\"\\nATENÇÃO: As seguintes colunas essenciais ainda estão ausentes no df_saudaveis_mc: {missing_in_synth}\")\n",
    "else:\n",
    "    print(\"\\nTodas as colunas essenciais estão presentes no df_saudaveis_mc.\")\n"
   ]
  },
  {
   "cell_type": "code",
   "execution_count": 14,
   "id": "97eab1e8-a558-422b-af4f-76f0a80071e4",
   "metadata": {},
   "outputs": [],
   "source": [
    "# --- Alinhar as colunas antes da concatenação ---\n",
    "cols_for_final_df = essential_columns_list\n",
    "df_saudaveis_mc_adjusted = df_saudaveis_mc.reindex(columns=cols_for_final_df)"
   ]
  },
  {
   "cell_type": "code",
   "execution_count": 15,
   "id": "0b13a861-4a21-40eb-92bf-5b3a5a83d2c0",
   "metadata": {},
   "outputs": [
    {
     "name": "stdout",
     "output_type": "stream",
     "text": [
      "\n",
      "--- DataFrame Final para Treinamento (df_treino_final) info ---\n",
      "<class 'pandas.core.frame.DataFrame'>\n",
      "RangeIndex: 931299 entries, 0 to 931298\n",
      "Data columns (total 11 columns):\n",
      " #   Column      Non-Null Count   Dtype  \n",
      "---  ------      --------------   -----  \n",
      " 0   FORMA       931299 non-null  object \n",
      " 1   CS_SEXO     931299 non-null  object \n",
      " 2   CS_RACA     921714 non-null  object \n",
      " 3   NU_IDADE_N  931096 non-null  float64\n",
      " 4   HIV         929546 non-null  object \n",
      " 5   AGRAVAIDS   922211 non-null  object \n",
      " 6   AGRAVALCOO  922687 non-null  object \n",
      " 7   RAIOX_TORA  921472 non-null  object \n",
      " 8   BACILOSC_E  931133 non-null  object \n",
      " 9   CULTURA_ES  931133 non-null  object \n",
      " 10  NU_ANO      931299 non-null  int64  \n",
      "dtypes: float64(1), int64(1), object(9)\n",
      "memory usage: 78.2+ MB\n",
      "None\n",
      "\n",
      "Contagem de 'FORMA' no DataFrame final:\n",
      "FORMA\n",
      "1.0    429028\n",
      "4.0    429028\n",
      "2.0     56767\n",
      "3.0     16288\n",
      "nan       188\n",
      "Name: count, dtype: int64\n"
     ]
    }
   ],
   "source": [
    "df_treino_final = pd.concat([df_modelo_cleaned, df_saudaveis_mc_adjusted], ignore_index=True)\n",
    "\n",
    "print(\"\\n--- DataFrame Final para Treinamento (df_treino_final) info ---\")\n",
    "print(df_treino_final.info())\n",
    "print(\"\\nContagem de 'FORMA' no DataFrame final:\")\n",
    "print(df_treino_final['FORMA'].value_counts())\n"
   ]
  },
  {
   "cell_type": "code",
   "execution_count": 16,
   "id": "ffdb1302-e49f-4b10-840c-809e097a2658",
   "metadata": {},
   "outputs": [
    {
     "name": "stdout",
     "output_type": "stream",
     "text": [
      "\n",
      "Verificação de nulos nas colunas presentes no DataFrame final:\n",
      "CS_RACA       9585\n",
      "NU_IDADE_N     203\n",
      "HIV           1753\n",
      "AGRAVAIDS     9088\n",
      "AGRAVALCOO    8612\n",
      "RAIOX_TORA    9827\n",
      "BACILOSC_E     166\n",
      "CULTURA_ES     166\n",
      "dtype: int64\n"
     ]
    }
   ],
   "source": [
    "# Verificar nulos novamente, nas colunas presentes no DataFrame final.\n",
    "print(\"\\nVerificação de nulos nas colunas presentes no DataFrame final:\")\n",
    "nans_per_column = df_treino_final.isnull().sum()\n",
    "nans_per_column = nans_per_column[nans_per_column > 0] # Mostra apenas colunas com NaNs\n",
    "\n",
    "if not nans_per_column.empty:\n",
    "    print(nans_per_column)\n",
    "else:\n",
    "    print(\"Nenhuma coluna presente no DataFrame final possui valores nulos.\")\n"
   ]
  },
  {
   "cell_type": "code",
   "execution_count": 17,
   "id": "97926003-ade7-4d46-bfd0-e84ff183b442",
   "metadata": {},
   "outputs": [
    {
     "name": "stdout",
     "output_type": "stream",
     "text": [
      "\n",
      "DataFrame final com pessoas saudáveis salvo em 'df_treino_final_para_modelo.csv'\n"
     ]
    }
   ],
   "source": [
    "df_treino_final.to_csv('df_treino_final_para_modelo.csv', index=False)\n",
    "print(\"\\nDataFrame final com pessoas saudáveis salvo em 'df_treino_final_para_modelo.csv'\")"
   ]
  },
  {
   "cell_type": "code",
   "execution_count": null,
   "id": "3f1130d8-bc66-4b0f-b715-cf10872b2fd0",
   "metadata": {},
   "outputs": [],
   "source": []
  },
  {
   "cell_type": "code",
   "execution_count": null,
   "id": "c9558ceb-a16e-4e16-a5a0-cab2d13ff13e",
   "metadata": {},
   "outputs": [],
   "source": []
  },
  {
   "cell_type": "code",
   "execution_count": null,
   "id": "006975f2-9db6-41ca-b0e3-5e5d478732dc",
   "metadata": {},
   "outputs": [],
   "source": []
  },
  {
   "cell_type": "code",
   "execution_count": null,
   "id": "a6d077c6-417b-470e-8d55-9a4f3d5c7594",
   "metadata": {},
   "outputs": [],
   "source": []
  },
  {
   "cell_type": "code",
   "execution_count": null,
   "id": "f68970ae-f549-4078-897c-1417445f24fa",
   "metadata": {},
   "outputs": [],
   "source": []
  },
  {
   "cell_type": "markdown",
   "id": "9e09db08-d598-4648-925f-f683a9eef101",
   "metadata": {
    "jp-MarkdownHeadingCollapsed": true
   },
   "source": [
    "# ignora"
   ]
  },
  {
   "cell_type": "code",
   "execution_count": 4,
   "id": "27b7cd06-c362-48b3-a891-668762683821",
   "metadata": {
    "scrolled": true
   },
   "outputs": [
    {
     "name": "stdout",
     "output_type": "stream",
     "text": [
      "\n",
      "Shape do DataFrame original após remoção de colunas com >30% NaN: (502271, 60)\n",
      "Colunas removidas: ['DT_TRANSUS', 'DOENCA_TRA', 'BACILOSC_O', 'EXTRAPU1_N', 'CULTURA_OU', 'EXTRAPU2_N', 'DT_TRANSRS', 'EXTRAPUL_O', 'ANT_RETRO', 'AGRAVOUTDE', 'NDUPLIC_N', 'INSTITUCIO', 'BAC_APOS_6', 'TESTE_TUBE', 'TRAT_SUPER', 'IN_VINCULA', 'BACILOS_E2', 'MUN_TRANSF', 'TRANSF', 'NU_IDADE_ANOS', 'SITUA_9_M', 'DT_TRANSDM', 'UF_TRANSF']\n",
      "\n",
      "Primeiras linhas do df_modelo_cleaned:\n",
      "   TP_NOT ID_AGRAVO                     DT_NOTIFIC  NU_ANO  SG_UF_NOT  \\\n",
      "0       2      A169  1970-01-01 00:00:00.020200930    2020         15   \n",
      "1       2      A169  1970-01-01 00:00:00.020200710    2020         15   \n",
      "2       2      A169  1970-01-01 00:00:00.020201203    2020         22   \n",
      "3       2      A169  1970-01-01 00:00:00.020200210    2020         24   \n",
      "4       2      A169  1970-01-01 00:00:00.020210114    2021         43   \n",
      "\n",
      "   ID_MUNICIP  ID_REGIONA                        DT_DIAG  ANO_NASC  \\\n",
      "0      150650       148.0  1970-01-01 00:00:00.020200930    2009.0   \n",
      "1      150530       149.0  1970-01-01 00:00:00.020200707    1973.0   \n",
      "2      220770       186.0  1970-01-01 00:00:00.020201119    1955.0   \n",
      "3      240920       141.0  1970-01-01 00:00:00.020200208    1960.0   \n",
      "4      430210       160.0  1970-01-01 00:00:00.020201226    1984.0   \n",
      "\n",
      "   NU_IDADE_N  ... TPUNINOT POP_LIBER POP_RUA POP_SAUDE  POP_IMIG  BENEF_GOV  \\\n",
      "0      4011.0  ...      5.0       2.0     2.0       2.0       2.0        9.0   \n",
      "1      4046.0  ...     72.0       2.0     2.0       2.0       2.0        2.0   \n",
      "2      4065.0  ...      5.0       2.0     2.0       2.0       2.0        1.0   \n",
      "3      4059.0  ...      2.0       2.0     2.0       2.0       2.0        2.0   \n",
      "4      4035.0  ...     36.0       2.0     2.0       2.0       2.0        9.0   \n",
      "\n",
      "   AGRAVDROGA  AGRAVTABAC TEST_MOLEC  TEST_SENSI  \n",
      "0         2.0         2.0        5.0         NaN  \n",
      "1         2.0         2.0        5.0         NaN  \n",
      "2         2.0         2.0        5.0         NaN  \n",
      "3         2.0         1.0        3.0         NaN  \n",
      "4         2.0         1.0        5.0         NaN  \n",
      "\n",
      "[5 rows x 60 columns]\n",
      "\n",
      "Tipos de dados no df_modelo_cleaned:\n",
      "TP_NOT          int64\n",
      "ID_AGRAVO      object\n",
      "DT_NOTIFIC     object\n",
      "NU_ANO          int64\n",
      "SG_UF_NOT       int64\n",
      "ID_MUNICIP      int64\n",
      "ID_REGIONA    float64\n",
      "DT_DIAG        object\n",
      "ANO_NASC      float64\n",
      "NU_IDADE_N    float64\n",
      "CS_SEXO        object\n",
      "CS_GESTANT     object\n",
      "CS_RACA        object\n",
      "CS_ESCOL_N     object\n",
      "SG_UF           int64\n",
      "ID_MN_RESI      int64\n",
      "ID_RG_RESI    float64\n",
      "ID_PAIS       float64\n",
      "DT_DIGITA      object\n",
      "DT_TRANSSM    float64\n",
      "DT_TRANSSE    float64\n",
      "TRATAMENTO     object\n",
      "RAIOX_TORA    float64\n",
      "FORMA         float64\n",
      "AGRAVAIDS     float64\n",
      "AGRAVALCOO    float64\n",
      "AGRAVDIABE    float64\n",
      "AGRAVDOENC    float64\n",
      "AGRAVOUTRA     object\n",
      "BACILOSC_E    float64\n",
      "CULTURA_ES    float64\n",
      "HIV            object\n",
      "HISTOPATOL    float64\n",
      "DT_INIC_TR     object\n",
      "NU_CONTATO    float64\n",
      "SG_UF_AT       object\n",
      "ID_MUNIC_A    float64\n",
      "DT_NOTI_AT     object\n",
      "SG_UF_2       float64\n",
      "ID_MUNIC_2    float64\n",
      "BACILOSC_1     object\n",
      "BACILOSC_2    float64\n",
      "BACILOSC_3    float64\n",
      "BACILOSC_4    float64\n",
      "BACILOSC_5    float64\n",
      "BACILOSC_6    float64\n",
      "TRATSUP_AT    float64\n",
      "NU_COMU_EX    float64\n",
      "SITUA_ENCE    float64\n",
      "DT_ENCERRA     object\n",
      "TPUNINOT      float64\n",
      "POP_LIBER     float64\n",
      "POP_RUA       float64\n",
      "POP_SAUDE     float64\n",
      "POP_IMIG      float64\n",
      "BENEF_GOV      object\n",
      "AGRAVDROGA    float64\n",
      "AGRAVTABAC    float64\n",
      "TEST_MOLEC    float64\n",
      "TEST_SENSI     object\n",
      "dtype: object\n"
     ]
    }
   ],
   "source": [
    "# Definir o threshold para remoção de colunas com muitos valores nulos (30%)\n",
    "threshold = 0.30 * len(df_modelo)\n",
    "\n",
    "# Aplicar a limpeza de colunas com mais de 30% de NaN no DataFrame original\n",
    "df_modelo_cleaned = df_modelo.dropna(axis=1, thresh=threshold)\n",
    "\n",
    "print(f\"\\nShape do DataFrame original após remoção de colunas com >30% NaN: {df_modelo_cleaned.shape}\")\n",
    "print(f\"Colunas removidas: {list(set(df_modelo.columns) - set(df_modelo_cleaned.columns))}\")\n",
    "\n",
    "# Exibir os tipos de dados e as primeiras linhas do DataFrame limpo\n",
    "print(\"\\nPrimeiras linhas do df_modelo_cleaned:\")\n",
    "print(df_modelo_cleaned.head())\n",
    "print(\"\\nTipos de dados no df_modelo_cleaned:\")\n",
    "print(df_modelo_cleaned.dtypes)"
   ]
  },
  {
   "cell_type": "markdown",
   "id": "01dd127e-e933-47da-93a0-85938da58b05",
   "metadata": {},
   "source": [
    "Determinar o Volume de Dados \"Saudáveis\" e Preparar Listas de Colunas"
   ]
  },
  {
   "cell_type": "code",
   "execution_count": 6,
   "id": "8afc3c57-5219-47f8-9ca2-ea6e5f6237b5",
   "metadata": {
    "scrolled": true
   },
   "outputs": [
    {
     "name": "stdout",
     "output_type": "stream",
     "text": [
      "\n",
      "Volume de dados de pessoas saudáveis a ser gerado: 429028 registros.\n"
     ]
    },
    {
     "name": "stderr",
     "output_type": "stream",
     "text": [
      "/tmp/ipykernel_635/2847037123.py:4: SettingWithCopyWarning: \n",
      "A value is trying to be set on a copy of a slice from a DataFrame.\n",
      "Try using .loc[row_indexer,col_indexer] = value instead\n",
      "\n",
      "See the caveats in the documentation: https://pandas.pydata.org/pandas-docs/stable/user_guide/indexing.html#returning-a-view-versus-a-copy\n",
      "  df_modelo_cleaned['FORMA'] = df_modelo_cleaned['FORMA'].astype(str)\n"
     ]
    }
   ],
   "source": [
    "# Determinar o número de registros saudáveis a serem gerados\n",
    "# Usando a contagem da maior classe existente no df_modelo_cleaned (assumindo 'FORMA' é a coluna)\n",
    "# OBS: Garanta que 'FORMA' seja tratada como string para a contagem\n",
    "df_modelo_cleaned['FORMA'] = df_modelo_cleaned['FORMA'].astype(str)\n",
    "num_saudaveis = df_modelo_cleaned['FORMA'].value_counts().max()\n",
    "print(f\"\\nVolume de dados de pessoas saudáveis a ser gerado: {num_saudaveis} registros.\")"
   ]
  },
  {
   "cell_type": "code",
   "execution_count": 7,
   "id": "c1c7f940-2aba-4a3d-bbc2-2287e2b0da68",
   "metadata": {},
   "outputs": [
    {
     "name": "stdout",
     "output_type": "stream",
     "text": [
      "\n",
      "Número de features para make_classification: 7\n",
      "Features a serem geradas pelo make_classification: ['CS_SEXO', 'CS_RACA', 'HIV', 'RAIOX_TORA', 'BACILOSC_E', 'CULTURA_ES', 'NU_ANO']\n"
     ]
    }
   ],
   "source": [
    "\n",
    "# Definir as colunas que make_classification irá gerar.\n",
    "# Estas devem ser as colunas que você quer que tenham dados sintéticos, e que restaram no df_modelo_cleaned.\n",
    "# Remova 'FORMA' da lista, pois ela será nossa coluna target (label '4.0').\n",
    "# Remova 'total_comorbidades' e 'hiv_positivo_com_aids' se você vai defini-las com valores fixos.\n",
    "cols_to_generate_synth = [\n",
    "    'CS_SEXO', 'CS_RACA', 'HIV', 'RAIOX_TORA', 'BACILOSC_E', 'CULTURA_ES',\n",
    "    'NU_ANO', 'NU_IDADE_ANOS_CORRETA', 'faixa_etaria'\n",
    "]\n",
    "\n",
    "# Apenas para garantir que estamos usando apenas colunas que sobreviveram à limpeza\n",
    "cols_to_generate_synth = [col for col in cols_to_generate_synth if col in df_modelo_cleaned.columns]\n",
    "\n",
    "n_features = len(cols_to_generate_synth)\n",
    "print(f\"\\nNúmero de features para make_classification: {n_features}\")\n",
    "print(f\"Features a serem geradas pelo make_classification: {cols_to_generate_synth}\")"
   ]
  },
  {
   "cell_type": "markdown",
   "id": "9b1856f9-2d48-4400-a888-11eaa2b6ae54",
   "metadata": {},
   "source": [
    "Gerar Dados Sintéticos Brutos"
   ]
  },
  {
   "cell_type": "code",
   "execution_count": 8,
   "id": "4884a656-41a1-411f-8ac8-8b60dde65cb5",
   "metadata": {},
   "outputs": [
    {
     "name": "stdout",
     "output_type": "stream",
     "text": [
      "\n",
      "DataFrame Sintético Bruto (make_classification) - Primeiras linhas:\n",
      "    CS_SEXO   CS_RACA       HIV  RAIOX_TORA  BACILOSC_E  CULTURA_ES    NU_ANO\n",
      "0  1.425149 -0.760239  2.285482   -0.779623   -0.342318   -0.340903  1.939994\n",
      "1 -1.539600 -0.851875 -2.221309    1.341345   -1.302185    0.685744  3.457359\n",
      "2  0.163617 -0.699274 -4.668132    1.837927   -0.038641    0.713883  1.657483\n",
      "3  0.683234  0.138720  0.993088    0.081546   -1.068113   -0.435609  2.146210\n",
      "4 -1.019916  0.519429  1.630425    0.009991   -0.384413    0.276052  3.411711\n",
      "\n",
      "Tipos de dados no df_saudaveis_raw:\n",
      "CS_SEXO       float64\n",
      "CS_RACA       float64\n",
      "HIV           float64\n",
      "RAIOX_TORA    float64\n",
      "BACILOSC_E    float64\n",
      "CULTURA_ES    float64\n",
      "NU_ANO        float64\n",
      "dtype: object\n"
     ]
    }
   ],
   "source": [
    "# Gerar dados sintéticos brutos\n",
    "X_synthetic, y_synthetic = make_classification(\n",
    "    n_samples=num_saudaveis,\n",
    "    n_features=n_features,\n",
    "    n_informative=min(n_features, 5), # Ajuste conforme a complexidade desejada\n",
    "    n_redundant=0,\n",
    "    n_repeated=0,\n",
    "    n_classes=2, # make_classification gera 2 classes, usaremos apenas os dados gerados\n",
    "    random_state=42\n",
    ")\n",
    "\n",
    "# Criar um DataFrame a partir dos dados gerados, usando os nomes de colunas definidos\n",
    "df_saudaveis_raw = pd.DataFrame(X_synthetic, columns=cols_to_generate_synth)\n",
    "\n",
    "print(\"\\nDataFrame Sintético Bruto (make_classification) - Primeiras linhas:\")\n",
    "print(df_saudaveis_raw.head())\n",
    "print(\"\\nTipos de dados no df_saudaveis_raw:\")\n",
    "print(df_saudaveis_raw.dtypes)"
   ]
  },
  {
   "cell_type": "markdown",
   "id": "44d09bde-4e19-400e-8696-c13eface6e3e",
   "metadata": {},
   "source": [
    "## Mapear e Aplicar a Lógica de \"Saudável\" nos Dados Sintéticos"
   ]
  },
  {
   "cell_type": "code",
   "execution_count": 9,
   "id": "84d31c8c-df47-44bc-b2c5-e4ef5445801d",
   "metadata": {},
   "outputs": [],
   "source": [
    "# Crie uma cópia para trabalhar e evitar SettingWithCopyWarning\n",
    "df_saudaveis_mc = df_saudaveis_raw.copy()\n",
    "\n",
    "# --- Aplicar a lógica de \"inverter padrões\" e mapeamento para valores reais ---\n",
    "\n",
    "# 1. Colunas com valores fixos para \"Saudável\"\n",
    "# ATENÇÃO: Verifique se estas colunas EXISTEM no df_modelo_cleaned antes de aplicar!\n",
    "if 'BACILOSC_E' in df_saudaveis_mc.columns:\n",
    "    df_saudaveis_mc['BACILOSC_E'] = 'Negativo'\n",
    "if 'CULTURA_ES' in df_saudaveis_mc.columns:\n",
    "    df_saudaveis_mc['CULTURA_ES'] = 'Negativo'\n",
    "\n",
    "# 2. Colunas com valores de escolha (categóricas com poucas opções)\n",
    "# Use np.random.choice com probabilidades para as categorias\n",
    "if 'CS_SEXO' in df_saudaveis_mc.columns:\n",
    "    df_saudaveis_mc['CS_SEXO'] = np.random.choice(['M', 'F'], size=num_saudaveis, p=[0.5, 0.5]).astype(str)\n",
    "if 'HIV' in df_saudaveis_mc.columns:\n",
    "    df_saudaveis_mc['HIV'] = np.random.choice(['Negativo', 'Não Informado'], size=num_saudaveis, p=[0.9, 0.1]).astype(str)\n",
    "if 'RAIOX_TORA' in df_saudaveis_mc.columns:\n",
    "    df_saudaveis_mc['RAIOX_TORA'] = np.random.choice(['Normal', 'Não Realizado'], size=num_saudaveis, p=[0.8, 0.2]).astype(str)\n",
    "\n",
    "# Para CS_RACA (se existir), que tem 5 valores, use np.random.choice com probabilidades ajustadas\n",
    "if 'CS_RACA' in df_saudaveis_mc.columns:\n",
    "    df_saudaveis_mc['CS_RACA'] = np.random.choice(['1.0', '2.0', '3.0', '4.0', '5.0'],\n",
    "                                                   size=num_saudaveis,\n",
    "                                                   p=[0.4, 0.3, 0.15, 0.1, 0.05]).astype(str) # Ajuste as probabilidades\n"
   ]
  },
  {
   "cell_type": "code",
   "execution_count": 10,
   "id": "9247ad84-e3d1-4935-baa8-732fa8eb9871",
   "metadata": {},
   "outputs": [],
   "source": [
    "# 3. Colunas numéricas contínuas (idade, ano)\n",
    "# Normalize os valores gerados para cair em um range desejado\n",
    "if 'NU_IDADE_ANOS_CORRETA' in df_saudaveis_mc.columns:\n",
    "    min_age, max_age = 0, 100\n",
    "    # Evitar divisão por zero se todos os valores forem iguais (improvável com make_classification)\n",
    "    if df_saudaveis_mc['NU_IDADE_ANOS_CORRETA'].max() - df_saudaveis_mc['NU_IDADE_ANOS_CORRETA'].min() > 0:\n",
    "        df_saudaveis_mc['NU_IDADE_ANOS_CORRETA'] = ((df_saudaveis_mc['NU_IDADE_ANOS_CORRETA'] - df_saudaveis_mc['NU_IDADE_ANOS_CORRETA'].min()) /\n",
    "                                                (df_saudaveis_mc['NU_IDADE_ANOS_CORRETA'].max() - df_saudaveis_mc['NU_IDADE_ANOS_CORRETA'].min())) * (max_age - min_age) + min_age\n",
    "    else: # Se todos os valores forem iguais, atribua um valor médio\n",
    "        df_saudaveis_mc['NU_IDADE_ANOS_CORRETA'] = (min_age + max_age) / 2\n",
    "    df_saudaveis_mc['NU_IDADE_ANOS_CORRETA'] = df_saudaveis_mc['NU_IDADE_ANOS_CORRETA'].astype(int)\n",
    "\n",
    "if 'NU_ANO' in df_saudaveis_mc.columns:\n",
    "    min_year, max_year = 2010, 2024\n",
    "    if df_saudaveis_mc['NU_ANO'].max() - df_saudaveis_mc['NU_ANO'].min() > 0:\n",
    "        df_saudaveis_mc['NU_ANO'] = ((df_saudaveis_mc['NU_ANO'] - df_saudaveis_mc['NU_ANO'].min()) /\n",
    "                                  (df_saudaveis_mc['NU_ANO'].max() - df_saudaveis_mc['NU_ANO'].min())) * (max_year - min_year) + min_year\n",
    "    else: # Se todos os valores forem iguais, atribua um valor médio\n",
    "        df_saudaveis_mc['NU_ANO'] = (min_year + max_year) / 2\n",
    "    df_saudaveis_mc['NU_ANO'] = df_saudaveis_mc['NU_ANO'].astype(int)\n"
   ]
  },
  {
   "cell_type": "code",
   "execution_count": 11,
   "id": "0852f399-e540-49c5-8eed-cdb57afdb23f",
   "metadata": {},
   "outputs": [],
   "source": [
    "# 4. Colunas derivadas ou com valor fixo para \"saudável\"\n",
    "# ATENÇÃO: Verifique se estas colunas EXISTEM no df_modelo_cleaned antes de aplicar!\n",
    "if 'total_comorbidades' in df_modelo_cleaned.columns and 'total_comorbidades' not in df_saudaveis_mc.columns:\n",
    "    df_saudaveis_mc['total_comorbidades'] = 0\n",
    "if 'hiv_positivo_com_aids' in df_modelo_cleaned.columns and 'hiv_positivo_com_aids' not in df_saudaveis_mc.columns:\n",
    "    df_saudaveis_mc['hiv_positivo_com_aids'] = 'False' # Como você converteu para string antes\n",
    "\n",
    "# 5. Faixa Etária (derivada da idade, como você provavelmente fez no df_modelo)\n",
    "# ATENÇÃO: Verifique se 'faixa_etaria' existe ou é criada com base na 'NU_IDADE_ANOS_CORRETA'\n",
    "if 'faixa_etaria' in df_saudaveis_mc.columns:\n",
    "    def categorize_age(age):\n",
    "        if age < 18:\n",
    "            return 'Jovem'\n",
    "        elif age <= 35:\n",
    "            return 'Adulto Jovem'\n",
    "        elif age <= 50:\n",
    "            return 'Adulto'\n",
    "        elif age <= 65:\n",
    "            return 'Idoso'\n",
    "        else:\n",
    "            return 'Muito Idoso'\n",
    "    df_saudaveis_mc['faixa_etaria'] = df_saudaveis_mc['NU_IDADE_ANOS_CORRETA'].apply(categorize_age).astype(str)\n"
   ]
  },
  {
   "cell_type": "code",
   "execution_count": 12,
   "id": "396e0181-5151-49e3-a92b-4bbd2000dc1c",
   "metadata": {},
   "outputs": [
    {
     "name": "stdout",
     "output_type": "stream",
     "text": [
      "\n",
      "DataFrame de Pessoas Saudáveis (make_classification + ajustes) - Primeiras linhas:\n",
      "  CS_SEXO CS_RACA            HIV     RAIOX_TORA BACILOSC_E CULTURA_ES  NU_ANO  \\\n",
      "0       M     1.0       Negativo         Normal   Negativo   Negativo    2018   \n",
      "1       M     2.0       Negativo  Não Realizado   Negativo   Negativo    2020   \n",
      "2       F     1.0  Não Informado         Normal   Negativo   Negativo    2018   \n",
      "3       F     1.0       Negativo         Normal   Negativo   Negativo    2018   \n",
      "4       M     2.0       Negativo  Não Realizado   Negativo   Negativo    2019   \n",
      "\n",
      "  FORMA  \n",
      "0   4.0  \n",
      "1   4.0  \n",
      "2   4.0  \n",
      "3   4.0  \n",
      "4   4.0  \n",
      "\n",
      "Tipos de dados no df_saudaveis_mc:\n",
      "CS_SEXO       object\n",
      "CS_RACA       object\n",
      "HIV           object\n",
      "RAIOX_TORA    object\n",
      "BACILOSC_E    object\n",
      "CULTURA_ES    object\n",
      "NU_ANO         int64\n",
      "FORMA         object\n",
      "dtype: object\n",
      "\n",
      "Volume final de dados de pessoas saudáveis: 429028 registros.\n"
     ]
    }
   ],
   "source": [
    "# 6. Adicionar a coluna 'FORMA' com o label para \"Saudável\"\n",
    "df_saudaveis_mc['FORMA'] = '4.0' # Use o mesmo tipo (string) que você usou para a coluna 'FORMA' no df_modelo_cleaned\n",
    "\n",
    "print(\"\\nDataFrame de Pessoas Saudáveis (make_classification + ajustes) - Primeiras linhas:\")\n",
    "print(df_saudaveis_mc.head())\n",
    "print(\"\\nTipos de dados no df_saudaveis_mc:\")\n",
    "print(df_saudaveis_mc.dtypes)\n",
    "print(f\"\\nVolume final de dados de pessoas saudáveis: {len(df_saudaveis_mc)} registros.\")"
   ]
  },
  {
   "cell_type": "markdown",
   "id": "3c0b5506-ef66-449a-94e8-a655778748b2",
   "metadata": {},
   "source": [
    "Alinhar e Concatenar os DataFrames Finalizados"
   ]
  },
  {
   "cell_type": "code",
   "execution_count": 16,
   "id": "a0fb3371-b43a-4514-8198-69ab058c870e",
   "metadata": {},
   "outputs": [],
   "source": [
    "# --- Alinhar as colunas antes da concatenação ---\n",
    "# O df_modelo_cleaned já está com as colunas que sobreviveram à limpeza.\n",
    "\n",
    "# Queremos que df_saudaveis_mc_adjusted contenha APENAS as colunas que estão\n",
    "# no df_modelo_cleaned, além da nossa coluna 'FORMA'.\n",
    "# Primeiro, vamos garantir que 'FORMA' está no df_saudaveis_mc (já deve estar da Célula 5)\n",
    "# e que é do tipo string.\n",
    "df_saudaveis_mc['FORMA'] = df_saudaveis_mc['FORMA'].astype(str)\n",
    "\n",
    "# Criar a lista de colunas que o DataFrame FINAL deve ter (as do df_modelo_cleaned)\n",
    "cols_for_final_df = df_modelo_cleaned.columns.tolist()\n",
    "\n",
    "# Filtrar o df_saudaveis_mc para conter SOMENTE as colunas que também estão em df_modelo_cleaned.\n",
    "# Isso vai descartar quaisquer colunas geradas no sintético que não existam no original limpo,\n",
    "# e, mais importante, não irá introduzir novas colunas cheias de NaN.\n",
    "df_saudaveis_mc_adjusted = df_saudaveis_mc[df_saudaveis_mc.columns.intersection(cols_for_final_df)]\n",
    "\n",
    "# Em seguida, reordenar as colunas para que fiquem na mesma ordem do df_modelo_cleaned\n",
    "# Colunas que estão em df_modelo_cleaned mas NÃO foram geradas no df_saudaveis_mc (e, portanto, não estão em df_saudaveis_mc_adjusted)\n",
    "# serão preenchidas com NaN QUANDO O REINDEX É APLICADO COM UM NOVO CONJUNTO DE COLUNAS.\n",
    "# No entanto, a quantidade de NaNs para essas colunas será bem menor do que antes,\n",
    "# pois elas não virão do sintético, e sim do original, onde já tinham um percentual baixo o suficiente para não serem descartadas.\n",
    "df_saudaveis_mc_adjusted = df_saudaveis_mc_adjusted.reindex(columns=cols_for_final_df)\n"
   ]
  },
  {
   "cell_type": "code",
   "execution_count": 17,
   "id": "3cff0298-74f1-4b56-828a-2f0aad56eacc",
   "metadata": {},
   "outputs": [
    {
     "name": "stdout",
     "output_type": "stream",
     "text": [
      "\n",
      "--- DataFrame Final para Treinamento (df_treino_final) info ---\n",
      "<class 'pandas.core.frame.DataFrame'>\n",
      "RangeIndex: 931299 entries, 0 to 931298\n",
      "Data columns (total 60 columns):\n",
      " #   Column      Non-Null Count   Dtype  \n",
      "---  ------      --------------   -----  \n",
      " 0   TP_NOT      502271 non-null  float64\n",
      " 1   ID_AGRAVO   502271 non-null  object \n",
      " 2   DT_NOTIFIC  502271 non-null  object \n",
      " 3   NU_ANO      931299 non-null  int64  \n",
      " 4   SG_UF_NOT   502271 non-null  float64\n",
      " 5   ID_MUNICIP  502271 non-null  float64\n",
      " 6   ID_REGIONA  297899 non-null  float64\n",
      " 7   DT_DIAG     502271 non-null  object \n",
      " 8   ANO_NASC    500066 non-null  float64\n",
      " 9   NU_IDADE_N  502068 non-null  float64\n",
      " 10  CS_SEXO     931299 non-null  object \n",
      " 11  CS_GESTANT  502222 non-null  object \n",
      " 12  CS_RACA     921714 non-null  object \n",
      " 13  CS_ESCOL_N  427367 non-null  object \n",
      " 14  SG_UF       502271 non-null  float64\n",
      " 15  ID_MN_RESI  502271 non-null  float64\n",
      " 16  ID_RG_RESI  296327 non-null  float64\n",
      " 17  ID_PAIS     389768 non-null  float64\n",
      " 18  DT_DIGITA   389768 non-null  object \n",
      " 19  DT_TRANSSM  274346 non-null  float64\n",
      " 20  DT_TRANSSE  179847 non-null  float64\n",
      " 21  TRATAMENTO  499105 non-null  object \n",
      " 22  RAIOX_TORA  921472 non-null  object \n",
      " 23  FORMA       931299 non-null  object \n",
      " 24  AGRAVAIDS   493183 non-null  float64\n",
      " 25  AGRAVALCOO  493659 non-null  float64\n",
      " 26  AGRAVDIABE  492945 non-null  float64\n",
      " 27  AGRAVDOENC  491279 non-null  float64\n",
      " 28  AGRAVOUTRA  336314 non-null  object \n",
      " 29  BACILOSC_E  931133 non-null  object \n",
      " 30  CULTURA_ES  931133 non-null  object \n",
      " 31  HIV         929546 non-null  object \n",
      " 32  HISTOPATOL  464627 non-null  float64\n",
      " 33  DT_INIC_TR  480291 non-null  object \n",
      " 34  NU_CONTATO  482856 non-null  float64\n",
      " 35  SG_UF_AT    500269 non-null  object \n",
      " 36  ID_MUNIC_A  500265 non-null  float64\n",
      " 37  DT_NOTI_AT  303145 non-null  object \n",
      " 38  SG_UF_2     386232 non-null  float64\n",
      " 39  ID_MUNIC_2  385106 non-null  float64\n",
      " 40  BACILOSC_1  366803 non-null  object \n",
      " 41  BACILOSC_2  342022 non-null  float64\n",
      " 42  BACILOSC_3  323099 non-null  float64\n",
      " 43  BACILOSC_4  305432 non-null  float64\n",
      " 44  BACILOSC_5  289311 non-null  float64\n",
      " 45  BACILOSC_6  273321 non-null  float64\n",
      " 46  TRATSUP_AT  379003 non-null  float64\n",
      " 47  NU_COMU_EX  408157 non-null  float64\n",
      " 48  SITUA_ENCE  441885 non-null  float64\n",
      " 49  DT_ENCERRA  438959 non-null  object \n",
      " 50  TPUNINOT    376650 non-null  float64\n",
      " 51  POP_LIBER   491904 non-null  float64\n",
      " 52  POP_RUA     490369 non-null  float64\n",
      " 53  POP_SAUDE   490154 non-null  float64\n",
      " 54  POP_IMIG    489399 non-null  float64\n",
      " 55  BENEF_GOV   369596 non-null  object \n",
      " 56  AGRAVDROGA  491593 non-null  float64\n",
      " 57  AGRAVTABAC  491333 non-null  float64\n",
      " 58  TEST_MOLEC  473377 non-null  float64\n",
      " 59  TEST_SENSI  266026 non-null  object \n",
      "dtypes: float64(37), int64(1), object(22)\n",
      "memory usage: 426.3+ MB\n",
      "None\n",
      "\n",
      "Contagem de 'FORMA' no DataFrame final:\n",
      "FORMA\n",
      "1.0    429028\n",
      "4.0    429028\n",
      "2.0     56767\n",
      "3.0     16288\n",
      "nan       188\n",
      "Name: count, dtype: int64\n",
      "\n",
      "Verificação de nulos nas colunas presentes no DataFrame final:\n",
      "TP_NOT        429028\n",
      "ID_AGRAVO     429028\n",
      "DT_NOTIFIC    429028\n",
      "SG_UF_NOT     429028\n",
      "ID_MUNICIP    429028\n",
      "ID_REGIONA    633400\n",
      "DT_DIAG       429028\n",
      "ANO_NASC      431233\n",
      "NU_IDADE_N    429231\n",
      "CS_GESTANT    429077\n",
      "CS_RACA         9585\n",
      "CS_ESCOL_N    503932\n",
      "SG_UF         429028\n",
      "ID_MN_RESI    429028\n",
      "ID_RG_RESI    634972\n",
      "ID_PAIS       541531\n",
      "DT_DIGITA     541531\n",
      "DT_TRANSSM    656953\n",
      "DT_TRANSSE    751452\n",
      "TRATAMENTO    432194\n",
      "RAIOX_TORA      9827\n",
      "AGRAVAIDS     438116\n",
      "AGRAVALCOO    437640\n",
      "AGRAVDIABE    438354\n",
      "AGRAVDOENC    440020\n",
      "AGRAVOUTRA    594985\n",
      "BACILOSC_E       166\n",
      "CULTURA_ES       166\n",
      "HIV             1753\n",
      "HISTOPATOL    466672\n",
      "DT_INIC_TR    451008\n",
      "NU_CONTATO    448443\n",
      "SG_UF_AT      431030\n",
      "ID_MUNIC_A    431034\n",
      "DT_NOTI_AT    628154\n",
      "SG_UF_2       545067\n",
      "ID_MUNIC_2    546193\n",
      "BACILOSC_1    564496\n",
      "BACILOSC_2    589277\n",
      "BACILOSC_3    608200\n",
      "BACILOSC_4    625867\n",
      "BACILOSC_5    641988\n",
      "BACILOSC_6    657978\n",
      "TRATSUP_AT    552296\n",
      "NU_COMU_EX    523142\n",
      "SITUA_ENCE    489414\n",
      "DT_ENCERRA    492340\n",
      "TPUNINOT      554649\n",
      "POP_LIBER     439395\n",
      "POP_RUA       440930\n",
      "POP_SAUDE     441145\n",
      "POP_IMIG      441900\n",
      "BENEF_GOV     561703\n",
      "AGRAVDROGA    439706\n",
      "AGRAVTABAC    439966\n",
      "TEST_MOLEC    457922\n",
      "TEST_SENSI    665273\n",
      "dtype: int64\n"
     ]
    }
   ],
   "source": [
    "# --- Concatenação dos DataFrames ---\n",
    "df_treino_final = pd.concat([df_modelo_cleaned, df_saudaveis_mc_adjusted], ignore_index=True)\n",
    "\n",
    "print(\"\\n--- DataFrame Final para Treinamento (df_treino_final) info ---\")\n",
    "print(df_treino_final.info())\n",
    "print(\"\\nContagem de 'FORMA' no DataFrame final:\")\n",
    "print(df_treino_final['FORMA'].value_counts())\n",
    "\n",
    "# Verificar nulos novamente, com as colunas que realmente estão no DataFrame final\n",
    "print(\"\\nVerificação de nulos nas colunas presentes no DataFrame final:\")\n",
    "nans_per_column = df_treino_final.isnull().sum()\n",
    "nans_per_column = nans_per_column[nans_per_column > 0] # Mostra apenas colunas com NaNs\n",
    "\n",
    "if not nans_per_column.empty:\n",
    "    print(nans_per_column)\n",
    "else:\n",
    "    print(\"Nenhuma coluna presente no DataFrame final possui valores nulos.\")\n"
   ]
  },
  {
   "cell_type": "code",
   "execution_count": 18,
   "id": "cde56900-4ba4-4ea8-a943-e788332b0c29",
   "metadata": {},
   "outputs": [
    {
     "name": "stdout",
     "output_type": "stream",
     "text": [
      "\n",
      "DataFrame final com pessoas saudáveis salvo em 'df_treino_final_para_modelo.csv'\n"
     ]
    }
   ],
   "source": [
    "# Salvar o DataFrame final para uso no notebook do modelo\n",
    "df_treino_final.to_csv('df_treino_final_para_modelo.csv', index=False)\n",
    "print(\"\\nDataFrame final com pessoas saudáveis salvo em 'df_treino_final_para_modelo.csv'\")"
   ]
  },
  {
   "cell_type": "code",
   "execution_count": 19,
   "id": "0ad9bdb2-d5d7-4895-8813-1de49e64c469",
   "metadata": {},
   "outputs": [
    {
     "name": "stdout",
     "output_type": "stream",
     "text": [
      "FORMA\n",
      "1.0    429028\n",
      "4.0    429028\n",
      "2.0     56767\n",
      "3.0     16288\n",
      "nan       188\n",
      "Name: count, dtype: int64\n"
     ]
    }
   ],
   "source": [
    "print(df_treino_final['FORMA'].value_counts())"
   ]
  },
  {
   "cell_type": "code",
   "execution_count": 3,
   "id": "216ae0a2-60e0-4602-8195-f8ac60885ebe",
   "metadata": {},
   "outputs": [],
   "source": [
    "categorical_cols_original = [\n",
    "    'CS_SEXO', 'CS_RACA', 'HIV', 'RAIOX_TORA', 'BACILOSC_E', 'CULTURA_ES'\n",
    "]\n",
    "for col in categorical_cols_original:\n",
    "    if col in df_modelo.columns:\n",
    "        df_modelo[col] = df_modelo[col].astype(str)\n",
    "\n",
    "if 'hiv_positivo_com_aids' in df_modelo.columns:\n",
    "    df_modelo['hiv_positivo_com_aids'] = df_modelo['hiv_positivo_com_aids'].astype(str)"
   ]
  },
  {
   "cell_type": "code",
   "execution_count": 8,
   "id": "2aea7b81-dcc6-457e-93a6-70b3327a6216",
   "metadata": {},
   "outputs": [
    {
     "name": "stdout",
     "output_type": "stream",
     "text": [
      "DataFrame Original (df_modelo) - Primeiras linhas:\n",
      "   TP_NOT ID_AGRAVO                     DT_NOTIFIC  NU_ANO  SG_UF_NOT  \\\n",
      "0       2      A169  1970-01-01 00:00:00.020200930    2020         15   \n",
      "1       2      A169  1970-01-01 00:00:00.020200710    2020         15   \n",
      "2       2      A169  1970-01-01 00:00:00.020201203    2020         22   \n",
      "3       2      A169  1970-01-01 00:00:00.020200210    2020         24   \n",
      "4       2      A169  1970-01-01 00:00:00.020210114    2021         43   \n",
      "\n",
      "   ID_MUNICIP  ID_REGIONA                        DT_DIAG  ANO_NASC  \\\n",
      "0      150650       148.0  1970-01-01 00:00:00.020200930    2009.0   \n",
      "1      150530       149.0  1970-01-01 00:00:00.020200707    1973.0   \n",
      "2      220770       186.0  1970-01-01 00:00:00.020201119    1955.0   \n",
      "3      240920       141.0  1970-01-01 00:00:00.020200208    1960.0   \n",
      "4      430210       160.0  1970-01-01 00:00:00.020201226    1984.0   \n",
      "\n",
      "   NU_IDADE_N  ... TEST_MOLEC TEST_SENSI ANT_RETRO BAC_APOS_6  TRANSF  \\\n",
      "0      4011.0  ...        5.0        NaN       NaN        NaN     2.0   \n",
      "1      4046.0  ...        5.0        NaN       NaN          3     NaN   \n",
      "2      4065.0  ...        5.0        NaN       NaN        NaN     2.0   \n",
      "3      4059.0  ...        3.0        NaN       NaN        NaN     NaN   \n",
      "4      4035.0  ...        5.0        NaN       NaN          3     NaN   \n",
      "\n",
      "   UF_TRANSF  MUN_TRANSF  NU_IDADE_ANOS  NU_IDADE_ANOS_CORRETA  faixa_etaria  \n",
      "0         15        15.0            NaN                   11.0           NaN  \n",
      "1        NaN         NaN            NaN                   46.0           NaN  \n",
      "2         22        22.0            NaN                   65.0           NaN  \n",
      "3        NaN         NaN            NaN                   59.0           NaN  \n",
      "4        NaN         NaN            NaN                   35.0           NaN  \n",
      "\n",
      "[5 rows x 85 columns]\n",
      "\n",
      "Contagem de valores na coluna 'FORMA' (antes da geração):\n",
      "FORMA\n",
      "1     429028\n",
      "2      56767\n",
      "3      16288\n",
      "-1       188\n",
      "Name: count, dtype: int64\n",
      "\n",
      "Tipos de dados no df_modelo:\n",
      "TP_NOT                      int64\n",
      "ID_AGRAVO                  object\n",
      "DT_NOTIFIC                 object\n",
      "NU_ANO                      int64\n",
      "SG_UF_NOT                   int64\n",
      "                           ...   \n",
      "UF_TRANSF                  object\n",
      "MUN_TRANSF                 object\n",
      "NU_IDADE_ANOS             float64\n",
      "NU_IDADE_ANOS_CORRETA     float64\n",
      "faixa_etaria             category\n",
      "Length: 85, dtype: object\n"
     ]
    }
   ],
   "source": [
    "if df_modelo['FORMA'].dtype == 'float64':\n",
    "    # Trate nulos se houver antes de converter para int, se necessário\n",
    "    df_modelo['FORMA'] = df_modelo['FORMA'].fillna(-1).astype(int) # Exemplo de tratamento de nulos\n",
    "    df_modelo['FORMA'] = df_modelo['FORMA'].astype(str) # Convertendo para string para consistência com as categóricas\n",
    "\n",
    "print(\"DataFrame Original (df_modelo) - Primeiras linhas:\")\n",
    "print(df_modelo.head())\n",
    "print(\"\\nContagem de valores na coluna 'FORMA' (antes da geração):\")\n",
    "print(df_modelo['FORMA'].value_counts())\n",
    "print(\"\\nTipos de dados no df_modelo:\")\n",
    "print(df_modelo.dtypes)"
   ]
  },
  {
   "cell_type": "code",
   "execution_count": 9,
   "id": "1a0b082d-b8c3-48a9-9167-73b8e2a618e2",
   "metadata": {},
   "outputs": [
    {
     "name": "stdout",
     "output_type": "stream",
     "text": [
      "\n",
      "O volume de dados de pessoas saudáveis a ser gerado é: 429028 registros.\n"
     ]
    }
   ],
   "source": [
    "# Pega o tamanho da maior classe de 'FORMA' no df_modelo\n",
    "num_saudaveis = df_modelo['FORMA'].value_counts().max()\n",
    "print(f\"\\nO volume de dados de pessoas saudáveis a ser gerado é: {num_saudaveis} registros.\")"
   ]
  },
  {
   "cell_type": "code",
   "execution_count": 10,
   "id": "4ea33537-014f-4aa0-846a-09fb3e1d7ed4",
   "metadata": {},
   "outputs": [],
   "source": [
    "cols_to_generate = [\n",
    "    'CS_SEXO', 'CS_RACA', 'HIV', 'RAIOX_TORA', 'BACILOSC_E', 'CULTURA_ES',\n",
    "    'NU_ANO', 'NU_IDADE_ANOS_CORRETA', 'faixa_etaria'\n",
    "]\n",
    "n_features = len(cols_to_generate)"
   ]
  },
  {
   "cell_type": "code",
   "execution_count": 11,
   "id": "aefe59ac-717b-466b-87b8-db4b9646d08e",
   "metadata": {},
   "outputs": [],
   "source": [
    "X_synthetic, y_synthetic = make_classification(\n",
    "    n_samples=num_saudaveis,\n",
    "    n_features=n_features,\n",
    "    n_informative=min(n_features, 5), # Ajuste conforme a complexidade desejada\n",
    "    n_redundant=0,\n",
    "    n_repeated=0,\n",
    "    n_classes=2, # Estamos gerando dados para uma única classe (saudáveis), mas make_classification gera 2.\n",
    "                 # Vamos usar apenas uma delas ou ignorar o y_synthetic.\n",
    "    random_state=42\n",
    ")"
   ]
  },
  {
   "cell_type": "code",
   "execution_count": 12,
   "id": "c5efe283-abd4-442b-bfb9-31f241de9a1b",
   "metadata": {},
   "outputs": [],
   "source": [
    "df_saudaveis = pd.DataFrame(X_synthetic, columns=[f'feature_{i}' for i in range(n_features)])"
   ]
  },
  {
   "cell_type": "code",
   "execution_count": 13,
   "id": "edcdec6b-e38c-45c4-be79-d4a0e8499358",
   "metadata": {},
   "outputs": [
    {
     "name": "stdout",
     "output_type": "stream",
     "text": [
      "\n",
      "DataFrame Sintético Bruto (make_classification) - Primeiras linhas:\n",
      "   feature_0  feature_1  feature_2  feature_3  feature_4  feature_5  \\\n",
      "0   1.467606   2.324934   2.161475  -3.189477   1.070771  -0.180757   \n",
      "1   0.771258   1.188837   1.570261  -1.285053   0.999545   0.030869   \n",
      "2  -0.166884   2.119564   1.313741  -1.056231   1.826371  -1.093788   \n",
      "3  -1.112893   1.004029   0.294403  -0.129176   0.842375  -0.291284   \n",
      "4   1.340354   1.963279  -0.639310  -0.919330   1.507229  -1.621297   \n",
      "\n",
      "   feature_6  feature_7  feature_8  \n",
      "0  -0.212302   1.119145   0.490310  \n",
      "1  -1.098832   1.026123   0.002288  \n",
      "2   0.043393   2.406625   0.718804  \n",
      "3   0.111744   2.288384   0.621683  \n",
      "4   1.619151  -0.192253   0.890964  \n"
     ]
    }
   ],
   "source": [
    "print(\"\\nDataFrame Sintético Bruto (make_classification) - Primeiras linhas:\")\n",
    "print(df_saudaveis.head())"
   ]
  },
  {
   "cell_type": "code",
   "execution_count": 14,
   "id": "7814fff9-30bc-484a-9d1e-829066220719",
   "metadata": {},
   "outputs": [],
   "source": [
    "# Renomeie as colunas para seus nomes significativos\n",
    "df_saudaveis.columns = cols_to_generate\n",
    "\n",
    "# --- Aplique a lógica de \"inverter padrões\" e mapeamento para valores reais ---\n",
    "\n",
    "# 1. Colunas com valores fixos para \"Saudável\"\n",
    "df_saudaveis['BACILOSC_E'] = 'Negativo'\n",
    "df_saudaveis['CULTURA_ES'] = 'Negativo'\n",
    "\n",
    "# 2. Colunas com valores de escolha (e.g., binários ou poucos categóricos)\n",
    "# Use thresholds nos valores numéricos gerados para mapear para suas categorias.\n",
    "# Exemplo para CS_SEXO (assumindo que feature_0 foi CS_SEXO):\n",
    "# Use uma distribuição aproximada do que você espera para pessoas saudáveis\n",
    "df_saudaveis['CS_SEXO'] = np.random.choice(['M', 'F'], size=num_saudaveis, p=[0.5, 0.5]).astype(str) # 50/50\n",
    "df_saudaveis['HIV'] = np.random.choice(['Negativo', 'Não Informado'], size=num_saudaveis, p=[0.9, 0.1]).astype(str)\n",
    "df_saudaveis['RAIOX_TORA'] = np.random.choice(['Normal', 'Não Realizado'], size=num_saudaveis, p=[0.8, 0.2]).astype(str)\n",
    "\n",
    "# Para CS_RACA, que tem 5 valores, você pode usar np.random.choice com probabilidades ajustadas\n",
    "df_saudaveis['CS_RACA'] = np.random.choice(['1.0', '2.0', '3.0', '4.0', '5.0'],\n",
    "                                               size=num_saudaveis,\n",
    "                                               p=[0.4, 0.3, 0.15, 0.1, 0.05]).astype(str) # Ajuste as probabilidades\n"
   ]
  },
  {
   "cell_type": "code",
   "execution_count": 15,
   "id": "23dfdeed-c95b-4e87-92e3-7a0277c49ff0",
   "metadata": {},
   "outputs": [],
   "source": [
    "# 3. Colunas numéricas contínuas (idade, ano)\n",
    "min_age, max_age = 0, 120\n",
    "df_saudaveis['NU_IDADE_ANOS_CORRETA'] = ((df_saudaveis['NU_IDADE_ANOS_CORRETA'] - df_saudaveis['NU_IDADE_ANOS_CORRETA'].min()) /\n",
    "                                            (df_saudaveis['NU_IDADE_ANOS_CORRETA'].max() - df_saudaveis['NU_IDADE_ANOS_CORRETA'].min())) * (max_age - min_age) + min_age\n",
    "df_saudaveis['NU_IDADE_ANOS_CORRETA'] = df_saudaveis['NU_IDADE_ANOS_CORRETA'].astype(int)\n",
    "\n",
    "# NU_ANO:\n",
    "min_year, max_year = 2010, 2024\n",
    "df_saudaveis['NU_ANO'] = ((df_saudaveis['NU_ANO'] - df_saudaveis['NU_ANO'].min()) /\n",
    "                              (df_saudaveis['NU_ANO'].max() - df_saudaveis['NU_ANO'].min())) * (max_year - min_year) + min_year\n",
    "df_saudaveis['NU_ANO'] = df_saudaveis['NU_ANO'].astype(int)\n"
   ]
  },
  {
   "cell_type": "code",
   "execution_count": 16,
   "id": "3a04948b-6bfd-4ff4-a1e9-8fa511b61e23",
   "metadata": {},
   "outputs": [],
   "source": [
    "# 4. Colunas derivadas ou com valor fixo para \"saudável\"\n",
    "df_saudaveis['total_comorbidades'] = 0\n",
    "df_saudaveis['hiv_positivo_com_aids'] = 'False' # Certifique-se de que é string\n"
   ]
  },
  {
   "cell_type": "code",
   "execution_count": 17,
   "id": "cf3d27b2-2838-4bfa-a18e-97bcfd1571ba",
   "metadata": {},
   "outputs": [],
   "source": [
    "# 5. Faixa Etária (derivada da idade, como você provavelmente fez no df_modelo)\n",
    "def categorize_age(age):\n",
    "    if age < 18:\n",
    "        return 'Jovem' # Ou defina um valor padrão, ou reajuste idades\n",
    "    elif age <= 35:\n",
    "        return 'Adulto Jovem'\n",
    "    elif age <= 50:\n",
    "        return 'Adulto'\n",
    "    elif age <= 65:\n",
    "        return 'Idoso'\n",
    "    else:\n",
    "        return 'Muito idoso' # Ou defina um valor padrão, ou reajuste idades\n",
    "df_saudaveis['faixa_etaria'] = df_saudaveis['NU_IDADE_ANOS_CORRETA'].apply(categorize_age).astype(str)\n"
   ]
  },
  {
   "cell_type": "code",
   "execution_count": 18,
   "id": "bd379140-2bbd-4632-a008-6b97d54db8e8",
   "metadata": {},
   "outputs": [],
   "source": [
    "# 6. Adicionar a coluna 'FORMA' com o label para \"Saudável\"\n",
    "df_saudaveis['FORMA'] = '4.0' # Use o mesmo tipo (string) que você usou para a coluna 'FORMA' no df_modelo\n",
    "# Reordene as colunas para que fiquem iguais ao df_modelo, se for concatenar\n",
    "# Obtenha as colunas do df_modelo para garantir a ordem\n",
    "common_cols = [col for col in df_modelo.columns if col in df_saudaveis.columns]\n",
    "df_saudaveis = df_saudaveis[common_cols]"
   ]
  },
  {
   "cell_type": "code",
   "execution_count": 19,
   "id": "4bade76f-4250-4a50-8225-aefd7d404ebd",
   "metadata": {},
   "outputs": [
    {
     "name": "stdout",
     "output_type": "stream",
     "text": [
      "\n",
      "DataFrame de Pessoas Saudáveis (make_classification + ajustes) - Primeiras linhas:\n",
      "   NU_ANO CS_SEXO CS_RACA     RAIOX_TORA FORMA BACILOSC_E CULTURA_ES  \\\n",
      "0    2016       M     1.0         Normal   4.0   Negativo   Negativo   \n",
      "1    2014       M     2.0  Não Realizado   4.0   Negativo   Negativo   \n",
      "2    2016       F     1.0  Não Realizado   4.0   Negativo   Negativo   \n",
      "3    2016       M     2.0         Normal   4.0   Negativo   Negativo   \n",
      "4    2018       F     3.0         Normal   4.0   Negativo   Negativo   \n",
      "\n",
      "        HIV  NU_IDADE_ANOS_CORRETA faixa_etaria  \n",
      "0  Negativo                     64        Idoso  \n",
      "1  Negativo                     63        Idoso  \n",
      "2  Negativo                     76  Muito idoso  \n",
      "3  Negativo                     75  Muito idoso  \n",
      "4  Negativo                     52        Idoso  \n",
      "\n",
      "Tipos de dados no df_saudaveis:\n",
      "NU_ANO                    int64\n",
      "CS_SEXO                  object\n",
      "CS_RACA                  object\n",
      "RAIOX_TORA               object\n",
      "FORMA                    object\n",
      "BACILOSC_E               object\n",
      "CULTURA_ES               object\n",
      "HIV                      object\n",
      "NU_IDADE_ANOS_CORRETA     int64\n",
      "faixa_etaria             object\n",
      "dtype: object\n",
      "\n",
      "Volume final de dados de pessoas saudáveis: 429028 registros.\n"
     ]
    }
   ],
   "source": [
    "print(\"\\nDataFrame de Pessoas Saudáveis (make_classification + ajustes) - Primeiras linhas:\")\n",
    "print(df_saudaveis.head())\n",
    "print(\"\\nTipos de dados no df_saudaveis:\")\n",
    "print(df_saudaveis.dtypes)\n",
    "print(f\"\\nVolume final de dados de pessoas saudáveis: {len(df_saudaveis)} registros.\")"
   ]
  },
  {
   "cell_type": "code",
   "execution_count": 20,
   "id": "383539e8-d26c-40b3-80f3-1f6efa8b4656",
   "metadata": {},
   "outputs": [],
   "source": [
    "# Identifique colunas que estão apenas em um dos dataframes\n",
    "cols_in_model_only = list(set(df_modelo.columns) - set(df_saudaveis.columns))\n",
    "cols_in_synthetic_only = list(set(df_saudaveis.columns) - set(df_modelo.columns))"
   ]
  },
  {
   "cell_type": "code",
   "execution_count": 21,
   "id": "1832f7c6-5a0c-40d4-b413-808c6f4c0e82",
   "metadata": {},
   "outputs": [],
   "source": [
    "# Adicione as colunas que faltam em df_saudaveis_mc\n",
    "for col in cols_in_model_only:\n",
    "    df_saudaveis[col] = np.nan # Ou um valor padrão apropriado\n",
    "\n",
    "# Adicione as colunas que faltam em df_modelo (se houver, o que é menos provável para o original)\n",
    "for col in cols_in_synthetic_only:\n",
    "    df_modelo[col] = np.nan # Ou um valor padrão apropriado\n",
    "\n",
    "# Garanta que a ordem das colunas seja a mesma\n",
    "df_saudaveis = df_saudaveis[df_modelo.columns]\n",
    "\n",
    "df_final_treino = pd.concat([df_modelo, df_saudaveis], ignore_index=True)"
   ]
  },
  {
   "cell_type": "code",
   "execution_count": 22,
   "id": "c42fd174-b446-4b44-8616-2a5db4aad9b6",
   "metadata": {},
   "outputs": [
    {
     "name": "stdout",
     "output_type": "stream",
     "text": [
      "\n",
      "DataFrame Final para Treinamento (Original + Saudáveis) - Primeiras linhas:\n",
      "   TP_NOT ID_AGRAVO                     DT_NOTIFIC  NU_ANO  SG_UF_NOT  \\\n",
      "0     2.0      A169  1970-01-01 00:00:00.020200930    2020       15.0   \n",
      "1     2.0      A169  1970-01-01 00:00:00.020200710    2020       15.0   \n",
      "2     2.0      A169  1970-01-01 00:00:00.020201203    2020       22.0   \n",
      "3     2.0      A169  1970-01-01 00:00:00.020200210    2020       24.0   \n",
      "4     2.0      A169  1970-01-01 00:00:00.020210114    2021       43.0   \n",
      "\n",
      "   ID_MUNICIP  ID_REGIONA                        DT_DIAG  ANO_NASC  \\\n",
      "0    150650.0       148.0  1970-01-01 00:00:00.020200930    2009.0   \n",
      "1    150530.0       149.0  1970-01-01 00:00:00.020200707    1973.0   \n",
      "2    220770.0       186.0  1970-01-01 00:00:00.020201119    1955.0   \n",
      "3    240920.0       141.0  1970-01-01 00:00:00.020200208    1960.0   \n",
      "4    430210.0       160.0  1970-01-01 00:00:00.020201226    1984.0   \n",
      "\n",
      "   NU_IDADE_N  ... TEST_MOLEC TEST_SENSI ANT_RETRO BAC_APOS_6  TRANSF  \\\n",
      "0      4011.0  ...        5.0        NaN       NaN        NaN     2.0   \n",
      "1      4046.0  ...        5.0        NaN       NaN          3     NaN   \n",
      "2      4065.0  ...        5.0        NaN       NaN        NaN     2.0   \n",
      "3      4059.0  ...        3.0        NaN       NaN        NaN     NaN   \n",
      "4      4035.0  ...        5.0        NaN       NaN          3     NaN   \n",
      "\n",
      "   UF_TRANSF  MUN_TRANSF  NU_IDADE_ANOS  NU_IDADE_ANOS_CORRETA  faixa_etaria  \n",
      "0         15        15.0            NaN                   11.0           NaN  \n",
      "1        NaN         NaN            NaN                   46.0           NaN  \n",
      "2         22        22.0            NaN                   65.0           NaN  \n",
      "3        NaN         NaN            NaN                   59.0           NaN  \n",
      "4        NaN         NaN            NaN                   35.0           NaN  \n",
      "\n",
      "[5 rows x 85 columns]\n",
      "Volume total do DataFrame para treinamento: 931299 registros.\n",
      "\n",
      "Contagem de valores na coluna 'FORMA' no DataFrame final:\n",
      "FORMA\n",
      "1      429028\n",
      "4.0    429028\n",
      "2       56767\n",
      "3       16288\n",
      "-1        188\n",
      "Name: count, dtype: int64\n"
     ]
    }
   ],
   "source": [
    "print(\"\\nDataFrame Final para Treinamento (Original + Saudáveis) - Primeiras linhas:\")\n",
    "print(df_final_treino.head())\n",
    "print(f\"Volume total do DataFrame para treinamento: {len(df_final_treino)} registros.\")\n",
    "print(\"\\nContagem de valores na coluna 'FORMA' no DataFrame final:\")\n",
    "print(df_final_treino['FORMA'].value_counts())"
   ]
  },
  {
   "cell_type": "code",
   "execution_count": 23,
   "id": "bb9947d2-ed67-428b-9335-e24e532f27d1",
   "metadata": {},
   "outputs": [
    {
     "name": "stdout",
     "output_type": "stream",
     "text": [
      "DataFrame final com pessoas saudáveis salvo em 'df_treino_com_saudaveis.csv'\n"
     ]
    }
   ],
   "source": [
    "df_final_treino.to_csv('df_treino_com_saudaveis.csv', index=False)\n",
    "print(\"DataFrame final com pessoas saudáveis salvo em 'df_treino_com_saudaveis.csv'\")"
   ]
  },
  {
   "cell_type": "code",
   "execution_count": null,
   "id": "35b0f9c0-c534-483a-97dd-73e1e887f970",
   "metadata": {},
   "outputs": [],
   "source": []
  }
 ],
 "metadata": {
  "kernelspec": {
   "display_name": "Python 3 (ipykernel)",
   "language": "python",
   "name": "python3"
  },
  "language_info": {
   "codemirror_mode": {
    "name": "ipython",
    "version": 3
   },
   "file_extension": ".py",
   "mimetype": "text/x-python",
   "name": "python",
   "nbconvert_exporter": "python",
   "pygments_lexer": "ipython3",
   "version": "3.12.3"
  }
 },
 "nbformat": 4,
 "nbformat_minor": 5
}
