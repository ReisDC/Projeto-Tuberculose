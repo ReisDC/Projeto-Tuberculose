{
 "cells": [
  {
   "cell_type": "code",
   "execution_count": 1,
   "id": "1f76ef56-ad35-4250-9a64-6172bb5ec822",
   "metadata": {},
   "outputs": [],
   "source": [
    "import pandas as pd\n",
    "from sklearn.model_selection import train_test_split\n",
    "from sklearn.pipeline import Pipeline\n",
    "from sklearn.compose import ColumnTransformer\n",
    "from sklearn.impute import SimpleImputer\n",
    "from sklearn.preprocessing import StandardScaler, OneHotEncoder\n",
    "from sklearn.ensemble import RandomForestClassifier\n",
    "from sklearn.feature_selection import SelectFromModel\n",
    "from sklearn.metrics import classification_report, confusion_matrix\n",
    "from imblearn.pipeline import Pipeline as ImbPipeline \n",
    "from imblearn.over_sampling import SMOTE\n"
   ]
  },
  {
   "cell_type": "code",
   "execution_count": 2,
   "id": "fd9bcef4-ecb5-42fc-a1ae-89c687058d0f",
   "metadata": {},
   "outputs": [],
   "source": [
    "df = pd.read_csv('/mnt/c/Users/AcerGamer/Downloads/Tuberculose/Projeto-Tuberculose/dados/arquivos_csv/dados_tuberculose_transformados.csv', low_memory=False)"
   ]
  },
  {
   "cell_type": "code",
   "execution_count": 3,
   "id": "48bf081a-173b-4ae6-83d8-fccd050774fe",
   "metadata": {},
   "outputs": [
    {
     "name": "stdout",
     "output_type": "stream",
     "text": [
      "(502271, 83)\n"
     ]
    },
    {
     "data": {
      "text/html": [
       "<div>\n",
       "<style scoped>\n",
       "    .dataframe tbody tr th:only-of-type {\n",
       "        vertical-align: middle;\n",
       "    }\n",
       "\n",
       "    .dataframe tbody tr th {\n",
       "        vertical-align: top;\n",
       "    }\n",
       "\n",
       "    .dataframe thead th {\n",
       "        text-align: right;\n",
       "    }\n",
       "</style>\n",
       "<table border=\"1\" class=\"dataframe\">\n",
       "  <thead>\n",
       "    <tr style=\"text-align: right;\">\n",
       "      <th></th>\n",
       "      <th>TP_NOT</th>\n",
       "      <th>ID_AGRAVO</th>\n",
       "      <th>DT_NOTIFIC</th>\n",
       "      <th>NU_ANO</th>\n",
       "      <th>SG_UF_NOT</th>\n",
       "      <th>ID_MUNICIP</th>\n",
       "      <th>ID_REGIONA</th>\n",
       "      <th>DT_DIAG</th>\n",
       "      <th>ANO_NASC</th>\n",
       "      <th>NU_IDADE_N</th>\n",
       "      <th>...</th>\n",
       "      <th>AGRAVDROGA</th>\n",
       "      <th>AGRAVTABAC</th>\n",
       "      <th>TEST_MOLEC</th>\n",
       "      <th>TEST_SENSI</th>\n",
       "      <th>ANT_RETRO</th>\n",
       "      <th>BAC_APOS_6</th>\n",
       "      <th>TRANSF</th>\n",
       "      <th>UF_TRANSF</th>\n",
       "      <th>MUN_TRANSF</th>\n",
       "      <th>NU_IDADE_ANOS</th>\n",
       "    </tr>\n",
       "  </thead>\n",
       "  <tbody>\n",
       "    <tr>\n",
       "      <th>0</th>\n",
       "      <td>2</td>\n",
       "      <td>A169</td>\n",
       "      <td>1970-01-01 00:00:00.020200930</td>\n",
       "      <td>2020</td>\n",
       "      <td>15</td>\n",
       "      <td>150650</td>\n",
       "      <td>148.0</td>\n",
       "      <td>1970-01-01 00:00:00.020200930</td>\n",
       "      <td>2009.0</td>\n",
       "      <td>4011.0</td>\n",
       "      <td>...</td>\n",
       "      <td>2.0</td>\n",
       "      <td>2.0</td>\n",
       "      <td>5.0</td>\n",
       "      <td>NaN</td>\n",
       "      <td>NaN</td>\n",
       "      <td>NaN</td>\n",
       "      <td>2.0</td>\n",
       "      <td>15</td>\n",
       "      <td>15.0</td>\n",
       "      <td>NaN</td>\n",
       "    </tr>\n",
       "    <tr>\n",
       "      <th>1</th>\n",
       "      <td>2</td>\n",
       "      <td>A169</td>\n",
       "      <td>1970-01-01 00:00:00.020200710</td>\n",
       "      <td>2020</td>\n",
       "      <td>15</td>\n",
       "      <td>150530</td>\n",
       "      <td>149.0</td>\n",
       "      <td>1970-01-01 00:00:00.020200707</td>\n",
       "      <td>1973.0</td>\n",
       "      <td>4046.0</td>\n",
       "      <td>...</td>\n",
       "      <td>2.0</td>\n",
       "      <td>2.0</td>\n",
       "      <td>5.0</td>\n",
       "      <td>NaN</td>\n",
       "      <td>NaN</td>\n",
       "      <td>3</td>\n",
       "      <td>NaN</td>\n",
       "      <td>NaN</td>\n",
       "      <td>NaN</td>\n",
       "      <td>NaN</td>\n",
       "    </tr>\n",
       "    <tr>\n",
       "      <th>2</th>\n",
       "      <td>2</td>\n",
       "      <td>A169</td>\n",
       "      <td>1970-01-01 00:00:00.020201203</td>\n",
       "      <td>2020</td>\n",
       "      <td>22</td>\n",
       "      <td>220770</td>\n",
       "      <td>186.0</td>\n",
       "      <td>1970-01-01 00:00:00.020201119</td>\n",
       "      <td>1955.0</td>\n",
       "      <td>4065.0</td>\n",
       "      <td>...</td>\n",
       "      <td>2.0</td>\n",
       "      <td>2.0</td>\n",
       "      <td>5.0</td>\n",
       "      <td>NaN</td>\n",
       "      <td>NaN</td>\n",
       "      <td>NaN</td>\n",
       "      <td>2.0</td>\n",
       "      <td>22</td>\n",
       "      <td>22.0</td>\n",
       "      <td>NaN</td>\n",
       "    </tr>\n",
       "    <tr>\n",
       "      <th>3</th>\n",
       "      <td>2</td>\n",
       "      <td>A169</td>\n",
       "      <td>1970-01-01 00:00:00.020200210</td>\n",
       "      <td>2020</td>\n",
       "      <td>24</td>\n",
       "      <td>240920</td>\n",
       "      <td>141.0</td>\n",
       "      <td>1970-01-01 00:00:00.020200208</td>\n",
       "      <td>1960.0</td>\n",
       "      <td>4059.0</td>\n",
       "      <td>...</td>\n",
       "      <td>2.0</td>\n",
       "      <td>1.0</td>\n",
       "      <td>3.0</td>\n",
       "      <td>NaN</td>\n",
       "      <td>NaN</td>\n",
       "      <td>NaN</td>\n",
       "      <td>NaN</td>\n",
       "      <td>NaN</td>\n",
       "      <td>NaN</td>\n",
       "      <td>NaN</td>\n",
       "    </tr>\n",
       "    <tr>\n",
       "      <th>4</th>\n",
       "      <td>2</td>\n",
       "      <td>A169</td>\n",
       "      <td>1970-01-01 00:00:00.020210114</td>\n",
       "      <td>2021</td>\n",
       "      <td>43</td>\n",
       "      <td>430210</td>\n",
       "      <td>160.0</td>\n",
       "      <td>1970-01-01 00:00:00.020201226</td>\n",
       "      <td>1984.0</td>\n",
       "      <td>4035.0</td>\n",
       "      <td>...</td>\n",
       "      <td>2.0</td>\n",
       "      <td>1.0</td>\n",
       "      <td>5.0</td>\n",
       "      <td>NaN</td>\n",
       "      <td>NaN</td>\n",
       "      <td>3</td>\n",
       "      <td>NaN</td>\n",
       "      <td>NaN</td>\n",
       "      <td>NaN</td>\n",
       "      <td>NaN</td>\n",
       "    </tr>\n",
       "    <tr>\n",
       "      <th>5</th>\n",
       "      <td>2</td>\n",
       "      <td>A169</td>\n",
       "      <td>1970-01-01 00:00:00.020200811</td>\n",
       "      <td>2020</td>\n",
       "      <td>31</td>\n",
       "      <td>313240</td>\n",
       "      <td>145.0</td>\n",
       "      <td>1970-01-01 00:00:00.020200810</td>\n",
       "      <td>1968.0</td>\n",
       "      <td>4052.0</td>\n",
       "      <td>...</td>\n",
       "      <td>2.0</td>\n",
       "      <td>1.0</td>\n",
       "      <td>5.0</td>\n",
       "      <td>NaN</td>\n",
       "      <td>NaN</td>\n",
       "      <td>NaN</td>\n",
       "      <td>2.0</td>\n",
       "      <td>31</td>\n",
       "      <td>31.0</td>\n",
       "      <td>NaN</td>\n",
       "    </tr>\n",
       "    <tr>\n",
       "      <th>6</th>\n",
       "      <td>2</td>\n",
       "      <td>A169</td>\n",
       "      <td>1970-01-01 00:00:00.020200923</td>\n",
       "      <td>2020</td>\n",
       "      <td>41</td>\n",
       "      <td>411210</td>\n",
       "      <td>137.0</td>\n",
       "      <td>1970-01-01 00:00:00.020200923</td>\n",
       "      <td>1990.0</td>\n",
       "      <td>4029.0</td>\n",
       "      <td>...</td>\n",
       "      <td>2.0</td>\n",
       "      <td>2.0</td>\n",
       "      <td>5.0</td>\n",
       "      <td>NaN</td>\n",
       "      <td>NaN</td>\n",
       "      <td>NaN</td>\n",
       "      <td>2.0</td>\n",
       "      <td>41</td>\n",
       "      <td>41.0</td>\n",
       "      <td>NaN</td>\n",
       "    </tr>\n",
       "    <tr>\n",
       "      <th>7</th>\n",
       "      <td>2</td>\n",
       "      <td>A169</td>\n",
       "      <td>1970-01-01 00:00:00.020200804</td>\n",
       "      <td>2020</td>\n",
       "      <td>29</td>\n",
       "      <td>292350</td>\n",
       "      <td>140.0</td>\n",
       "      <td>1970-01-01 00:00:00.020200803</td>\n",
       "      <td>1972.0</td>\n",
       "      <td>4047.0</td>\n",
       "      <td>...</td>\n",
       "      <td>2.0</td>\n",
       "      <td>1.0</td>\n",
       "      <td>5.0</td>\n",
       "      <td>NaN</td>\n",
       "      <td>NaN</td>\n",
       "      <td>NaN</td>\n",
       "      <td>NaN</td>\n",
       "      <td>NaN</td>\n",
       "      <td>NaN</td>\n",
       "      <td>NaN</td>\n",
       "    </tr>\n",
       "  </tbody>\n",
       "</table>\n",
       "<p>8 rows × 83 columns</p>\n",
       "</div>"
      ],
      "text/plain": [
       "   TP_NOT ID_AGRAVO                     DT_NOTIFIC  NU_ANO  SG_UF_NOT  \\\n",
       "0       2      A169  1970-01-01 00:00:00.020200930    2020         15   \n",
       "1       2      A169  1970-01-01 00:00:00.020200710    2020         15   \n",
       "2       2      A169  1970-01-01 00:00:00.020201203    2020         22   \n",
       "3       2      A169  1970-01-01 00:00:00.020200210    2020         24   \n",
       "4       2      A169  1970-01-01 00:00:00.020210114    2021         43   \n",
       "5       2      A169  1970-01-01 00:00:00.020200811    2020         31   \n",
       "6       2      A169  1970-01-01 00:00:00.020200923    2020         41   \n",
       "7       2      A169  1970-01-01 00:00:00.020200804    2020         29   \n",
       "\n",
       "   ID_MUNICIP  ID_REGIONA                        DT_DIAG  ANO_NASC  \\\n",
       "0      150650       148.0  1970-01-01 00:00:00.020200930    2009.0   \n",
       "1      150530       149.0  1970-01-01 00:00:00.020200707    1973.0   \n",
       "2      220770       186.0  1970-01-01 00:00:00.020201119    1955.0   \n",
       "3      240920       141.0  1970-01-01 00:00:00.020200208    1960.0   \n",
       "4      430210       160.0  1970-01-01 00:00:00.020201226    1984.0   \n",
       "5      313240       145.0  1970-01-01 00:00:00.020200810    1968.0   \n",
       "6      411210       137.0  1970-01-01 00:00:00.020200923    1990.0   \n",
       "7      292350       140.0  1970-01-01 00:00:00.020200803    1972.0   \n",
       "\n",
       "   NU_IDADE_N  ... AGRAVDROGA AGRAVTABAC TEST_MOLEC TEST_SENSI  ANT_RETRO  \\\n",
       "0      4011.0  ...        2.0        2.0        5.0        NaN        NaN   \n",
       "1      4046.0  ...        2.0        2.0        5.0        NaN        NaN   \n",
       "2      4065.0  ...        2.0        2.0        5.0        NaN        NaN   \n",
       "3      4059.0  ...        2.0        1.0        3.0        NaN        NaN   \n",
       "4      4035.0  ...        2.0        1.0        5.0        NaN        NaN   \n",
       "5      4052.0  ...        2.0        1.0        5.0        NaN        NaN   \n",
       "6      4029.0  ...        2.0        2.0        5.0        NaN        NaN   \n",
       "7      4047.0  ...        2.0        1.0        5.0        NaN        NaN   \n",
       "\n",
       "   BAC_APOS_6  TRANSF  UF_TRANSF  MUN_TRANSF  NU_IDADE_ANOS  \n",
       "0         NaN     2.0         15        15.0            NaN  \n",
       "1           3     NaN        NaN         NaN            NaN  \n",
       "2         NaN     2.0         22        22.0            NaN  \n",
       "3         NaN     NaN        NaN         NaN            NaN  \n",
       "4           3     NaN        NaN         NaN            NaN  \n",
       "5         NaN     2.0         31        31.0            NaN  \n",
       "6         NaN     2.0         41        41.0            NaN  \n",
       "7         NaN     NaN        NaN         NaN            NaN  \n",
       "\n",
       "[8 rows x 83 columns]"
      ]
     },
     "execution_count": 3,
     "metadata": {},
     "output_type": "execute_result"
    }
   ],
   "source": [
    "# Ver tamanho e prévia\n",
    "print(df.shape)\n",
    "df.head(8)"
   ]
  },
  {
   "cell_type": "code",
   "execution_count": 4,
   "id": "0b197bed-0fd0-4817-8fbe-ab2489cc0a97",
   "metadata": {},
   "outputs": [
    {
     "name": "stdout",
     "output_type": "stream",
     "text": [
      "Restaram 48 colunas após remoção de ausentes.\n"
     ]
    }
   ],
   "source": [
    "# Ver porcentagem de valores ausentes por coluna\n",
    "porcentagem_nulos = df.isnull().mean() * 100\n",
    "\n",
    "# Ver colunas com mais de 30% de nulos\n",
    "colunas_para_remover = porcentagem_nulos[porcentagem_nulos > 30].index\n",
    "\n",
    "# Remover essas colunas\n",
    "df = df.drop(columns=colunas_para_remover)\n",
    "\n",
    "print(f\"Restaram {df.shape[1]} colunas após remoção de ausentes.\")\n"
   ]
  },
  {
   "cell_type": "code",
   "execution_count": 5,
   "id": "d2a7c5cd-8893-459e-a716-1c377b85b61b",
   "metadata": {},
   "outputs": [],
   "source": [
    "colunas_modelo = [\n",
    "    'FORMA',            # variável alvo\n",
    "    'CS_SEXO',\n",
    "    'CS_RACA',\n",
    "    'NU_IDADE_N',\n",
    "    'HIV',\n",
    "    'AGRAVAIDS',\n",
    "    'AGRAVALCOO',\n",
    "    'RAIOX_TORA',\n",
    "    'BACILOSC_E',\n",
    "    'CULTURA_ES',\n",
    "    'NU_ANO'            # ano da notificação\n",
    "]\n",
    "df_modelo = df[colunas_modelo].copy()"
   ]
  },
  {
   "cell_type": "markdown",
   "id": "b3d18a3b-fd67-4814-9db2-279c9c84ea16",
   "metadata": {},
   "source": [
    "### Engenharia de Features"
   ]
  },
  {
   "cell_type": "code",
   "execution_count": 7,
   "id": "6ed22ceb-6a0a-4012-8466-f2c960c860f2",
   "metadata": {},
   "outputs": [],
   "source": [
    "# Extrai unidade (1º dígito) e valor (últimos 3)\n",
    "df['unidade'] = df['NU_IDADE_N'] // 1000\n",
    "df['valor'] = df['NU_IDADE_N'] % 1000\n",
    "\n",
    "# Converte tudo para anos\n",
    "def converter_idade(row):\n",
    "    if row['unidade'] == 1:  # Horas\n",
    "        return row['valor'] / (24 * 365)\n",
    "    elif row['unidade'] == 2:  # Dias\n",
    "        return row['valor'] / 365\n",
    "    elif row['unidade'] == 3:  # Meses\n",
    "        return row['valor'] / 12\n",
    "    elif row['unidade'] == 4:  # Anos\n",
    "        return row['valor']\n",
    "    else:\n",
    "        return None  # Ignorado ou inválido\n",
    "\n",
    "df['Idade_Ano'] = df.apply(converter_idade, axis=1)"
   ]
  },
  {
   "cell_type": "code",
   "execution_count": 11,
   "id": "ae8f5336-f347-4aa7-acfd-7844645c9f3c",
   "metadata": {},
   "outputs": [],
   "source": [
    "# 1. Criar Faixa Etária a partir da Idade\n",
    "# Primeiro, vamos tratar possíveis NaNs em NU_IDADE_N para o pd.cut não falhar\n",
    "mediana_idade = df_modelo['NU_IDADE_N'].median()\n",
    "df_modelo['NU_IDADE_N'] = df_modelo['NU_IDADE_N'].fillna(mediana_idade)\n",
    "bins = [0, 18, 35, 50, 65, 120]\n",
    "labels = ['Jovem', 'Adulto Jovem', 'Adulto', 'Idoso', 'Muito Idoso']\n",
    "df_modelo['faixa_etaria'] = pd.cut(df_modelo['NU_IDADE_N'], bins=bins, labels=labels, right=False)"
   ]
  },
  {
   "cell_type": "code",
   "execution_count": 7,
   "id": "640f88b8-c4db-41d9-b53f-ac8d10777a02",
   "metadata": {},
   "outputs": [],
   "source": [
    "# 2. Criar um contador de comorbidades/fatores de risco\n",
    "# Assumindo que 1.0 ou 'Sim' representa a presença do agravo\n",
    "df_modelo['total_comorbidades'] = (df_modelo['AGRAVAIDS'] == 1.0).astype(int) + \\\n",
    "                                  (df_modelo['AGRAVALCOO'] == 1.0).astype(int)"
   ]
  },
  {
   "cell_type": "code",
   "execution_count": 8,
   "id": "403fb560-4575-47d6-9e5d-68f28d970045",
   "metadata": {},
   "outputs": [],
   "source": [
    "# 3. Criar feature de interação para HIV com AIDS\n",
    "df_modelo['hiv_positivo_com_aids'] = ((df_modelo['HIV'] == 'Reagente') & (df_modelo['AGRAVAIDS'] == 1.0))"
   ]
  },
  {
   "cell_type": "code",
   "execution_count": 9,
   "id": "fb5cb228-6355-40db-824d-95189e7592bc",
   "metadata": {},
   "outputs": [],
   "source": [
    "# Remover colunas originais que foram transformadas para evitar redundância\n",
    "df_modelo = df_modelo.drop(columns=['NU_IDADE_N'])"
   ]
  },
  {
   "cell_type": "code",
   "execution_count": 9,
   "id": "3c193ac8-e423-4cf6-948d-b61b5be1a9c9",
   "metadata": {},
   "outputs": [
    {
     "name": "stdout",
     "output_type": "stream",
     "text": [
      "Novas features criadas:\n"
     ]
    },
    {
     "ename": "KeyError",
     "evalue": "\"None of [Index(['faixa_etaria', 'total_comorbidades', 'hiv_positivo_com_aids'], dtype='object')] are in the [columns]\"",
     "output_type": "error",
     "traceback": [
      "\u001b[31m---------------------------------------------------------------------------\u001b[39m",
      "\u001b[31mKeyError\u001b[39m                                  Traceback (most recent call last)",
      "\u001b[36mCell\u001b[39m\u001b[36m \u001b[39m\u001b[32mIn[9]\u001b[39m\u001b[32m, line 2\u001b[39m\n\u001b[32m      1\u001b[39m \u001b[38;5;28mprint\u001b[39m(\u001b[33m\"\u001b[39m\u001b[33mNovas features criadas:\u001b[39m\u001b[33m\"\u001b[39m)\n\u001b[32m----> \u001b[39m\u001b[32m2\u001b[39m \u001b[38;5;28mprint\u001b[39m(\u001b[43mdf_modelo\u001b[49m\u001b[43m[\u001b[49m\u001b[43m[\u001b[49m\u001b[33;43m'\u001b[39;49m\u001b[33;43mfaixa_etaria\u001b[39;49m\u001b[33;43m'\u001b[39;49m\u001b[43m,\u001b[49m\u001b[43m \u001b[49m\u001b[33;43m'\u001b[39;49m\u001b[33;43mtotal_comorbidades\u001b[39;49m\u001b[33;43m'\u001b[39;49m\u001b[43m,\u001b[49m\u001b[43m \u001b[49m\u001b[33;43m'\u001b[39;49m\u001b[33;43mhiv_positivo_com_aids\u001b[39;49m\u001b[33;43m'\u001b[39;49m\u001b[43m]\u001b[49m\u001b[43m]\u001b[49m.head(-\u001b[32m20\u001b[39m))\n",
      "\u001b[36mFile \u001b[39m\u001b[32m~/jupyter_env/lib/python3.12/site-packages/pandas/core/frame.py:4113\u001b[39m, in \u001b[36mDataFrame.__getitem__\u001b[39m\u001b[34m(self, key)\u001b[39m\n\u001b[32m   4111\u001b[39m     \u001b[38;5;28;01mif\u001b[39;00m is_iterator(key):\n\u001b[32m   4112\u001b[39m         key = \u001b[38;5;28mlist\u001b[39m(key)\n\u001b[32m-> \u001b[39m\u001b[32m4113\u001b[39m     indexer = \u001b[38;5;28;43mself\u001b[39;49m\u001b[43m.\u001b[49m\u001b[43mcolumns\u001b[49m\u001b[43m.\u001b[49m\u001b[43m_get_indexer_strict\u001b[49m\u001b[43m(\u001b[49m\u001b[43mkey\u001b[49m\u001b[43m,\u001b[49m\u001b[43m \u001b[49m\u001b[33;43m\"\u001b[39;49m\u001b[33;43mcolumns\u001b[39;49m\u001b[33;43m\"\u001b[39;49m\u001b[43m)\u001b[49m[\u001b[32m1\u001b[39m]\n\u001b[32m   4115\u001b[39m \u001b[38;5;66;03m# take() does not accept boolean indexers\u001b[39;00m\n\u001b[32m   4116\u001b[39m \u001b[38;5;28;01mif\u001b[39;00m \u001b[38;5;28mgetattr\u001b[39m(indexer, \u001b[33m\"\u001b[39m\u001b[33mdtype\u001b[39m\u001b[33m\"\u001b[39m, \u001b[38;5;28;01mNone\u001b[39;00m) == \u001b[38;5;28mbool\u001b[39m:\n",
      "\u001b[36mFile \u001b[39m\u001b[32m~/jupyter_env/lib/python3.12/site-packages/pandas/core/indexes/base.py:6212\u001b[39m, in \u001b[36mIndex._get_indexer_strict\u001b[39m\u001b[34m(self, key, axis_name)\u001b[39m\n\u001b[32m   6209\u001b[39m \u001b[38;5;28;01melse\u001b[39;00m:\n\u001b[32m   6210\u001b[39m     keyarr, indexer, new_indexer = \u001b[38;5;28mself\u001b[39m._reindex_non_unique(keyarr)\n\u001b[32m-> \u001b[39m\u001b[32m6212\u001b[39m \u001b[38;5;28;43mself\u001b[39;49m\u001b[43m.\u001b[49m\u001b[43m_raise_if_missing\u001b[49m\u001b[43m(\u001b[49m\u001b[43mkeyarr\u001b[49m\u001b[43m,\u001b[49m\u001b[43m \u001b[49m\u001b[43mindexer\u001b[49m\u001b[43m,\u001b[49m\u001b[43m \u001b[49m\u001b[43maxis_name\u001b[49m\u001b[43m)\u001b[49m\n\u001b[32m   6214\u001b[39m keyarr = \u001b[38;5;28mself\u001b[39m.take(indexer)\n\u001b[32m   6215\u001b[39m \u001b[38;5;28;01mif\u001b[39;00m \u001b[38;5;28misinstance\u001b[39m(key, Index):\n\u001b[32m   6216\u001b[39m     \u001b[38;5;66;03m# GH 42790 - Preserve name from an Index\u001b[39;00m\n",
      "\u001b[36mFile \u001b[39m\u001b[32m~/jupyter_env/lib/python3.12/site-packages/pandas/core/indexes/base.py:6261\u001b[39m, in \u001b[36mIndex._raise_if_missing\u001b[39m\u001b[34m(self, key, indexer, axis_name)\u001b[39m\n\u001b[32m   6259\u001b[39m \u001b[38;5;28;01mif\u001b[39;00m nmissing:\n\u001b[32m   6260\u001b[39m     \u001b[38;5;28;01mif\u001b[39;00m nmissing == \u001b[38;5;28mlen\u001b[39m(indexer):\n\u001b[32m-> \u001b[39m\u001b[32m6261\u001b[39m         \u001b[38;5;28;01mraise\u001b[39;00m \u001b[38;5;167;01mKeyError\u001b[39;00m(\u001b[33mf\u001b[39m\u001b[33m\"\u001b[39m\u001b[33mNone of [\u001b[39m\u001b[38;5;132;01m{\u001b[39;00mkey\u001b[38;5;132;01m}\u001b[39;00m\u001b[33m] are in the [\u001b[39m\u001b[38;5;132;01m{\u001b[39;00maxis_name\u001b[38;5;132;01m}\u001b[39;00m\u001b[33m]\u001b[39m\u001b[33m\"\u001b[39m)\n\u001b[32m   6263\u001b[39m     not_found = \u001b[38;5;28mlist\u001b[39m(ensure_index(key)[missing_mask.nonzero()[\u001b[32m0\u001b[39m]].unique())\n\u001b[32m   6264\u001b[39m     \u001b[38;5;28;01mraise\u001b[39;00m \u001b[38;5;167;01mKeyError\u001b[39;00m(\u001b[33mf\u001b[39m\u001b[33m\"\u001b[39m\u001b[38;5;132;01m{\u001b[39;00mnot_found\u001b[38;5;132;01m}\u001b[39;00m\u001b[33m not in index\u001b[39m\u001b[33m\"\u001b[39m)\n",
      "\u001b[31mKeyError\u001b[39m: \"None of [Index(['faixa_etaria', 'total_comorbidades', 'hiv_positivo_com_aids'], dtype='object')] are in the [columns]\""
     ]
    }
   ],
   "source": [
    "print(\"Novas features criadas:\")\n",
    "print(df_modelo[['faixa_etaria', 'total_comorbidades', 'hiv_positivo_com_aids']].head(-20))"
   ]
  },
  {
   "cell_type": "markdown",
   "id": "7d0354d8-2819-4e06-b764-c5fcf3102676",
   "metadata": {},
   "source": [
    "### --- Preparação dos Dados ---"
   ]
  },
  {
   "cell_type": "code",
   "execution_count": 11,
   "id": "06a94102-e7dd-40f3-80fd-028985165556",
   "metadata": {},
   "outputs": [],
   "source": [
    "df_modelo['FORMA'] = df_modelo['FORMA'].fillna(df_modelo['FORMA'].median())\n",
    "y = df_modelo['FORMA'].astype(int)\n",
    "X = df_modelo.drop('FORMA', axis=1)\n",
    "y = df_modelo['FORMA'].astype(int)"
   ]
  },
  {
   "cell_type": "code",
   "execution_count": 12,
   "id": "602e3ddc-bc08-452c-92cd-05539aec4e4d",
   "metadata": {},
   "outputs": [],
   "source": [
    "# Identificar colunas numéricas e categóricas (APÓS a engenharia de features)\n",
    "numeric_features = X.select_dtypes(include=['int64', 'float64', 'int32']).columns.tolist()\n",
    "categorical_features = X.select_dtypes(include=['object', 'category', 'bool']).columns.tolist()"
   ]
  },
  {
   "cell_type": "markdown",
   "id": "3f5575a3-4b17-4bbd-ae71-65941d01cfd4",
   "metadata": {},
   "source": [
    "#### --- Construção do Pipeline Avançado ---"
   ]
  },
  {
   "cell_type": "code",
   "execution_count": 13,
   "id": "aa6ccf93-c6c9-42dd-a92b-68be39235040",
   "metadata": {},
   "outputs": [],
   "source": [
    "#Criar o transformador para features numéricas\n",
    "# Passo 1: Imputar com a mediana. Passo 2: Escalonar.\n",
    "numeric_transformer = Pipeline(steps=[\n",
    "    ('imputer', SimpleImputer(strategy='median')),\n",
    "    ('scaler', StandardScaler())\n",
    "])"
   ]
  },
  {
   "cell_type": "code",
   "execution_count": 14,
   "id": "60800bd4-ab2d-47c9-a693-f9cc69a42332",
   "metadata": {},
   "outputs": [],
   "source": [
    "# Criar o transformador para features categóricas\n",
    "# Passo 1: Imputar com o valor mais frequente. Passo 2: One-Hot Encode.\n",
    "categorical_transformer = Pipeline(steps=[\n",
    "    ('imputer', SimpleImputer(strategy='most_frequent')),\n",
    "    ('onehot', OneHotEncoder(handle_unknown='ignore'))\n",
    "])"
   ]
  },
  {
   "cell_type": "code",
   "execution_count": 15,
   "id": "e713e2e8-4971-4cb7-8bbf-b28cb0035854",
   "metadata": {},
   "outputs": [],
   "source": [
    "# Combinar os transformadores em um único pré-processador\n",
    "preprocessor = ColumnTransformer(\n",
    "    transformers=[\n",
    "        ('num', numeric_transformer, numeric_features),\n",
    "        ('cat', categorical_transformer, categorical_features)\n",
    "    ])"
   ]
  },
  {
   "cell_type": "code",
   "execution_count": 16,
   "id": "29ad280c-dbb5-452e-ba23-0a5e33509c1d",
   "metadata": {},
   "outputs": [],
   "source": [
    "# Criar o pipeline final usando o ImbPipeline\n",
    "# Este pipeline irá: 1. Pré-processar, 2. Selecionar Features, 3. Balancear, 4. Classificar\n",
    "pipeline_final = ImbPipeline(steps=[\n",
    "    ('preprocessor', preprocessor),\n",
    "    # Seleciona features com base na importância de um modelo base\n",
    "    ('selector', SelectFromModel(RandomForestClassifier(n_estimators=50, random_state=42))),\n",
    "    # Aplica SMOTE para balancear as classes no conjunto de treino\n",
    "    ('smote', SMOTE(random_state=42)),\n",
    "    # O classificador final\n",
    "    ('classifier', RandomForestClassifier(random_state=42, class_weight='balanced', n_estimators=100))\n",
    "])"
   ]
  },
  {
   "cell_type": "markdown",
   "id": "8fdf91ab-5dfd-4fb9-9178-2053aa29b897",
   "metadata": {},
   "source": [
    "#### --- Treinamento e Avaliação ---"
   ]
  },
  {
   "cell_type": "code",
   "execution_count": 17,
   "id": "969c6e87-9dcf-4b16-8d9e-9c552f7a26da",
   "metadata": {},
   "outputs": [],
   "source": [
    "# Dividir os dados em treino e teste\n",
    "X_train, X_test, y_train, y_test = train_test_split(X, y, test_size=0.3, random_state=42, stratify=y)"
   ]
  },
  {
   "cell_type": "code",
   "execution_count": 18,
   "id": "6a017714-8bdc-4408-9414-8ce780322883",
   "metadata": {},
   "outputs": [
    {
     "name": "stdout",
     "output_type": "stream",
     "text": [
      "Iniciando o treinamento do pipeline completo...\n"
     ]
    },
    {
     "name": "stderr",
     "output_type": "stream",
     "text": [
      "/home/mrdalcol/jupyter_env/lib/python3.12/site-packages/sklearn/impute/_base.py:635: UserWarning: Skipping features without any observed values: ['faixa_etaria']. At least one non-missing value is needed for imputation with strategy='most_frequent'.\n",
      "  warnings.warn(\n"
     ]
    },
    {
     "name": "stdout",
     "output_type": "stream",
     "text": [
      "Treinamento concluído.\n"
     ]
    }
   ],
   "source": [
    "# Treinar o pipeline completo\n",
    "print(\"Iniciando o treinamento do pipeline completo...\")\n",
    "pipeline_final.fit(X_train, y_train)\n",
    "print(\"Treinamento concluído.\")"
   ]
  },
  {
   "cell_type": "code",
   "execution_count": 19,
   "id": "7a686ff0-5ad3-4a60-a7b3-2e6f034a4a38",
   "metadata": {},
   "outputs": [
    {
     "name": "stderr",
     "output_type": "stream",
     "text": [
      "/home/mrdalcol/jupyter_env/lib/python3.12/site-packages/sklearn/impute/_base.py:635: UserWarning: Skipping features without any observed values: ['faixa_etaria']. At least one non-missing value is needed for imputation with strategy='most_frequent'.\n",
      "  warnings.warn(\n"
     ]
    }
   ],
   "source": [
    "# Fazer predições no conjunto de teste\n",
    "y_pred = pipeline_final.predict(X_test)"
   ]
  },
  {
   "cell_type": "code",
   "execution_count": 20,
   "id": "3c7d071d-7b37-4b61-bbcb-0d6e259e2e1f",
   "metadata": {},
   "outputs": [
    {
     "name": "stdout",
     "output_type": "stream",
     "text": [
      "\n",
      "Relatório de Classificação Final:\n",
      "              precision    recall  f1-score   support\n",
      "\n",
      "           1       0.97      0.58      0.73    128765\n",
      "           2       0.37      0.61      0.46     17030\n",
      "           3       0.05      0.49      0.09      4887\n",
      "\n",
      "    accuracy                           0.58    150682\n",
      "   macro avg       0.46      0.56      0.43    150682\n",
      "weighted avg       0.87      0.58      0.68    150682\n",
      "\n"
     ]
    }
   ],
   "source": [
    "# Avaliar o resultado\n",
    "print(\"\\nRelatório de Classificação Final:\")\n",
    "print(classification_report(y_test, y_pred))"
   ]
  },
  {
   "cell_type": "code",
   "execution_count": 21,
   "id": "baf0ebe7-8fb9-4516-8806-ba9a6d049fed",
   "metadata": {},
   "outputs": [
    {
     "name": "stdout",
     "output_type": "stream",
     "text": [
      "\n",
      "Matriz de Confusão Final:\n",
      "[[74601 16771 37393]\n",
      " [  604 10360  6066]\n",
      " [ 1530   978  2379]]\n"
     ]
    }
   ],
   "source": [
    "print(\"\\nMatriz de Confusão Final:\")\n",
    "print(confusion_matrix(y_test, y_pred))"
   ]
  },
  {
   "cell_type": "markdown",
   "id": "72f95932-dad7-4ae1-8459-dde16db26787",
   "metadata": {},
   "source": [
    "### ignora daqui pra baixo"
   ]
  },
  {
   "cell_type": "code",
   "execution_count": 22,
   "id": "3287bd41-08d5-4645-9dce-f5d9f90d938d",
   "metadata": {
    "scrolled": true
   },
   "outputs": [],
   "source": [
    "#df.info()"
   ]
  },
  {
   "cell_type": "code",
   "execution_count": 23,
   "id": "086a5c52-331c-4a48-a876-0a2ea8fbd7f3",
   "metadata": {},
   "outputs": [],
   "source": [
    "#X = df_modelo.drop('FORMA', axis=1)\n",
    "#y = df_modelo['FORMA']"
   ]
  },
  {
   "cell_type": "code",
   "execution_count": 24,
   "id": "9f31b481-9e19-4d0b-a794-f5234b34ced5",
   "metadata": {},
   "outputs": [],
   "source": [
    "#categoricas = X.select_dtypes(include='object').columns.tolist()\n",
    "#numericas = X.select_dtypes(include='number').columns.tolist()"
   ]
  },
  {
   "cell_type": "code",
   "execution_count": 25,
   "id": "ff12d0ce-3a3d-45d4-af35-9b8aa80c4391",
   "metadata": {},
   "outputs": [],
   "source": [
    "# Pré-processamento\n",
    "#preprocessador = ColumnTransformer(transformers=[\n",
    "#    ('cat', OneHotEncoder(handle_unknown='ignore'), categoricas),\n",
    "#    ('num', StandardScaler(), numericas)\n",
    "#])"
   ]
  },
  {
   "cell_type": "code",
   "execution_count": 26,
   "id": "9c9b2521-97ea-4957-97c3-a30851762686",
   "metadata": {},
   "outputs": [],
   "source": [
    "#pipeline = Pipeline(steps=[\n",
    "#    ('preprocessador', preprocessador),\n",
    "#    ('modelo', RandomForestClassifier(random_state=42, class_weight='balanced'))\n",
    "#])\n",
    "#model = RandomForestClassifier(class_weight='balanced', random_state=42)"
   ]
  },
  {
   "cell_type": "code",
   "execution_count": 27,
   "id": "8d5e4a6b-edc6-4800-af9f-a405fd07ad97",
   "metadata": {},
   "outputs": [],
   "source": [
    "#X_train, X_test, y_train, y_test = train_test_split(\n",
    "#    X, y, test_size=0.3, random_state=42\n",
    "#)"
   ]
  },
  {
   "cell_type": "code",
   "execution_count": 28,
   "id": "e5c21215-2e94-433c-b90d-7222d951c28c",
   "metadata": {},
   "outputs": [],
   "source": [
    "#colunas_categoricas = X.select_dtypes(include=['object']).columns\n",
    "#colunas_numericas = X.select_dtypes(include=['int64', 'float64']).columns\n",
    "\n",
    "#preprocessor = ColumnTransformer(\n",
    "#    transformers=[\n",
    "#        ('num', StandardScaler(), colunas_numericas),\n",
    "#        ('cat', OneHotEncoder(handle_unknown='ignore'), colunas_categoricas)\n",
    "#    ]\n",
    "#)"
   ]
  },
  {
   "cell_type": "code",
   "execution_count": 29,
   "id": "3085d2fc-42ec-4586-83c2-6725871e9ddb",
   "metadata": {},
   "outputs": [],
   "source": [
    "#X_train_encoded = preprocessor.fit_transform(X_train)\n",
    "#X_test_encoded = preprocessor.transform(X_test)"
   ]
  },
  {
   "cell_type": "code",
   "execution_count": 30,
   "id": "f15e5b1f-dec5-40d1-981f-f03dd0d9e19b",
   "metadata": {},
   "outputs": [],
   "source": [
    "#smote = SMOTE(random_state=42)\n",
    "#X_resampled, y_resampled = smote.fit_resample(X_train_encoded, y_train)\n",
    "#  smote_nc = SMOTENC(categorical_features=[0, 2, 3], random_state=42)"
   ]
  },
  {
   "cell_type": "code",
   "execution_count": 31,
   "id": "bb721e7b-4b9f-4dd4-b543-ce809de98be5",
   "metadata": {},
   "outputs": [],
   "source": [
    "#pipeline.fit(X_train, y_train)\n",
    "#  model.fit(X_resampled, y_resampled) \n"
   ]
  },
  {
   "cell_type": "code",
   "execution_count": 32,
   "id": "2b90d372-3bea-40aa-ae7e-c4957abfa39a",
   "metadata": {},
   "outputs": [],
   "source": [
    "#y_pred = pipeline.predict(X_test)\n",
    "#  y_pred = model.predict(X_test_encoded)\n",
    "#print(\"Relatório de Classificação:\")\n",
    "#print(classification_report(y_test, y_pred))\n",
    "\n",
    "#print(\"Matriz de Confusão:\")\n",
    "#print(confusion_matrix(y_test, y_pred))"
   ]
  },
  {
   "cell_type": "code",
   "execution_count": null,
   "id": "04f97a65-4ee6-439b-82d2-f6eddfea4710",
   "metadata": {},
   "outputs": [],
   "source": []
  }
 ],
 "metadata": {
  "kernelspec": {
   "display_name": "Python 3 (ipykernel)",
   "language": "python",
   "name": "python3"
  },
  "language_info": {
   "codemirror_mode": {
    "name": "ipython",
    "version": 3
   },
   "file_extension": ".py",
   "mimetype": "text/x-python",
   "name": "python",
   "nbconvert_exporter": "python",
   "pygments_lexer": "ipython3",
   "version": "3.12.3"
  }
 },
 "nbformat": 4,
 "nbformat_minor": 5
}
