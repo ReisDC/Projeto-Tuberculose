{
 "cells": [
  {
   "cell_type": "code",
   "execution_count": 2,
   "id": "d3624ede-d024-43a0-b21e-8b684d501129",
   "metadata": {},
   "outputs": [],
   "source": [
    "import pandas as pd\n",
    "import numpy as np\n",
    "from sklearn.model_selection import train_test_split\n",
    "from sklearn.pipeline import Pipeline\n",
    "from sklearn.compose import ColumnTransformer\n",
    "from sklearn.impute import SimpleImputer\n",
    "from sklearn.preprocessing import StandardScaler, OneHotEncoder, LabelEncoder\n",
    "from sklearn.feature_selection import SelectFromModel\n",
    "from sklearn.metrics import classification_report, confusion_matrix, ConfusionMatrixDisplay\n",
    "from sklearn.utils.class_weight import compute_class_weight # <-- Importar para calcular pesos\n",
    "#from imblearn.pipeline import Pipeline as ImbPipeline\n",
    "#from imblearn.over_sampling import SMOTE\n",
    "from xgboost import XGBClassifier\n",
    "import matplotlib.pyplot as plt\n",
    "\n"
   ]
  },
  {
   "cell_type": "code",
   "execution_count": 2,
   "id": "3e81bfa8-c2f8-4107-845c-43df8b6d4c9e",
   "metadata": {},
   "outputs": [],
   "source": [
    "df = pd.read_csv('/mnt/c/Users/AcerGamer/Downloads/Tuberculose/Projeto-Tuberculose/dados/arquivos_csv/dados_tuberculose_transformados.csv', low_memory=False)"
   ]
  },
  {
   "cell_type": "code",
   "execution_count": 3,
   "id": "50b0b608-2aac-4646-bd03-a3cfd0338fa7",
   "metadata": {},
   "outputs": [
    {
     "name": "stdout",
     "output_type": "stream",
     "text": [
      "Restaram 48 colunas após remoção de ausentes.\n"
     ]
    }
   ],
   "source": [
    "porcentagem_nulos = df.isnull().mean() * 100\n",
    "colunas_para_remover = porcentagem_nulos[porcentagem_nulos > 30].index\n",
    "df = df.drop(columns=colunas_para_remover)\n",
    "print(f\"Restaram {df.shape[1]} colunas após remoção de ausentes.\")\n"
   ]
  },
  {
   "cell_type": "code",
   "execution_count": 4,
   "id": "6fcb6223-1557-43f5-ab31-a953fcb4213c",
   "metadata": {},
   "outputs": [],
   "source": [
    "# --- Seleção de Colunas para o Modelo ---\n",
    "colunas_modelo = [\n",
    "    'FORMA',            # variável alvo\n",
    "    'CS_SEXO',\n",
    "    'CS_RACA',\n",
    "    'NU_IDADE_N',\n",
    "    'HIV',\n",
    "    'AGRAVAIDS',\n",
    "    'AGRAVALCOO',\n",
    "    'RAIOX_TORA',\n",
    "    'BACILOSC_E',\n",
    "    'CULTURA_ES',\n",
    "    'NU_ANO'            # ano da notificação\n",
    "]\n",
    "df_modelo = df[colunas_modelo].copy()\n"
   ]
  },
  {
   "cell_type": "markdown",
   "id": "3a028811-5604-4963-8f11-2fcc2310cbdd",
   "metadata": {},
   "source": [
    "# --- Conversão da coluna NU_IDADE_N ---"
   ]
  },
  {
   "cell_type": "code",
   "execution_count": 5,
   "id": "2b4876d8-6871-4897-9153-f17f254e3c8c",
   "metadata": {},
   "outputs": [],
   "source": [
    "df_modelo['NU_IDADE_N'] = df_modelo['NU_IDADE_N'].fillna(0)"
   ]
  },
  {
   "cell_type": "code",
   "execution_count": 6,
   "id": "f7bc6226-17ba-493b-9d42-988bfdb77955",
   "metadata": {},
   "outputs": [],
   "source": [
    "def converter_idade_para_modelo(nu_idade_n):\n",
    "    if pd.isna(nu_idade_n) or int(nu_idade_n) == 0: # Trata NaNs ou 0000 como idade ignorada\n",
    "        return np.nan # Retorna np.nan para ser imputado posteriormente\n",
    "\n",
    "    nu_idade_n = int(nu_idade_n) # Garante que é inteiro para as operações\n",
    "    unidade = nu_idade_n // 1000\n",
    "    valor = nu_idade_n % 1000\n",
    "\n",
    "    if unidade == 1:  # Horas\n",
    "        return valor / (24 * 365)\n",
    "    elif unidade == 2:  # Dias\n",
    "        return valor / 365\n",
    "    elif unidade == 3:  # Meses\n",
    "        return valor / 12\n",
    "    elif unidade == 4:  # Anos\n",
    "        return valor\n",
    "    else: # Idade ignorada ou inválida (ex: '0000')\n",
    "        return np.nan"
   ]
  },
  {
   "cell_type": "code",
   "execution_count": 7,
   "id": "902f9ebd-b61f-487f-809a-23bb7a8e8c5e",
   "metadata": {},
   "outputs": [],
   "source": [
    "# Aplica a função para criar a coluna de idade em anos correta\n",
    "df_modelo['NU_IDADE_ANOS_CORRETA'] = df_modelo['NU_IDADE_N'].apply(converter_idade_para_modelo)\n"
   ]
  },
  {
   "cell_type": "code",
   "execution_count": 8,
   "id": "02b4f06a-4020-4f9b-baa0-d22df31f9960",
   "metadata": {},
   "outputs": [],
   "source": [
    "# Preencher NaNs na nova coluna de idade (se houver, após a conversão) com a mediana\n",
    "mediana_idade_correta = df_modelo['NU_IDADE_ANOS_CORRETA'].median()\n",
    "df_modelo['NU_IDADE_ANOS_CORRETA'] = df_modelo['NU_IDADE_ANOS_CORRETA'].fillna(mediana_idade_correta)\n"
   ]
  },
  {
   "cell_type": "code",
   "execution_count": 9,
   "id": "68048917-a49f-4103-a796-7dfdfab14210",
   "metadata": {},
   "outputs": [],
   "source": [
    "# Criar Faixa Etária a partir da idade correta\n",
    "bins = [0, 18, 35, 50, 65, 120]\n",
    "labels = ['Jovem', 'Adulto Jovem', 'Adulto', 'Idoso', 'Muito Idoso']\n",
    "df_modelo['faixa_etaria'] = pd.cut(df_modelo['NU_IDADE_ANOS_CORRETA'], bins=bins, labels=labels, right=False, include_lowest=True)\n"
   ]
  },
  {
   "cell_type": "code",
   "execution_count": 10,
   "id": "b60d87e0-22cf-47db-a740-12aefa3555c3",
   "metadata": {},
   "outputs": [],
   "source": [
    "# 2. Criar um contador de comorbidades/fatores de risco\n",
    "# Garantir que AGRAVAIDS e AGRAVALCOO sejam numéricos antes de operar\n",
    "df_modelo['AGRAVAIDS'] = pd.to_numeric(df_modelo['AGRAVAIDS'], errors='coerce').fillna(0.0)\n",
    "df_modelo['AGRAVALCOO'] = pd.to_numeric(df_modelo['AGRAVALCOO'], errors='coerce').fillna(0.0)\n",
    "\n",
    "df_modelo['total_comorbidades'] = (df_modelo['AGRAVAIDS'] == 1.0).astype(int) + \\\n",
    "                                  (df_modelo['AGRAVALCOO'] == 1.0).astype(int)\n"
   ]
  },
  {
   "cell_type": "code",
   "execution_count": 11,
   "id": "bbc19809-7de4-48ba-8eec-32f098def474",
   "metadata": {},
   "outputs": [],
   "source": [
    "# 3. Criar feature de interação para HIV com AIDS\n",
    "# Preencher NaNs antes da comparação para 'HIV'\n",
    "df_modelo['HIV'] = df_modelo['HIV'].fillna('Não Informado')\n",
    "\n",
    "df_modelo['hiv_positivo_com_aids'] = ((df_modelo['HIV'] == 'Reagente') & (df_modelo['AGRAVAIDS'] == 1.0))\n",
    "\n",
    "# Remover colunas originais que foram transformadas/substituídas\n",
    "df_modelo = df_modelo.drop(columns=['NU_IDADE_N', 'AGRAVAIDS', 'AGRAVALCOO'])\n"
   ]
  },
  {
   "cell_type": "markdown",
   "id": "dbfebf61-5f3d-477b-9b87-21c69c40500e",
   "metadata": {},
   "source": [
    "# --- Preparação dos Dados para o Modelo ---"
   ]
  },
  {
   "cell_type": "code",
   "execution_count": 12,
   "id": "700ff15a-b76c-4c58-babb-5501d0d81f31",
   "metadata": {},
   "outputs": [],
   "source": [
    "# Preencher NaNs da FORMA com a moda antes de converter para int (se houver)\n",
    "df_modelo['FORMA'] = df_modelo['FORMA'].fillna(df_modelo['FORMA'].mode()[0])\n",
    "y = df_modelo['FORMA'].astype(int)\n",
    "X = df_modelo.drop('FORMA', axis=1)\n"
   ]
  },
  {
   "cell_type": "code",
   "execution_count": 13,
   "id": "a629ecfe-f50f-4e91-a013-8b3b49b692ea",
   "metadata": {},
   "outputs": [],
   "source": [
    "# ---- Codificar a variável alvo 'FORMA' para 0, 1, 2 ----\n",
    "le = LabelEncoder()\n",
    "y = le.fit_transform(df_modelo['FORMA'].astype(int)) # y agora será 0, 1, 2\n",
    "X = df_modelo.drop('FORMA', axis=1)"
   ]
  },
  {
   "cell_type": "code",
   "execution_count": 14,
   "id": "b606e636-c39a-402f-bcf0-2e482c6b8f06",
   "metadata": {},
   "outputs": [
    {
     "name": "stdout",
     "output_type": "stream",
     "text": [
      "Colunas numéricas selecionadas: ['NU_ANO', 'NU_IDADE_ANOS_CORRETA', 'total_comorbidades']\n",
      "Colunas categóricas selecionadas: ['CS_SEXO', 'CS_RACA', 'HIV', 'faixa_etaria', 'hiv_positivo_com_aids', 'RAIOX_TORA', 'BACILOSC_E', 'CULTURA_ES']\n"
     ]
    }
   ],
   "source": [
    "# Identificar colunas numéricas e categóricas (APÓS a engenharia de features)\n",
    "#numeric_features = X.select_dtypes(include=['int64', 'float64', 'int32']).columns.tolist()\n",
    "#categorical_features = X.select_dtypes(include=['object', 'category', 'bool']).columns.tolist()\n",
    "# Re-identificar colunas numéricas e categóricas após a engenharia de features\n",
    "# Mantenha NU_IDADE_ANOS_CORRETA, NU_ANO, total_comorbidades como numéricas\n",
    "numeric_features = ['NU_ANO', 'NU_IDADE_ANOS_CORRETA', 'total_comorbidades']\n",
    "\n",
    "# Adicione as colunas que você identificou como categóricas/ordinais\n",
    "categorical_features = [\n",
    "    'CS_SEXO', 'CS_RACA', 'HIV', 'faixa_etaria', 'hiv_positivo_com_aids',\n",
    "    'RAIOX_TORA', 'BACILOSC_E', 'CULTURA_ES' # <<-- Mudei estas para categóricas\n",
    "]\n",
    "\n",
    "# Certifique-se de que não há sobreposição ou colunas faltando\n",
    "# (pode ser útil um print(X.columns) para verificar todas as colunas em X)\n",
    "print(\"Colunas numéricas selecionadas:\", numeric_features)\n",
    "print(\"Colunas categóricas selecionadas:\", categorical_features)"
   ]
  },
  {
   "cell_type": "code",
   "execution_count": 15,
   "id": "75ab80f8-5dc7-4500-a60b-f10f4dd58486",
   "metadata": {},
   "outputs": [],
   "source": [
    "# --- Construção do Pipeline Avançado (com XGBoost e Imputação Melhorada) ---\n",
    "numeric_transformer = Pipeline(steps=[\n",
    "    ('imputer', SimpleImputer(strategy='median')), # Imputa NaNs resultantes da conversão de idade\n",
    "    ('scaler', StandardScaler())\n",
    "])\n",
    "\n",
    "categorical_transformer = Pipeline(steps=[\n",
    "    ('imputer', SimpleImputer(strategy='most_frequent')), # Imputa NaNs nas categóricas\n",
    "    ('onehot', OneHotEncoder(handle_unknown='ignore'))\n",
    "])\n",
    "\n",
    "preprocessor = ColumnTransformer(\n",
    "    transformers=[\n",
    "        ('num', numeric_transformer, numeric_features),\n",
    "        ('cat', categorical_transformer, categorical_features)\n",
    "    ],\n",
    "    remainder='passthrough' # Manter colunas não especificadas (se houver)\n",
    ")"
   ]
  },
  {
   "cell_type": "markdown",
   "id": "88e31a97-352b-4b37-a34a-4c86e8a080b0",
   "metadata": {},
   "source": [
    "## --- Definição da Estratégia de Superamostragem para SMOTE ---"
   ]
  },
  {
   "cell_type": "code",
   "execution_count": null,
   "id": "cb67021e-56d6-49ed-a4ad-d17e209022d2",
   "metadata": {},
   "outputs": [],
   "source": []
  },
  {
   "cell_type": "code",
   "execution_count": 37,
   "id": "7cf01a2e-1798-4ee2-8bb5-838a6085f8b1",
   "metadata": {},
   "outputs": [],
   "source": [
    "# Criar o pipeline final usando o ImbPipeline\n",
    "pipeline_final = ImbPipeline(steps=[\n",
    "    ('preprocessor', preprocessor),\n",
    "    # SelectFromModel: mantido para possível redução de dimensionalidade, mas com um estimador XGBoost\n",
    "    ('selector', SelectFromModel(XGBClassifier(n_estimators=50, random_state=42, use_label_encoder=False, eval_metric='mlogloss'))),\n",
    "    ('smote', SMOTE(random_state=42)), \n",
    "    ('classifier', XGBClassifier(random_state=42, use_label_encoder=False, eval_metric='mlogloss', tree_method='hist'))\n",
    "])"
   ]
  },
  {
   "cell_type": "markdown",
   "id": "48ecc29c-d57b-4e9e-8760-2692d62e528b",
   "metadata": {},
   "source": [
    "# --- Treinamento e Avaliação ---"
   ]
  },
  {
   "cell_type": "code",
   "execution_count": 31,
   "id": "175009f9-fdb7-4700-a85e-3ac8ce89f128",
   "metadata": {},
   "outputs": [
    {
     "name": "stdout",
     "output_type": "stream",
     "text": [
      "Iniciando o treinamento do pipeline completo com XGBoost...\n"
     ]
    },
    {
     "name": "stderr",
     "output_type": "stream",
     "text": [
      "/home/mrdalcol/jupyter_env/lib/python3.12/site-packages/xgboost/training.py:183: UserWarning: [18:27:56] WARNING: /workspace/src/learner.cc:738: \n",
      "Parameters: { \"use_label_encoder\" } are not used.\n",
      "\n",
      "  bst.update(dtrain, iteration=i, fobj=obj)\n",
      "/home/mrdalcol/jupyter_env/lib/python3.12/site-packages/xgboost/training.py:183: UserWarning: [18:28:07] WARNING: /workspace/src/learner.cc:738: \n",
      "Parameters: { \"use_label_encoder\" } are not used.\n",
      "\n",
      "  bst.update(dtrain, iteration=i, fobj=obj)\n"
     ]
    },
    {
     "name": "stdout",
     "output_type": "stream",
     "text": [
      "Treinamento concluído.\n"
     ]
    }
   ],
   "source": [
    "X_train, X_test, y_train, y_test = train_test_split(X, y, test_size=0.3, random_state=42, stratify=y)\n",
    "\n",
    "print(\"Iniciando o treinamento do pipeline completo com XGBoost...\")\n",
    "pipeline_final.fit(X_train, y_train)\n",
    "print(\"Treinamento concluído.\")\n"
   ]
  },
  {
   "cell_type": "code",
   "execution_count": 32,
   "id": "99b8bf47-99e5-4e40-b301-53e4b518141a",
   "metadata": {},
   "outputs": [],
   "source": [
    "# Fazer predições no conjunto de teste\n",
    "y_pred = pipeline_final.predict(X_test)\n"
   ]
  },
  {
   "cell_type": "code",
   "execution_count": 33,
   "id": "92ccd314-8fd4-45e3-9cf7-f024c2b7e195",
   "metadata": {},
   "outputs": [],
   "source": [
    "# 1. Reverter as predições e o y_test para os rótulos numéricos originais (1, 2, 3)\n",
    "# O `le` é o LabelEncoder que você usou para transformar 'FORMA' para 0, 1, 2\n",
    "y_pred_original_ids = le.inverse_transform(y_pred)\n",
    "y_test_original_ids = le.inverse_transform(y_test)"
   ]
  },
  {
   "cell_type": "code",
   "execution_count": 34,
   "id": "34622b48-ba7b-4e20-8808-0fbc5a5c50e0",
   "metadata": {},
   "outputs": [],
   "source": [
    "mapeamento_nomes_descritivos = {\n",
    "    1: \"Pulmonar\",\n",
    "    2: \"Extrapulmonar\",\n",
    "    3: \"Mista\"\n",
    "}\n",
    "\n",
    "class_names_order = [\"Pulmonar\", \"Extrapulmonar\", \"Mista\"]\n",
    "\n",
    "# Aplicar o mapeamento para as predições e o y_test em formato de nomes\n",
    "y_pred_nomes = [mapeamento_nomes_descritivos[idx] for idx in y_pred_original_ids]\n",
    "y_test_nomes = [mapeamento_nomes_descritivos[idx] for idx in y_test_original_ids]"
   ]
  },
  {
   "cell_type": "code",
   "execution_count": 35,
   "id": "2a4a63ec-17e7-43a5-8576-b7e0831f49aa",
   "metadata": {},
   "outputs": [
    {
     "name": "stdout",
     "output_type": "stream",
     "text": [
      "\n",
      "Relatório de Classificação com Nomes Descritivos:\n",
      "               precision    recall  f1-score   support\n",
      "\n",
      "     Pulmonar       0.66      0.23      0.34     17030\n",
      "Extrapulmonar       0.06      0.66      0.11      4887\n",
      "        Mista       0.93      0.65      0.77    128765\n",
      "\n",
      "     accuracy                           0.60    150682\n",
      "    macro avg       0.55      0.51      0.40    150682\n",
      " weighted avg       0.87      0.60      0.70    150682\n",
      "\n",
      "\n",
      "Matriz de Confusão com Nomes Descritivos:\n",
      "[[83471  1897 43397]\n",
      " [ 4302  3871  8857]\n",
      " [ 1554   107  3226]]\n"
     ]
    }
   ],
   "source": [
    "# Relatório de Classificação com Nomes Descritivos\n",
    "# Ao invés de usar os números, o target_names exibe os nomes no relatório\n",
    "print(\"\\nRelatório de Classificação com Nomes Descritivos:\")\n",
    "print(classification_report(y_test_nomes, y_pred_nomes, target_names=class_names_order))\n",
    "\n",
    "cm_nomes = confusion_matrix(y_test_nomes, y_pred_nomes, labels=class_names_order) # <--- AQUI A CORREÇÃO FINAL\n",
    "\n",
    "print(\"\\nMatriz de Confusão com Nomes Descritivos:\")\n",
    "print(cm_nomes)\n"
   ]
  },
  {
   "cell_type": "code",
   "execution_count": 36,
   "id": "28c40540-fc13-48a9-9b9b-43134a35d6fd",
   "metadata": {},
   "outputs": [
    {
     "data": {
      "image/png": "[encoded data removed]",
      "text/plain": [
       "<Figure size 640x480 with 2 Axes>"
      ]
     },
     "metadata": {},
     "output_type": "display_data"
    }
   ],
   "source": [
    "disp = ConfusionMatrixDisplay(confusion_matrix=cm_nomes, display_labels=list(mapeamento_nomes_descritivos.values()))\n",
    "disp.plot(cmap=plt.cm.Blues) # Pode escolher outro colormap\n",
    "plt.title('Matriz de Confusão com Nomes Descritivos')\n",
    "plt.show()"
   ]
  },
  {
   "cell_type": "code",
   "execution_count": null,
   "id": "58e2f3e6-c64f-4c47-8dca-8e49ba4d43be",
   "metadata": {},
   "outputs": [],
   "source": [
    "# Exemplo de Predições (opcional, para visualização rápida)\n",
    "print(\"\\nExemplo de Predições com Nomes:\")\n",
    "for i in range(10): # Mostra os primeiros 10 exemplos do teste\n",
    "    print(f\"Amostra {i+1}: Real: {y_test_nomes[i]}, Predito: {y_pred_nomes[i]}\")\n"
   ]
  },
  {
   "cell_type": "code",
   "execution_count": null,
   "id": "e6a4becf-4f2e-4cf7-b029-7f5d98cc3b1d",
   "metadata": {},
   "outputs": [],
   "source": []
  },
  {
   "cell_type": "code",
   "execution_count": 4,
   "id": "ca1bc7f9-c7b4-4fa1-b4ad-21bca79eb181",
   "metadata": {},
   "outputs": [
    {
     "name": "stderr",
     "output_type": "stream",
     "text": [
      "/tmp/ipykernel_449/4274405773.py:2: DtypeWarning: Columns (29,30,34,36,37,43,47,49,53,54,56,57,58,59,60,61,63,64,69,87,91,92,93,95,96) have mixed types. Specify dtype option on import or set low_memory=False.\n",
      "  df_original = pd.read_csv('/mnt/c/Users/AcerGamer/Downloads/Tuberculose/Projeto-Tuberculose/dados/arquivos_csv/dados_tuberculose_completos.csv', encoding='latin1')\n"
     ]
    },
    {
     "name": "stdout",
     "output_type": "stream",
     "text": [
      "Colunas do DataFrame original e seus tipos de dados:\n",
      "<class 'pandas.core.frame.DataFrame'>\n",
      "RangeIndex: 502271 entries, 0 to 502270\n",
      "Data columns (total 97 columns):\n",
      " #   Column      Non-Null Count   Dtype  \n",
      "---  ------      --------------   -----  \n",
      " 0   TP_NOT      502271 non-null  int64  \n",
      " 1   ID_AGRAVO   502271 non-null  object \n",
      " 2   DT_NOTIFIC  502271 non-null  int64  \n",
      " 3   NU_ANO      502271 non-null  int64  \n",
      " 4   SG_UF_NOT   502271 non-null  int64  \n",
      " 5   ID_MUNICIP  502271 non-null  int64  \n",
      " 6   ID_REGIONA  297899 non-null  float64\n",
      " 7   DT_DIAG     502271 non-null  int64  \n",
      " 8   ANO_NASC    500066 non-null  float64\n",
      " 9   NU_IDADE_N  502068 non-null  float64\n",
      " 10  CS_SEXO     502271 non-null  object \n",
      " 11  CS_GESTANT  502222 non-null  float64\n",
      " 12  CS_RACA     492687 non-null  float64\n",
      " 13  CS_ESCOL_N  463257 non-null  float64\n",
      " 14  SG_UF       502271 non-null  int64  \n",
      " 15  ID_MN_RESI  502271 non-null  int64  \n",
      " 16  ID_RG_RESI  296327 non-null  float64\n",
      " 17  ID_PAIS     389768 non-null  float64\n",
      " 18  NDUPLIC_N   48911 non-null   float64\n",
      " 19  IN_VINCULA  45987 non-null   float64\n",
      " 20  DT_DIGITA   389768 non-null  float64\n",
      " 21  DT_TRANSUS  28183 non-null   float64\n",
      " 22  DT_TRANSDM  8600 non-null    float64\n",
      " 23  DT_TRANSSM  274346 non-null  float64\n",
      " 24  DT_TRANSRM  0 non-null       float64\n",
      " 25  DT_TRANSRS  9054 non-null    float64\n",
      " 26  DT_TRANSSE  179847 non-null  float64\n",
      " 27  CS_FLXRET   0 non-null       float64\n",
      " 28  FLXRECEBI   0 non-null       float64\n",
      " 29  MIGRADO_W   3 non-null       object \n",
      " 30  ID_OCUPA_N  9 non-null       object \n",
      " 31  TRATAMENTO  502271 non-null  int64  \n",
      " 32  INSTITUCIO  30 non-null      float64\n",
      " 33  RAIOX_TORA  492444 non-null  float64\n",
      " 34  TESTE_TUBE  36 non-null      object \n",
      " 35  FORMA       502083 non-null  float64\n",
      " 36  EXTRAPU1_N  73038 non-null   object \n",
      " 37  EXTRAPU2_N  675 non-null     object \n",
      " 38  EXTRAPUL_O  7210 non-null    object \n",
      " 39  AGRAVAIDS   493183 non-null  float64\n",
      " 40  AGRAVALCOO  493659 non-null  float64\n",
      " 41  AGRAVDIABE  492945 non-null  float64\n",
      " 42  AGRAVDOENC  491279 non-null  float64\n",
      " 43  AGRAVOUTRA  336314 non-null  object \n",
      " 44  AGRAVOUTDE  41390 non-null   object \n",
      " 45  BACILOSC_E  502105 non-null  float64\n",
      " 46  BACILOS_E2  47 non-null      float64\n",
      " 47  BACILOSC_O  112531 non-null  object \n",
      " 48  CULTURA_ES  502105 non-null  float64\n",
      " 49  CULTURA_OU  89723 non-null   object \n",
      " 50  HIV         500518 non-null  float64\n",
      " 51  HISTOPATOL  464627 non-null  float64\n",
      " 52  DT_INIC_TR  480291 non-null  float64\n",
      " 53  RIFAMPICIN  19 non-null      object \n",
      " 54  ISONIAZIDA  23 non-null      object \n",
      " 55  ETAMBUTOL   15 non-null      float64\n",
      " 56  ESTREPTOMI  15 non-null      object \n",
      " 57  PIRAZINAMI  16 non-null      object \n",
      " 58  ETIONAMIDA  16 non-null      object \n",
      " 59  OUTRAS      19 non-null      object \n",
      " 60  OUTRAS_DES  6 non-null       object \n",
      " 61  TRAT_SUPER  94 non-null      object \n",
      " 62  NU_CONTATO  482856 non-null  float64\n",
      " 63  DOENCA_TRA  38 non-null      object \n",
      " 64  SG_UF_AT    500269 non-null  object \n",
      " 65  ID_MUNIC_A  500265 non-null  float64\n",
      " 66  DT_NOTI_AT  303145 non-null  float64\n",
      " 67  SG_UF_2     386232 non-null  float64\n",
      " 68  ID_MUNIC_2  385106 non-null  float64\n",
      " 69  BACILOSC_1  366803 non-null  object \n",
      " 70  BACILOSC_2  342022 non-null  float64\n",
      " 71  BACILOSC_3  323099 non-null  float64\n",
      " 72  BACILOSC_4  305432 non-null  float64\n",
      " 73  BACILOSC_5  289311 non-null  float64\n",
      " 74  BACILOSC_6  273321 non-null  float64\n",
      " 75  TRATSUP_AT  379003 non-null  float64\n",
      " 76  DT_MUDANCA  3 non-null       float64\n",
      " 77  NU_COMU_EX  408157 non-null  float64\n",
      " 78  SITUA_9_M   46 non-null      float64\n",
      " 79  SITUA_12_M  5 non-null       float64\n",
      " 80  SITUA_ENCE  441885 non-null  float64\n",
      " 81  DT_ENCERRA  438959 non-null  float64\n",
      " 82  TPUNINOT    376650 non-null  float64\n",
      " 83  POP_LIBER   491904 non-null  float64\n",
      " 84  POP_RUA     490369 non-null  float64\n",
      " 85  POP_SAUDE   490154 non-null  float64\n",
      " 86  POP_IMIG    489399 non-null  float64\n",
      " 87  BENEF_GOV   369596 non-null  object \n",
      " 88  AGRAVDROGA  491593 non-null  float64\n",
      " 89  AGRAVTABAC  491333 non-null  float64\n",
      " 90  TEST_MOLEC  473377 non-null  float64\n",
      " 91  TEST_SENSI  266026 non-null  object \n",
      " 92  ANT_RETRO   116225 non-null  object \n",
      " 93  BAC_APOS_6  136398 non-null  object \n",
      " 94  TRANSF      39123 non-null   float64\n",
      " 95  UF_TRANSF   25636 non-null   object \n",
      " 96  MUN_TRANSF  23273 non-null   object \n",
      "dtypes: float64(59), int64(9), object(29)\n",
      "memory usage: 371.7+ MB\n",
      "None\n",
      "\n",
      "Primeiras 5 linhas do DataFrame original (para ver os valores):\n",
      "   TP_NOT ID_AGRAVO  DT_NOTIFIC  NU_ANO  SG_UF_NOT  ID_MUNICIP  ID_REGIONA  \\\n",
      "0       2      A169    20200930    2020         15      150650       148.0   \n",
      "1       2      A169    20200710    2020         15      150530       149.0   \n",
      "2       2      A169    20201203    2020         22      220770       186.0   \n",
      "3       2      A169    20200210    2020         24      240920       141.0   \n",
      "4       2      A169    20210114    2021         43      430210       160.0   \n",
      "\n",
      "    DT_DIAG  ANO_NASC  NU_IDADE_N  ... BENEF_GOV  AGRAVDROGA  AGRAVTABAC  \\\n",
      "0  20200930    2009.0      4011.0  ...       9.0         2.0         2.0   \n",
      "1  20200707    1973.0      4046.0  ...       2.0         2.0         2.0   \n",
      "2  20201119    1955.0      4065.0  ...       1.0         2.0         2.0   \n",
      "3  20200208    1960.0      4059.0  ...       2.0         2.0         1.0   \n",
      "4  20201226    1984.0      4035.0  ...       9.0         2.0         1.0   \n",
      "\n",
      "   TEST_MOLEC  TEST_SENSI  ANT_RETRO  BAC_APOS_6  TRANSF  UF_TRANSF  \\\n",
      "0         5.0         NaN        NaN         NaN     2.0       15.0   \n",
      "1         5.0         NaN        NaN         3.0     NaN        NaN   \n",
      "2         5.0         NaN        NaN         NaN     2.0       22.0   \n",
      "3         3.0         NaN        NaN         NaN     NaN        NaN   \n",
      "4         5.0         NaN        NaN         3.0     NaN        NaN   \n",
      "\n",
      "   MUN_TRANSF  \n",
      "0        15.0  \n",
      "1         NaN  \n",
      "2        22.0  \n",
      "3         NaN  \n",
      "4         NaN  \n",
      "\n",
      "[5 rows x 97 columns]\n"
     ]
    }
   ],
   "source": [
    "# Carregue seu DataFrame original novamente (ou use o 'df' que já está carregado)\n",
    "df_original = pd.read_csv('/mnt/c/Users/AcerGamer/Downloads/Tuberculose/Projeto-Tuberculose/dados/arquivos_csv/dados_tuberculose_completos.csv', encoding='latin1')\n",
    "\n",
    "print(\"Colunas do DataFrame original e seus tipos de dados:\")\n",
    "print(df_original.info())\n",
    "\n",
    "print(\"\\nPrimeiras 5 linhas do DataFrame original (para ver os valores):\")\n",
    "print(df_original.head())"
   ]
  },
  {
   "cell_type": "code",
   "execution_count": null,
   "id": "a3db7d91-9a1d-4fbe-a655-b8f23dd73704",
   "metadata": {},
   "outputs": [],
   "source": []
  }
 ],
 "metadata": {
  "kernelspec": {
   "display_name": "Python 3 (ipykernel)",
   "language": "python",
   "name": "python3"
  },
  "language_info": {
   "codemirror_mode": {
    "name": "ipython",
    "version": 3
   },
   "file_extension": ".py",
   "mimetype": "text/x-python",
   "name": "python",
   "nbconvert_exporter": "python",
   "pygments_lexer": "ipython3",
   "version": "3.12.3"
  }
 },
 "nbformat": 4,
 "nbformat_minor": 5
}
