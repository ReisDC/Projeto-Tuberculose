{
 "cells": [
  {
   "cell_type": "code",
   "execution_count": 1,
   "id": "d3624ede-d024-43a0-b21e-8b684d501129",
   "metadata": {
    "id": "d3624ede-d024-43a0-b21e-8b684d501129"
   },
   "outputs": [],
   "source": [
    "import pandas as pd\n",
    "import numpy as np\n",
    "from sklearn.model_selection import train_test_split, GridSearchCV, StratifiedKFold, cross_validate# GridSearchCV já está importado\n",
    "from sklearn.pipeline import Pipeline\n",
    "from sklearn.compose import ColumnTransformer\n",
    "from sklearn.impute import SimpleImputer\n",
    "from sklearn.preprocessing import StandardScaler, OneHotEncoder, LabelEncoder\n",
    "from sklearn.feature_selection import SelectFromModel # Mantenha se for usar, senão pode remover\n",
    "from sklearn.metrics import classification_report, confusion_matrix, ConfusionMatrixDisplay, precision_recall_curve, average_precision_score, f1_score\n",
    "from imblearn.pipeline import Pipeline as ImbPipeline\n",
    "from imblearn.over_sampling import SMOTE\n",
    "from xgboost import XGBClassifier\n",
    "import matplotlib.pyplot as plt\n"
   ]
  },
  {
   "cell_type": "markdown",
   "id": "1fc25ce5-279d-4f3e-83dd-c11c35fc3dec",
   "metadata": {
    "id": "1fc25ce5-279d-4f3e-83dd-c11c35fc3dec"
   },
   "source": [
    "# Leitura dos arquivos"
   ]
  },
  {
   "cell_type": "code",
   "execution_count": 3,
   "id": "3e81bfa8-c2f8-4107-845c-43df8b6d4c9e",
   "metadata": {
    "id": "3e81bfa8-c2f8-4107-845c-43df8b6d4c9e"
   },
   "outputs": [],
   "source": [
    "df = pd.read_csv('/mnt/c/Users/AcerGamer/Downloads/Tuberculose/Projeto-Tuberculose/dados/arquivos_csv/df_treino_final_para_modelo.csv', low_memory=False)"
   ]
  },
  {
   "cell_type": "code",
   "execution_count": 4,
   "id": "50b0b608-2aac-4646-bd03-a3cfd0338fa7",
   "metadata": {
    "colab": {
     "base_uri": "https://localhost:8080/"
    },
    "id": "50b0b608-2aac-4646-bd03-a3cfd0338fa7",
    "outputId": "72c4dc4f-d239-4632-e91b-59fb2508ba84"
   },
   "outputs": [
    {
     "name": "stdout",
     "output_type": "stream",
     "text": [
      "Restaram 11 colunas após remoção de ausentes.\n"
     ]
    }
   ],
   "source": [
    "porcentagem_nulos = df.isnull().mean() * 100\n",
    "colunas_para_remover = porcentagem_nulos[porcentagem_nulos > 30].index\n",
    "df = df.drop(columns=colunas_para_remover)\n",
    "print(f\"Restaram {df.shape[1]} colunas após remoção de ausentes.\")\n"
   ]
  },
  {
   "cell_type": "code",
   "execution_count": 5,
   "id": "b1213764-8251-41c5-a5e1-095ecf5f4b4f",
   "metadata": {
    "colab": {
     "base_uri": "https://localhost:8080/"
    },
    "id": "b1213764-8251-41c5-a5e1-095ecf5f4b4f",
    "outputId": "a18ec9e1-4a76-475a-f299-ed53f4991222",
    "scrolled": true
   },
   "outputs": [
    {
     "name": "stdout",
     "output_type": "stream",
     "text": [
      "\n",
      "--- df info ---\n",
      "<class 'pandas.core.frame.DataFrame'>\n",
      "RangeIndex: 931299 entries, 0 to 931298\n",
      "Data columns (total 11 columns):\n",
      " #   Column      Non-Null Count   Dtype  \n",
      "---  ------      --------------   -----  \n",
      " 0   FORMA       931111 non-null  float64\n",
      " 1   CS_SEXO     931299 non-null  object \n",
      " 2   CS_RACA     921714 non-null  object \n",
      " 3   NU_IDADE_N  931096 non-null  float64\n",
      " 4   HIV         929546 non-null  object \n",
      " 5   AGRAVAIDS   922211 non-null  float64\n",
      " 6   AGRAVALCOO  922687 non-null  float64\n",
      " 7   RAIOX_TORA  921472 non-null  object \n",
      " 8   BACILOSC_E  931133 non-null  object \n",
      " 9   CULTURA_ES  931133 non-null  object \n",
      " 10  NU_ANO      931299 non-null  int64  \n",
      "dtypes: float64(4), int64(1), object(6)\n",
      "memory usage: 78.2+ MB\n",
      "None\n"
     ]
    }
   ],
   "source": [
    "print(\"\\n--- df info ---\")\n",
    "print(df.info())"
   ]
  },
  {
   "cell_type": "code",
   "execution_count": 6,
   "id": "1143b124-aa68-4a58-830b-126873286934",
   "metadata": {
    "colab": {
     "base_uri": "https://localhost:8080/"
    },
    "id": "1143b124-aa68-4a58-830b-126873286934",
    "outputId": "d100e0c1-8b80-443e-bb3f-3d5a319e8b8a",
    "scrolled": true
   },
   "outputs": [
    {
     "name": "stdout",
     "output_type": "stream",
     "text": [
      "\n",
      "Primeiras linhas df:\n",
      "   FORMA CS_SEXO   CS_RACA  NU_IDADE_N            HIV  AGRAVAIDS  AGRAVALCOO  \\\n",
      "0    1.0       F     Parda      4011.0  Não realizado        2.0         2.0   \n",
      "1    1.0       M  Indígena      4046.0   Não Reagente        2.0         2.0   \n",
      "2    1.0       F     Parda      4065.0  Não realizado        2.0         1.0   \n",
      "3    1.0       M    Branca      4059.0   Não Reagente        2.0         1.0   \n",
      "4    1.0       M     Parda      4035.0   Não Reagente        2.0         2.0   \n",
      "\n",
      "  RAIOX_TORA BACILOSC_E CULTURA_ES  NU_ANO  \n",
      "0        1.0        1.0        4.0    2020  \n",
      "1        4.0        1.0        4.0    2020  \n",
      "2        1.0        1.0        4.0    2020  \n",
      "3        1.0        3.0        2.0    2020  \n",
      "4        1.0        1.0        4.0    2021  \n"
     ]
    }
   ],
   "source": [
    "print(\"\\nPrimeiras linhas df:\")\n",
    "print(df.head())"
   ]
  },
  {
   "cell_type": "code",
   "execution_count": 7,
   "id": "5b4dbf66-78b3-4b19-85a5-e070d6eb030c",
   "metadata": {
    "colab": {
     "base_uri": "https://localhost:8080/"
    },
    "id": "5b4dbf66-78b3-4b19-85a5-e070d6eb030c",
    "outputId": "a8e144a9-26c9-4109-b18b-cbf00e19a65e"
   },
   "outputs": [
    {
     "name": "stdout",
     "output_type": "stream",
     "text": [
      "\n",
      "Contagem de 'FORMA' no df:\n",
      "FORMA\n",
      "1.0    429028\n",
      "4.0    429028\n",
      "2.0     56767\n",
      "3.0     16288\n",
      "Name: count, dtype: int64\n"
     ]
    }
   ],
   "source": [
    "print(\"\\nContagem de 'FORMA' no df:\")\n",
    "print(df['FORMA'].value_counts())"
   ]
  },
  {
   "cell_type": "code",
   "execution_count": 8,
   "id": "ed7d2bf1-03fa-4e1e-9720-2aa3a43c387b",
   "metadata": {
    "id": "ed7d2bf1-03fa-4e1e-9720-2aa3a43c387b"
   },
   "outputs": [],
   "source": [
    "df['FORMA'] = df['FORMA'].astype(str)"
   ]
  },
  {
   "cell_type": "markdown",
   "id": "d0965067-f673-4722-bb89-6b1ce8dd430c",
   "metadata": {
    "id": "d0965067-f673-4722-bb89-6b1ce8dd430c"
   },
   "source": [
    "# fim da leitura de dados"
   ]
  },
  {
   "cell_type": "code",
   "execution_count": 9,
   "id": "6fcb6223-1557-43f5-ab31-a953fcb4213c",
   "metadata": {
    "id": "6fcb6223-1557-43f5-ab31-a953fcb4213c"
   },
   "outputs": [],
   "source": [
    "# --- Seleção de Colunas para o Modelo ---\n",
    "colunas_modelo = [\n",
    "    'FORMA',            # variável alvo\n",
    "    'CS_SEXO',\n",
    "    'CS_RACA',\n",
    "    'NU_IDADE_N',\n",
    "    'HIV',\n",
    "    'AGRAVAIDS',\n",
    "    'AGRAVALCOO',\n",
    "    'RAIOX_TORA',\n",
    "    'BACILOSC_E',\n",
    "    'CULTURA_ES',\n",
    "    'NU_ANO'            # ano da notificação\n",
    "]\n",
    "df_modelo = df[colunas_modelo].copy()\n"
   ]
  },
  {
   "cell_type": "markdown",
   "id": "3a028811-5604-4963-8f11-2fcc2310cbdd",
   "metadata": {
    "id": "3a028811-5604-4963-8f11-2fcc2310cbdd"
   },
   "source": [
    "# --- Conversão da coluna NU_IDADE_N ---"
   ]
  },
  {
   "cell_type": "code",
   "execution_count": 10,
   "id": "f7bc6226-17ba-493b-9d42-988bfdb77955",
   "metadata": {
    "id": "f7bc6226-17ba-493b-9d42-988bfdb77955"
   },
   "outputs": [],
   "source": [
    "def converter_idade_para_modelo(nu_idade_n):\n",
    "    if pd.isna(nu_idade_n) or int(nu_idade_n) == 0: # Trata NaNs ou 0000 como idade ignorada\n",
    "        return np.nan # Retorna np.nan para ser imputado posteriormente\n",
    "\n",
    "    nu_idade_n = int(nu_idade_n) # Garante que é inteiro para as operações\n",
    "    unidade = nu_idade_n // 1000\n",
    "    valor = nu_idade_n % 1000\n",
    "\n",
    "    if unidade == 1:  # Horas\n",
    "        return valor / (24 * 365)\n",
    "    elif unidade == 2:  # Dias\n",
    "        return valor / 365\n",
    "    elif unidade == 3:  # Meses\n",
    "        return valor / 12\n",
    "    elif unidade == 4:  # Anos\n",
    "        return valor\n",
    "    else: # Idade ignorada ou inválida (ex: '0000')\n",
    "        return np.nan"
   ]
  },
  {
   "cell_type": "code",
   "execution_count": 11,
   "id": "902f9ebd-b61f-487f-809a-23bb7a8e8c5e",
   "metadata": {
    "id": "902f9ebd-b61f-487f-809a-23bb7a8e8c5e"
   },
   "outputs": [],
   "source": [
    "# Aplica a função para criar a coluna de idade em anos correta\n",
    "df_modelo['NU_IDADE_ANOS_CORRETA'] = df_modelo['NU_IDADE_N'].apply(converter_idade_para_modelo)\n"
   ]
  },
  {
   "cell_type": "code",
   "execution_count": 12,
   "id": "02b4f06a-4020-4f9b-baa0-d22df31f9960",
   "metadata": {
    "id": "02b4f06a-4020-4f9b-baa0-d22df31f9960"
   },
   "outputs": [],
   "source": [
    "# Preencher NaNs na nova coluna de idade (se houver, após a conversão) com a mediana\n",
    "mediana_idade_correta = df_modelo['NU_IDADE_ANOS_CORRETA'].median()\n",
    "df_modelo['NU_IDADE_ANOS_CORRETA'] = df_modelo['NU_IDADE_ANOS_CORRETA'].fillna(mediana_idade_correta)\n"
   ]
  },
  {
   "cell_type": "code",
   "execution_count": 13,
   "id": "68048917-a49f-4103-a796-7dfdfab14210",
   "metadata": {
    "id": "68048917-a49f-4103-a796-7dfdfab14210"
   },
   "outputs": [],
   "source": [
    "# Criar Faixa Etária a partir da idade correta\n",
    "bins = [0, 18, 35, 50, 65, 120]\n",
    "labels = ['Jovem', 'Adulto Jovem', 'Adulto', 'Idoso', 'Muito Idoso']\n",
    "df_modelo['faixa_etaria'] = pd.cut(df_modelo['NU_IDADE_ANOS_CORRETA'], bins=bins, labels=labels, right=False, include_lowest=True)\n"
   ]
  },
  {
   "cell_type": "code",
   "execution_count": 14,
   "id": "b60d87e0-22cf-47db-a740-12aefa3555c3",
   "metadata": {
    "id": "b60d87e0-22cf-47db-a740-12aefa3555c3"
   },
   "outputs": [],
   "source": [
    "# 2. Criar um contador de comorbidades/fatores de risco\n",
    "# Garantir que AGRAVAIDS e AGRAVALCOO sejam numéricos antes de operar\n",
    "df_modelo['AGRAVAIDS'] = pd.to_numeric(df_modelo['AGRAVAIDS'], errors='coerce').fillna(0.0)\n",
    "df_modelo['AGRAVALCOO'] = pd.to_numeric(df_modelo['AGRAVALCOO'], errors='coerce').fillna(0.0)\n",
    "df_modelo['total_comorbidades'] = (df_modelo['AGRAVAIDS'] == 1.0).astype(int) + \\\n",
    "                                  (df_modelo['AGRAVALCOO'] == 1.0).astype(int)\n"
   ]
  },
  {
   "cell_type": "code",
   "execution_count": 15,
   "id": "bbc19809-7de4-48ba-8eec-32f098def474",
   "metadata": {
    "id": "bbc19809-7de4-48ba-8eec-32f098def474"
   },
   "outputs": [],
   "source": [
    "# 3. Criar feature de interação para HIV com AIDS\n",
    "# Preencher NaNs antes da comparação para 'HIV'\n",
    "df_modelo['HIV'] = df_modelo['HIV'].fillna('Não Informado')\n",
    "\n",
    "df_modelo['hiv_positivo_com_aids'] = ((df_modelo['HIV'] == 'Reagente') & (df_modelo['AGRAVAIDS'] == 1.0))\n",
    "\n",
    "# Remover colunas originais que foram transformadas/substituídas\n",
    "df_modelo = df_modelo.drop(columns=['NU_IDADE_N', 'AGRAVAIDS', 'AGRAVALCOO'])\n"
   ]
  },
  {
   "cell_type": "code",
   "execution_count": 16,
   "id": "8dff720b-6c1d-461e-8a4e-4cbdfa117a71",
   "metadata": {
    "id": "8dff720b-6c1d-461e-8a4e-4cbdfa117a71"
   },
   "outputs": [],
   "source": [
    "# Garantir que a coluna FORMA é float para poder adicionar 4.0\n",
    "df_modelo['FORMA'] = df_modelo['FORMA'].fillna(0).astype(float) # Preenche NaNs com 0 e converte para float\n"
   ]
  },
  {
   "cell_type": "code",
   "execution_count": 17,
   "id": "c941f3da-3d10-4f64-bd3b-cdb3543d3a19",
   "metadata": {
    "colab": {
     "base_uri": "https://localhost:8080/"
    },
    "id": "c941f3da-3d10-4f64-bd3b-cdb3543d3a19",
    "outputId": "cb92c170-a85b-4d86-c98f-f19fb607bbee"
   },
   "outputs": [
    {
     "name": "stdout",
     "output_type": "stream",
     "text": [
      "Número de linhas em df_modelo antes da filtragem de FORMA=0.0: 931299\n",
      "Número de linhas em df_modelo após a filtragem de FORMA=0.0: 931299\n"
     ]
    }
   ],
   "source": [
    "print(f\"Número de linhas em df_modelo antes da filtragem de FORMA=0.0: {len(df_modelo)}\")\n",
    "df_modelo = df_modelo[df_modelo['FORMA'] != 0.0].copy() # Filtra as linhas onde FORMA é 0.0\n",
    "print(f\"Número de linhas em df_modelo após a filtragem de FORMA=0.0: {len(df_modelo)}\")\n"
   ]
  },
  {
   "cell_type": "markdown",
   "id": "dbfebf61-5f3d-477b-9b87-21c69c40500e",
   "metadata": {
    "id": "dbfebf61-5f3d-477b-9b87-21c69c40500e"
   },
   "source": [
    "# --- Preparação dos Dados para o Modelo ---"
   ]
  },
  {
   "cell_type": "code",
   "execution_count": 18,
   "id": "046201da-6ce6-463b-a605-24d8b7673aa7",
   "metadata": {
    "id": "046201da-6ce6-463b-a605-24d8b7673aa7"
   },
   "outputs": [],
   "source": [
    "# Preencher NaNs da FORMA com a moda antes de converter e codificar.\n",
    "# Isso garante que não haverá IntCastingNaNError.\n",
    "# A moda é uma boa escolha para variáveis categóricas/discretas como 'FORMA'.\n",
    "df_modelo['FORMA'] = df_modelo['FORMA'].fillna(df_modelo['FORMA'].mode()[0])"
   ]
  },
  {
   "cell_type": "code",
   "execution_count": 19,
   "id": "700ff15a-b76c-4c58-babb-5501d0d81f31",
   "metadata": {
    "colab": {
     "base_uri": "https://localhost:8080/"
    },
    "id": "700ff15a-b76c-4c58-babb-5501d0d81f31",
    "outputId": "6ec9bb23-1347-43a1-d605-61cb8eca8025"
   },
   "outputs": [
    {
     "name": "stdout",
     "output_type": "stream",
     "text": [
      "Distribuição da nova variável alvo 'FORMA_BINARIA':\n",
      "FORMA_BINARIA\n",
      "nao_saudavel    502271\n",
      "saudavel        429028\n",
      "Name: count, dtype: int64\n",
      "\n",
      "\n",
      "Variável alvo 'y' e features 'X' criadas para o modelo binário.\n"
     ]
    }
   ],
   "source": [
    "# --- Mapeamento da Variável Alvo para Binário ---\n",
    "# Mapear os valores de 'FORMA' para as novas classes binárias\n",
    "# 1.0 (Pulmonar), 2.0 (Extrapulmonar), 3.0 (Mista) são agrupados como 'nao_saudavel'\n",
    "# 4.0 é considerado 'saudavel'\n",
    "mapeamento_forma = {\n",
    "    1.0: 'nao_saudavel',\n",
    "    2.0: 'nao_saudavel',\n",
    "    3.0: 'nao_saudavel',\n",
    "    4.0: 'saudavel'\n",
    "}\n",
    "df_modelo['FORMA_BINARIA'] = df_modelo['FORMA'].map(mapeamento_forma)\n",
    "\n",
    "# Verificar a distribuição da nova coluna\n",
    "print(\"Distribuição da nova variável alvo 'FORMA_BINARIA':\")\n",
    "print(df_modelo['FORMA_BINARIA'].value_counts(dropna=False))\n",
    "print(\"\\n\")\n",
    "\n",
    "# --- Definição de X e y ---\n",
    "# y é a nossa nova variável alvo binária\n",
    "y = df_modelo['FORMA_BINARIA'].copy() # Usar a coluna binária como alvo\n",
    "# X contém todas as features, removendo a coluna alvo original e a nova\n",
    "X = df_modelo.drop(['FORMA', 'FORMA_BINARIA'], axis=1)\n",
    "\n",
    "print(\"Variável alvo 'y' e features 'X' criadas para o modelo binário.\")"
   ]
  },
  {
   "cell_type": "code",
   "execution_count": 20,
   "id": "a629ecfe-f50f-4e91-a013-8b3b49b692ea",
   "metadata": {
    "colab": {
     "base_uri": "https://localhost:8080/"
    },
    "id": "a629ecfe-f50f-4e91-a013-8b3b49b692ea",
    "outputId": "682b447f-1910-4473-df83-6af228b2c406"
   },
   "outputs": [
    {
     "name": "stdout",
     "output_type": "stream",
     "text": [
      "Divisão de dados 98/1/1 (Treino/Validação/Teste) concluída.\n",
      "Shape de X_train: (912673, 11), Shape de y_train: (912673,)\n",
      "Shape de X_val: (9313, 11), Shape de y_val: (9313,)\n",
      "Shape de X_test: (9313, 11), Shape de y_test: (9313,)\n"
     ]
    }
   ],
   "source": [
    "# ---- Codificar a variável alvo 'y' para 0 e 1 ----\n",
    "# A variável y já contém 'nao_saudavel' e 'saudavel'\n",
    "le = LabelEncoder()\n",
    "y_encoded = le.fit_transform(y) # y_encoded agora será 0 ('nao_saudavel') e 1 ('saudavel')\n",
    "\n",
    "# Split dos dados em treino e teste - ISSO DEVE SER FEITO AQUI!\n",
    "# Usar y_encoded para a estratificação\n",
    "X_train, X_temp, y_train, y_temp = train_test_split(X, y_encoded, test_size=0.02, stratify=y_encoded, random_state=42)\n",
    "#Dividir os 2% restantes em 1% para validação e 1% para teste (0.5 de 2% é 1%)\n",
    "X_val, X_test, y_val, y_test = train_test_split(X_temp, y_temp, test_size=0.5, stratify=y_temp, random_state=42)\n",
    "\n",
    "print(\"Divisão de dados 98/1/1 (Treino/Validação/Teste) concluída.\")\n",
    "print(f\"Shape de X_train: {X_train.shape}, Shape de y_train: {y_train.shape}\")\n",
    "print(f\"Shape de X_val: {X_val.shape}, Shape de y_val: {y_val.shape}\")\n",
    "print(f\"Shape de X_test: {X_test.shape}, Shape de y_test: {y_test.shape}\")"
   ]
  },
  {
   "cell_type": "code",
   "execution_count": 21,
   "id": "f0fb0453-d31c-4887-bced-8ddb97762668",
   "metadata": {
    "colab": {
     "base_uri": "https://localhost:8080/"
    },
    "id": "f0fb0453-d31c-4887-bced-8ddb97762668",
    "outputId": "29806ce4-4198-4a2f-9ea6-06aba634eef2"
   },
   "outputs": [
    {
     "name": "stdout",
     "output_type": "stream",
     "text": [
      "Classes codificadas pelo LabelEncoder: ['nao_saudavel' 'saudavel']\n",
      "O LabelEncoder atribui 0 para 'nao_saudavel' e 1 para 'saudavel'.\n"
     ]
    }
   ],
   "source": [
    "print(f\"Classes codificadas pelo LabelEncoder: {le.classes_}\")\n",
    "print(\"O LabelEncoder atribui 0 para 'nao_saudavel' e 1 para 'saudavel'.\")"
   ]
  },
  {
   "cell_type": "code",
   "execution_count": 22,
   "id": "1af78a6d-047c-4efa-bfc1-0d4b479ce2ee",
   "metadata": {
    "id": "1af78a6d-047c-4efa-bfc1-0d4b479ce2ee"
   },
   "outputs": [],
   "source": [
    "# A célula de divisão de dados foi movida para a célula anterior para garantir a ordem correta das operações."
   ]
  },
  {
   "cell_type": "code",
   "execution_count": 23,
   "id": "1e09b1a1-fb5e-4a28-80ff-29ab7b4f6a41",
   "metadata": {
    "colab": {
     "base_uri": "https://localhost:8080/"
    },
    "id": "1e09b1a1-fb5e-4a28-80ff-29ab7b4f6a41",
    "outputId": "57d2e3c4-e099-400e-c05f-5df1c8658ac6"
   },
   "outputs": [
    {
     "name": "stdout",
     "output_type": "stream",
     "text": [
      "\n",
      "Distribuição das classes nos splits:\n",
      "--- Treino ---\n",
      "Classe nao_saudavel (0): 492226 amostras (53.93%)\n",
      "Classe saudavel (1): 420447 amostras (46.07%)\n",
      "--- Validação ---\n",
      "Classe nao_saudavel (0): 5022 amostras (53.92%)\n",
      "Classe saudavel (1): 4291 amostras (46.08%)\n",
      "--- Teste ---\n",
      "Classe nao_saudavel (0): 5023 amostras (53.94%)\n",
      "Classe saudavel (1): 4290 amostras (46.06%)\n"
     ]
    }
   ],
   "source": [
    "print(\"\\nDistribuição das classes nos splits:\")\n",
    "splits = {'Treino': y_train, 'Validação': y_val, 'Teste': y_test}\n",
    "for name, y_split in splits.items():\n",
    "    print(f\"--- {name} ---\")\n",
    "    unique, counts = np.unique(y_split, return_counts=True)\n",
    "    for label_num, count in zip(unique, counts):\n",
    "        label_orig = le.inverse_transform([label_num])[0]\n",
    "        print(f\"Classe {label_orig} ({label_num}): {count} amostras ({count/len(y_split):.2%})\")\n"
   ]
  },
  {
   "cell_type": "code",
   "execution_count": 24,
   "id": "b606e636-c39a-402f-bcf0-2e482c6b8f06",
   "metadata": {
    "colab": {
     "base_uri": "https://localhost:8080/"
    },
    "id": "b606e636-c39a-402f-bcf0-2e482c6b8f06",
    "outputId": "4b8e50fe-f61b-4491-8f0a-529ade0809f5"
   },
   "outputs": [
    {
     "name": "stdout",
     "output_type": "stream",
     "text": [
      "Features numéricas que serão usadas: ['NU_ANO', 'NU_IDADE_ANOS_CORRETA', 'total_comorbidades']\n",
      "Features categóricas que serão usadas: ['CS_SEXO', 'CS_RACA', 'HIV', 'faixa_etaria', 'hiv_positivo_com_aids', 'RAIOX_TORA', 'BACILOSC_E', 'CULTURA_ES']\n"
     ]
    }
   ],
   "source": [
    "# Identificar colunas numéricas e categóricas (APÓS a engenharia de features)\n",
    "\n",
    "numeric_features = ['NU_ANO', 'NU_IDADE_ANOS_CORRETA', 'total_comorbidades']\n",
    "\n",
    "# Adicione as colunas que você identificou como categóricas/ordinais\n",
    "categorical_features = [\n",
    "    'CS_SEXO', 'CS_RACA', 'HIV', 'faixa_etaria', 'hiv_positivo_com_aids',\n",
    "    'RAIOX_TORA', 'BACILOSC_E', 'CULTURA_ES'\n",
    "]\n",
    "\n",
    "# Certifique-se de que não há sobreposição ou colunas faltando\n",
    "# (pode ser útil um print(X.columns) para verificar todas as colunas em X)\n",
    "numeric_features = [f for f in numeric_features if f in X.columns]\n",
    "categorical_features = [f for f in categorical_features if f in X.columns]\n",
    "\n",
    "print(f\"Features numéricas que serão usadas: {numeric_features}\")\n",
    "print(f\"Features categóricas que serão usadas: {categorical_features}\")"
   ]
  },
  {
   "cell_type": "code",
   "execution_count": 25,
   "id": "75ab80f8-5dc7-4500-a60b-f10f4dd58486",
   "metadata": {
    "id": "75ab80f8-5dc7-4500-a60b-f10f4dd58486"
   },
   "outputs": [],
   "source": [
    "# --- Construção do Pipeline Avançado (com XGBoost e Imputação Melhorada) ---\n",
    "numeric_transformer = Pipeline(steps=[\n",
    "    ('imputer', SimpleImputer(strategy='median')), # Imputa NaNs resultantes da conversão de idade\n",
    "    ('scaler', StandardScaler())\n",
    "])\n",
    "\n",
    "categorical_transformer = Pipeline(steps=[\n",
    "    ('imputer', SimpleImputer(strategy='most_frequent')), # Imputa NaNs nas categóricas\n",
    "    ('onehot', OneHotEncoder(handle_unknown='ignore'))\n",
    "])\n",
    "\n",
    "preprocessor = ColumnTransformer(\n",
    "    transformers=[\n",
    "        ('num', numeric_transformer, numeric_features),\n",
    "        ('cat', categorical_transformer, categorical_features)\n",
    "    ],\n",
    "    remainder='passthrough' # Manter colunas não especificadas (se houver)\n",
    ")"
   ]
  },
  {
   "cell_type": "markdown",
   "id": "88e31a97-352b-4b37-a34a-4c86e8a080b0",
   "metadata": {
    "id": "88e31a97-352b-4b37-a34a-4c86e8a080b0"
   },
   "source": [
    "## --- Definição da Estratégia de Superamostragem para SMOTE ---"
   ]
  },
  {
   "cell_type": "code",
   "execution_count": 26,
   "id": "d8334b62-b11f-47f7-af6b-69ca338178c4",
   "metadata": {
    "id": "d8334b62-b11f-47f7-af6b-69ca338178c4"
   },
   "outputs": [],
   "source": [
    "# Criar o pipeline final usando o ImbPipeline\n",
    "\n",
    "# --- ESTRATÉGIA DE SMOTE PARA CLASSIFICAÇÃO BINÁRIA ---\n",
    "# Após o mapeamento, as classes são 'nao_saudavel' (0) e 'saudavel' (1).\n",
    "# As classes estão um pouco desbalanceadas (aprox. 54% vs 46%).\n",
    "# Vamos usar SMOTE para igualar o número de amostras da classe minoritária ('saudavel')\n",
    "# ao da majoritária no conjunto de treino. A estratégia 'auto' faz exatamente isso.\n",
    "\n",
    "pipeline_final = ImbPipeline(steps=[\n",
    "    ('preprocessor', preprocessor),\n",
    "    ('smote', SMOTE(random_state=42, sampling_strategy='auto')),\n",
    "    # Classificador XGBoost ajustado para classificação binária\n",
    "    ('classifier', XGBClassifier(objective='binary:logistic', eval_metric='logloss', random_state=42, n_estimators=100, max_depth=3, learning_rate=0.1,\n",
    "        subsample=0.8, colsample_bytree=0.8, tree_method='hist', use_label_encoder=False))\n",
    "])"
   ]
  },
  {
   "cell_type": "code",
   "execution_count": 27,
   "id": "c1a6b047-62d3-482a-ac4b-61b82c2ad53f",
   "metadata": {
    "colab": {
     "base_uri": "https://localhost:8080/"
    },
    "id": "c1a6b047-62d3-482a-ac4b-61b82c2ad53f",
    "outputId": "c766f8c3-8d06-4b83-c5b1-fc2f4aa6c8fb"
   },
   "outputs": [
    {
     "name": "stdout",
     "output_type": "stream",
     "text": [
      "\n",
      "--- 1.b) Hold-out 98/1/1 - Validação Final no conjunto de Teste ---\n"
     ]
    }
   ],
   "source": [
    "print(\"\\n--- 1.b) Hold-out 98/1/1 - Validação Final no conjunto de Teste ---\")"
   ]
  },
  {
   "cell_type": "code",
   "execution_count": 28,
   "id": "a7e8bf09-6572-4991-98b0-a5fe27c29edb",
   "metadata": {
    "colab": {
     "base_uri": "https://localhost:8080/"
    },
    "id": "a7e8bf09-6572-4991-98b0-a5fe27c29edb",
    "outputId": "cdcfb4df-598b-40b9-e5e6-0160fe2f9056"
   },
   "outputs": [
    {
     "name": "stdout",
     "output_type": "stream",
     "text": [
      "Treinando o modelo no conjunto de treino (98%)...\n"
     ]
    },
    {
     "name": "stderr",
     "output_type": "stream",
     "text": [
      "/home/mrdalcol/jupyter_env/lib/python3.12/site-packages/xgboost/training.py:183: UserWarning: [17:13:15] WARNING: /workspace/src/learner.cc:738: \n",
      "Parameters: { \"use_label_encoder\" } are not used.\n",
      "\n",
      "  bst.update(dtrain, iteration=i, fobj=obj)\n"
     ]
    },
    {
     "name": "stdout",
     "output_type": "stream",
     "text": [
      "Treinamento concluído.\n"
     ]
    }
   ],
   "source": [
    "# Treinar o modelo no conjunto de TREINO (98% dos dados)\n",
    "print(\"Treinando o modelo no conjunto de treino (98%)...\")\n",
    "pipeline_final.fit(X_train, y_train)\n",
    "print(\"Treinamento concluído.\")"
   ]
  },
  {
   "cell_type": "code",
   "execution_count": 29,
   "id": "88ee29b7-7eb5-4d7c-bac1-4703f10f5a76",
   "metadata": {
    "id": "88ee29b7-7eb5-4d7c-bac1-4703f10f5a76"
   },
   "outputs": [],
   "source": [
    "# Fazer previsões no conjunto de TESTE (1% dos dados)\n",
    "y_pred = pipeline_final.predict(X_test)"
   ]
  },
  {
   "cell_type": "code",
   "execution_count": 30,
   "id": "e353870c-3dc2-429d-b6f0-f5158313f7b7",
   "metadata": {
    "id": "e353870c-3dc2-429d-b6f0-f5158313f7b7"
   },
   "outputs": [
    {
     "name": "stdout",
     "output_type": "stream",
     "text": [
      "\n",
      "Relatório de Classificação no conjunto de Teste:\n",
      "              precision    recall  f1-score   support\n",
      "\n",
      "nao_saudavel     1.0000    1.0000    1.0000      5023\n",
      "    saudavel     1.0000    1.0000    1.0000      4290\n",
      "\n",
      "    accuracy                         1.0000      9313\n",
      "   macro avg     1.0000    1.0000    1.0000      9313\n",
      "weighted avg     1.0000    1.0000    1.0000      9313\n",
      "\n"
     ]
    }
   ],
   "source": [
    "# --- Métricas principais ---\n",
    "print(\"\\nRelatório de Classificação no conjunto de Teste:\")\n",
    "print(classification_report(y_test, y_pred, digits=4, target_names=[str(c) for c in le.classes_]))"
   ]
  },
  {
   "cell_type": "code",
   "execution_count": 31,
   "id": "9e9309c8-93e1-4d79-86d9-271a802c3c2b",
   "metadata": {
    "id": "9e9309c8-93e1-4d79-86d9-271a802c3c2b"
   },
   "outputs": [
    {
     "name": "stdout",
     "output_type": "stream",
     "text": [
      "F1 Macro: 1.0000\n",
      "F1 Micro: 1.0000\n"
     ]
    }
   ],
   "source": [
    "f1_macro = f1_score(y_test, y_pred, average='macro')\n",
    "f1_micro = f1_score(y_test, y_pred, average='micro')\n",
    "print(f\"F1 Macro: {f1_macro:.4f}\")\n",
    "print(f\"F1 Micro: {f1_micro:.4f}\")"
   ]
  },
  {
   "cell_type": "code",
   "execution_count": 32,
   "id": "b34e3734-0135-41e1-9836-1518758d267b",
   "metadata": {
    "id": "b34e3734-0135-41e1-9836-1518758d267b"
   },
   "outputs": [
    {
     "name": "stdout",
     "output_type": "stream",
     "text": [
      "\n",
      "Curva Precision-Recall:\n"
     ]
    },
    {
     "data": {
      "image/png": "[encoded data removed]",
      "text/plain": [
       "<Figure size 800x600 with 1 Axes>"
      ]
     },
     "metadata": {},
     "output_type": "display_data"
    }
   ],
   "source": [
    "# --- Curva Precision-Recall ---\n",
    "print(\"\\nCurva Precision-Recall:\")\n",
    "fig, ax = plt.subplots(figsize=(8, 6))\n",
    "\n",
    "# Obter as probabilidades para a classe positiva ('saudavel', que é a classe 1)\n",
    "y_scores = pipeline_final.predict_proba(X_test)[:, 1]\n",
    "\n",
    "# Binarizar o y_test para a curva PR, tratando a classe 1 ('saudavel') como positiva\n",
    "y_test_binary = (y_test == 1).astype(int)\n",
    "\n",
    "precision, recall, _ = precision_recall_curve(y_test_binary, y_scores)\n",
    "auc_pr = average_precision_score(y_test_binary, y_scores)\n",
    "\n",
    "ax.plot(recall, precision, label=f'PRC (AUC = {auc_pr:.4f})')\n",
    "ax.set_title('Curva Precision-Recall para a classe \"Saudável\"')\n",
    "ax.set_xlabel('Recall')\n",
    "ax.set_ylabel('Precision')\n",
    "ax.legend(loc='lower left')\n",
    "ax.grid(True)\n",
    "plt.show()"
   ]
  },
  {
   "cell_type": "code",
   "execution_count": null,
   "id": "bac61f6d-bdb9-4940-829f-8dcb7dee06a6",
   "metadata": {
    "id": "bac61f6d-bdb9-4940-829f-8dcb7dee06a6"
   },
   "outputs": [],
   "source": [
    "# O código para exibir o gráfico foi movido para a célula anterior."
   ]
  },
  {
   "cell_type": "code",
   "execution_count": 33,
   "id": "05b14964-4c51-4782-9152-d814b9b5d3c4",
   "metadata": {
    "id": "05b14964-4c51-4782-9152-d814b9b5d3c4"
   },
   "outputs": [
    {
     "name": "stdout",
     "output_type": "stream",
     "text": [
      "\n",
      "Matriz de Confusão no conjunto de Teste:\n"
     ]
    },
    {
     "data": {
      "image/png": "[encoded data removed]",
      "text/plain": [
       "<Figure size 640x480 with 2 Axes>"
      ]
     },
     "metadata": {},
     "output_type": "display_data"
    }
   ],
   "source": [
    "# --- Matriz de Confusão ---\n",
    "print(\"\\nMatriz de Confusão no conjunto de Teste:\")\n",
    "# labels=le.transform(le.classes_) garante a ordem correta dos rótulos\n",
    "cm = confusion_matrix(y_test, y_pred, labels=le.transform(le.classes_))\n",
    "disp = ConfusionMatrixDisplay(confusion_matrix=cm, display_labels=le.classes_)\n",
    "disp.plot(cmap=plt.cm.Blues)\n",
    "plt.title('Matriz de Confusão')\n",
    "plt.show()"
   ]
  },
  {
   "cell_type": "code",
   "execution_count": null,
   "id": "92cdd132-dfc4-4181-8f15-5ebbecb819f9",
   "metadata": {
    "id": "92cdd132-dfc4-4181-8f15-5ebbecb819f9"
   },
   "outputs": [],
   "source": []
  },
  {
   "cell_type": "code",
   "execution_count": null,
   "id": "a52ef681-3c8e-46e6-8167-bdb083d7c707",
   "metadata": {
    "id": "a52ef681-3c8e-46e6-8167-bdb083d7c707"
   },
   "outputs": [],
   "source": []
  },
  {
   "cell_type": "code",
   "execution_count": null,
   "id": "fc1ec8be-11da-44e7-86f8-fda2ecaa83d4",
   "metadata": {
    "id": "fc1ec8be-11da-44e7-86f8-fda2ecaa83d4"
   },
   "outputs": [],
   "source": []
  },
  {
   "cell_type": "markdown",
   "id": "48ecc29c-d57b-4e9e-8760-2692d62e528b",
   "metadata": {
    "id": "48ecc29c-d57b-4e9e-8760-2692d62e528b"
   },
   "source": [
    "# --- Treinamento e Avaliação ---"
   ]
  },
  {
   "cell_type": "code",
   "execution_count": null,
   "id": "a3db7d91-9a1d-4fbe-a655-b8f23dd73704",
   "metadata": {
    "id": "a3db7d91-9a1d-4fbe-a655-b8f23dd73704"
   },
   "outputs": [],
   "source": []
  },
  {
   "cell_type": "code",
   "execution_count": null,
   "id": "b1a8a10a-f010-49b6-807a-eb0f81df690f",
   "metadata": {
    "id": "b1a8a10a-f010-49b6-807a-eb0f81df690f"
   },
   "outputs": [],
   "source": []
  },
  {
   "cell_type": "code",
   "execution_count": null,
   "id": "545f0576-a555-4abb-9ebd-3b128be569af",
   "metadata": {
    "id": "545f0576-a555-4abb-9ebd-3b128be569af"
   },
   "outputs": [],
   "source": [
    "print(df_modelo)"
   ]
  },
  {
   "cell_type": "code",
   "execution_count": null,
   "id": "38120548-9634-49ff-a55c-8ed073084032",
   "metadata": {
    "id": "38120548-9634-49ff-a55c-8ed073084032"
   },
   "outputs": [],
   "source": []
  },
  {
   "cell_type": "code",
   "execution_count": null,
   "id": "45865dc4",
   "metadata": {
    "id": "45865dc4"
   },
   "outputs": [],
   "source": [
    "# Célula de subamostragem removida. O treinamento será feito no conjunto de treino completo (98%)."
   ]
  },
  {
   "cell_type": "markdown",
   "id": "f3b8822b",
   "metadata": {
    "id": "f3b8822b"
   },
   "source": [
    "# Task\n",
    "Altere o código do notebook para remover a validação cruzada, usar uma divisão de dados estratificada de 98/1/1 e reduzir os rótulos da coluna 'FORMA' para apenas 'saudavel' e 'não saudavel' (onde 'não saudavel' engloba 'pulmonar', 'extrapulmonar' e 'mista')."
   ]
  },
  {
   "cell_type": "markdown",
   "id": "1381cd5f",
   "metadata": {
    "id": "1381cd5f"
   },
   "source": [
    "## Modify target variable\n",
    "\n",
    "### Subtask:\n",
    "Modify the `FORMA` column to create the new binary target variable.\n"
   ]
  },
  {
   "cell_type": "markdown",
   "id": "df8dd77f",
   "metadata": {
    "id": "df8dd77f"
   },
   "source": [
    "**Reasoning**:\n",
    "I will start by modifying the `FORMA` column to create the new binary target variable. I will map the existing 'FORMA' values to the new binary categories 'nao_saudavel' and 'saudavel' and then verify the new distribution by printing the value counts.\n",
    "\n"
   ]
  },
  {
   "cell_type": "markdown",
   "id": "5ef0737d",
   "metadata": {
    "id": "5ef0737d"
   },
   "source": [
    "**Reasoning**:\n",
    "I made a mistake by not running all the previous cells to have the `df_modelo` dataframe available. I will now run all the necessary cells from the beginning of the notebook to create the `df_modelo` dataframe and then apply the remapping of the `FORMA` column. I will also add the verification step in the same cell.\n",
    "\n"
   ]
  },
  {
   "cell_type": "code",
   "execution_count": null,
   "id": "2d69ce44",
   "metadata": {
    "id": "2d69ce44"
   },
   "outputs": [],
   "source": [
    "# --- Criar uma Subamostra para Treinamento Rápido ---\n",
    "# Usar 20% dos dados de treino para agilizar a iteração\n",
    "X_train_sample, _, y_train_sample, _ = train_test_split(\n",
    "    X_train, y_train,\n",
    "    train_size=0.2, # Usar 20% dos dados de treino\n",
    "    stratify=y_train,\n",
    "    random_state=42\n",
    ")\n",
    "\n",
    "print(f\"Shape do X_train original: {X_train.shape}\")\n",
    "print(f\"Shape do X_train_sample (20%): {X_train_sample.shape}\")\n",
    "\n",
    "# --- Treinar o modelo na subamostra ---\n",
    "print(\"\\nTreinando o modelo na subamostra de 20% dos dados de treino...\")\n",
    "pipeline_final.fit(X_train_sample, y_train_sample)\n",
    "print(\"Treinamento concluído.\")"
   ]
  }
 ],
 "metadata": {
  "colab": {
   "provenance": []
  },
  "kernelspec": {
   "display_name": "Python 3 (ipykernel)",
   "language": "python",
   "name": "python3"
  },
  "language_info": {
   "codemirror_mode": {
    "name": "ipython",
    "version": 3
   },
   "file_extension": ".py",
   "mimetype": "text/x-python",
   "name": "python",
   "nbconvert_exporter": "python",
   "pygments_lexer": "ipython3",
   "version": "3.12.3"
  }
 },
 "nbformat": 4,
 "nbformat_minor": 5
}
