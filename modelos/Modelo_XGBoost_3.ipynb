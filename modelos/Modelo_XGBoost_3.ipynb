{
  "cells": [
    {
      "cell_type": "code",
      "execution_count": 3,
      "id": "d3624ede-d024-43a0-b21e-8b684d501129",
      "metadata": {
        "id": "d3624ede-d024-43a0-b21e-8b684d501129"
      },
      "outputs": [],
      "source": [
        "import pandas as pd\n",
        "import numpy as np\n",
        "from sklearn.model_selection import train_test_split, GridSearchCV, StratifiedKFold, cross_validate# GridSearchCV já está importado\n",
        "from sklearn.pipeline import Pipeline\n",
        "from sklearn.compose import ColumnTransformer\n",
        "from sklearn.impute import SimpleImputer\n",
        "from sklearn.preprocessing import StandardScaler, OneHotEncoder, LabelEncoder\n",
        "from sklearn.feature_selection import SelectFromModel # Mantenha se for usar, senão pode remover\n",
        "from sklearn.metrics import classification_report, confusion_matrix, ConfusionMatrixDisplay, precision_recall_curve, average_precision_score, f1_score\n",
        "from imblearn.pipeline import Pipeline as ImbPipeline\n",
        "from imblearn.over_sampling import SMOTE\n",
        "from xgboost import XGBClassifier\n",
        "import matplotlib.pyplot as plt\n"
      ]
    },
    {
      "cell_type": "markdown",
      "id": "1fc25ce5-279d-4f3e-83dd-c11c35fc3dec",
      "metadata": {
        "id": "1fc25ce5-279d-4f3e-83dd-c11c35fc3dec"
      },
      "source": [
        "# Leitura dos arquivos"
      ]
    },
    {
      "cell_type": "code",
      "execution_count": 4,
      "id": "3e81bfa8-c2f8-4107-845c-43df8b6d4c9e",
      "metadata": {
        "id": "3e81bfa8-c2f8-4107-845c-43df8b6d4c9e"
      },
      "outputs": [],
      "source": [
        "df = pd.read_csv('df_treino_final_para_modelo.csv', low_memory=False)"
      ]
    },
    {
      "cell_type": "code",
      "execution_count": 5,
      "id": "50b0b608-2aac-4646-bd03-a3cfd0338fa7",
      "metadata": {
        "colab": {
          "base_uri": "https://localhost:8080/"
        },
        "id": "50b0b608-2aac-4646-bd03-a3cfd0338fa7",
        "outputId": "38629246-04f9-48da-81ee-0352fdc2d6a6"
      },
      "outputs": [
        {
          "output_type": "stream",
          "name": "stdout",
          "text": [
            "Restaram 11 colunas após remoção de ausentes.\n"
          ]
        }
      ],
      "source": [
        "porcentagem_nulos = df.isnull().mean() * 100\n",
        "colunas_para_remover = porcentagem_nulos[porcentagem_nulos > 30].index\n",
        "df = df.drop(columns=colunas_para_remover)\n",
        "print(f\"Restaram {df.shape[1]} colunas após remoção de ausentes.\")\n"
      ]
    },
    {
      "cell_type": "code",
      "execution_count": 6,
      "id": "b1213764-8251-41c5-a5e1-095ecf5f4b4f",
      "metadata": {
        "colab": {
          "base_uri": "https://localhost:8080/"
        },
        "id": "b1213764-8251-41c5-a5e1-095ecf5f4b4f",
        "outputId": "b850e4fc-81b0-4017-9c76-09f4555736e2",
        "scrolled": true
      },
      "outputs": [
        {
          "output_type": "stream",
          "name": "stdout",
          "text": [
            "\n",
            "--- df info ---\n",
            "<class 'pandas.core.frame.DataFrame'>\n",
            "RangeIndex: 931299 entries, 0 to 931298\n",
            "Data columns (total 11 columns):\n",
            " #   Column      Non-Null Count   Dtype  \n",
            "---  ------      --------------   -----  \n",
            " 0   FORMA       931111 non-null  float64\n",
            " 1   CS_SEXO     931299 non-null  object \n",
            " 2   CS_RACA     921714 non-null  object \n",
            " 3   NU_IDADE_N  931096 non-null  float64\n",
            " 4   HIV         929546 non-null  object \n",
            " 5   AGRAVAIDS   922211 non-null  float64\n",
            " 6   AGRAVALCOO  922687 non-null  float64\n",
            " 7   RAIOX_TORA  921472 non-null  object \n",
            " 8   BACILOSC_E  931133 non-null  object \n",
            " 9   CULTURA_ES  931133 non-null  object \n",
            " 10  NU_ANO      931299 non-null  int64  \n",
            "dtypes: float64(4), int64(1), object(6)\n",
            "memory usage: 78.2+ MB\n",
            "None\n"
          ]
        }
      ],
      "source": [
        "print(\"\\n--- df info ---\")\n",
        "print(df.info())"
      ]
    },
    {
      "cell_type": "code",
      "execution_count": 7,
      "id": "1143b124-aa68-4a58-830b-126873286934",
      "metadata": {
        "colab": {
          "base_uri": "https://localhost:8080/"
        },
        "id": "1143b124-aa68-4a58-830b-126873286934",
        "outputId": "fc83a331-2aea-4ea5-8e8e-5d408ce38803",
        "scrolled": true
      },
      "outputs": [
        {
          "output_type": "stream",
          "name": "stdout",
          "text": [
            "\n",
            "Primeiras linhas df:\n",
            "   FORMA CS_SEXO   CS_RACA  NU_IDADE_N            HIV  AGRAVAIDS  AGRAVALCOO  \\\n",
            "0    1.0       F     Parda      4011.0  Não realizado        2.0         2.0   \n",
            "1    1.0       M  Indígena      4046.0   Não Reagente        2.0         2.0   \n",
            "2    1.0       F     Parda      4065.0  Não realizado        2.0         1.0   \n",
            "3    1.0       M    Branca      4059.0   Não Reagente        2.0         1.0   \n",
            "4    1.0       M     Parda      4035.0   Não Reagente        2.0         2.0   \n",
            "\n",
            "  RAIOX_TORA BACILOSC_E CULTURA_ES  NU_ANO  \n",
            "0        1.0        1.0        4.0    2020  \n",
            "1        4.0        1.0        4.0    2020  \n",
            "2        1.0        1.0        4.0    2020  \n",
            "3        1.0        3.0        2.0    2020  \n",
            "4        1.0        1.0        4.0    2021  \n"
          ]
        }
      ],
      "source": [
        "print(\"\\nPrimeiras linhas df:\")\n",
        "print(df.head())"
      ]
    },
    {
      "cell_type": "code",
      "execution_count": 8,
      "id": "5b4dbf66-78b3-4b19-85a5-e070d6eb030c",
      "metadata": {
        "colab": {
          "base_uri": "https://localhost:8080/"
        },
        "id": "5b4dbf66-78b3-4b19-85a5-e070d6eb030c",
        "outputId": "3be57c62-b05a-4d7c-ac78-fcb683c552df"
      },
      "outputs": [
        {
          "output_type": "stream",
          "name": "stdout",
          "text": [
            "\n",
            "Contagem de 'FORMA' no df:\n",
            "FORMA\n",
            "1.0    429028\n",
            "4.0    429028\n",
            "2.0     56767\n",
            "3.0     16288\n",
            "Name: count, dtype: int64\n"
          ]
        }
      ],
      "source": [
        "print(\"\\nContagem de 'FORMA' no df:\")\n",
        "print(df['FORMA'].value_counts())"
      ]
    },
    {
      "cell_type": "code",
      "execution_count": 9,
      "id": "ed7d2bf1-03fa-4e1e-9720-2aa3a43c387b",
      "metadata": {
        "id": "ed7d2bf1-03fa-4e1e-9720-2aa3a43c387b"
      },
      "outputs": [],
      "source": [
        "df['FORMA'] = df['FORMA'].astype(str)"
      ]
    },
    {
      "cell_type": "markdown",
      "id": "d0965067-f673-4722-bb89-6b1ce8dd430c",
      "metadata": {
        "id": "d0965067-f673-4722-bb89-6b1ce8dd430c"
      },
      "source": [
        "# fim da leitura de dados"
      ]
    },
    {
      "cell_type": "code",
      "execution_count": 10,
      "id": "6fcb6223-1557-43f5-ab31-a953fcb4213c",
      "metadata": {
        "id": "6fcb6223-1557-43f5-ab31-a953fcb4213c"
      },
      "outputs": [],
      "source": [
        "# --- Seleção de Colunas para o Modelo ---\n",
        "colunas_modelo = [\n",
        "    'FORMA',            # variável alvo\n",
        "    'CS_SEXO',\n",
        "    'CS_RACA',\n",
        "    'NU_IDADE_N',\n",
        "    'HIV',\n",
        "    'AGRAVAIDS',\n",
        "    'AGRAVALCOO',\n",
        "    'RAIOX_TORA',\n",
        "    'BACILOSC_E',\n",
        "    'CULTURA_ES',\n",
        "    'NU_ANO'            # ano da notificação\n",
        "]\n",
        "df_modelo = df[colunas_modelo].copy()\n"
      ]
    },
    {
      "cell_type": "markdown",
      "id": "3a028811-5604-4963-8f11-2fcc2310cbdd",
      "metadata": {
        "id": "3a028811-5604-4963-8f11-2fcc2310cbdd"
      },
      "source": [
        "# --- Conversão da coluna NU_IDADE_N ---"
      ]
    },
    {
      "cell_type": "code",
      "execution_count": 11,
      "id": "f7bc6226-17ba-493b-9d42-988bfdb77955",
      "metadata": {
        "id": "f7bc6226-17ba-493b-9d42-988bfdb77955"
      },
      "outputs": [],
      "source": [
        "def converter_idade_para_modelo(nu_idade_n):\n",
        "    if pd.isna(nu_idade_n) or int(nu_idade_n) == 0: # Trata NaNs ou 0000 como idade ignorada\n",
        "        return np.nan # Retorna np.nan para ser imputado posteriormente\n",
        "\n",
        "    nu_idade_n = int(nu_idade_n) # Garante que é inteiro para as operações\n",
        "    unidade = nu_idade_n // 1000\n",
        "    valor = nu_idade_n % 1000\n",
        "\n",
        "    if unidade == 1:  # Horas\n",
        "        return valor / (24 * 365)\n",
        "    elif unidade == 2:  # Dias\n",
        "        return valor / 365\n",
        "    elif unidade == 3:  # Meses\n",
        "        return valor / 12\n",
        "    elif unidade == 4:  # Anos\n",
        "        return valor\n",
        "    else: # Idade ignorada ou inválida (ex: '0000')\n",
        "        return np.nan"
      ]
    },
    {
      "cell_type": "code",
      "execution_count": 12,
      "id": "902f9ebd-b61f-487f-809a-23bb7a8e8c5e",
      "metadata": {
        "id": "902f9ebd-b61f-487f-809a-23bb7a8e8c5e"
      },
      "outputs": [],
      "source": [
        "# Aplica a função para criar a coluna de idade em anos correta\n",
        "df_modelo['NU_IDADE_ANOS_CORRETA'] = df_modelo['NU_IDADE_N'].apply(converter_idade_para_modelo)\n"
      ]
    },
    {
      "cell_type": "code",
      "execution_count": 13,
      "id": "02b4f06a-4020-4f9b-baa0-d22df31f9960",
      "metadata": {
        "id": "02b4f06a-4020-4f9b-baa0-d22df31f9960"
      },
      "outputs": [],
      "source": [
        "# Preencher NaNs na nova coluna de idade (se houver, após a conversão) com a mediana\n",
        "mediana_idade_correta = df_modelo['NU_IDADE_ANOS_CORRETA'].median()\n",
        "df_modelo['NU_IDADE_ANOS_CORRETA'] = df_modelo['NU_IDADE_ANOS_CORRETA'].fillna(mediana_idade_correta)\n"
      ]
    },
    {
      "cell_type": "code",
      "execution_count": 14,
      "id": "68048917-a49f-4103-a796-7dfdfab14210",
      "metadata": {
        "id": "68048917-a49f-4103-a796-7dfdfab14210"
      },
      "outputs": [],
      "source": [
        "# Criar Faixa Etária a partir da idade correta\n",
        "bins = [0, 18, 35, 50, 65, 120]\n",
        "labels = ['Jovem', 'Adulto Jovem', 'Adulto', 'Idoso', 'Muito Idoso']\n",
        "df_modelo['faixa_etaria'] = pd.cut(df_modelo['NU_IDADE_ANOS_CORRETA'], bins=bins, labels=labels, right=False, include_lowest=True)\n"
      ]
    },
    {
      "cell_type": "code",
      "execution_count": 15,
      "id": "b60d87e0-22cf-47db-a740-12aefa3555c3",
      "metadata": {
        "id": "b60d87e0-22cf-47db-a740-12aefa3555c3"
      },
      "outputs": [],
      "source": [
        "# 2. Criar um contador de comorbidades/fatores de risco\n",
        "# Garantir que AGRAVAIDS e AGRAVALCOO sejam numéricos antes de operar\n",
        "df_modelo['AGRAVAIDS'] = pd.to_numeric(df_modelo['AGRAVAIDS'], errors='coerce').fillna(0.0)\n",
        "df_modelo['AGRAVALCOO'] = pd.to_numeric(df_modelo['AGRAVALCOO'], errors='coerce').fillna(0.0)\n",
        "df_modelo['total_comorbidades'] = (df_modelo['AGRAVAIDS'] == 1.0).astype(int) + \\\n",
        "                                  (df_modelo['AGRAVALCOO'] == 1.0).astype(int)\n"
      ]
    },
    {
      "cell_type": "code",
      "execution_count": 16,
      "id": "bbc19809-7de4-48ba-8eec-32f098def474",
      "metadata": {
        "id": "bbc19809-7de4-48ba-8eec-32f098def474"
      },
      "outputs": [],
      "source": [
        "# 3. Criar feature de interação para HIV com AIDS\n",
        "# Preencher NaNs antes da comparação para 'HIV'\n",
        "df_modelo['HIV'] = df_modelo['HIV'].fillna('Não Informado')\n",
        "\n",
        "df_modelo['hiv_positivo_com_aids'] = ((df_modelo['HIV'] == 'Reagente') & (df_modelo['AGRAVAIDS'] == 1.0))\n",
        "\n",
        "# Remover colunas originais que foram transformadas/substituídas\n",
        "df_modelo = df_modelo.drop(columns=['NU_IDADE_N', 'AGRAVAIDS', 'AGRAVALCOO'])\n"
      ]
    },
    {
      "cell_type": "code",
      "execution_count": 17,
      "id": "8dff720b-6c1d-461e-8a4e-4cbdfa117a71",
      "metadata": {
        "id": "8dff720b-6c1d-461e-8a4e-4cbdfa117a71"
      },
      "outputs": [],
      "source": [
        "# Garantir que a coluna FORMA é float para poder adicionar 4.0\n",
        "df_modelo['FORMA'] = df_modelo['FORMA'].fillna(0).astype(float) # Preenche NaNs com 0 e converte para float\n"
      ]
    },
    {
      "cell_type": "code",
      "execution_count": 18,
      "id": "c941f3da-3d10-4f64-bd3b-cdb3543d3a19",
      "metadata": {
        "colab": {
          "base_uri": "https://localhost:8080/"
        },
        "id": "c941f3da-3d10-4f64-bd3b-cdb3543d3a19",
        "outputId": "607d082b-9930-4d56-bdb5-641d85167866"
      },
      "outputs": [
        {
          "output_type": "stream",
          "name": "stdout",
          "text": [
            "Número de linhas em df_modelo antes da filtragem de FORMA=0.0: 931299\n",
            "Número de linhas em df_modelo após a filtragem de FORMA=0.0: 931299\n"
          ]
        }
      ],
      "source": [
        "print(f\"Número de linhas em df_modelo antes da filtragem de FORMA=0.0: {len(df_modelo)}\")\n",
        "df_modelo = df_modelo[df_modelo['FORMA'] != 0.0].copy() # Filtra as linhas onde FORMA é 0.0\n",
        "print(f\"Número de linhas em df_modelo após a filtragem de FORMA=0.0: {len(df_modelo)}\")\n"
      ]
    },
    {
      "cell_type": "markdown",
      "id": "dbfebf61-5f3d-477b-9b87-21c69c40500e",
      "metadata": {
        "id": "dbfebf61-5f3d-477b-9b87-21c69c40500e"
      },
      "source": [
        "# --- Preparação dos Dados para o Modelo ---"
      ]
    },
    {
      "cell_type": "code",
      "execution_count": 19,
      "id": "046201da-6ce6-463b-a605-24d8b7673aa7",
      "metadata": {
        "id": "046201da-6ce6-463b-a605-24d8b7673aa7"
      },
      "outputs": [],
      "source": [
        "# Preencher NaNs da FORMA com a moda antes de converter e codificar.\n",
        "# Isso garante que não haverá IntCastingNaNError.\n",
        "# A moda é uma boa escolha para variáveis categóricas/discretas como 'FORMA'.\n",
        "df_modelo['FORMA'] = df_modelo['FORMA'].fillna(df_modelo['FORMA'].mode()[0])"
      ]
    },
    {
      "cell_type": "code",
      "execution_count": 20,
      "id": "700ff15a-b76c-4c58-babb-5501d0d81f31",
      "metadata": {
        "id": "700ff15a-b76c-4c58-babb-5501d0d81f31"
      },
      "outputs": [],
      "source": [
        "# Preencher NaNs da FORMA com a moda antes de converter para int (se houver)\n",
        "#df_modelo['FORMA'] = df_modelo['FORMA'].fillna(df_modelo['FORMA'].mode()[0])\n",
        "y = df_modelo['FORMA'].astype(int)\n",
        "X = df_modelo.drop('FORMA', axis=1)\n"
      ]
    },
    {
      "cell_type": "code",
      "execution_count": 21,
      "id": "a629ecfe-f50f-4e91-a013-8b3b49b692ea",
      "metadata": {
        "id": "a629ecfe-f50f-4e91-a013-8b3b49b692ea"
      },
      "outputs": [],
      "source": [
        "# ---- Codificar a variável alvo 'FORMA' para 0, 1, 2 ----\n",
        "le = LabelEncoder()\n",
        "y = le.fit_transform(df_modelo['FORMA'].astype(int)) # y agora será 0, 1, 2\n",
        "#X = df_modelo.drop('FORMA', axis=1)"
      ]
    },
    {
      "cell_type": "code",
      "execution_count": 22,
      "id": "f0fb0453-d31c-4887-bced-8ddb97762668",
      "metadata": {
        "id": "f0fb0453-d31c-4887-bced-8ddb97762668"
      },
      "outputs": [],
      "source": [
        "mapeamento_nomes_descritivos = {\n",
        "    1.0: \"Pulmonar\",\n",
        "    2.0: \"Extrapulmonar\",\n",
        "    3.0: \"Mista\",\n",
        "    4.0: \"Saudável\"\n",
        "}\n",
        "encoded_to_descriptive_name_map = {}\n",
        "for i, original_label_str in enumerate(le.classes_):\n",
        "    original_id_float = float(original_label_str)\n",
        "    if original_id_float in mapeamento_nomes_descritivos:\n",
        "        encoded_to_descriptive_name_map[i] = mapeamento_nomes_descritivos[original_id_float]\n",
        "    else:\n",
        "        print(f\"Aviso: Classe {original_id_float} do LabelEncoder não encontrada no mapeamento descritivo.\")\n"
      ]
    },
    {
      "cell_type": "code",
      "execution_count": 23,
      "id": "1af78a6d-047c-4efa-bfc1-0d4b479ce2ee",
      "metadata": {
        "colab": {
          "base_uri": "https://localhost:8080/"
        },
        "id": "1af78a6d-047c-4efa-bfc1-0d4b479ce2ee",
        "outputId": "e101c999-c444-4c50-c37a-361efd5e69a4"
      },
      "outputs": [
        {
          "output_type": "stream",
          "name": "stdout",
          "text": [
            "Divisão de dados 98/1/1 (Treino/Validação/Teste) concluída.\n",
            "Shape de X_train: (912673, 11), Shape de y_train: (912673,)\n",
            "Shape de X_val: (9313, 11), Shape de y_val: (9313,)\n",
            "Shape de X_test: (9313, 11), Shape de y_test: (9313,)\n"
          ]
        }
      ],
      "source": [
        "# Split dos dados em treino e teste - ISSO DEVE SER FEITO AQUI!\n",
        "X_train, X_temp, y_train, y_temp = train_test_split(X, y, test_size=0.02, stratify=y, random_state=42)\n",
        "#Dividir os 2% restantes em 1% para validação e 1% para teste (0.5 de 2% é 1%)\n",
        "X_val, X_test, y_val, y_test = train_test_split(X_temp, y_temp, test_size=0.5, stratify=y_temp, random_state=42)\n",
        "\n",
        "print(\"Divisão de dados 98/1/1 (Treino/Validação/Teste) concluída.\")\n",
        "print(f\"Shape de X_train: {X_train.shape}, Shape de y_train: {y_train.shape}\")\n",
        "print(f\"Shape de X_val: {X_val.shape}, Shape de y_val: {y_val.shape}\")\n",
        "print(f\"Shape de X_test: {X_test.shape}, Shape de y_test: {y_test.shape}\")\n",
        "\n",
        "# Preparar y_test_nomes para avaliação final (antes de usar y_test no GridSearchCV)\n",
        "#y_test_nomes = [encoded_to_descriptive_name_map[t] for t in y_test]"
      ]
    },
    {
      "cell_type": "code",
      "execution_count": 24,
      "id": "1e09b1a1-fb5e-4a28-80ff-29ab7b4f6a41",
      "metadata": {
        "colab": {
          "base_uri": "https://localhost:8080/"
        },
        "id": "1e09b1a1-fb5e-4a28-80ff-29ab7b4f6a41",
        "outputId": "70a48705-3871-489e-ba3b-29cde427f243"
      },
      "outputs": [
        {
          "output_type": "stream",
          "name": "stdout",
          "text": [
            "\n",
            "Distribuição das classes nos splits:\n",
            "--- Treino ---\n",
            "Classe 1 (0): 420632 amostras (46.09%)\n",
            "Classe 2 (1): 55632 amostras (6.10%)\n",
            "Classe 3 (2): 15962 amostras (1.75%)\n",
            "Classe 4 (3): 420447 amostras (46.07%)\n",
            "--- Validação ---\n",
            "Classe 1 (0): 4292 amostras (46.09%)\n",
            "Classe 2 (1): 567 amostras (6.09%)\n",
            "Classe 3 (2): 163 amostras (1.75%)\n",
            "Classe 4 (3): 4291 amostras (46.08%)\n",
            "--- Teste ---\n",
            "Classe 1 (0): 4292 amostras (46.09%)\n",
            "Classe 2 (1): 568 amostras (6.10%)\n",
            "Classe 3 (2): 163 amostras (1.75%)\n",
            "Classe 4 (3): 4290 amostras (46.06%)\n"
          ]
        }
      ],
      "source": [
        "print(\"\\nDistribuição das classes nos splits:\")\n",
        "splits = {'Treino': y_train, 'Validação': y_val, 'Teste': y_test}\n",
        "for name, y_split in splits.items():\n",
        "    print(f\"--- {name} ---\")\n",
        "    unique, counts = np.unique(y_split, return_counts=True)\n",
        "    for label_num, count in zip(unique, counts):\n",
        "        label_orig = le.inverse_transform([label_num])[0]\n",
        "        print(f\"Classe {label_orig} ({label_num}): {count} amostras ({count/len(y_split):.2%})\")\n"
      ]
    },
    {
      "cell_type": "code",
      "execution_count": 25,
      "id": "b606e636-c39a-402f-bcf0-2e482c6b8f06",
      "metadata": {
        "colab": {
          "base_uri": "https://localhost:8080/"
        },
        "id": "b606e636-c39a-402f-bcf0-2e482c6b8f06",
        "outputId": "8701dfd1-b93d-4d71-da77-54e4c5439927"
      },
      "outputs": [
        {
          "output_type": "stream",
          "name": "stdout",
          "text": [
            "Features numéricas que serão usadas: ['NU_ANO', 'NU_IDADE_ANOS_CORRETA', 'total_comorbidades']\n",
            "Features categóricas que serão usadas: ['CS_SEXO', 'CS_RACA', 'HIV', 'faixa_etaria', 'hiv_positivo_com_aids', 'RAIOX_TORA', 'BACILOSC_E', 'CULTURA_ES']\n"
          ]
        }
      ],
      "source": [
        "# Identificar colunas numéricas e categóricas (APÓS a engenharia de features)\n",
        "\n",
        "numeric_features = ['NU_ANO', 'NU_IDADE_ANOS_CORRETA', 'total_comorbidades']\n",
        "\n",
        "# Adicione as colunas que você identificou como categóricas/ordinais\n",
        "categorical_features = [\n",
        "    'CS_SEXO', 'CS_RACA', 'HIV', 'faixa_etaria', 'hiv_positivo_com_aids',\n",
        "    'RAIOX_TORA', 'BACILOSC_E', 'CULTURA_ES'\n",
        "]\n",
        "\n",
        "# Certifique-se de que não há sobreposição ou colunas faltando\n",
        "# (pode ser útil um print(X.columns) para verificar todas as colunas em X)\n",
        "numeric_features = [f for f in numeric_features if f in X.columns]\n",
        "categorical_features = [f for f in categorical_features if f in X.columns]\n",
        "\n",
        "print(f\"Features numéricas que serão usadas: {numeric_features}\")\n",
        "print(f\"Features categóricas que serão usadas: {categorical_features}\")"
      ]
    },
    {
      "cell_type": "code",
      "execution_count": 26,
      "id": "75ab80f8-5dc7-4500-a60b-f10f4dd58486",
      "metadata": {
        "id": "75ab80f8-5dc7-4500-a60b-f10f4dd58486"
      },
      "outputs": [],
      "source": [
        "# --- Construção do Pipeline Avançado (com XGBoost e Imputação Melhorada) ---\n",
        "numeric_transformer = Pipeline(steps=[\n",
        "    ('imputer', SimpleImputer(strategy='median')), # Imputa NaNs resultantes da conversão de idade\n",
        "    ('scaler', StandardScaler())\n",
        "])\n",
        "\n",
        "categorical_transformer = Pipeline(steps=[\n",
        "    ('imputer', SimpleImputer(strategy='most_frequent')), # Imputa NaNs nas categóricas\n",
        "    ('onehot', OneHotEncoder(handle_unknown='ignore'))\n",
        "])\n",
        "\n",
        "preprocessor = ColumnTransformer(\n",
        "    transformers=[\n",
        "        ('num', numeric_transformer, numeric_features),\n",
        "        ('cat', categorical_transformer, categorical_features)\n",
        "    ],\n",
        "    remainder='passthrough' # Manter colunas não especificadas (se houver)\n",
        ")"
      ]
    },
    {
      "cell_type": "markdown",
      "id": "88e31a97-352b-4b37-a34a-4c86e8a080b0",
      "metadata": {
        "id": "88e31a97-352b-4b37-a34a-4c86e8a080b0"
      },
      "source": [
        "## --- Definição da Estratégia de Superamostragem para SMOTE ---"
      ]
    },
    {
      "cell_type": "code",
      "execution_count": 27,
      "id": "d8334b62-b11f-47f7-af6b-69ca338178c4",
      "metadata": {
        "id": "d8334b62-b11f-47f7-af6b-69ca338178c4"
      },
      "outputs": [],
      "source": [
        "# Criar o pipeline final usando o ImbPipeline\n",
        "\n",
        "# --- ESTRATÉGIA DE SMOTE MAIS LEVE PARA DIAGNÓSTICO ---\n",
        "# Vamos reduzir drasticamente a quantidade de amostras para validar o fluxo.\n",
        "# O objetivo aqui é fazer o código rodar, não obter o melhor modelo ainda.\n",
        "sampling_strategy_smote_leve = {\n",
        "    0: 420632,  # Pulmonar (encoded 0) - Não mexer\n",
        "    1: 80000,   # Extrapulmonar (encoded 1) - Aumento bem menor\n",
        "    2: 40000,   # Mista (encoded 2) - Aumento bem menor\n",
        "    3: 420447   # Saudável (encoded 3) - Não mexer\n",
        "}\n",
        "\n",
        "\n",
        "pipeline_final = ImbPipeline(steps=[\n",
        "    ('preprocessor', preprocessor),\n",
        "    # SelectFromModel: mantido para possível redução de dimensionalidade, mas com um estimador XGBoost\n",
        "    #('selector', SelectFromModel(XGBClassifier(n_estimators=50, random_state=42, use_label_encoder=False, eval_metric='mlogloss'))),\n",
        "    ('smote', SMOTE(random_state=42, sampling_strategy=sampling_strategy_smote_leve)), # USANDO A ESTRATÉGIA LEVE\n",
        "    #('classifier', XGBClassifier(random_state=42, use_label_encoder=False, eval_metric='mlogloss', tree_method='hist'))\n",
        "    ('classifier', XGBClassifier(objective='multi:softmax', eval_metric='mlogloss', random_state=42, n_estimators=100, max_depth=3, learning_rate=0.1,\n",
        "        subsample=0.8, colsample_bytree=0.8, tree_method='hist'))\n",
        "])"
      ]
    },
    {
      "cell_type": "code",
      "execution_count": 28,
      "id": "30677b7f-dd42-4238-97c7-b335ea139973",
      "metadata": {
        "colab": {
          "base_uri": "https://localhost:8080/"
        },
        "id": "30677b7f-dd42-4238-97c7-b335ea139973",
        "scrolled": true,
        "outputId": "adf44e89-bbc9-4561-be07-993d30654dd4"
      },
      "outputs": [
        {
          "output_type": "stream",
          "name": "stdout",
          "text": [
            "\n",
            "--- 1.a) 10-Fold Cross Validation (com diagnóstico) ---\n"
          ]
        },
        {
          "output_type": "stream",
          "name": "stderr",
          "text": [
            "/usr/local/lib/python3.11/dist-packages/sklearn/metrics/_classification.py:1565: UndefinedMetricWarning: Precision is ill-defined and being set to 0.0 in labels with no predicted samples. Use `zero_division` parameter to control this behavior.\n",
            "  _warn_prf(average, modifier, f\"{metric.capitalize()} is\", len(result))\n",
            "/usr/local/lib/python3.11/dist-packages/sklearn/metrics/_classification.py:1565: UndefinedMetricWarning: Precision is ill-defined and being set to 0.0 in labels with no predicted samples. Use `zero_division` parameter to control this behavior.\n",
            "  _warn_prf(average, modifier, f\"{metric.capitalize()} is\", len(result))\n"
          ]
        }
      ],
      "source": [
        "print(\"\\n--- 1.a) 10-Fold Cross Validation (com diagnóstico) ---\")\n",
        "\n",
        "# --- MODIFICAÇÕES PARA DIAGNÓSTICO ---\n",
        "# 1. Usar um StratifiedKFold com 3 splits para um teste mais rápido.\n",
        "# 2. Remover n_jobs para evitar contenção de recursos da CPU.\n",
        "cv_stratified_diagnostico = StratifiedKFold(n_splits=2, shuffle=True, random_state=42)\n",
        "scoring = ['precision_macro', 'recall_macro', 'f1_macro', 'f1_micro'] # Métricas para multiclasse\n",
        "\n",
        "# Executar a validação cruzada no conjunto de TREINO (X_train, y_train)\n",
        "# Removido n_jobs=-1 para rodar sequencialmente\n",
        "cv_results = cross_validate(pipeline_final, X_train, y_train, cv=cv_stratified_diagnostico,\n",
        "                            scoring=scoring, return_train_score=False)"
      ]
    },
    {
      "cell_type": "code",
      "execution_count": 29,
      "id": "f04e6513-c30b-41bc-a172-eee1d60fd549",
      "metadata": {
        "id": "f04e6513-c30b-41bc-a172-eee1d60fd549",
        "colab": {
          "base_uri": "https://localhost:8080/"
        },
        "outputId": "e84ce512-a6e8-4436-dd4f-55268959af0b"
      },
      "outputs": [
        {
          "output_type": "stream",
          "name": "stdout",
          "text": [
            "\n",
            "Resultados da Validação Cruzada (médias e desvios padrão):\n",
            "Precision macro: Média = 0.6378 (Desvio Padrão = 0.0003)\n",
            "Recall macro: Média = 0.5686 (Desvio Padrão = 0.0002)\n",
            "F1 macro: Média = 0.5841 (Desvio Padrão = 0.0003)\n",
            "F1 micro: Média = 0.9313 (Desvio Padrão = 0.0001)\n"
          ]
        }
      ],
      "source": [
        "print(\"\\nResultados da Validação Cruzada (médias e desvios padrão):\")\n",
        "for metric in scoring:\n",
        "    mean_score = cv_results[f'test_{metric}'].mean()\n",
        "    std_score = cv_results[f'test_{metric}'].std()\n",
        "    print(f\"{metric.replace('_', ' ').capitalize()}: Média = {mean_score:.4f} (Desvio Padrão = {std_score:.4f})\")\n"
      ]
    },
    {
      "cell_type": "code",
      "execution_count": 30,
      "id": "c1a6b047-62d3-482a-ac4b-61b82c2ad53f",
      "metadata": {
        "colab": {
          "base_uri": "https://localhost:8080/"
        },
        "id": "c1a6b047-62d3-482a-ac4b-61b82c2ad53f",
        "outputId": "f71364c8-ff82-4651-f21a-9afc54969c6e"
      },
      "outputs": [
        {
          "output_type": "stream",
          "name": "stdout",
          "text": [
            "\n",
            "--- 1.b) Hold-out 98/1/1 - Validação Final no conjunto de Teste ---\n"
          ]
        }
      ],
      "source": [
        "print(\"\\n--- 1.b) Hold-out 98/1/1 - Validação Final no conjunto de Teste ---\")"
      ]
    },
    {
      "cell_type": "code",
      "execution_count": 31,
      "id": "a7e8bf09-6572-4991-98b0-a5fe27c29edb",
      "metadata": {
        "colab": {
          "base_uri": "https://localhost:8080/"
        },
        "id": "a7e8bf09-6572-4991-98b0-a5fe27c29edb",
        "outputId": "0c4aa83a-b2a1-47bf-fcb6-a5f41862e2ed"
      },
      "outputs": [
        {
          "output_type": "stream",
          "name": "stdout",
          "text": [
            "Treinando o modelo no conjunto de treino (98%)...\n",
            "Treinamento concluído.\n"
          ]
        }
      ],
      "source": [
        "# Treinar o modelo no conjunto de TREINO (98% dos dados)\n",
        "print(\"Treinando o modelo no conjunto de treino (98%)...\")\n",
        "pipeline_final.fit(X_train, y_train)\n",
        "print(\"Treinamento concluído.\")"
      ]
    },
    {
      "cell_type": "code",
      "execution_count": 32,
      "id": "88ee29b7-7eb5-4d7c-bac1-4703f10f5a76",
      "metadata": {
        "id": "88ee29b7-7eb5-4d7c-bac1-4703f10f5a76"
      },
      "outputs": [],
      "source": [
        "# Fazer previsões no conjunto de TESTE (1% dos dados)\n",
        "y_pred = pipeline_final.predict(X_test)"
      ]
    },
    {
      "cell_type": "code",
      "execution_count": 33,
      "id": "e353870c-3dc2-429d-b6f0-f5158313f7b7",
      "metadata": {
        "colab": {
          "base_uri": "https://localhost:8080/"
        },
        "id": "e353870c-3dc2-429d-b6f0-f5158313f7b7",
        "outputId": "d21b85fa-a4cd-4622-8508-eb63b5653818"
      },
      "outputs": [
        {
          "output_type": "stream",
          "name": "stdout",
          "text": [
            "\n",
            "Relatório de Classificação no conjunto de Teste:\n",
            "              precision    recall  f1-score   support\n",
            "\n",
            "           1     0.8853    0.9818    0.9311      4292\n",
            "           2     0.6768    0.3134    0.4284       568\n",
            "           3     0.0000    0.0000    0.0000       163\n",
            "           4     1.0000    1.0000    1.0000      4290\n",
            "\n",
            "    accuracy                         0.9322      9313\n",
            "   macro avg     0.6405    0.5738    0.5899      9313\n",
            "weighted avg     0.9099    0.9322    0.9159      9313\n",
            "\n"
          ]
        },
        {
          "output_type": "stream",
          "name": "stderr",
          "text": [
            "/usr/local/lib/python3.11/dist-packages/sklearn/metrics/_classification.py:1565: UndefinedMetricWarning: Precision is ill-defined and being set to 0.0 in labels with no predicted samples. Use `zero_division` parameter to control this behavior.\n",
            "  _warn_prf(average, modifier, f\"{metric.capitalize()} is\", len(result))\n",
            "/usr/local/lib/python3.11/dist-packages/sklearn/metrics/_classification.py:1565: UndefinedMetricWarning: Precision is ill-defined and being set to 0.0 in labels with no predicted samples. Use `zero_division` parameter to control this behavior.\n",
            "  _warn_prf(average, modifier, f\"{metric.capitalize()} is\", len(result))\n",
            "/usr/local/lib/python3.11/dist-packages/sklearn/metrics/_classification.py:1565: UndefinedMetricWarning: Precision is ill-defined and being set to 0.0 in labels with no predicted samples. Use `zero_division` parameter to control this behavior.\n",
            "  _warn_prf(average, modifier, f\"{metric.capitalize()} is\", len(result))\n"
          ]
        }
      ],
      "source": [
        "# --- Métricas principais ---\n",
        "print(\"\\nRelatório de Classificação no conjunto de Teste:\")\n",
        "print(classification_report(y_test, y_pred, digits=4, target_names=[str(c) for c in le.classes_]))"
      ]
    },
    {
      "cell_type": "code",
      "execution_count": 34,
      "id": "9e9309c8-93e1-4d79-86d9-271a802c3c2b",
      "metadata": {
        "colab": {
          "base_uri": "https://localhost:8080/"
        },
        "id": "9e9309c8-93e1-4d79-86d9-271a802c3c2b",
        "outputId": "9eb0d600-6629-480c-b2f1-4597ea2af2dd"
      },
      "outputs": [
        {
          "output_type": "stream",
          "name": "stdout",
          "text": [
            "F1 Macro: 0.5899\n",
            "F1 Micro: 0.9322\n"
          ]
        }
      ],
      "source": [
        "f1_macro = f1_score(y_test, y_pred, average='macro')\n",
        "f1_micro = f1_score(y_test, y_pred, average='micro')\n",
        "print(f\"F1 Macro: {f1_macro:.4f}\")\n",
        "print(f\"F1 Micro: {f1_micro:.4f}\")"
      ]
    },
    {
      "cell_type": "code",
      "execution_count": 35,
      "id": "b34e3734-0135-41e1-9836-1518758d267b",
      "metadata": {
        "colab": {
          "base_uri": "https://localhost:8080/",
          "height": 557
        },
        "id": "b34e3734-0135-41e1-9836-1518758d267b",
        "outputId": "901f452b-2d67-411f-c22f-2c877f06a2b0"
      },
      "outputs": [
        {
          "output_type": "stream",
          "name": "stdout",
          "text": [
            "\n",
            "Curvas Precision-Recall (One-vs-Rest):\n"
          ]
        },
        {
          "output_type": "display_data",
          "data": {
            "text/plain": [
              "<Figure size 800x600 with 1 Axes>"
            ],
            "image/png": "[encoded data removed]"
          },
          "metadata": {}
        }
      ],
      "source": [
        "# --- Curva Precision-Recall ---\n",
        "# Para multiclasse, a Precision-Recall Curve é tipicamente calculada One-vs-Rest (OvR).\n",
        "# O `average_precision_score` no Scikit-learn pode calcular para multiclasse usando OvR.\n",
        "\n",
        "print(\"\\nCurvas Precision-Recall (One-vs-Rest):\")\n",
        "fig, ax = plt.subplots(figsize=(8, 6))\n",
        "colors = plt.cm.jet(np.linspace(0, 1, len(le.classes_)))\n",
        "\n",
        "for i, class_label_original in enumerate(le.classes_):\n",
        "    # Calcular y_true binário para a classe atual (1 se pertence à classe, 0 caso contrário)\n",
        "    y_true_binary = (y_test == i).astype(int)\n",
        "    # Obter as probabilidades para a classe atual\n",
        "    y_scores_class = pipeline_final.predict_proba(X_test)[:, i]\n",
        "\n",
        "    precision, recall, _ = precision_recall_curve(y_true_binary, y_scores_class)\n",
        "    auc_pr = average_precision_score(y_true_binary, y_scores_class)\n",
        "\n",
        "    ax.plot(recall, precision, color=colors[i],\n",
        "            label=f'PRC para {class_label_original} (AUC = {auc_pr:.4f})')\n"
      ]
    },
    {
      "cell_type": "code",
      "execution_count": 36,
      "id": "bac61f6d-bdb9-4940-829f-8dcb7dee06a6",
      "metadata": {
        "id": "bac61f6d-bdb9-4940-829f-8dcb7dee06a6"
      },
      "outputs": [],
      "source": [
        "ax.set_title('Precision-Recall Curve (One-vs-Rest)')\n",
        "ax.set_xlabel('Recall')\n",
        "ax.set_ylabel('Precision')\n",
        "ax.legend(loc='lower left')\n",
        "ax.grid(True)\n",
        "plt.show()"
      ]
    },
    {
      "cell_type": "code",
      "execution_count": 37,
      "id": "05b14964-4c51-4782-9152-d814b9b5d3c4",
      "metadata": {
        "colab": {
          "base_uri": "https://localhost:8080/",
          "height": 507
        },
        "id": "05b14964-4c51-4782-9152-d814b9b5d3c4",
        "outputId": "d56f2e86-5113-4080-90ae-05214ed1db7b"
      },
      "outputs": [
        {
          "output_type": "stream",
          "name": "stdout",
          "text": [
            "\n",
            "Matriz de Confusão no conjunto de Teste:\n"
          ]
        },
        {
          "output_type": "display_data",
          "data": {
            "text/plain": [
              "<Figure size 640x480 with 2 Axes>"
            ],
            "image/png": "[encoded data removed]"
          },
          "metadata": {}
        }
      ],
      "source": [
        "# --- Matriz de Confusão ---\n",
        "print(\"\\nMatriz de Confusão no conjunto de Teste:\")\n",
        "# labels=le.transform(le.classes_) garante a ordem correta dos rótulos\n",
        "cm = confusion_matrix(y_test, y_pred, labels=le.transform(le.classes_))\n",
        "disp = ConfusionMatrixDisplay(confusion_matrix=cm, display_labels=le.classes_)\n",
        "disp.plot(cmap=plt.cm.Blues)\n",
        "plt.title('Matriz de Confusão')\n",
        "plt.show()"
      ]
    },
    {
      "cell_type": "code",
      "execution_count": 37,
      "id": "92cdd132-dfc4-4181-8f15-5ebbecb819f9",
      "metadata": {
        "id": "92cdd132-dfc4-4181-8f15-5ebbecb819f9"
      },
      "outputs": [],
      "source": []
    },
    {
      "cell_type": "code",
      "execution_count": 37,
      "id": "a52ef681-3c8e-46e6-8167-bdb083d7c707",
      "metadata": {
        "id": "a52ef681-3c8e-46e6-8167-bdb083d7c707"
      },
      "outputs": [],
      "source": []
    },
    {
      "cell_type": "code",
      "execution_count": 37,
      "id": "fc1ec8be-11da-44e7-86f8-fda2ecaa83d4",
      "metadata": {
        "id": "fc1ec8be-11da-44e7-86f8-fda2ecaa83d4"
      },
      "outputs": [],
      "source": []
    },
    {
      "cell_type": "markdown",
      "id": "48ecc29c-d57b-4e9e-8760-2692d62e528b",
      "metadata": {
        "id": "48ecc29c-d57b-4e9e-8760-2692d62e528b"
      },
      "source": [
        "# --- Treinamento e Avaliação ---"
      ]
    },
    {
      "cell_type": "code",
      "execution_count": 37,
      "id": "a3db7d91-9a1d-4fbe-a655-b8f23dd73704",
      "metadata": {
        "id": "a3db7d91-9a1d-4fbe-a655-b8f23dd73704"
      },
      "outputs": [],
      "source": []
    },
    {
      "cell_type": "code",
      "execution_count": 37,
      "id": "b1a8a10a-f010-49b6-807a-eb0f81df690f",
      "metadata": {
        "id": "b1a8a10a-f010-49b6-807a-eb0f81df690f"
      },
      "outputs": [],
      "source": []
    },
    {
      "cell_type": "code",
      "execution_count": 38,
      "id": "545f0576-a555-4abb-9ebd-3b128be569af",
      "metadata": {
        "id": "545f0576-a555-4abb-9ebd-3b128be569af",
        "colab": {
          "base_uri": "https://localhost:8080/"
        },
        "outputId": "b5fb7046-b7d9-40ab-e5d7-0676d659c03d"
      },
      "outputs": [
        {
          "output_type": "stream",
          "name": "stdout",
          "text": [
            "        FORMA CS_SEXO   CS_RACA            HIV     RAIOX_TORA BACILOSC_E  \\\n",
            "0         1.0       F     Parda  Não realizado            1.0        1.0   \n",
            "1         1.0       M  Indígena   Não Reagente            4.0        1.0   \n",
            "2         1.0       F     Parda  Não realizado            1.0        1.0   \n",
            "3         1.0       M    Branca   Não Reagente            1.0        3.0   \n",
            "4         1.0       M     Parda   Não Reagente            1.0        1.0   \n",
            "...       ...     ...       ...            ...            ...        ...   \n",
            "931294    4.0       M       2.0       Negativo         Normal   Negativo   \n",
            "931295    4.0       F       5.0       Negativo  Não Realizado   Negativo   \n",
            "931296    4.0       M       2.0       Negativo         Normal   Negativo   \n",
            "931297    4.0       M       4.0       Negativo         Normal   Negativo   \n",
            "931298    4.0       F       2.0       Negativo         Normal   Negativo   \n",
            "\n",
            "       CULTURA_ES  NU_ANO  NU_IDADE_ANOS_CORRETA faixa_etaria  \\\n",
            "0             4.0    2020                   11.0        Jovem   \n",
            "1             4.0    2020                   46.0       Adulto   \n",
            "2             4.0    2020                   65.0  Muito Idoso   \n",
            "3             2.0    2020                   59.0        Idoso   \n",
            "4             4.0    2021                   35.0       Adulto   \n",
            "...           ...     ...                    ...          ...   \n",
            "931294   Negativo    2021                   38.0       Adulto   \n",
            "931295   Negativo    2022                   38.0       Adulto   \n",
            "931296   Negativo    2022                   38.0       Adulto   \n",
            "931297   Negativo    2021                   38.0       Adulto   \n",
            "931298   Negativo    2022                   38.0       Adulto   \n",
            "\n",
            "        total_comorbidades  hiv_positivo_com_aids  \n",
            "0                        0                  False  \n",
            "1                        0                  False  \n",
            "2                        1                  False  \n",
            "3                        1                  False  \n",
            "4                        0                  False  \n",
            "...                    ...                    ...  \n",
            "931294                   0                  False  \n",
            "931295                   0                  False  \n",
            "931296                   0                  False  \n",
            "931297                   0                  False  \n",
            "931298                   0                  False  \n",
            "\n",
            "[931299 rows x 12 columns]\n"
          ]
        }
      ],
      "source": [
        "print(df_modelo)"
      ]
    },
    {
      "cell_type": "code",
      "execution_count": 38,
      "id": "38120548-9634-49ff-a55c-8ed073084032",
      "metadata": {
        "id": "38120548-9634-49ff-a55c-8ed073084032"
      },
      "outputs": [],
      "source": []
    },
    {
      "cell_type": "code",
      "metadata": {
        "colab": {
          "base_uri": "https://localhost:8080/"
        },
        "id": "45865dc4",
        "outputId": "1196d3da-5199-4b97-c850-5e55bd01518b"
      },
      "source": [
        "# --- SUGESTÃO PARA ACELERAR: Criar uma subamostra do conjunto de treino ---\n",
        "# Usar uma fração dos dados para experimentação rápida.\n",
        "# 0.2 significa usar 20% dos dados de treino. Ajuste conforme necessário.\n",
        "print(f\"Tamanho original de X_train: {len(X_train)}\")\n",
        "\n",
        "X_train_sample, _, y_train_sample, _ = train_test_split(\n",
        "    X_train, y_train, train_size=0.2, stratify=y_train, random_state=42\n",
        ")\n",
        "\n",
        "print(f\"Tamanho da subamostra de X_train_sample: {len(X_train_sample)}\")\n",
        "\n",
        "# Agora, use X_train_sample e y_train_sample no cross_validate"
      ],
      "id": "45865dc4",
      "execution_count": 39,
      "outputs": [
        {
          "output_type": "stream",
          "name": "stdout",
          "text": [
            "Tamanho original de X_train: 912673\n",
            "Tamanho da subamostra de X_train_sample: 182534\n"
          ]
        }
      ]
    }
  ],
  "metadata": {
    "colab": {
      "provenance": []
    },
    "kernelspec": {
      "display_name": "Python 3",
      "name": "python3"
    },
    "language_info": {
      "codemirror_mode": {
        "name": "ipython",
        "version": 3
      },
      "file_extension": ".py",
      "mimetype": "text/x-python",
      "name": "python",
      "nbconvert_exporter": "python",
      "pygments_lexer": "ipython3",
      "version": "3.12.3"
    }
  },
  "nbformat": 4,
  "nbformat_minor": 5
}