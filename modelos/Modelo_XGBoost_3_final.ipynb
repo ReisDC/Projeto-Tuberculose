{
 "cells": [
  {
   "cell_type": "code",
   "execution_count": 1,
   "id": "d3624ede-d024-43a0-b21e-8b684d501129",
   "metadata": {
    "id": "d3624ede-d024-43a0-b21e-8b684d501129"
   },
   "outputs": [],
   "source": [
    "import pandas as pd\n",
    "import numpy as np\n",
    "from sklearn.model_selection import train_test_split, GridSearchCV, StratifiedKFold, cross_validate# GridSearchCV já está importado\n",
    "from sklearn.pipeline import Pipeline\n",
    "from sklearn.compose import ColumnTransformer\n",
    "from sklearn.impute import SimpleImputer\n",
    "from sklearn.preprocessing import StandardScaler, OneHotEncoder, LabelEncoder, FunctionTransformer # Import FunctionTransformer\n",
    "from sklearn.feature_selection import SelectFromModel # Mantenha se for usar, senão pode remover\n",
    "from sklearn.metrics import classification_report, confusion_matrix, ConfusionMatrixDisplay, precision_recall_curve, average_precision_score, f1_score, precision_score, recall_score\n",
    "from imblearn.pipeline import Pipeline as ImbPipeline\n",
    "from imblearn.over_sampling import SMOTE\n",
    "from xgboost import XGBClassifier\n",
    "import matplotlib.pyplot as plt"
   ]
  },
  {
   "cell_type": "markdown",
   "id": "1fc25ce5-279d-4f3e-83dd-c11c35fc3dec",
   "metadata": {
    "id": "1fc25ce5-279d-4f3e-83dd-c11c35fc3dec"
   },
   "source": [
    "# Leitura dos arquivos"
   ]
  },
  {
   "cell_type": "code",
   "execution_count": 2,
   "id": "3e81bfa8-c2f8-4107-845c-43df8b6d4c9e",
   "metadata": {
    "id": "3e81bfa8-c2f8-4107-845c-43df8b6d4c9e"
   },
   "outputs": [],
   "source": [
    "df = pd.read_csv('/mnt/c/Users/AcerGamer/Downloads/Tuberculose/Projeto-Tuberculose/dados/arquivos_csv/df_treino_final_para_modelo.csv', low_memory=False)"
   ]
  },
  {
   "cell_type": "code",
   "execution_count": 3,
   "id": "50b0b608-2aac-4646-bd03-a3cfd0338fa7",
   "metadata": {
    "colab": {
     "base_uri": "https://localhost:8080/"
    },
    "id": "50b0b608-2aac-4646-bd03-a3cfd0338fa7",
    "outputId": "504801d6-7915-44b7-e7db-53118482daf8"
   },
   "outputs": [
    {
     "name": "stdout",
     "output_type": "stream",
     "text": [
      "Restaram 11 colunas após remoção de ausentes.\n"
     ]
    }
   ],
   "source": [
    "porcentagem_nulos = df.isnull().mean() * 100\n",
    "colunas_para_remover = porcentagem_nulos[porcentagem_nulos > 30].index\n",
    "df = df.drop(columns=colunas_para_remover)\n",
    "print(f\"Restaram {df.shape[1]} colunas após remoção de ausentes.\")"
   ]
  },
  {
   "cell_type": "code",
   "execution_count": 4,
   "id": "b1213764-8251-41c5-a5e1-095ecf5f4b4f",
   "metadata": {
    "colab": {
     "base_uri": "https://localhost:8080/"
    },
    "id": "b1213764-8251-41c5-a5e1-095ecf5f4b4f",
    "outputId": "259333d2-103c-4797-8ae0-7082f80aa47e",
    "scrolled": true
   },
   "outputs": [
    {
     "name": "stdout",
     "output_type": "stream",
     "text": [
      "\n",
      "--- df info ---\n",
      "<class 'pandas.core.frame.DataFrame'>\n",
      "RangeIndex: 931299 entries, 0 to 931298\n",
      "Data columns (total 11 columns):\n",
      " #   Column      Non-Null Count   Dtype  \n",
      "---  ------      --------------   -----  \n",
      " 0   FORMA       931111 non-null  float64\n",
      " 1   CS_SEXO     931299 non-null  object \n",
      " 2   CS_RACA     921714 non-null  object \n",
      " 3   NU_IDADE_N  931096 non-null  float64\n",
      " 4   HIV         929546 non-null  object \n",
      " 5   AGRAVAIDS   922211 non-null  float64\n",
      " 6   AGRAVALCOO  922687 non-null  float64\n",
      " 7   RAIOX_TORA  921472 non-null  object \n",
      " 8   BACILOSC_E  931133 non-null  object \n",
      " 9   CULTURA_ES  931133 non-null  object \n",
      " 10  NU_ANO      931299 non-null  int64  \n",
      "dtypes: float64(4), int64(1), object(6)\n",
      "memory usage: 78.2+ MB\n",
      "None\n"
     ]
    }
   ],
   "source": [
    "print(\"\\n--- df info ---\")\n",
    "print(df.info())"
   ]
  },
  {
   "cell_type": "code",
   "execution_count": 5,
   "id": "1143b124-aa68-4a58-830b-126873286934",
   "metadata": {
    "colab": {
     "base_uri": "https://localhost:8080/",
     "height": 347
    },
    "id": "1143b124-aa68-4a58-830b-126873286934",
    "outputId": "8846ebea-75f2-491f-8a70-969c52ff0c8b",
    "scrolled": true
   },
   "outputs": [
    {
     "name": "stdout",
     "output_type": "stream",
     "text": [
      "\n",
      "Primeiras linhas df:\n"
     ]
    },
    {
     "data": {
      "text/html": [
       "<div>\n",
       "<style scoped>\n",
       "    .dataframe tbody tr th:only-of-type {\n",
       "        vertical-align: middle;\n",
       "    }\n",
       "\n",
       "    .dataframe tbody tr th {\n",
       "        vertical-align: top;\n",
       "    }\n",
       "\n",
       "    .dataframe thead th {\n",
       "        text-align: right;\n",
       "    }\n",
       "</style>\n",
       "<table border=\"1\" class=\"dataframe\">\n",
       "  <thead>\n",
       "    <tr style=\"text-align: right;\">\n",
       "      <th></th>\n",
       "      <th>FORMA</th>\n",
       "      <th>CS_SEXO</th>\n",
       "      <th>CS_RACA</th>\n",
       "      <th>NU_IDADE_N</th>\n",
       "      <th>HIV</th>\n",
       "      <th>AGRAVAIDS</th>\n",
       "      <th>AGRAVALCOO</th>\n",
       "      <th>RAIOX_TORA</th>\n",
       "      <th>BACILOSC_E</th>\n",
       "      <th>CULTURA_ES</th>\n",
       "      <th>NU_ANO</th>\n",
       "    </tr>\n",
       "  </thead>\n",
       "  <tbody>\n",
       "    <tr>\n",
       "      <th>0</th>\n",
       "      <td>1.0</td>\n",
       "      <td>F</td>\n",
       "      <td>Parda</td>\n",
       "      <td>4011.0</td>\n",
       "      <td>Não realizado</td>\n",
       "      <td>2.0</td>\n",
       "      <td>2.0</td>\n",
       "      <td>1.0</td>\n",
       "      <td>1.0</td>\n",
       "      <td>4.0</td>\n",
       "      <td>2020</td>\n",
       "    </tr>\n",
       "    <tr>\n",
       "      <th>1</th>\n",
       "      <td>1.0</td>\n",
       "      <td>M</td>\n",
       "      <td>Indígena</td>\n",
       "      <td>4046.0</td>\n",
       "      <td>Não Reagente</td>\n",
       "      <td>2.0</td>\n",
       "      <td>2.0</td>\n",
       "      <td>4.0</td>\n",
       "      <td>1.0</td>\n",
       "      <td>4.0</td>\n",
       "      <td>2020</td>\n",
       "    </tr>\n",
       "    <tr>\n",
       "      <th>2</th>\n",
       "      <td>1.0</td>\n",
       "      <td>F</td>\n",
       "      <td>Parda</td>\n",
       "      <td>4065.0</td>\n",
       "      <td>Não realizado</td>\n",
       "      <td>2.0</td>\n",
       "      <td>1.0</td>\n",
       "      <td>1.0</td>\n",
       "      <td>1.0</td>\n",
       "      <td>4.0</td>\n",
       "      <td>2020</td>\n",
       "    </tr>\n",
       "    <tr>\n",
       "      <th>3</th>\n",
       "      <td>1.0</td>\n",
       "      <td>M</td>\n",
       "      <td>Branca</td>\n",
       "      <td>4059.0</td>\n",
       "      <td>Não Reagente</td>\n",
       "      <td>2.0</td>\n",
       "      <td>1.0</td>\n",
       "      <td>1.0</td>\n",
       "      <td>3.0</td>\n",
       "      <td>2.0</td>\n",
       "      <td>2020</td>\n",
       "    </tr>\n",
       "    <tr>\n",
       "      <th>4</th>\n",
       "      <td>1.0</td>\n",
       "      <td>M</td>\n",
       "      <td>Parda</td>\n",
       "      <td>4035.0</td>\n",
       "      <td>Não Reagente</td>\n",
       "      <td>2.0</td>\n",
       "      <td>2.0</td>\n",
       "      <td>1.0</td>\n",
       "      <td>1.0</td>\n",
       "      <td>4.0</td>\n",
       "      <td>2021</td>\n",
       "    </tr>\n",
       "  </tbody>\n",
       "</table>\n",
       "</div>"
      ],
      "text/plain": [
       "   FORMA CS_SEXO   CS_RACA  NU_IDADE_N            HIV  AGRAVAIDS  AGRAVALCOO  \\\n",
       "0    1.0       F     Parda      4011.0  Não realizado        2.0         2.0   \n",
       "1    1.0       M  Indígena      4046.0   Não Reagente        2.0         2.0   \n",
       "2    1.0       F     Parda      4065.0  Não realizado        2.0         1.0   \n",
       "3    1.0       M    Branca      4059.0   Não Reagente        2.0         1.0   \n",
       "4    1.0       M     Parda      4035.0   Não Reagente        2.0         2.0   \n",
       "\n",
       "  RAIOX_TORA BACILOSC_E CULTURA_ES  NU_ANO  \n",
       "0        1.0        1.0        4.0    2020  \n",
       "1        4.0        1.0        4.0    2020  \n",
       "2        1.0        1.0        4.0    2020  \n",
       "3        1.0        3.0        2.0    2020  \n",
       "4        1.0        1.0        4.0    2021  "
      ]
     },
     "metadata": {},
     "output_type": "display_data"
    }
   ],
   "source": [
    "print(\"\\nPrimeiras linhas df:\")\n",
    "display(df.head())"
   ]
  },
  {
   "cell_type": "code",
   "execution_count": 6,
   "id": "5b4dbf66-78b3-4b19-85a5-e070d6eb030c",
   "metadata": {
    "colab": {
     "base_uri": "https://localhost:8080/",
     "height": 275
    },
    "id": "5b4dbf66-78b3-4b19-85a5-e070d6eb030c",
    "outputId": "ef0db352-9200-4b2c-dca1-aa1c02aab304"
   },
   "outputs": [
    {
     "name": "stdout",
     "output_type": "stream",
     "text": [
      "\n",
      "Contagem de 'FORMA' no df:\n"
     ]
    },
    {
     "data": {
      "text/plain": [
       "FORMA\n",
       "1.0    429028\n",
       "4.0    429028\n",
       "2.0     56767\n",
       "3.0     16288\n",
       "Name: count, dtype: int64"
      ]
     },
     "execution_count": 6,
     "metadata": {},
     "output_type": "execute_result"
    }
   ],
   "source": [
    "print(\"\\nContagem de 'FORMA' no df:\")\n",
    "df['FORMA'].value_counts()"
   ]
  },
  {
   "cell_type": "code",
   "execution_count": 7,
   "id": "ed7d2bf1-03fa-4e1e-9720-2aa3a43c387b",
   "metadata": {
    "id": "ed7d2bf1-03fa-4e1e-9720-2aa3a43c387b"
   },
   "outputs": [],
   "source": [
    "df['FORMA'] = df['FORMA'].astype(str)"
   ]
  },
  {
   "cell_type": "markdown",
   "id": "d0965067-f673-4722-bb89-6b1ce8dd430c",
   "metadata": {
    "id": "d0965067-f673-4722-bb89-6b1ce8dd430c"
   },
   "source": [
    "# fim da leitura de dados"
   ]
  },
  {
   "cell_type": "code",
   "execution_count": 8,
   "id": "6fcb6223-1557-43f5-ab31-a953fcb4213c",
   "metadata": {
    "id": "6fcb6223-1557-43f5-ab31-a953fcb4213c"
   },
   "outputs": [],
   "source": [
    "# --- Seleção de Colunas para o Modelo ---\n",
    "colunas_modelo = [\n",
    "    'FORMA',            # variável alvo\n",
    "    'CS_SEXO',\n",
    "    'CS_RACA',\n",
    "    'NU_IDADE_N',\n",
    "    'HIV',\n",
    "    'AGRAVAIDS',\n",
    "    'AGRAVALCOO',\n",
    "    'RAIOX_TORA',\n",
    "    'BACILOSC_E',\n",
    "    'CULTURA_ES',\n",
    "    'NU_ANO'            # ano da notificação\n",
    "]\n",
    "df_modelo = df[colunas_modelo].copy()"
   ]
  },
  {
   "cell_type": "markdown",
   "id": "3a028811-5604-4963-8f11-2fcc2310cbdd",
   "metadata": {
    "id": "3a028811-5604-4963-8f11-2fcc2310cbdd"
   },
   "source": [
    "# --- Conversão da coluna NU_IDADE_N ---"
   ]
  },
  {
   "cell_type": "code",
   "execution_count": 9,
   "id": "f7bc6226-17ba-493b-9d42-988bfdb77955",
   "metadata": {
    "id": "f7bc6226-17ba-493b-9d42-988bfdb77955"
   },
   "outputs": [],
   "source": [
    "def converter_idade_para_modelo(nu_idade_n):\n",
    "    if pd.isna(nu_idade_n) or int(nu_idade_n) == 0: # Trata NaNs ou 0000 como idade ignorada\n",
    "        return np.nan # Retorna np.nan para ser imputado posteriormente\n",
    "\n",
    "    nu_idade_n = int(nu_idade_n) # Garante que é inteiro para as operações\n",
    "    unidade = nu_idade_n // 1000\n",
    "    valor = nu_idade_n % 1000\n",
    "\n",
    "    if unidade == 1:  # Horas\n",
    "        return valor / (24 * 365)\n",
    "    elif unidade == 2:  # Dias\n",
    "        return valor / 365\n",
    "    elif unidade == 3:  # Meses\n",
    "        return valor / 12\n",
    "    elif unidade == 4:  # Anos\n",
    "        return valor\n",
    "    else: # Idade ignorada ou inválida (ex: '0000')\n",
    "        return np.nan"
   ]
  },
  {
   "cell_type": "code",
   "execution_count": 10,
   "id": "902f9ebd-b61f-487f-809a-23bb7a8e8c5e",
   "metadata": {
    "id": "902f9ebd-b61f-487f-809a-23bb7a8e8c5e"
   },
   "outputs": [],
   "source": [
    "# Aplica a função para criar a coluna de idade em anos correta\n",
    "df_modelo['NU_IDADE_ANOS_CORRETA'] = df_modelo['NU_IDADE_N'].apply(converter_idade_para_modelo)"
   ]
  },
  {
   "cell_type": "code",
   "execution_count": 11,
   "id": "02b4f06a-4020-4f9b-baa0-d22df31f9960",
   "metadata": {
    "id": "02b4f06a-4020-4f9b-baa0-d22df31f9960"
   },
   "outputs": [],
   "source": [
    "# Preencher NaNs na nova coluna de idade (se houver, após a conversão) com a mediana\n",
    "mediana_idade_correta = df_modelo['NU_IDADE_ANOS_CORRETA'].median()\n",
    "df_modelo['NU_IDADE_ANOS_CORRETA'] = df_modelo['NU_IDADE_ANOS_CORRETA'].fillna(mediana_idade_correta)"
   ]
  },
  {
   "cell_type": "code",
   "execution_count": 12,
   "id": "68048917-a49f-4103-a796-7dfdfab14210",
   "metadata": {
    "id": "68048917-a49f-4103-a796-7dfdfab14210"
   },
   "outputs": [],
   "source": [
    "# Criar Faixa Etária a partir da idade correta\n",
    "bins = [0, 18, 35, 50, 65, 120]\n",
    "labels = ['Jovem', 'Adulto Jovem', 'Adulto', 'Idoso', 'Muito Idoso']\n",
    "df_modelo['faixa_etaria'] = pd.cut(df_modelo['NU_IDADE_ANOS_CORRETA'], bins=bins, labels=labels, right=False, include_lowest=True)"
   ]
  },
  {
   "cell_type": "code",
   "execution_count": 13,
   "id": "b60d87e0-22cf-47db-a740-12aefa3555c3",
   "metadata": {
    "id": "b60d87e0-22cf-47db-a740-12aefa3555c3"
   },
   "outputs": [],
   "source": [
    "# 2. Criar um contador de comorbidades/fatores de risco\n",
    "# Garantir que AGRAVAIDS e AGRAVALCOO sejam numéricos antes de operar\n",
    "df_modelo['AGRAVAIDS'] = pd.to_numeric(df_modelo['AGRAVAIDS'], errors='coerce').fillna(0.0)\n",
    "df_modelo['AGRAVALCOO'] = pd.to_numeric(df_modelo['AGRAVALCOO'], errors='coerce').fillna(0.0)\n",
    "df_modelo['total_comorbidades'] = (df_modelo['AGRAVAIDS'] == 1.0).astype(int) + \\\n",
    "                                  (df_modelo['AGRAVALCOO'] == 1.0).astype(int)"
   ]
  },
  {
   "cell_type": "code",
   "execution_count": 14,
   "id": "bbc19809-7de4-48ba-8eec-32f098def474",
   "metadata": {
    "id": "bbc19809-7de4-48ba-8eec-32f098def474"
   },
   "outputs": [],
   "source": [
    "# 3. Criar feature de interação para HIV com AIDS\n",
    "# Preencher NaNs antes da comparação para 'HIV'\n",
    "df_modelo['HIV'] = df_modelo['HIV'].fillna('Não Informado')\n",
    "\n",
    "df_modelo['hiv_positivo_com_aids'] = ((df_modelo['HIV'] == 'Reagente') & (df_modelo['AGRAVAIDS'] == 1.0))\n",
    "\n",
    "# Remover colunas originais que foram transformadas/substituídas\n",
    "df_modelo = df_modelo.drop(columns=['NU_IDADE_N', 'AGRAVAIDS', 'AGRAVALCOO'])"
   ]
  },
  {
   "cell_type": "code",
   "execution_count": 15,
   "id": "8dff720b-6c1d-461e-8a4e-4cbdfa117a71",
   "metadata": {
    "id": "8dff720b-6c1d-461e-8a4e-4cbdfa117a71"
   },
   "outputs": [],
   "source": [
    "# Garantir que a coluna FORMA é float para poder adicionar 4.0\n",
    "df_modelo['FORMA'] = df_modelo['FORMA'].fillna(0).astype(float) # Preenche NaNs com 0 e converte para float"
   ]
  },
  {
   "cell_type": "code",
   "execution_count": 16,
   "id": "c941f3da-3d10-4f64-bd3b-cdb3543d3a19",
   "metadata": {
    "colab": {
     "base_uri": "https://localhost:8080/"
    },
    "id": "c941f3da-3d10-4f64-bd3b-cdb3543d3a19",
    "outputId": "67500895-37b2-4e91-c34e-b40798284520"
   },
   "outputs": [
    {
     "name": "stdout",
     "output_type": "stream",
     "text": [
      "Número de linhas em df_modelo antes da filtragem de FORMA=0.0: 931299\n",
      "Número de linhas em df_modelo após a filtragem de FORMA=0.0: 931299\n"
     ]
    }
   ],
   "source": [
    "print(f\"Número de linhas em df_modelo antes da filtragem de FORMA=0.0: {len(df_modelo)}\")\n",
    "df_modelo = df_modelo[df_modelo['FORMA'] != 0.0].copy() # Filtra as linhas onde FORMA é 0.0\n",
    "print(f\"Número de linhas em df_modelo após a filtragem de FORMA=0.0: {len(df_modelo)}\")"
   ]
  },
  {
   "cell_type": "markdown",
   "id": "dbfebf61-5f3d-477b-9b87-21c69c40500e",
   "metadata": {
    "id": "dbfebf61-5f3d-477b-9b87-21c69c40500e"
   },
   "source": [
    "# --- Preparação dos Dados para o Modelo ---"
   ]
  },
  {
   "cell_type": "code",
   "execution_count": 17,
   "id": "046201da-6ce6-463b-a605-24d8b7673aa7",
   "metadata": {
    "id": "046201da-6ce6-463b-a605-24d8b7673aa7"
   },
   "outputs": [],
   "source": [
    "# Preencher NaNs da FORMA com a moda antes de converter e codificar.\n",
    "# Isso garante que não haverá IntCastingNaNError.\n",
    "# A moda é uma boa escolha para variáveis categóricas/discretas como 'FORMA'.\n",
    "df_modelo['FORMA'] = df_modelo['FORMA'].fillna(df_modelo['FORMA'].mode()[0])"
   ]
  },
  {
   "cell_type": "code",
   "execution_count": 18,
   "id": "Tc0-qHTyj25h",
   "metadata": {
    "colab": {
     "base_uri": "https://localhost:8080/"
    },
    "id": "Tc0-qHTyj25h",
    "outputId": "6b9d303e-4e47-4ba3-ce7a-14408fc2a074"
   },
   "outputs": [
    {
     "data": {
      "text/plain": [
       "array([1., 2., 3., 4.])"
      ]
     },
     "execution_count": 18,
     "metadata": {},
     "output_type": "execute_result"
    }
   ],
   "source": [
    "df_modelo['FORMA'].unique()"
   ]
  },
  {
   "cell_type": "code",
   "execution_count": 19,
   "id": "700ff15a-b76c-4c58-babb-5501d0d81f31",
   "metadata": {
    "colab": {
     "base_uri": "https://localhost:8080/"
    },
    "id": "700ff15a-b76c-4c58-babb-5501d0d81f31",
    "outputId": "2fc3e718-b0b2-402d-ce92-f027c974b310"
   },
   "outputs": [
    {
     "name": "stdout",
     "output_type": "stream",
     "text": [
      "Distribuição da nova variável alvo 'FORMA_BINARIA':\n",
      "FORMA_BINARIA\n",
      "nao_saudavel    502271\n",
      "saudavel        429028\n",
      "Name: count, dtype: int64\n",
      "\n",
      "\n",
      "Variável alvo 'y' e features 'X' criadas para o modelo binário.\n"
     ]
    }
   ],
   "source": [
    "# --- Mapeamento da Variável Alvo para Binário ---\n",
    "# Mapear os valores de 'FORMA' para as novas classes binárias\n",
    "# 1.0 (Pulmonar), 2.0 (Extrapulmonar), 3.0 (Mista) são agrupados como 'nao_saudavel'\n",
    "# 4.0 é considerado 'saudavel'\n",
    "mapeamento_forma = {\n",
    "    1.0: 'nao_saudavel',\n",
    "    2.0: 'nao_saudavel',\n",
    "    3.0: 'nao_saudavel',\n",
    "    4.0: 'saudavel'\n",
    "}\n",
    "df_modelo['FORMA_BINARIA'] = df_modelo['FORMA'].map(mapeamento_forma)\n",
    "\n",
    "# Verificar a distribuição da nova coluna\n",
    "print(\"Distribuição da nova variável alvo 'FORMA_BINARIA':\")\n",
    "print(df_modelo['FORMA_BINARIA'].value_counts(dropna=False))\n",
    "print(\"\\n\")\n",
    "\n",
    "# --- Definição de X e y ---\n",
    "# y é a nossa nova variável alvo binária\n",
    "y = df_modelo['FORMA_BINARIA'].copy() # Usar a coluna binária como alvo\n",
    "# X contém todas as features, removendo a coluna alvo original e a nova\n",
    "X = df_modelo.drop(['FORMA', 'FORMA_BINARIA'], axis=1)\n",
    "\n",
    "print(\"Variável alvo 'y' e features 'X' criadas para o modelo binário.\")"
   ]
  },
  {
   "cell_type": "code",
   "execution_count": 20,
   "id": "a629ecfe-f50f-4e91-a013-8b3b49b692ea",
   "metadata": {
    "colab": {
     "base_uri": "https://localhost:8080/"
    },
    "id": "a629ecfe-f50f-4e91-a013-8b3b49b692ea",
    "outputId": "359d2006-a49e-4c39-bacc-1a01fb73e975"
   },
   "outputs": [
    {
     "name": "stdout",
     "output_type": "stream",
     "text": [
      "Divisão de dados 98/1/1 (Treino/Validação/Teste) concluída.\n",
      "Shape de X_train: (912673, 11), Shape de y_train: (912673,)\n",
      "Shape de X_val: (9313, 11), Shape de y_val: (9313,)\n",
      "Shape de X_test: (9313, 11), Shape de y_test: (9313,)\n"
     ]
    }
   ],
   "source": [
    "# ---- Codificar a variável alvo 'y' para 0 e 1 ----\n",
    "# A variável y já contém 'nao_saudavel' e 'saudavel'\n",
    "le = LabelEncoder()\n",
    "y_encoded = le.fit_transform(y) # y_encoded agora será 0 ('nao_saudavel') e 1 ('saudavel')\n",
    "\n",
    "# Split dos dados em treino e teste - ISSO DEVE SER FEITO AQUI!\n",
    "# Usar y_encoded para a estratificação\n",
    "X_train, X_temp, y_train, y_temp = train_test_split(X, y_encoded, test_size=0.02, stratify=y_encoded, random_state=1953)\n",
    "#Dividir os 2% restantes em 1% para validação e 1% para teste (0.5 de 2% é 1%)\n",
    "X_val, X_test, y_val, y_test = train_test_split(X_temp, y_temp, test_size=0.5, stratify=y_temp, random_state=1953)\n",
    "\n",
    "print(\"Divisão de dados 98/1/1 (Treino/Validação/Teste) concluída.\")\n",
    "print(f\"Shape de X_train: {X_train.shape}, Shape de y_train: {y_train.shape}\")\n",
    "print(f\"Shape de X_val: {X_val.shape}, Shape de y_val: {y_val.shape}\")\n",
    "print(f\"Shape de X_test: {X_test.shape}, Shape de y_test: {y_test.shape}\")"
   ]
  },
  {
   "cell_type": "code",
   "execution_count": 21,
   "id": "f0fb0453-d31c-4887-bced-8ddb97762668",
   "metadata": {
    "colab": {
     "base_uri": "https://localhost:8080/"
    },
    "id": "f0fb0453-d31c-4887-bced-8ddb97762668",
    "outputId": "e317fa8c-6fee-4e69-a983-02b1a0258db2"
   },
   "outputs": [
    {
     "name": "stdout",
     "output_type": "stream",
     "text": [
      "Classes codificadas pelo LabelEncoder: ['nao_saudavel' 'saudavel']\n",
      "O LabelEncoder atribui 0 para 'nao_saudavel' e 1 para 'saudavel'.\n"
     ]
    }
   ],
   "source": [
    "print(f\"Classes codificadas pelo LabelEncoder: {le.classes_}\")\n",
    "print(\"O LabelEncoder atribui 0 para 'nao_saudavel' e 1 para 'saudavel'.\")"
   ]
  },
  {
   "cell_type": "code",
   "execution_count": 22,
   "id": "1af78a6d-047c-4efa-bfc1-0d4b479ce2ee",
   "metadata": {
    "id": "1af78a6d-047c-4efa-bfc1-0d4b479ce2ee"
   },
   "outputs": [],
   "source": [
    "# A célula de divisão de dados foi movida para a célula anterior para garantir a ordem correta das operações."
   ]
  },
  {
   "cell_type": "code",
   "execution_count": 23,
   "id": "1e09b1a1-fb5e-4a28-80ff-29ab7b4f6a41",
   "metadata": {
    "colab": {
     "base_uri": "https://localhost:8080/"
    },
    "id": "1e09b1a1-fb5e-4a28-80ff-29ab7b4f6a41",
    "outputId": "8aafcd7f-babb-4cc6-ab5d-7584c5292dc5"
   },
   "outputs": [
    {
     "name": "stdout",
     "output_type": "stream",
     "text": [
      "\n",
      "Distribuição das classes nos splits:\n",
      "--- Treino ---\n",
      "Classe nao_saudavel (0): 492226 amostras (53.93%)\n",
      "Classe saudavel (1): 420447 amostras (46.07%)\n",
      "--- Validação ---\n",
      "Classe nao_saudavel (0): 5022 amostras (53.92%)\n",
      "Classe saudavel (1): 4291 amostras (46.08%)\n",
      "--- Teste ---\n",
      "Classe nao_saudavel (0): 5023 amostras (53.94%)\n",
      "Classe saudavel (1): 4290 amostras (46.06%)\n"
     ]
    }
   ],
   "source": [
    "print(\"\\nDistribuição das classes nos splits:\")\n",
    "splits = {'Treino': y_train, 'Validação': y_val, 'Teste': y_test}\n",
    "for name, y_split in splits.items():\n",
    "    print(f\"--- {name} ---\")\n",
    "    unique, counts = np.unique(y_split, return_counts=True)\n",
    "    for label_num, count in zip(unique, counts):\n",
    "        label_orig = le.inverse_transform([label_num])[0]\n",
    "        print(f\"Classe {label_orig} ({label_num}): {count} amostras ({count/len(y_split):.2%})\")\n"
   ]
  },
  {
   "cell_type": "code",
   "execution_count": 24,
   "id": "b606e636-c39a-402f-bcf0-2e482c6b8f06",
   "metadata": {
    "colab": {
     "base_uri": "https://localhost:8080/"
    },
    "id": "b606e636-c39a-402f-bcf0-2e482c6b8f06",
    "outputId": "ccf0c4c7-0538-4890-f9bd-dfc69dac86c1"
   },
   "outputs": [
    {
     "name": "stdout",
     "output_type": "stream",
     "text": [
      "Features numéricas que serão usadas: ['NU_ANO', 'NU_IDADE_ANOS_CORRETA', 'total_comorbidades']\n",
      "Features categóricas que serão usadas: ['CS_SEXO', 'CS_RACA', 'HIV', 'faixa_etaria', 'hiv_positivo_com_aids', 'RAIOX_TORA', 'BACILOSC_E', 'CULTURA_ES']\n"
     ]
    }
   ],
   "source": [
    "# Identificar colunas numéricas e categóricas (APÓS a engenharia de features)\n",
    "\n",
    "numeric_features = ['NU_ANO', 'NU_IDADE_ANOS_CORRETA', 'total_comorbidades']\n",
    "\n",
    "# Adicione as colunas que você identificou como categóricas/ordinais\n",
    "categorical_features = [\n",
    "    'CS_SEXO', 'CS_RACA', 'HIV', 'faixa_etaria', 'hiv_positivo_com_aids',\n",
    "    'RAIOX_TORA', 'BACILOSC_E', 'CULTURA_ES'\n",
    "]\n",
    "\n",
    "# Certifique-se de que não há sobreposição ou colunas faltando\n",
    "# (pode ser útil um print(X.columns) para verificar todas as colunas em X)\n",
    "numeric_features = [f for f in numeric_features if f in X.columns]\n",
    "categorical_features = [f for f in categorical_features if f in X.columns]\n",
    "\n",
    "print(f\"Features numéricas que serão usadas: {numeric_features}\")\n",
    "print(f\"Features categóricas que serão usadas: {categorical_features}\")"
   ]
  },
  {
   "cell_type": "code",
   "execution_count": 25,
   "id": "75ab80f8-5dc7-4500-a60b-f10f4dd58486",
   "metadata": {
    "id": "75ab80f8-5dc7-4500-a60b-f10f4dd58486"
   },
   "outputs": [],
   "source": [
    "# --- Construção do Pipeline Avançado (com XGBoost e Imputação Melhorada) ---\n",
    "numeric_transformer = Pipeline(steps=[\n",
    "    ('imputer', SimpleImputer(strategy='median')), # Imputa NaNs resultantes da conversão de idade\n",
    "    ('scaler', StandardScaler())\n",
    "])\n",
    "\n",
    "categorical_transformer = Pipeline(steps=[\n",
    "    ('imputer', SimpleImputer(strategy='most_frequent')), # Imputa NaNs nas categóricas\n",
    "    # Explicitly convert to string before OneHotEncoding\n",
    "    ('string_converter', FunctionTransformer(lambda x: x.astype(str), validate=False)),\n",
    "    ('onehot', OneHotEncoder(handle_unknown='ignore'))\n",
    "])\n",
    "\n",
    "preprocessor = ColumnTransformer(\n",
    "    transformers=[\n",
    "        ('num', numeric_transformer, numeric_features),\n",
    "        ('cat', categorical_transformer, categorical_features)\n",
    "    ],\n",
    "    remainder='passthrough' # Manter colunas não especificadas (se houver)\n",
    ")"
   ]
  },
  {
   "cell_type": "markdown",
   "id": "88e31a97-352b-4b37-a34a-4c86e8a080b0",
   "metadata": {
    "id": "88e31a97-352b-4b37-a34a-4c86e8a080b0"
   },
   "source": [
    "## --- Definição da Estratégia de Superamostragem para SMOTE ---"
   ]
  },
  {
   "cell_type": "code",
   "execution_count": 26,
   "id": "d8334b62-b11f-47f7-af6b-69ca338178c4",
   "metadata": {
    "id": "d8334b62-b11f-47f7-af6b-69ca338178c4"
   },
   "outputs": [],
   "source": [
    "# Criar o pipeline final usando o ImbPipeline\n",
    "\n",
    "# --- ESTRATÉGIA DE SMOTE PARA CLASSIFICAÇÃO BINÁRIA ---\n",
    "# Após o mapeamento, as classes são 'nao_saudavel' (0) e 'saudavel' (1).\n",
    "# As classes estão um pouco desbalanceadas (aprox. 54% vs 46%).\n",
    "# Vamos usar SMOTE para igualar o número de amostras da classe minoritária ('saudavel')\n",
    "# ao da majoritária no conjunto de treino. A estratégia 'auto' faz exatamente isso.\n",
    "\n",
    "pipeline_final = ImbPipeline(steps=[\n",
    "    ('preprocessor', preprocessor),\n",
    "    ('smote', SMOTE(random_state=2024, sampling_strategy='auto')),\n",
    "    # Classificador XGBoost ajustado para classificação binária\n",
    "    ('classifier', XGBClassifier(objective='binary:logistic', eval_metric='logloss', random_state=2024,\n",
    "                  n_estimators=100, max_depth=3, learning_rate=0.01,\n",
    "                  subsample=0.2, colsample_bytree=0.8, tree_method='hist',\n",
    "                  reg_alpha=0.1, reg_lambda=0.1)) # Adicionando regularização L1 e L2\n",
    "])"
   ]
  },
  {
   "cell_type": "code",
   "execution_count": 27,
   "id": "e0474d14",
   "metadata": {
    "colab": {
     "base_uri": "https://localhost:8080/"
    },
    "id": "e0474d14",
    "outputId": "ebdb6f37-3869-41e4-cf6d-043ef4319867"
   },
   "outputs": [
    {
     "name": "stdout",
     "output_type": "stream",
     "text": [
      "Dataframes divididos em 5 partes:\n",
      "  - df1: 186260 linhas\n",
      "  - df2: 186260 linhas\n",
      "  - df3: 186260 linhas\n",
      "  - df4: 186260 linhas\n",
      "  - df5: 186259 linhas\n"
     ]
    }
   ],
   "source": [
    "# 1. Dividir o df_modelo em 5 partes (folds)\n",
    "skf = StratifiedKFold(n_splits=5, shuffle=True, random_state=2024)\n",
    "\n",
    "# Criar uma lista para armazenar os 5 dataframes\n",
    "dataframes = []\n",
    "\n",
    "# Iterar sobre os folds para criar os 5 dataframes\n",
    "for _, test_index in skf.split(df_modelo, df_modelo['FORMA_BINARIA']):\n",
    "    dataframes.append(df_modelo.iloc[test_index].copy())\n",
    "\n",
    "# Atribuir os dataframes a variáveis separadas (df1, df2, etc.)\n",
    "df1, df2, df3, df4, df5 = dataframes\n",
    "\n",
    "print(\"Dataframes divididos em 5 partes:\")\n",
    "for i, df_part in enumerate(dataframes, 1):\n",
    "    print(f\"  - df{i}: {len(df_part)} linhas\")"
   ]
  },
  {
   "cell_type": "code",
   "execution_count": 28,
   "id": "46de2ef7",
   "metadata": {
    "colab": {
     "base_uri": "https://localhost:8080/"
    },
    "id": "46de2ef7",
    "outputId": "ed76889e-9679-417a-f543-9664155a405e"
   },
   "outputs": [
    {
     "name": "stdout",
     "output_type": "stream",
     "text": [
      "--- Caracterização do df1 ---\n",
      "FORMA_BINARIA\n",
      "nao_saudavel    0.539327\n",
      "saudavel        0.460673\n",
      "Name: proportion, dtype: float64\n",
      "\n",
      "\n",
      "--- Caracterização do df2 ---\n",
      "FORMA_BINARIA\n",
      "nao_saudavel    0.539321\n",
      "saudavel        0.460679\n",
      "Name: proportion, dtype: float64\n",
      "\n",
      "\n",
      "--- Caracterização do df3 ---\n",
      "FORMA_BINARIA\n",
      "nao_saudavel    0.539321\n",
      "saudavel        0.460679\n",
      "Name: proportion, dtype: float64\n",
      "\n",
      "\n",
      "--- Caracterização do df4 ---\n",
      "FORMA_BINARIA\n",
      "nao_saudavel    0.539321\n",
      "saudavel        0.460679\n",
      "Name: proportion, dtype: float64\n",
      "\n",
      "\n",
      "--- Caracterização do df5 ---\n",
      "FORMA_BINARIA\n",
      "nao_saudavel    0.539324\n",
      "saudavel        0.460676\n",
      "Name: proportion, dtype: float64\n",
      "\n",
      "\n"
     ]
    }
   ],
   "source": [
    "for i, df_part in enumerate(dataframes, 1):\n",
    "    print(f\"--- Caracterização do df{i} ---\")\n",
    "    print(df_part['FORMA_BINARIA'].value_counts(normalize=True))\n",
    "    print(\"\\n\")"
   ]
  },
  {
   "cell_type": "code",
   "execution_count": 29,
   "id": "5bd4d986",
   "metadata": {
    "colab": {
     "base_uri": "https://localhost:8080/"
    },
    "id": "5bd4d986",
    "outputId": "88c5b8a6-9706-4ba3-e291-5ee212c8e7b6",
    "scrolled": true
   },
   "outputs": [
    {
     "name": "stdout",
     "output_type": "stream",
     "text": [
      "--- Treinando e Avaliando Modelo na Base 1 ---\n",
      "Resultados para a Base 1 calculados.\n",
      "\n",
      "--- Treinando e Avaliando Modelo na Base 2 ---\n",
      "Resultados para a Base 2 calculados.\n",
      "\n",
      "--- Treinando e Avaliando Modelo na Base 3 ---\n",
      "Resultados para a Base 3 calculados.\n",
      "\n",
      "--- Treinando e Avaliando Modelo na Base 4 ---\n",
      "Resultados para a Base 4 calculados.\n",
      "\n",
      "--- Treinando e Avaliando Modelo na Base 5 ---\n",
      "Resultados para a Base 5 calculados.\n",
      "\n"
     ]
    }
   ],
   "source": [
    "results = []\n",
    "\n",
    "for i, df_part in enumerate(dataframes, 1):\n",
    "    print(f\"--- Treinando e Avaliando Modelo na Base {i} ---\")\n",
    "\n",
    "    # 1. Definir X e y para o dataframe atual\n",
    "    y_part = le.transform(df_part['FORMA_BINARIA'])\n",
    "    X_part = df_part.drop(['FORMA', 'FORMA_BINARIA'], axis=1)\n",
    "\n",
    "    # 2. Dividir em treino (80%), validação (10%) e teste (10%)\n",
    "    X_train_part, X_temp_part, y_train_part, y_temp_part = train_test_split(\n",
    "        X_part, y_part, test_size=0.2, stratify=y_part, random_state=1953\n",
    "    )\n",
    "    X_val_part, X_test_part, y_val_part, y_test_part = train_test_split(\n",
    "        X_temp_part, y_temp_part, test_size=0.5, stratify=y_temp_part, random_state=1953\n",
    "    )\n",
    "\n",
    "    # 3. Treinar o pipeline\n",
    "    pipeline_final.fit(X_train_part, y_train_part)\n",
    "\n",
    "    # 4. Fazer previsões e avaliar\n",
    "    y_pred_part = pipeline_final.predict(X_test_part)\n",
    "\n",
    "    # 5. Calcular e armazenar as métricas\n",
    "    precision = precision_score(y_test_part, y_pred_part, average='macro')\n",
    "    recall = recall_score(y_test_part, y_pred_part, average='macro')\n",
    "    f1 = f1_score(y_test_part, y_pred_part, average='macro')\n",
    "\n",
    "    results.append({\n",
    "        'Base': f'Base {i}',\n",
    "        'Precision': precision,\n",
    "        'Recall': recall,\n",
    "        'F1-score': f1\n",
    "    })\n",
    "\n",
    "    print(f\"Resultados para a Base {i} calculados.\\n\")\n",
    "\n",
    "# Converter a lista de resultados em um DataFrame do pandas\n",
    "results_df = pd.DataFrame(results)"
   ]
  },
  {
   "cell_type": "code",
   "execution_count": 41,
   "id": "5e0a9188",
   "metadata": {
    "colab": {
     "base_uri": "https://localhost:8080/",
     "height": 353
    },
    "id": "5e0a9188",
    "outputId": "65647aee-0866-40c1-bd06-cede905abbb5"
   },
   "outputs": [
    {
     "name": "stdout",
     "output_type": "stream",
     "text": [
      "--- Tabela de Resultados ---\n"
     ]
    },
    {
     "data": {
      "text/html": [
       "<div>\n",
       "<style scoped>\n",
       "    .dataframe tbody tr th:only-of-type {\n",
       "        vertical-align: middle;\n",
       "    }\n",
       "\n",
       "    .dataframe tbody tr th {\n",
       "        vertical-align: top;\n",
       "    }\n",
       "\n",
       "    .dataframe thead th {\n",
       "        text-align: right;\n",
       "    }\n",
       "</style>\n",
       "<table border=\"1\" class=\"dataframe\">\n",
       "  <thead>\n",
       "    <tr style=\"text-align: right;\">\n",
       "      <th></th>\n",
       "      <th>Base</th>\n",
       "      <th>Precision</th>\n",
       "      <th>Recall</th>\n",
       "      <th>F1-score</th>\n",
       "    </tr>\n",
       "  </thead>\n",
       "  <tbody>\n",
       "    <tr>\n",
       "      <th>0</th>\n",
       "      <td>Base 1</td>\n",
       "      <td>0.999592</td>\n",
       "      <td>0.999652</td>\n",
       "      <td>0.999622</td>\n",
       "    </tr>\n",
       "    <tr>\n",
       "      <th>1</th>\n",
       "      <td>Base 2</td>\n",
       "      <td>0.999883</td>\n",
       "      <td>0.999900</td>\n",
       "      <td>0.999892</td>\n",
       "    </tr>\n",
       "    <tr>\n",
       "      <th>2</th>\n",
       "      <td>Base 3</td>\n",
       "      <td>0.999942</td>\n",
       "      <td>0.999950</td>\n",
       "      <td>0.999946</td>\n",
       "    </tr>\n",
       "    <tr>\n",
       "      <th>3</th>\n",
       "      <td>Base 4</td>\n",
       "      <td>0.999883</td>\n",
       "      <td>0.999900</td>\n",
       "      <td>0.999892</td>\n",
       "    </tr>\n",
       "    <tr>\n",
       "      <th>4</th>\n",
       "      <td>Base 5</td>\n",
       "      <td>0.999709</td>\n",
       "      <td>0.999751</td>\n",
       "      <td>0.999730</td>\n",
       "    </tr>\n",
       "  </tbody>\n",
       "</table>\n",
       "</div>"
      ],
      "text/plain": [
       "     Base  Precision    Recall  F1-score\n",
       "0  Base 1   0.999592  0.999652  0.999622\n",
       "1  Base 2   0.999883  0.999900  0.999892\n",
       "2  Base 3   0.999942  0.999950  0.999946\n",
       "3  Base 4   0.999883  0.999900  0.999892\n",
       "4  Base 5   0.999709  0.999751  0.999730"
      ]
     },
     "metadata": {},
     "output_type": "display_data"
    },
    {
     "name": "stdout",
     "output_type": "stream",
     "text": [
      "\n",
      "--- Média e Desvio Padrão das Métricas ---\n"
     ]
    },
    {
     "data": {
      "text/html": [
       "<div>\n",
       "<style scoped>\n",
       "    .dataframe tbody tr th:only-of-type {\n",
       "        vertical-align: middle;\n",
       "    }\n",
       "\n",
       "    .dataframe tbody tr th {\n",
       "        vertical-align: top;\n",
       "    }\n",
       "\n",
       "    .dataframe thead th {\n",
       "        text-align: right;\n",
       "    }\n",
       "</style>\n",
       "<table border=\"1\" class=\"dataframe\">\n",
       "  <thead>\n",
       "    <tr style=\"text-align: right;\">\n",
       "      <th></th>\n",
       "      <th>Precision</th>\n",
       "      <th>Recall</th>\n",
       "      <th>F1-score</th>\n",
       "    </tr>\n",
       "  </thead>\n",
       "  <tbody>\n",
       "    <tr>\n",
       "      <th>mean</th>\n",
       "      <td>0.999802</td>\n",
       "      <td>0.999831</td>\n",
       "      <td>0.999816</td>\n",
       "    </tr>\n",
       "    <tr>\n",
       "      <th>std</th>\n",
       "      <td>0.000146</td>\n",
       "      <td>0.000125</td>\n",
       "      <td>0.000136</td>\n",
       "    </tr>\n",
       "  </tbody>\n",
       "</table>\n",
       "</div>"
      ],
      "text/plain": [
       "      Precision    Recall  F1-score\n",
       "mean   0.999802  0.999831  0.999816\n",
       "std    0.000146  0.000125  0.000136"
      ]
     },
     "metadata": {},
     "output_type": "display_data"
    },
    {
     "name": "stdout",
     "output_type": "stream",
     "text": [
      "\n",
      "--- Valores F1-macro e F1-micro ---\n",
      "F1-Macro: 0.9997\n",
      "F1-Micro: 0.9997\n"
     ]
    }
   ],
   "source": [
    "print(\"--- Tabela de Resultados ---\")\n",
    "display(results_df)\n",
    "\n",
    "print(\"\\n--- Média e Desvio Padrão das Métricas ---\")\n",
    "display(results_df.describe().loc[['mean', 'std']])\n",
    "\n",
    "f1_macro = f1_score(y_test_part, y_pred_part, average='macro')\n",
    "f1_micro = f1_score(y_test_part, y_pred_part, average='micro')\n",
    "print(\"\\n--- Valores F1-macro e F1-micro ---\")\n",
    "print(f\"F1-Macro: {f1_macro:.4f}\")\n",
    "print(f\"F1-Micro: {f1_micro:.4f}\")"
   ]
  },
  {
   "cell_type": "code",
   "execution_count": 33,
   "id": "6840c8ed-c2af-4b5d-b9d6-c2f875aefa05",
   "metadata": {},
   "outputs": [
    {
     "data": {
      "image/png": "[encoded data removed]",
      "text/plain": [
       "<Figure size 800x600 with 2 Axes>"
      ]
     },
     "metadata": {},
     "output_type": "display_data"
    }
   ],
   "source": [
    "y_pred = pipeline_final.predict(X_test)\n",
    "\n",
    "display_labels = ['Saudável', 'Não-Saudável']\n",
    "\n",
    "fig, ax = plt.subplots(figsize=(8, 6))\n",
    "cm = confusion_matrix(y_test, y_pred)\n",
    "disp = ConfusionMatrixDisplay(confusion_matrix=cm, display_labels=display_labels)\n",
    "\n",
    "disp.plot(cmap=plt.cm.Blues, ax=ax, values_format='d')\n",
    "plt.title('Matriz de Confusão no Conjunto de Teste')\n",
    "plt.show()"
   ]
  },
  {
   "cell_type": "code",
   "execution_count": 40,
   "id": "d6eddd68-503f-461c-b6b0-2ddacc1dd38f",
   "metadata": {},
   "outputs": [
    {
     "name": "stdout",
     "output_type": "stream",
     "text": [
      "\n",
      "--- Valores F1-macro e F1-micro ---\n",
      "F1-Macro: 0.9997\n",
      "F1-Micro: 0.9997\n"
     ]
    }
   ],
   "source": [
    "f1_macro = f1_score(y_test_part, y_pred_part, average='macro')\n",
    "f1_micro = f1_score(y_test_part, y_pred_part, average='micro')\n",
    "print(\"\\n--- Valores F1-macro e F1-micro ---\")\n",
    "print(f\"F1-Macro: {f1_macro:.4f}\")\n",
    "print(f\"F1-Micro: {f1_micro:.4f}\")"
   ]
  },
  {
   "cell_type": "code",
   "execution_count": 36,
   "id": "91bb09c0-454f-4ec2-90ec-a40e2b8002fd",
   "metadata": {},
   "outputs": [
    {
     "data": {
      "image/png": "[encoded data removed]",
      "text/plain": [
       "<Figure size 800x600 with 1 Axes>"
      ]
     },
     "metadata": {},
     "output_type": "display_data"
    },
    {
     "name": "stdout",
     "output_type": "stream",
     "text": [
      "Average Precision (AP): 1.0000\n"
     ]
    }
   ],
   "source": [
    "y_proba = pipeline_final.predict_proba(X_test)[:, 1]\n",
    "\n",
    "precision, recall, _ = precision_recall_curve(y_test, y_proba)\n",
    "average_precision = average_precision_score(y_test, y_proba)\n",
    "\n",
    "plt.figure(figsize=(8, 6))\n",
    "plt.plot(recall, precision, marker='.', label=f'Modelo Final (AP = {average_precision:.2f})')\n",
    "\n",
    "plt.title('Curva Precision-Recall')\n",
    "plt.xlabel('Recall')\n",
    "plt.ylabel('Precision')\n",
    "plt.legend()\n",
    "plt.grid(True)\n",
    "plt.show()\n",
    "\n",
    "print(f\"Average Precision (AP): {average_precision:.4f}\")"
   ]
  },
  {
   "cell_type": "code",
   "execution_count": null,
   "id": "c612ddf5-5906-48fe-af1b-312a481e2efd",
   "metadata": {},
   "outputs": [],
   "source": []
  }
 ],
 "metadata": {
  "colab": {
   "provenance": []
  },
  "kernelspec": {
   "display_name": "Python 3 (ipykernel)",
   "language": "python",
   "name": "python3"
  },
  "language_info": {
   "codemirror_mode": {
    "name": "ipython",
    "version": 3
   },
   "file_extension": ".py",
   "mimetype": "text/x-python",
   "name": "python",
   "nbconvert_exporter": "python",
   "pygments_lexer": "ipython3",
   "version": "3.12.3"
  }
 },
 "nbformat": 4,
 "nbformat_minor": 5
}
