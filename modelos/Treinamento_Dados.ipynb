{
 "cells": [
  {
   "cell_type": "code",
   "execution_count": 1,
   "id": "aa59b13e-42ac-42dd-a23b-12a3294083c3",
   "metadata": {},
   "outputs": [],
   "source": [
    "import pandas as pd"
   ]
  },
  {
   "cell_type": "code",
   "execution_count": 2,
   "id": "c6f84131-c172-4dff-9501-636692b8c514",
   "metadata": {},
   "outputs": [],
   "source": [
    "caminho_csv = \"/mnt/c/Users/AcerGamer/Downloads/Tuberculose/Projeto-Tuberculose/dados/arquivos_csv/dados_tuberculose_completos.csv\""
   ]
  },
  {
   "cell_type": "code",
   "execution_count": 3,
   "id": "c8370b5d-b651-4ba4-a4a3-58cfc43afa6e",
   "metadata": {},
   "outputs": [],
   "source": [
    "df = pd.read_csv(caminho_csv, encoding='latin1', low_memory=False)"
   ]
  },
  {
   "cell_type": "code",
   "execution_count": 4,
   "id": "3d529efe-16db-4a4e-a35f-263d1c620185",
   "metadata": {},
   "outputs": [],
   "source": [
    "# Remoção de colunas com 100% de valores ausentes ou irrelevantes para modelagem"
   ]
  },
  {
   "cell_type": "code",
   "execution_count": 5,
   "id": "7bc49ecd-3c03-4480-b984-74c5f2f80049",
   "metadata": {},
   "outputs": [],
   "source": [
    "colunas_para_remover = [\n",
    "    'DT_TRANSRM', 'CS_FLXRET', 'FLXRECEBI', 'MIGRADO_W', 'ID_OCUPA_N',\n",
    "    'RIFAMPICIN', 'ISONIAZIDA', 'ETAMBUTOL', 'ESTREPTOMI', 'PIRAZINAMI',\n",
    "    'ETIONAMIDA', 'OUTRAS', 'OUTRAS_DES', 'DT_MUDANCA', 'SITUA_12_M'\n",
    "]"
   ]
  },
  {
   "cell_type": "code",
   "execution_count": 6,
   "id": "16f92153-dd2b-44a1-b1b4-7166b06ea91c",
   "metadata": {},
   "outputs": [],
   "source": [
    "df.drop(columns=colunas_para_remover, inplace=True, errors='ignore')"
   ]
  },
  {
   "cell_type": "code",
   "execution_count": 7,
   "id": "22eecdb9-5edb-458e-8307-b27e2392babc",
   "metadata": {},
   "outputs": [],
   "source": [
    "# Conversão de colunas de data"
   ]
  },
  {
   "cell_type": "code",
   "execution_count": 8,
   "id": "1c0a0382-b5b0-445f-add6-8ed61637e80e",
   "metadata": {},
   "outputs": [],
   "source": [
    "colunas_data = ['DT_NOTIFIC', 'DT_DIAG', 'DT_DIGITA', 'DT_INIC_TR', 'DT_NOTI_AT', 'DT_ENCERRA']\n",
    "for col in colunas_data:\n",
    "    df[col] = pd.to_datetime(df[col], errors='coerce')"
   ]
  },
  {
   "cell_type": "code",
   "execution_count": 9,
   "id": "cce70886-5460-400e-8399-eed890839bb2",
   "metadata": {},
   "outputs": [],
   "source": [
    "# Decodificação da idade em anos"
   ]
  },
  {
   "cell_type": "code",
   "execution_count": 10,
   "id": "8188cfc6-748a-4c2c-9fc2-ff56dbb73042",
   "metadata": {},
   "outputs": [],
   "source": [
    "def decodifica_idade(row):\n",
    "    if pd.isnull(row['NU_IDADE_N']):\n",
    "        return None\n",
    "    idade = int(row['NU_IDADE_N'])\n",
    "    if idade < 4000:\n",
    "        return idade  # Assume anos diretos\n",
    "    tipo = idade // 1000\n",
    "    valor = idade % 1000\n",
    "    if tipo == 1:\n",
    "        return round(valor / 365, 1)  # dias\n",
    "    elif tipo == 2:\n",
    "        return round(valor / 12, 1)   # meses\n",
    "    elif tipo == 3:\n",
    "        return valor                 # anos\n",
    "    return None"
   ]
  },
  {
   "cell_type": "code",
   "execution_count": 11,
   "id": "e6c3c424-7adf-4d73-ae99-5753a4fe3afe",
   "metadata": {},
   "outputs": [],
   "source": [
    "if 'NU_IDADE_N' in df.columns:\n",
    "    df['NU_IDADE_ANOS'] = df.apply(decodifica_idade, axis=1)"
   ]
  },
  {
   "cell_type": "code",
   "execution_count": 12,
   "id": "2d625195-741c-4785-bd39-d8ec28186eed",
   "metadata": {},
   "outputs": [],
   "source": [
    "# Decodificar variáveis categóricas com mapeamentos conhecidos"
   ]
  },
  {
   "cell_type": "code",
   "execution_count": 13,
   "id": "54701bcd-e5b8-4a1e-9a89-8b23b5b574be",
   "metadata": {},
   "outputs": [],
   "source": [
    "sexo_map = {'M': 'Masculino', 'F': 'Feminino'}\n",
    "gestante_map = {\n",
    "    1: '1º Trimestre', 2: '2º Trimestre', 3: '3º Trimestre',\n",
    "    4: 'Idade gestacional ignorada', 5: 'Não', 6: 'Não se aplica', 9: 'Ignorado'\n",
    "}\n",
    "raca_map = {\n",
    "    1: 'Branca', 2: 'Preta', 3: 'Amarela', 4: 'Parda', 5: 'Indígena', 9: 'Ignorado'\n",
    "}\n",
    "escolaridade_map = {\n",
    "    0: 'Sem escolaridade', 1: 'Fundamental Incompleto', 2: 'Fundamental Completo',\n",
    "    3: 'Médio Incompleto', 4: 'Médio Completo', 5: 'Superior Incompleto',\n",
    "    6: 'Superior Completo', 9: 'Ignorado'\n",
    "}\n",
    "tratamento_map = {\n",
    "    1: 'Esquema Básico', 2: 'Esquema Especial', 3: 'Esquema para Recaída',\n",
    "    4: 'Esquema para Retorno', 5: 'Outro', 9: 'Ignorado'\n",
    "}\n",
    "hiv_map = {1: 'Reagente', 2: 'Não Reagente', 3: 'Em andamento', 4: 'Não realizado', 9: 'Ignorado'}\n",
    "doenca_tra_map = {1: 'Sim', 2: 'Não', 9: 'Ignorado'}"
   ]
  },
  {
   "cell_type": "code",
   "execution_count": 14,
   "id": "de11cb6b-111f-4062-aab7-fd2b23312d30",
   "metadata": {},
   "outputs": [],
   "source": [
    "# Converte para numérico (caso seja string) antes de mapear\n",
    "#df['CS_SEXO'] = pd.to_numeric(df['CS_SEXO'], errors='coerce').map(sexo_map)\n",
    "df['CS_GESTANT'] = pd.to_numeric(df['CS_GESTANT'], errors='coerce').map(gestante_map)\n",
    "df['CS_RACA'] = pd.to_numeric(df['CS_RACA'], errors='coerce').map(raca_map)\n",
    "df['CS_ESCOL_N'] = pd.to_numeric(df['CS_ESCOL_N'], errors='coerce').map(escolaridade_map)\n",
    "df['TRATAMENTO'] = pd.to_numeric(df['TRATAMENTO'], errors='coerce').map(tratamento_map)\n",
    "df['DOENCA_TRA'] = pd.to_numeric(df['DOENCA_TRA'], errors='coerce').map(doenca_tra_map)\n",
    "df['HIV'] = pd.to_numeric(df['HIV'], errors='coerce').map(hiv_map)"
   ]
  },
  {
   "cell_type": "code",
   "execution_count": 15,
   "id": "7c2b6028-9d8f-4afc-bdd4-21ca9cc76df3",
   "metadata": {},
   "outputs": [],
   "source": [
    "# Salvar o arquivo tratado"
   ]
  },
  {
   "cell_type": "code",
   "execution_count": 16,
   "id": "18a1b391-272b-47f5-a948-d217b6768463",
   "metadata": {},
   "outputs": [
    {
     "name": "stdout",
     "output_type": "stream",
     "text": [
      "Arquivo salvo como dados_tuberculose_transformados.csv com 502271 linhas e 83 colunas.\n"
     ]
    }
   ],
   "source": [
    "saida = \"dados_tuberculose_transformados.csv\"\n",
    "df.to_csv(saida, index=False)\n",
    "print(f\"Arquivo salvo como {saida} com {df.shape[0]} linhas e {df.shape[1]} colunas.\")"
   ]
  },
  {
   "cell_type": "code",
   "execution_count": null,
   "id": "b83b2884-1399-4f39-a770-31466fb4853c",
   "metadata": {},
   "outputs": [],
   "source": []
  },
  {
   "cell_type": "code",
   "execution_count": null,
   "id": "694d4594-3b22-40c6-b9c9-28de2dc0036c",
   "metadata": {},
   "outputs": [],
   "source": []
  }
 ],
 "metadata": {
  "kernelspec": {
   "display_name": "Python 3 (ipykernel)",
   "language": "python",
   "name": "python3"
  },
  "language_info": {
   "codemirror_mode": {
    "name": "ipython",
    "version": 3
   },
   "file_extension": ".py",
   "mimetype": "text/x-python",
   "name": "python",
   "nbconvert_exporter": "python",
   "pygments_lexer": "ipython3",
   "version": "3.12.3"
  }
 },
 "nbformat": 4,
 "nbformat_minor": 5
}
