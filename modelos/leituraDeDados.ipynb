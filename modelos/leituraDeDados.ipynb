{
 "cells": [
  {
   "cell_type": "code",
   "execution_count": 3,
   "id": "5f87172c-3cff-47da-8103-423bb222388b",
   "metadata": {},
   "outputs": [],
   "source": [
    "import datasus_dbc\n",
    "from dbfread import DBF\n",
    "import pandas as pd\n",
    "import os\n",
    "import glob\n"
   ]
  },
  {
   "cell_type": "code",
   "execution_count": 6,
   "id": "70f2ba83-11d3-4a70-813f-b0e11587fd10",
   "metadata": {
    "jupyter": {
     "source_hidden": true
    }
   },
   "outputs": [
    {
     "name": "stdout",
     "output_type": "stream",
     "text": [
      "✅ TUBEBR24.dbc convertido com sucesso!\n",
      "   Registros processados: 111521\n",
      "\n",
      "🎉 FUNCIONOU!\n"
     ]
    }
   ],
   "source": [
    "def converter_dbc_seguro(arquivo_dbc, arquivo_csv):\n",
    "    \"\"\"\n",
    "    Converte DBC para CSV evitando erros de data\n",
    "    \"\"\"\n",
    "    try:\n",
    "        # Passo 1: Descomprimir DBC para DBF\n",
    "        nome_dbf = arquivo_dbc.replace('.dbc', '.dbf')\n",
    "        datasus_dbc.decompress(arquivo_dbc, nome_dbf)\n",
    "        \n",
    "        # Passo 2: Ler DBF com encoding correto\n",
    "        table = DBF(nome_dbf, encoding='cp1252', raw=True)\n",
    "        \n",
    "        # Passo 3: Converter para DataFrame tratando campos problemáticos\n",
    "        registros = []\n",
    "        for record in table:\n",
    "            registro_limpo = {}\n",
    "            for campo, valor in record.items():\n",
    "                if isinstance(valor, bytes):\n",
    "                    # Decodificar bytes para string\n",
    "                    valor_str = valor.decode('cp1252', errors='ignore').strip()\n",
    "                    # Se o campo parece ser uma data (8 caracteres) mas está vazio\n",
    "                    if len(valor_str) == 0 and len(valor) == 8:\n",
    "                        registro_limpo[campo] = None\n",
    "                    else:\n",
    "                        registro_limpo[campo] = valor_str\n",
    "                else:\n",
    "                    registro_limpo[campo] = valor\n",
    "            registros.append(registro_limpo)\n",
    "        \n",
    "        # Passo 4: Criar DataFrame e salvar\n",
    "        df = pd.DataFrame(registros)\n",
    "        df.to_csv(arquivo_csv, index=False, encoding='utf-8')\n",
    "        \n",
    "        print(f\"✅ {arquivo_dbc} convertido com sucesso!\")\n",
    "        print(f\"   Registros processados: {len(df)}\")\n",
    "        return len(df)\n",
    "        \n",
    "    except Exception as e:\n",
    "        print(f\"❌ Erro em {arquivo_dbc}: {str(e)}\")\n",
    "        return 0\n",
    "\n",
    "# Teste com um arquivo primeiro\n",
    "resultado = converter_dbc_seguro('TUBEBR24.dbc', 'tubebr24.csv')\n",
    "\n",
    "if resultado > 0:\n",
    "    print(\"\\n🎉 FUNCIONOU!\")\n",
    "else:\n",
    "    print(\"❌ Ainda há problemas.\")"
   ]
  },
  {
   "cell_type": "code",
   "execution_count": 6,
   "id": "787abad5-4290-4d2f-a2f2-9d51217b3eb1",
   "metadata": {},
   "outputs": [
    {
     "name": "stdout",
     "output_type": "stream",
     "text": [
      "Arquivos CSV encontrados: 5\n",
      "✓ tubebr20.csv: 86236 linhas\n",
      "✓ tubebr21.csv: 91385 linhas\n",
      "✓ tubebr22.csv: 103322 linhas\n",
      "✓ tubebr23.csv: 109807 linhas\n",
      "✓ tubebr24.csv: 111521 linhas\n",
      "\n",
      "✅ Concatenação concluída com sucesso!\n",
      "Arquivo final: dados_tuberculose_completos.csv\n",
      "Total de registros: 502,271\n",
      "Total de colunas: 97\n",
      "\n",
      "Primeiras linhas do dataset:\n",
      "   TP_NOT ID_AGRAVO  DT_NOTIFIC  NU_ANO  SG_UF_NOT  ID_MUNICIP  ID_REGIONA  \\\n",
      "0       2      A169    20200930    2020         15      150650       148.0   \n",
      "1       2      A169    20200710    2020         15      150530       149.0   \n",
      "\n",
      "    DT_DIAG  ANO_NASC  NU_IDADE_N  ... BENEF_GOV  AGRAVDROGA  AGRAVTABAC  \\\n",
      "0  20200930    2009.0      4011.0  ...       9.0         2.0         2.0   \n",
      "1  20200707    1973.0      4046.0  ...       2.0         2.0         2.0   \n",
      "\n",
      "   TEST_MOLEC  TEST_SENSI  ANT_RETRO  BAC_APOS_6  TRANSF  UF_TRANSF  \\\n",
      "0         5.0         NaN        NaN         NaN     2.0         15   \n",
      "1         5.0         NaN        NaN           3     NaN        NaN   \n",
      "\n",
      "   MUN_TRANSF  \n",
      "0        15.0  \n",
      "1         NaN  \n",
      "\n",
      "[2 rows x 97 columns]\n"
     ]
    }
   ],
   "source": [
    "# 1. Localizar todos os arquivos CSV\n",
    "# Caminho da pasta desejada\n",
    "pasta = '/mnt/c/Users/AcerGamer/Downloads/Tuberculose/arquivos_csv'  # Exemplo: '/home/seu_usuario/meus_csvs' ou 'C:/Users/SeuUsuario/Downloads/csvs'\n",
    "\n",
    "# Monta o padrão para buscar todos os CSVs da pasta\n",
    "arquivos_csv = glob.glob(os.path.join(pasta, '*.csv'))\n",
    "\n",
    "print(f\"Arquivos CSV encontrados: {len(arquivos_csv)}\")\n",
    "\n",
    "# 2. Carregar e concatenar\n",
    "dfs = []\n",
    "for arquivo in arquivos_csv:\n",
    "    try:\n",
    "        # Carregar com encoding universal\n",
    "        df = pd.read_csv(arquivo, encoding='utf-8', low_memory=False)\n",
    "        dfs.append(df)\n",
    "        print(f\"✓ {os.path.basename(arquivo)}: {len(df)} linhas\")\n",
    "    except UnicodeDecodeError:\n",
    "        # Tentar latin1 se UTF-8 falhar\n",
    "        df = pd.read_csv(arquivo, encoding='latin1', low_memory=False)\n",
    "        dfs.append(df)\n",
    "        print(f\"✓ {os.path.basename(arquivo)} (latin1): {len(df)} linhas\")\n",
    "    except Exception as e:\n",
    "        print(f\"✗ Erro em {arquivo}: {str(e)}\")\n",
    "\n",
    "# 3. Concatenar se houver arquivos válidos\n",
    "if dfs:\n",
    "    dados_completos = pd.concat(dfs, ignore_index=True)\n",
    "    \n",
    "    # 4. Salvar arquivo final\n",
    "    arquivo_final = \"dados_tuberculose_completos.csv\"\n",
    "    dados_completos.to_csv(arquivo_final, index=False, encoding='utf-8')\n",
    "    \n",
    "    # 5. Validar resultado\n",
    "    total_linhas = len(dados_completos)\n",
    "    total_colunas = len(dados_completos.columns)\n",
    "    print(\"\\n✅ Concatenação concluída com sucesso!\")\n",
    "    print(f\"Arquivo final: {arquivo_final}\")\n",
    "    print(f\"Total de registros: {total_linhas:,}\")\n",
    "    print(f\"Total de colunas: {total_colunas}\")\n",
    "    \n",
    "    # 6. Amostra dos dados\n",
    "    print(\"\\nPrimeiras linhas do dataset:\")\n",
    "    print(dados_completos.head(2))\n",
    "else:\n",
    "    print(\"❌ Nenhum arquivo CSV válido para concatenar\")"
   ]
  },
  {
   "cell_type": "code",
   "execution_count": 8,
   "id": "c92b415f-6ba5-4f61-a6e0-b1d97f18783b",
   "metadata": {},
   "outputs": [
    {
     "name": "stderr",
     "output_type": "stream",
     "text": [
      "/tmp/ipykernel_407/4136504825.py:1: DtypeWarning: Columns (29,30,34,36,37,43,47,49,53,54,56,57,58,59,60,61,63,64,69,87,91,92,93,95,96) have mixed types. Specify dtype option on import or set low_memory=False.\n",
      "  df = pd.read_csv('/mnt/c/Users/AcerGamer/Downloads/Tuberculose/arquivos_csv/dados_tuberculose_completos.csv')\n"
     ]
    },
    {
     "name": "stdout",
     "output_type": "stream",
     "text": [
      "(502271, 97)\n",
      "   TP_NOT ID_AGRAVO  DT_NOTIFIC  NU_ANO  SG_UF_NOT  ID_MUNICIP  ID_REGIONA  \\\n",
      "0       2      A169    20200930    2020         15      150650       148.0   \n",
      "1       2      A169    20200710    2020         15      150530       149.0   \n",
      "2       2      A169    20201203    2020         22      220770       186.0   \n",
      "3       2      A169    20200210    2020         24      240920       141.0   \n",
      "4       2      A169    20210114    2021         43      430210       160.0   \n",
      "\n",
      "    DT_DIAG  ANO_NASC  NU_IDADE_N  ... BENEF_GOV  AGRAVDROGA  AGRAVTABAC  \\\n",
      "0  20200930    2009.0      4011.0  ...       9.0         2.0         2.0   \n",
      "1  20200707    1973.0      4046.0  ...       2.0         2.0         2.0   \n",
      "2  20201119    1955.0      4065.0  ...       1.0         2.0         2.0   \n",
      "3  20200208    1960.0      4059.0  ...       2.0         2.0         1.0   \n",
      "4  20201226    1984.0      4035.0  ...       9.0         2.0         1.0   \n",
      "\n",
      "   TEST_MOLEC  TEST_SENSI  ANT_RETRO  BAC_APOS_6  TRANSF  UF_TRANSF  \\\n",
      "0         5.0         NaN        NaN         NaN     2.0       15.0   \n",
      "1         5.0         NaN        NaN         3.0     NaN        NaN   \n",
      "2         5.0         NaN        NaN         NaN     2.0       22.0   \n",
      "3         3.0         NaN        NaN         NaN     NaN        NaN   \n",
      "4         5.0         NaN        NaN         3.0     NaN        NaN   \n",
      "\n",
      "   MUN_TRANSF  \n",
      "0        15.0  \n",
      "1         NaN  \n",
      "2        22.0  \n",
      "3         NaN  \n",
      "4         NaN  \n",
      "\n",
      "[5 rows x 97 columns]\n"
     ]
    }
   ],
   "source": [
    "df = pd.read_csv('/mnt/c/Users/AcerGamer/Downloads/Tuberculose/arquivos_csv/dados_tuberculose_completos.csv')\n",
    "print(df.shape)\n",
    "print(df.head())\n"
   ]
  },
  {
   "cell_type": "code",
   "execution_count": null,
   "id": "76e47bb2-bcf3-4074-801a-947f594354d9",
   "metadata": {},
   "outputs": [],
   "source": []
  }
 ],
 "metadata": {
  "kernelspec": {
   "display_name": "Python 3 (ipykernel)",
   "language": "python",
   "name": "python3"
  },
  "language_info": {
   "codemirror_mode": {
    "name": "ipython",
    "version": 3
   },
   "file_extension": ".py",
   "mimetype": "text/x-python",
   "name": "python",
   "nbconvert_exporter": "python",
   "pygments_lexer": "ipython3",
   "version": "3.12.3"
  }
 },
 "nbformat": 4,
 "nbformat_minor": 5
}
